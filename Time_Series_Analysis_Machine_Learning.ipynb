{
 "cells": [
  {
   "cell_type": "markdown",
   "metadata": {},
   "source": [
    "# Background On Disney Corporation"
   ]
  },
  {
   "cell_type": "markdown",
   "metadata": {},
   "source": [
    "The Walt Disney Company, also known as Disney, is a global entertainment and media conglomerate. It was started by Walt Disney and his brother Roy O. Disney on October 16, 1923. Since then, it has grown into one of the biggest and best-known entertainment companies in the world.\n",
    "\n",
    "Disney began as a small animation business that made short films. As the company grew, it started making longer animated films. Mickey Mouse, who made his first appearance in the animated short film \"Steamboat Willie\" in 1928, is one of their oldest and most well-known figures. Mickey Mouse became a popular and well-known character very quickly, which helped Disney build its name in the animation business.\n",
    "\n",
    "Disney's business has grown and changed over the years. It is now involved in many different parts of the entertainment industry. Today, the company runs through several sections, such as Media Networks, Parks, Experiences and Products, Studio Entertainment, and Direct-to-Consumer & International.\n",
    "\n",
    "The Media Networks section is made up of radio stations and streaming services, as well as TV networks like ABC, ESPN, and Disney Channel. Parks, Experiences, and Products includes theme parks (like Disneyland Resort and Walt Disney World Resort), cruise lines, resorts, and licencing of products.\n",
    "\n",
    "The Studio Entertainment branch makes and sells films, both animated and live-action, under brands like Walt Disney Pictures, Pixar, Marvel Studios, and Lucasfilm (the company that started the Star Wars series)."
   ]
  },
  {
   "cell_type": "code",
   "execution_count": 1,
   "metadata": {},
   "outputs": [
    {
     "name": "stderr",
     "output_type": "stream",
     "text": [
      "C:\\Users\\andrew\\anaconda3\\lib\\site-packages\\pandas\\core\\computation\\expressions.py:20: UserWarning: Pandas requires version '2.7.3' or newer of 'numexpr' (version '2.7.1' currently installed).\n",
      "  from pandas.core.computation.check import NUMEXPR_INSTALLED\n"
     ]
    }
   ],
   "source": [
    "import yfinance as yf\n",
    "import numpy as np\n",
    "#!pip install pandas numpy matplotlib pandas-datareader yfinance statsmodels\n",
    "import pandas as pd\n",
    "import numpy as np\n",
    "import matplotlib.pyplot as plt\n",
    "from pandas_datareader import data as pdr\n",
    "import yfinance as yf\n",
    "from statsmodels.tsa.arima.model import ARIMA\n",
    "from sklearn.metrics import mean_squared_error\n",
    "from math import sqrt\n",
    "import seaborn as sns\n",
    "from statsmodels.tsa.stattools import adfuller\n",
    "from sklearn.ensemble import IsolationForest\n",
    "from statsmodels.tsa.seasonal import seasonal_decompose\n",
    "from statsmodels.graphics.tsaplots import plot_acf\n",
    "from math import sqrt\n",
    "from sklearn.metrics import classification_report\n",
    "from sklearn.metrics import mean_squared_error,mean_absolute_error\n",
    "from tensorflow.keras.models import Sequential \n",
    "from tensorflow.keras.layers import Dense \n",
    "from tensorflow.keras.layers import LSTM \n",
    "from tensorflow.keras.layers import Dropout \n",
    "import numpy as np\n",
    "import tensorflow as tf\n",
    "from sklearn.model_selection import GridSearchCV\n",
    "from tensorflow.keras.models import Sequential\n",
    "from tensorflow.keras.layers import Dense, LSTM\n",
    "from scikeras.wrappers import KerasClassifier, KerasRegressor\n",
    "from sklearn.model_selection import GridSearchCV\n",
    "from tensorflow.keras.wrappers.scikit_learn import KerasRegressor\n",
    "from tensorflow.keras.optimizers import Adam"
   ]
  },
  {
   "cell_type": "code",
   "execution_count": 2,
   "metadata": {},
   "outputs": [
    {
     "data": {
      "text/html": [
       "<script>\n",
       "\n",
       "code_show=true; \n",
       "\n",
       "function code_toggle() {\n",
       "\n",
       " if (code_show){\n",
       "\n",
       " $('div.input').hide();\n",
       "\n",
       " } else {\n",
       "\n",
       " $('div.input').show();\n",
       "\n",
       " }\n",
       "\n",
       " code_show = !code_show\n",
       "\n",
       "} \n",
       "\n",
       "$( document ).ready(code_toggle);\n",
       "\n",
       "</script>\n",
       "\n",
       "<form action=\"javascript:code_toggle()\"><input type=\"submit\" value=\"Click here to toggle on/off the raw code.\"></form>"
      ],
      "text/plain": [
       "<IPython.core.display.HTML object>"
      ]
     },
     "execution_count": 2,
     "metadata": {},
     "output_type": "execute_result"
    }
   ],
   "source": [
    "from IPython.display import HTML # Code taken from class notes David McQuaid December 2022\n",
    "\n",
    "HTML('''<script>\n",
    "\n",
    "code_show=true; \n",
    "\n",
    "function code_toggle() {\n",
    "\n",
    " if (code_show){\n",
    "\n",
    " $('div.input').hide();\n",
    "\n",
    " } else {\n",
    "\n",
    " $('div.input').show();\n",
    "\n",
    " }\n",
    "\n",
    " code_show = !code_show\n",
    "\n",
    "} \n",
    "\n",
    "$( document ).ready(code_toggle);\n",
    "\n",
    "</script>\n",
    "\n",
    "<form action=\"javascript:code_toggle()\"><input type=\"submit\" value=\"Click here to toggle on/off the raw code.\"></form>''')"
   ]
  },
  {
   "cell_type": "code",
   "execution_count": 3,
   "metadata": {},
   "outputs": [
    {
     "name": "stdout",
     "output_type": "stream",
     "text": [
      "[*********************100%***********************]  1 of 1 completed\n"
     ]
    },
    {
     "data": {
      "text/html": [
       "<div>\n",
       "<style scoped>\n",
       "    .dataframe tbody tr th:only-of-type {\n",
       "        vertical-align: middle;\n",
       "    }\n",
       "\n",
       "    .dataframe tbody tr th {\n",
       "        vertical-align: top;\n",
       "    }\n",
       "\n",
       "    .dataframe thead th {\n",
       "        text-align: right;\n",
       "    }\n",
       "</style>\n",
       "<table border=\"1\" class=\"dataframe\">\n",
       "  <thead>\n",
       "    <tr style=\"text-align: right;\">\n",
       "      <th></th>\n",
       "      <th>Open</th>\n",
       "      <th>High</th>\n",
       "      <th>Low</th>\n",
       "      <th>Close</th>\n",
       "      <th>Adj Close</th>\n",
       "      <th>Volume</th>\n",
       "    </tr>\n",
       "    <tr>\n",
       "      <th>Date</th>\n",
       "      <th></th>\n",
       "      <th></th>\n",
       "      <th></th>\n",
       "      <th></th>\n",
       "      <th></th>\n",
       "      <th></th>\n",
       "    </tr>\n",
       "  </thead>\n",
       "  <tbody>\n",
       "    <tr>\n",
       "      <th>2018-01-02</th>\n",
       "      <td>108.949997</td>\n",
       "      <td>111.809998</td>\n",
       "      <td>108.559998</td>\n",
       "      <td>111.800003</td>\n",
       "      <td>108.726059</td>\n",
       "      <td>11014300</td>\n",
       "    </tr>\n",
       "    <tr>\n",
       "      <th>2018-01-03</th>\n",
       "      <td>112.190002</td>\n",
       "      <td>113.190002</td>\n",
       "      <td>111.449997</td>\n",
       "      <td>112.279999</td>\n",
       "      <td>109.192848</td>\n",
       "      <td>9237900</td>\n",
       "    </tr>\n",
       "    <tr>\n",
       "      <th>2018-01-04</th>\n",
       "      <td>112.949997</td>\n",
       "      <td>113.000000</td>\n",
       "      <td>111.629997</td>\n",
       "      <td>112.230003</td>\n",
       "      <td>109.144241</td>\n",
       "      <td>7417400</td>\n",
       "    </tr>\n",
       "    <tr>\n",
       "      <th>2018-01-05</th>\n",
       "      <td>112.680000</td>\n",
       "      <td>112.680000</td>\n",
       "      <td>111.239998</td>\n",
       "      <td>111.620003</td>\n",
       "      <td>108.551003</td>\n",
       "      <td>6008300</td>\n",
       "    </tr>\n",
       "    <tr>\n",
       "      <th>2018-01-08</th>\n",
       "      <td>110.889999</td>\n",
       "      <td>111.279999</td>\n",
       "      <td>109.540001</td>\n",
       "      <td>110.019997</td>\n",
       "      <td>106.994987</td>\n",
       "      <td>8052600</td>\n",
       "    </tr>\n",
       "    <tr>\n",
       "      <th>...</th>\n",
       "      <td>...</td>\n",
       "      <td>...</td>\n",
       "      <td>...</td>\n",
       "      <td>...</td>\n",
       "      <td>...</td>\n",
       "      <td>...</td>\n",
       "    </tr>\n",
       "    <tr>\n",
       "      <th>2022-12-23</th>\n",
       "      <td>86.059998</td>\n",
       "      <td>88.070000</td>\n",
       "      <td>85.769997</td>\n",
       "      <td>88.010002</td>\n",
       "      <td>88.010002</td>\n",
       "      <td>11171600</td>\n",
       "    </tr>\n",
       "    <tr>\n",
       "      <th>2022-12-27</th>\n",
       "      <td>87.419998</td>\n",
       "      <td>87.940002</td>\n",
       "      <td>85.959999</td>\n",
       "      <td>86.370003</td>\n",
       "      <td>86.370003</td>\n",
       "      <td>11561400</td>\n",
       "    </tr>\n",
       "    <tr>\n",
       "      <th>2022-12-28</th>\n",
       "      <td>86.080002</td>\n",
       "      <td>86.690002</td>\n",
       "      <td>84.070000</td>\n",
       "      <td>84.169998</td>\n",
       "      <td>84.169998</td>\n",
       "      <td>12399500</td>\n",
       "    </tr>\n",
       "    <tr>\n",
       "      <th>2022-12-29</th>\n",
       "      <td>85.250000</td>\n",
       "      <td>88.239998</td>\n",
       "      <td>84.970001</td>\n",
       "      <td>87.180000</td>\n",
       "      <td>87.180000</td>\n",
       "      <td>13045100</td>\n",
       "    </tr>\n",
       "    <tr>\n",
       "      <th>2022-12-30</th>\n",
       "      <td>85.730003</td>\n",
       "      <td>87.120003</td>\n",
       "      <td>85.230003</td>\n",
       "      <td>86.879997</td>\n",
       "      <td>86.879997</td>\n",
       "      <td>23231000</td>\n",
       "    </tr>\n",
       "  </tbody>\n",
       "</table>\n",
       "<p>1259 rows × 6 columns</p>\n",
       "</div>"
      ],
      "text/plain": [
       "                  Open        High         Low       Close   Adj Close  \\\n",
       "Date                                                                     \n",
       "2018-01-02  108.949997  111.809998  108.559998  111.800003  108.726059   \n",
       "2018-01-03  112.190002  113.190002  111.449997  112.279999  109.192848   \n",
       "2018-01-04  112.949997  113.000000  111.629997  112.230003  109.144241   \n",
       "2018-01-05  112.680000  112.680000  111.239998  111.620003  108.551003   \n",
       "2018-01-08  110.889999  111.279999  109.540001  110.019997  106.994987   \n",
       "...                ...         ...         ...         ...         ...   \n",
       "2022-12-23   86.059998   88.070000   85.769997   88.010002   88.010002   \n",
       "2022-12-27   87.419998   87.940002   85.959999   86.370003   86.370003   \n",
       "2022-12-28   86.080002   86.690002   84.070000   84.169998   84.169998   \n",
       "2022-12-29   85.250000   88.239998   84.970001   87.180000   87.180000   \n",
       "2022-12-30   85.730003   87.120003   85.230003   86.879997   86.879997   \n",
       "\n",
       "              Volume  \n",
       "Date                  \n",
       "2018-01-02  11014300  \n",
       "2018-01-03   9237900  \n",
       "2018-01-04   7417400  \n",
       "2018-01-05   6008300  \n",
       "2018-01-08   8052600  \n",
       "...              ...  \n",
       "2022-12-23  11171600  \n",
       "2022-12-27  11561400  \n",
       "2022-12-28  12399500  \n",
       "2022-12-29  13045100  \n",
       "2022-12-30  23231000  \n",
       "\n",
       "[1259 rows x 6 columns]"
      ]
     },
     "execution_count": 3,
     "metadata": {},
     "output_type": "execute_result"
    }
   ],
   "source": [
    "arima = yf.download('DIS', start='2018-01-01', end='2023-01-01',interval='1d')\n",
    "# Look at the data read\n",
    "arima"
   ]
  },
  {
   "cell_type": "code",
   "execution_count": 4,
   "metadata": {},
   "outputs": [
    {
     "name": "stdout",
     "output_type": "stream",
     "text": [
      "<class 'pandas.core.frame.DataFrame'>\n",
      "DatetimeIndex: 1259 entries, 2018-01-02 to 2022-12-30\n",
      "Data columns (total 6 columns):\n",
      " #   Column     Non-Null Count  Dtype  \n",
      "---  ------     --------------  -----  \n",
      " 0   Open       1259 non-null   float64\n",
      " 1   High       1259 non-null   float64\n",
      " 2   Low        1259 non-null   float64\n",
      " 3   Close      1259 non-null   float64\n",
      " 4   Adj Close  1259 non-null   float64\n",
      " 5   Volume     1259 non-null   int64  \n",
      "dtypes: float64(5), int64(1)\n",
      "memory usage: 68.9 KB\n"
     ]
    }
   ],
   "source": [
    "arima.info()"
   ]
  },
  {
   "cell_type": "code",
   "execution_count": 5,
   "metadata": {},
   "outputs": [
    {
     "data": {
      "text/plain": [
       "(1259, 6)"
      ]
     },
     "execution_count": 5,
     "metadata": {},
     "output_type": "execute_result"
    }
   ],
   "source": [
    "arima.shape"
   ]
  },
  {
   "cell_type": "code",
   "execution_count": 6,
   "metadata": {},
   "outputs": [
    {
     "data": {
      "text/html": [
       "<div>\n",
       "<style scoped>\n",
       "    .dataframe tbody tr th:only-of-type {\n",
       "        vertical-align: middle;\n",
       "    }\n",
       "\n",
       "    .dataframe tbody tr th {\n",
       "        vertical-align: top;\n",
       "    }\n",
       "\n",
       "    .dataframe thead th {\n",
       "        text-align: right;\n",
       "    }\n",
       "</style>\n",
       "<table border=\"1\" class=\"dataframe\">\n",
       "  <thead>\n",
       "    <tr style=\"text-align: right;\">\n",
       "      <th></th>\n",
       "      <th>Open</th>\n",
       "      <th>High</th>\n",
       "      <th>Low</th>\n",
       "      <th>Close</th>\n",
       "      <th>Adj Close</th>\n",
       "      <th>Volume</th>\n",
       "    </tr>\n",
       "    <tr>\n",
       "      <th>Date</th>\n",
       "      <th></th>\n",
       "      <th></th>\n",
       "      <th></th>\n",
       "      <th></th>\n",
       "      <th></th>\n",
       "      <th></th>\n",
       "    </tr>\n",
       "  </thead>\n",
       "  <tbody>\n",
       "    <tr>\n",
       "      <th>2018-01-02</th>\n",
       "      <td>108.949997</td>\n",
       "      <td>111.809998</td>\n",
       "      <td>108.559998</td>\n",
       "      <td>111.800003</td>\n",
       "      <td>108.726059</td>\n",
       "      <td>11014300</td>\n",
       "    </tr>\n",
       "    <tr>\n",
       "      <th>2018-01-03</th>\n",
       "      <td>112.190002</td>\n",
       "      <td>113.190002</td>\n",
       "      <td>111.449997</td>\n",
       "      <td>112.279999</td>\n",
       "      <td>109.192848</td>\n",
       "      <td>9237900</td>\n",
       "    </tr>\n",
       "    <tr>\n",
       "      <th>2018-01-04</th>\n",
       "      <td>112.949997</td>\n",
       "      <td>113.000000</td>\n",
       "      <td>111.629997</td>\n",
       "      <td>112.230003</td>\n",
       "      <td>109.144241</td>\n",
       "      <td>7417400</td>\n",
       "    </tr>\n",
       "    <tr>\n",
       "      <th>2018-01-05</th>\n",
       "      <td>112.680000</td>\n",
       "      <td>112.680000</td>\n",
       "      <td>111.239998</td>\n",
       "      <td>111.620003</td>\n",
       "      <td>108.551003</td>\n",
       "      <td>6008300</td>\n",
       "    </tr>\n",
       "    <tr>\n",
       "      <th>2018-01-08</th>\n",
       "      <td>110.889999</td>\n",
       "      <td>111.279999</td>\n",
       "      <td>109.540001</td>\n",
       "      <td>110.019997</td>\n",
       "      <td>106.994987</td>\n",
       "      <td>8052600</td>\n",
       "    </tr>\n",
       "  </tbody>\n",
       "</table>\n",
       "</div>"
      ],
      "text/plain": [
       "                  Open        High         Low       Close   Adj Close  \\\n",
       "Date                                                                     \n",
       "2018-01-02  108.949997  111.809998  108.559998  111.800003  108.726059   \n",
       "2018-01-03  112.190002  113.190002  111.449997  112.279999  109.192848   \n",
       "2018-01-04  112.949997  113.000000  111.629997  112.230003  109.144241   \n",
       "2018-01-05  112.680000  112.680000  111.239998  111.620003  108.551003   \n",
       "2018-01-08  110.889999  111.279999  109.540001  110.019997  106.994987   \n",
       "\n",
       "              Volume  \n",
       "Date                  \n",
       "2018-01-02  11014300  \n",
       "2018-01-03   9237900  \n",
       "2018-01-04   7417400  \n",
       "2018-01-05   6008300  \n",
       "2018-01-08   8052600  "
      ]
     },
     "execution_count": 6,
     "metadata": {},
     "output_type": "execute_result"
    }
   ],
   "source": [
    "arima.head()"
   ]
  },
  {
   "cell_type": "code",
   "execution_count": 7,
   "metadata": {},
   "outputs": [
    {
     "data": {
      "text/html": [
       "<div>\n",
       "<style scoped>\n",
       "    .dataframe tbody tr th:only-of-type {\n",
       "        vertical-align: middle;\n",
       "    }\n",
       "\n",
       "    .dataframe tbody tr th {\n",
       "        vertical-align: top;\n",
       "    }\n",
       "\n",
       "    .dataframe thead th {\n",
       "        text-align: right;\n",
       "    }\n",
       "</style>\n",
       "<table border=\"1\" class=\"dataframe\">\n",
       "  <thead>\n",
       "    <tr style=\"text-align: right;\">\n",
       "      <th></th>\n",
       "      <th>Open</th>\n",
       "      <th>High</th>\n",
       "      <th>Low</th>\n",
       "      <th>Close</th>\n",
       "      <th>Adj Close</th>\n",
       "      <th>Volume</th>\n",
       "    </tr>\n",
       "    <tr>\n",
       "      <th>Date</th>\n",
       "      <th></th>\n",
       "      <th></th>\n",
       "      <th></th>\n",
       "      <th></th>\n",
       "      <th></th>\n",
       "      <th></th>\n",
       "    </tr>\n",
       "  </thead>\n",
       "  <tbody>\n",
       "    <tr>\n",
       "      <th>2022-12-23</th>\n",
       "      <td>86.059998</td>\n",
       "      <td>88.070000</td>\n",
       "      <td>85.769997</td>\n",
       "      <td>88.010002</td>\n",
       "      <td>88.010002</td>\n",
       "      <td>11171600</td>\n",
       "    </tr>\n",
       "    <tr>\n",
       "      <th>2022-12-27</th>\n",
       "      <td>87.419998</td>\n",
       "      <td>87.940002</td>\n",
       "      <td>85.959999</td>\n",
       "      <td>86.370003</td>\n",
       "      <td>86.370003</td>\n",
       "      <td>11561400</td>\n",
       "    </tr>\n",
       "    <tr>\n",
       "      <th>2022-12-28</th>\n",
       "      <td>86.080002</td>\n",
       "      <td>86.690002</td>\n",
       "      <td>84.070000</td>\n",
       "      <td>84.169998</td>\n",
       "      <td>84.169998</td>\n",
       "      <td>12399500</td>\n",
       "    </tr>\n",
       "    <tr>\n",
       "      <th>2022-12-29</th>\n",
       "      <td>85.250000</td>\n",
       "      <td>88.239998</td>\n",
       "      <td>84.970001</td>\n",
       "      <td>87.180000</td>\n",
       "      <td>87.180000</td>\n",
       "      <td>13045100</td>\n",
       "    </tr>\n",
       "    <tr>\n",
       "      <th>2022-12-30</th>\n",
       "      <td>85.730003</td>\n",
       "      <td>87.120003</td>\n",
       "      <td>85.230003</td>\n",
       "      <td>86.879997</td>\n",
       "      <td>86.879997</td>\n",
       "      <td>23231000</td>\n",
       "    </tr>\n",
       "  </tbody>\n",
       "</table>\n",
       "</div>"
      ],
      "text/plain": [
       "                 Open       High        Low      Close  Adj Close    Volume\n",
       "Date                                                                       \n",
       "2022-12-23  86.059998  88.070000  85.769997  88.010002  88.010002  11171600\n",
       "2022-12-27  87.419998  87.940002  85.959999  86.370003  86.370003  11561400\n",
       "2022-12-28  86.080002  86.690002  84.070000  84.169998  84.169998  12399500\n",
       "2022-12-29  85.250000  88.239998  84.970001  87.180000  87.180000  13045100\n",
       "2022-12-30  85.730003  87.120003  85.230003  86.879997  86.879997  23231000"
      ]
     },
     "execution_count": 7,
     "metadata": {},
     "output_type": "execute_result"
    }
   ],
   "source": [
    "arima.tail()"
   ]
  },
  {
   "cell_type": "code",
   "execution_count": 8,
   "metadata": {},
   "outputs": [
    {
     "data": {
      "text/plain": [
       "Open         0\n",
       "High         0\n",
       "Low          0\n",
       "Close        0\n",
       "Adj Close    0\n",
       "Volume       0\n",
       "dtype: int64"
      ]
     },
     "execution_count": 8,
     "metadata": {},
     "output_type": "execute_result"
    }
   ],
   "source": [
    "arima.isnull().sum()"
   ]
  },
  {
   "cell_type": "code",
   "execution_count": 9,
   "metadata": {},
   "outputs": [
    {
     "data": {
      "text/html": [
       "<div>\n",
       "<style scoped>\n",
       "    .dataframe tbody tr th:only-of-type {\n",
       "        vertical-align: middle;\n",
       "    }\n",
       "\n",
       "    .dataframe tbody tr th {\n",
       "        vertical-align: top;\n",
       "    }\n",
       "\n",
       "    .dataframe thead th {\n",
       "        text-align: right;\n",
       "    }\n",
       "</style>\n",
       "<table border=\"1\" class=\"dataframe\">\n",
       "  <thead>\n",
       "    <tr style=\"text-align: right;\">\n",
       "      <th></th>\n",
       "      <th>Open</th>\n",
       "      <th>High</th>\n",
       "      <th>Low</th>\n",
       "      <th>Close</th>\n",
       "      <th>Adj Close</th>\n",
       "      <th>Volume</th>\n",
       "    </tr>\n",
       "  </thead>\n",
       "  <tbody>\n",
       "    <tr>\n",
       "      <th>count</th>\n",
       "      <td>1259.000000</td>\n",
       "      <td>1259.000000</td>\n",
       "      <td>1259.000000</td>\n",
       "      <td>1259.000000</td>\n",
       "      <td>1259.000000</td>\n",
       "      <td>1.259000e+03</td>\n",
       "    </tr>\n",
       "    <tr>\n",
       "      <th>mean</th>\n",
       "      <td>131.317133</td>\n",
       "      <td>132.636831</td>\n",
       "      <td>129.772224</td>\n",
       "      <td>131.199785</td>\n",
       "      <td>130.478900</td>\n",
       "      <td>1.117715e+07</td>\n",
       "    </tr>\n",
       "    <tr>\n",
       "      <th>std</th>\n",
       "      <td>28.088778</td>\n",
       "      <td>28.256051</td>\n",
       "      <td>27.888532</td>\n",
       "      <td>28.045108</td>\n",
       "      <td>28.492404</td>\n",
       "      <td>7.388340e+06</td>\n",
       "    </tr>\n",
       "    <tr>\n",
       "      <th>min</th>\n",
       "      <td>84.489998</td>\n",
       "      <td>86.690002</td>\n",
       "      <td>79.070000</td>\n",
       "      <td>84.169998</td>\n",
       "      <td>84.169998</td>\n",
       "      <td>2.406300e+06</td>\n",
       "    </tr>\n",
       "    <tr>\n",
       "      <th>25%</th>\n",
       "      <td>109.605000</td>\n",
       "      <td>110.630001</td>\n",
       "      <td>108.285000</td>\n",
       "      <td>109.564999</td>\n",
       "      <td>107.984913</td>\n",
       "      <td>7.066400e+06</td>\n",
       "    </tr>\n",
       "    <tr>\n",
       "      <th>50%</th>\n",
       "      <td>125.629997</td>\n",
       "      <td>127.300003</td>\n",
       "      <td>123.680000</td>\n",
       "      <td>124.980003</td>\n",
       "      <td>124.980003</td>\n",
       "      <td>8.978400e+06</td>\n",
       "    </tr>\n",
       "    <tr>\n",
       "      <th>75%</th>\n",
       "      <td>147.349998</td>\n",
       "      <td>148.629997</td>\n",
       "      <td>145.974998</td>\n",
       "      <td>147.284996</td>\n",
       "      <td>146.830307</td>\n",
       "      <td>1.231935e+07</td>\n",
       "    </tr>\n",
       "    <tr>\n",
       "      <th>max</th>\n",
       "      <td>200.190002</td>\n",
       "      <td>203.020004</td>\n",
       "      <td>195.399994</td>\n",
       "      <td>201.910004</td>\n",
       "      <td>201.910004</td>\n",
       "      <td>8.741070e+07</td>\n",
       "    </tr>\n",
       "  </tbody>\n",
       "</table>\n",
       "</div>"
      ],
      "text/plain": [
       "              Open         High          Low        Close    Adj Close  \\\n",
       "count  1259.000000  1259.000000  1259.000000  1259.000000  1259.000000   \n",
       "mean    131.317133   132.636831   129.772224   131.199785   130.478900   \n",
       "std      28.088778    28.256051    27.888532    28.045108    28.492404   \n",
       "min      84.489998    86.690002    79.070000    84.169998    84.169998   \n",
       "25%     109.605000   110.630001   108.285000   109.564999   107.984913   \n",
       "50%     125.629997   127.300003   123.680000   124.980003   124.980003   \n",
       "75%     147.349998   148.629997   145.974998   147.284996   146.830307   \n",
       "max     200.190002   203.020004   195.399994   201.910004   201.910004   \n",
       "\n",
       "             Volume  \n",
       "count  1.259000e+03  \n",
       "mean   1.117715e+07  \n",
       "std    7.388340e+06  \n",
       "min    2.406300e+06  \n",
       "25%    7.066400e+06  \n",
       "50%    8.978400e+06  \n",
       "75%    1.231935e+07  \n",
       "max    8.741070e+07  "
      ]
     },
     "execution_count": 9,
     "metadata": {},
     "output_type": "execute_result"
    }
   ],
   "source": [
    "arima.describe()"
   ]
  },
  {
   "cell_type": "markdown",
   "metadata": {},
   "source": [
    "it is important to use summary Statistics in Time Series analysis  as it gives a sense of spread ou our values. We can see from our close column that the stock hit a high of $201 and a low of $84.00. This spike in the share price may be due the fact the share may have risen due to the coronavirus. As primarily a media company the would have gained by lockdowns where people consumed much more media  content than normal. Here we can see the difficulties of time series where past values are used to predict future prices. A black swan event occurs like coronavirus and throws all our models out the window. "
   ]
  },
  {
   "cell_type": "code",
   "execution_count": 10,
   "metadata": {},
   "outputs": [
    {
     "data": {
      "image/png": "[encoded data removed]",
      "text/plain": [
       "<Figure size 432x288 with 1 Axes>"
      ]
     },
     "metadata": {
      "needs_background": "light"
     },
     "output_type": "display_data"
    }
   ],
   "source": [
    "sns.lineplot(data=arima, x=arima.index, y=\"Close\");\n",
    "plt.ylabel(\"Share Price\");"
   ]
  },
  {
   "cell_type": "code",
   "execution_count": 11,
   "metadata": {},
   "outputs": [
    {
     "name": "stdout",
     "output_type": "stream",
     "text": [
      "201.91000366210938\n",
      "84.16999816894531\n"
     ]
    }
   ],
   "source": [
    "max_price=arima['Close'].max()\n",
    "min_price=arima['Close'].min()\n",
    "print(max_price)\n",
    "print(min_price)"
   ]
  },
  {
   "cell_type": "code",
   "execution_count": 12,
   "metadata": {},
   "outputs": [],
   "source": [
    "rolling_mean = arima['Close'].rolling(12).mean()\n",
    "rolling_std = arima['Close'].rolling(12).std()"
   ]
  },
  {
   "cell_type": "code",
   "execution_count": 13,
   "metadata": {},
   "outputs": [
    {
     "data": {
      "image/png": "[encoded data removed]",
      "text/plain": [
       "<Figure size 432x288 with 1 Axes>"
      ]
     },
     "metadata": {
      "needs_background": "light"
     },
     "output_type": "display_data"
    }
   ],
   "source": [
    "fig,ax=plt.subplots(1,1,figsize=(6,4))\n",
    "plt.plot(arima['Close'], color=\"blue\",label=\"Disney 5 Year Share Price \")\n",
    "plt.xticks(fontsize=13)\n",
    "plt.yticks(fontsize=13)\n",
    "plt.title('Close Price',fontsize=14,fontweight='bold',color='darkgrey',loc='left')\n",
    "plt.xlabel('Year 2018-2023',fontsize=14,color='grey',loc='left')\n",
    "plt.ylabel('Frequency',fontsize=14,color= 'grey')\n",
    "ax.spines['right'].set_visible(False)\n",
    "ax.spines['top'].set_visible(False)\n",
    "ax.spines['left'].set_color('grey')\n",
    "ax.spines['bottom'].set_color('grey')\n",
    "ax.tick_params(bottom = False)\n",
    "plt.show()"
   ]
  },
  {
   "cell_type": "code",
   "execution_count": null,
   "metadata": {},
   "outputs": [],
   "source": []
  },
  {
   "cell_type": "code",
   "execution_count": 14,
   "metadata": {},
   "outputs": [
    {
     "data": {
      "image/png": "[encoded data removed]",
      "text/plain": [
       "<Figure size 432x288 with 1 Axes>"
      ]
     },
     "metadata": {
      "needs_background": "light"
     },
     "output_type": "display_data"
    }
   ],
   "source": [
    "fig,ax=plt.subplots(1,1,figsize=(6,4))\n",
    "plt.plot(rolling_mean, color=\"orange\")\n",
    "plt.xticks(fontsize=13)\n",
    "plt.yticks(fontsize=13)\n",
    "plt.title('Rolling Mean',fontsize=14,fontweight='bold',color='darkgrey',loc='left')\n",
    "plt.xlabel('Year 2018-2023',fontsize=14,color='grey',loc='left')\n",
    "plt.ylabel('Frequency',fontsize=14,color= 'grey')\n",
    "ax.spines['right'].set_visible(False)\n",
    "ax.spines['top'].set_visible(False)\n",
    "ax.spines['left'].set_color('grey')\n",
    "ax.spines['bottom'].set_color('grey')\n",
    "ax.tick_params(bottom = False)\n",
    "plt.show()"
   ]
  },
  {
   "cell_type": "code",
   "execution_count": 15,
   "metadata": {},
   "outputs": [
    {
     "data": {
      "image/png": "[encoded data removed]",
      "text/plain": [
       "<Figure size 432x288 with 1 Axes>"
      ]
     },
     "metadata": {
      "needs_background": "light"
     },
     "output_type": "display_data"
    }
   ],
   "source": [
    "fig,ax=plt.subplots(1,1,figsize=(6,4))\n",
    "plt.plot(rolling_std, color=\"fuchsia\", label = 'Rolling Standard Deviation in Disney share Price')\n",
    "plt.xticks(fontsize=13)\n",
    "plt.yticks(fontsize=13)\n",
    "plt.title('Rolling Standard Deviation',fontsize=14,fontweight='bold',color='darkgrey',loc='left')\n",
    "plt.xlabel('Year 2018-2023',fontsize=14,color='grey',loc='left')\n",
    "plt.ylabel('Frequency',fontsize=14,color= 'grey')\n",
    "ax.spines['right'].set_visible(False)\n",
    "ax.spines['top'].set_visible(False)\n",
    "ax.spines['left'].set_color('grey')\n",
    "ax.spines['bottom'].set_color('grey')\n",
    "ax.tick_params(bottom = False)\n",
    "plt.show()"
   ]
  },
  {
   "cell_type": "code",
   "execution_count": 1,
   "metadata": {},
   "outputs": [
    {
     "ename": "NameError",
     "evalue": "name 'plt' is not defined",
     "output_type": "error",
     "traceback": [
      "\u001b[1;31m---------------------------------------------------------------------------\u001b[0m",
      "\u001b[1;31mNameError\u001b[0m                                 Traceback (most recent call last)",
      "\u001b[1;32m<ipython-input-1-87edb9545fc7>\u001b[0m in \u001b[0;36m<module>\u001b[1;34m\u001b[0m\n\u001b[1;32m----> 1\u001b[1;33m \u001b[0mplt\u001b[0m\u001b[1;33m.\u001b[0m\u001b[0mplot\u001b[0m\u001b[1;33m(\u001b[0m\u001b[0marima\u001b[0m\u001b[1;33m[\u001b[0m\u001b[1;34m'Close'\u001b[0m\u001b[1;33m]\u001b[0m\u001b[1;33m,\u001b[0m \u001b[0mcolor\u001b[0m\u001b[1;33m=\u001b[0m\u001b[1;34m\"blue\"\u001b[0m\u001b[1;33m,\u001b[0m\u001b[0mlabel\u001b[0m\u001b[1;33m=\u001b[0m\u001b[1;34m\"Disney 5 Year Share Price \"\u001b[0m\u001b[1;33m)\u001b[0m\u001b[1;33m;\u001b[0m\u001b[1;33m\u001b[0m\u001b[1;33m\u001b[0m\u001b[0m\n\u001b[0m\u001b[0;32m      2\u001b[0m \u001b[0mplt\u001b[0m\u001b[1;33m.\u001b[0m\u001b[0mplot\u001b[0m\u001b[1;33m(\u001b[0m\u001b[0mrolling_mean\u001b[0m\u001b[1;33m,\u001b[0m \u001b[0mcolor\u001b[0m\u001b[1;33m=\u001b[0m\u001b[1;34m\"orange\"\u001b[0m\u001b[1;33m,\u001b[0m \u001b[0mlabel\u001b[0m\u001b[1;33m=\u001b[0m\u001b[1;34m\"Rolling Mean Disney Shares\"\u001b[0m\u001b[1;33m)\u001b[0m\u001b[1;33m;\u001b[0m\u001b[1;33m\u001b[0m\u001b[1;33m\u001b[0m\u001b[0m\n\u001b[0;32m      3\u001b[0m \u001b[0mplt\u001b[0m\u001b[1;33m.\u001b[0m\u001b[0mplot\u001b[0m\u001b[1;33m(\u001b[0m\u001b[0mrolling_std\u001b[0m\u001b[1;33m,\u001b[0m \u001b[0mcolor\u001b[0m\u001b[1;33m=\u001b[0m\u001b[1;34m\"fuchsia\"\u001b[0m\u001b[1;33m,\u001b[0m \u001b[0mlabel\u001b[0m \u001b[1;33m=\u001b[0m \u001b[1;34m'Rolling Standard Deviation in Passenger Num'\u001b[0m\u001b[1;33m)\u001b[0m\u001b[1;33m;\u001b[0m\u001b[1;33m\u001b[0m\u001b[1;33m\u001b[0m\u001b[0m\n\u001b[0;32m      4\u001b[0m \u001b[0mplt\u001b[0m\u001b[1;33m.\u001b[0m\u001b[0mtitle\u001b[0m\u001b[1;33m(\u001b[0m\u001b[1;34m\"Amazon Share Price Time Series, Rolling Mean, Standard Deviation\"\u001b[0m\u001b[1;33m)\u001b[0m\u001b[1;33m;\u001b[0m\u001b[1;33m\u001b[0m\u001b[1;33m\u001b[0m\u001b[0m\n",
      "\u001b[1;31mNameError\u001b[0m: name 'plt' is not defined"
     ]
    }
   ],
   "source": [
    "plt.plot(arima['Close'], color=\"blue\",label=\"Disney 5 Year Share Price \");\n",
    "plt.plot(rolling_mean, color=\"orange\", label=\"Rolling Mean Disney Shares\");\n",
    "plt.plot(rolling_std, color=\"fuchsia\", label = 'Rolling Standard Deviation in Passenger Num');\n",
    "plt.title(\"Amazon Share Price Time Series, Rolling Mean, Standard Deviation\");\n"
   ]
  },
  {
   "cell_type": "markdown",
   "metadata": {},
   "source": [
    "This graph is important as it gives us a sense of the changes in the stock over time. the rolling mean and STD help identift a stock that is stable and more likly to shows signs of stationarity. This will help us use models like ARIMA that assume stationarity. If we saw a rolling mean for example that did not track the price that would suggest the the stock was not stationarity, we would have to use different degrees of differencing or transformation to achieve stationarity. However the downside of differencing or transformation is that we are removing long term data from our time series which is not ideal."
   ]
  },
  {
   "cell_type": "code",
   "execution_count": 17,
   "metadata": {},
   "outputs": [],
   "source": [
    "adft = adfuller(arima['Close'],autolag=\"AIC\")"
   ]
  },
  {
   "cell_type": "markdown",
   "metadata": {},
   "source": [
    "The adfuller is a statistical test which allows us to ascertain wherter our time series is stationarity. If it is we do not need to any more preprocessing and just fit our chosen model."
   ]
  },
  {
   "cell_type": "code",
   "execution_count": 18,
   "metadata": {},
   "outputs": [
    {
     "name": "stdout",
     "output_type": "stream",
     "text": [
      "         Close                       Metric\n",
      "0    -1.324635              Test Statistics\n",
      "1     0.617828                      p-value\n",
      "2    10.000000             No. of lags used\n",
      "3  1248.000000  Number of observations used\n",
      "4    -3.435601          critical value (1%)\n",
      "5    -2.863859          critical value (5%)\n",
      "6    -2.568004         critical value (10%)\n"
     ]
    }
   ],
   "source": [
    "output_df = pd.DataFrame({\"Close\":[adft[0],\n",
    " adft[1],\n",
    " adft[2],\n",
    " adft[3],\n",
    " adft[4]['1%'],\n",
    " adft[4]['5%'],\n",
    " adft[4]['10%']],\n",
    " \"Metric\":[\"Test Statistics\",\n",
    " \"p-value\",\n",
    "\"No. of lags used\",\n",
    "\"Number of observations used\",\n",
    "\"critical value (1%)\",\n",
    "\"critical value (5%)\",\n",
    "\"critical value (10%)\"]})\n",
    "print(output_df)"
   ]
  },
  {
   "cell_type": "markdown",
   "metadata": {},
   "source": [
    "As our p-value is a below .50 we can reject the null hypothesis and say our data is stationarity. We do not need to carry out any further actions such as differencing or transformation."
   ]
  },
  {
   "cell_type": "code",
   "execution_count": 19,
   "metadata": {},
   "outputs": [
    {
     "name": "stdout",
     "output_type": "stream",
     "text": [
      "One Month Lag:  0.8754928397946397\n"
     ]
    }
   ],
   "source": [
    "autocorrelation_lag1 = arima['Close'].autocorr(lag=30)\n",
    "print(\"One Month Lag: \", autocorrelation_lag1)"
   ]
  },
  {
   "cell_type": "code",
   "execution_count": 20,
   "metadata": {},
   "outputs": [
    {
     "name": "stdout",
     "output_type": "stream",
     "text": [
      "Three Month Lag:  0.5780996824406153\n",
      "Six Month Lag:  -0.09220272578996745\n",
      "Nine Month Lag:  -0.33389748703107536\n"
     ]
    }
   ],
   "source": [
    "autocorrelation_lag3 = arima['Close'].autocorr(lag=90)\n",
    "print(\"Three Month Lag: \", autocorrelation_lag3)\n",
    "autocorrelation_lag6 = arima['Close'].autocorr(lag=190)\n",
    "print(\"Six Month Lag: \", autocorrelation_lag6)\n",
    "autocorrelation_lag9 = arima['Close'].autocorr(lag=270)\n",
    "print(\"Nine Month Lag: \", autocorrelation_lag9)"
   ]
  },
  {
   "cell_type": "code",
   "execution_count": 21,
   "metadata": {},
   "outputs": [
    {
     "data": {
      "image/png": "[encoded data removed]",
      "text/plain": [
       "<Figure size 432x288 with 1 Axes>"
      ]
     },
     "execution_count": 21,
     "metadata": {},
     "output_type": "execute_result"
    },
    {
     "data": {
      "image/png": "[encoded data removed]",
      "text/plain": [
       "<Figure size 432x288 with 1 Axes>"
      ]
     },
     "metadata": {
      "needs_background": "light"
     },
     "output_type": "display_data"
    }
   ],
   "source": [
    "autocorrealtion=arima['Close'].autocorr()\n",
    "plot_acf(arima['Close'],lags=60)"
   ]
  },
  {
   "cell_type": "markdown",
   "metadata": {},
   "source": [
    "We have identified a negative autocorrelation this would suggest an inverse relationship between the  price and time lags. This is useful in model selection. We will use an arima model which can handle negative autocorrelation."
   ]
  },
  {
   "cell_type": "code",
   "execution_count": 22,
   "metadata": {},
   "outputs": [
    {
     "data": {
      "image/png": "[encoded data removed]",
      "text/plain": [
       "<Figure size 432x288 with 4 Axes>"
      ]
     },
     "metadata": {
      "needs_background": "light"
     },
     "output_type": "display_data"
    }
   ],
   "source": [
    "decompose = seasonal_decompose(arima[\"Close\"],model='multiplicaive', period=365)\n",
    "decompose.plot()\n",
    "plt.show()"
   ]
  },
  {
   "cell_type": "code",
   "execution_count": 23,
   "metadata": {},
   "outputs": [
    {
     "data": {
      "image/png": "[encoded data removed]",
      "text/plain": [
       "<Figure size 432x288 with 4 Axes>"
      ]
     },
     "metadata": {
      "needs_background": "light"
     },
     "output_type": "display_data"
    }
   ],
   "source": [
    "decompose = seasonal_decompose(arima['Close'],model='additive', period=365)\n",
    "decompose.plot()\n",
    "plt.show()"
   ]
  },
  {
   "cell_type": "markdown",
   "metadata": {},
   "source": [
    "we have decompessed our time series which allows to observe patterns,repeating patterns and fluctuations in out time series. The additive model at capturing the variation in th time seirs which is not captured by the trend."
   ]
  },
  {
   "cell_type": "code",
   "execution_count": 24,
   "metadata": {},
   "outputs": [
    {
     "data": {
      "image/png": "[encoded data removed]",
      "text/plain": [
       "<Figure size 432x288 with 1 Axes>"
      ]
     },
     "metadata": {
      "needs_background": "light"
     },
     "output_type": "display_data"
    }
   ],
   "source": [
    "closing_prices = arima[\"Close\"]\n",
    "# Divide data into training and testing sets\n",
    "train_data = closing_prices[:int(len(closing_prices) * 0.8)]\n",
    "test_data = closing_prices[int(len(closing_prices) * 0.8):]\n",
    "plt.plot(train_data, color = \"blue\")\n",
    "plt.plot(test_data, color = \"orange\")\n",
    "plt.title(\"Train/Test split for Disney Data\",loc='left')\n",
    "plt.ylabel(\"Share Price\")\n",
    "plt.xlabel('Year-Month',loc='left')\n",
    "sns.set()\n",
    "plt.show()"
   ]
  },
  {
   "cell_type": "code",
   "execution_count": 25,
   "metadata": {},
   "outputs": [
    {
     "name": "stdout",
     "output_type": "stream",
     "text": [
      "Performing stepwise search to minimize aic\n",
      " ARIMA(2,1,2)(0,0,0)[0] intercept   : AIC=4724.397, Time=1.34 sec\n",
      " ARIMA(0,1,0)(0,0,0)[0] intercept   : AIC=4737.739, Time=0.03 sec\n",
      " ARIMA(1,1,0)(0,0,0)[0] intercept   : AIC=4727.761, Time=0.09 sec\n",
      " ARIMA(0,1,1)(0,0,0)[0] intercept   : AIC=4727.924, Time=0.12 sec\n",
      " ARIMA(0,1,0)(0,0,0)[0]             : AIC=4736.038, Time=0.03 sec\n",
      " ARIMA(1,1,2)(0,0,0)[0] intercept   : AIC=4728.094, Time=0.45 sec\n",
      " ARIMA(2,1,1)(0,0,0)[0] intercept   : AIC=4731.759, Time=0.21 sec\n",
      " ARIMA(3,1,2)(0,0,0)[0] intercept   : AIC=4735.670, Time=0.66 sec\n",
      " ARIMA(2,1,3)(0,0,0)[0] intercept   : AIC=4735.657, Time=0.75 sec\n",
      " ARIMA(1,1,1)(0,0,0)[0] intercept   : AIC=4729.756, Time=0.18 sec\n",
      " ARIMA(1,1,3)(0,0,0)[0] intercept   : AIC=4733.660, Time=0.28 sec\n",
      " ARIMA(3,1,1)(0,0,0)[0] intercept   : AIC=4733.678, Time=0.28 sec\n",
      " ARIMA(3,1,3)(0,0,0)[0] intercept   : AIC=4728.375, Time=2.32 sec\n",
      " ARIMA(2,1,2)(0,0,0)[0]             : AIC=4722.732, Time=0.66 sec\n",
      " ARIMA(1,1,2)(0,0,0)[0]             : AIC=4726.480, Time=0.34 sec\n",
      " ARIMA(2,1,1)(0,0,0)[0]             : AIC=4730.127, Time=0.11 sec\n",
      " ARIMA(3,1,2)(0,0,0)[0]             : AIC=4734.051, Time=0.18 sec\n",
      " ARIMA(2,1,3)(0,0,0)[0]             : AIC=4734.033, Time=0.52 sec\n",
      " ARIMA(1,1,1)(0,0,0)[0]             : AIC=4728.124, Time=0.07 sec\n",
      " ARIMA(1,1,3)(0,0,0)[0]             : AIC=4732.036, Time=0.13 sec\n",
      " ARIMA(3,1,1)(0,0,0)[0]             : AIC=4732.052, Time=0.13 sec\n",
      " ARIMA(3,1,3)(0,0,0)[0]             : AIC=4726.685, Time=1.25 sec\n",
      "\n",
      "Best model:  ARIMA(2,1,2)(0,0,0)[0]          \n",
      "Total fit time: 10.162 seconds\n"
     ]
    },
    {
     "name": "stderr",
     "output_type": "stream",
     "text": [
      "C:\\Users\\andrew\\anaconda3\\lib\\site-packages\\statsmodels\\tsa\\base\\tsa_model.py:836: ValueWarning: No supported index is available. Prediction results will be given with an integer index beginning at `start`.\n",
      "  return get_prediction_index(\n",
      "C:\\Users\\andrew\\anaconda3\\lib\\site-packages\\statsmodels\\tsa\\base\\tsa_model.py:836: FutureWarning: No supported index is available. In the next version, calling this method in a model without a supported index will result in an exception.\n",
      "  return get_prediction_index(\n"
     ]
    }
   ],
   "source": [
    "from pmdarima.arima import auto_arima\n",
    "model = auto_arima(train_data, trace=True, error_action='ignore', suppress_warnings=True)\n",
    "model.fit(train_data)\n",
    "forecast = model.predict(n_periods=len(test_data))\n",
    "forecast = pd.DataFrame(forecast,index = test_data.index,columns=['Prediction'])"
   ]
  },
  {
   "cell_type": "markdown",
   "metadata": {},
   "source": [
    "ARIMA(2,1,2)(0,0,0) model is a non-seasonal ARIMA model with an autoregressive component of order 2, a differencing component of order 1, and a moving average component of order 2"
   ]
  },
  {
   "cell_type": "code",
   "execution_count": 26,
   "metadata": {},
   "outputs": [
    {
     "data": {
      "image/png": "[encoded data removed]",
      "text/plain": [
       "<Figure size 432x288 with 1 Axes>"
      ]
     },
     "metadata": {},
     "output_type": "display_data"
    }
   ],
   "source": [
    "plt.plot(train_data, color = \"blue\", label=\"train\")\n",
    "plt.plot(test_data, color = \"orange\", label = \"test\")\n",
    "plt.title(\"Disney Share Price\",loc='left')\n",
    "plt.ylabel(\"Share Price\")\n",
    "plt.xlabel('Year-Month',loc='left')\n",
    "plt.legend(loc=\"best\")\n",
    "sns.set()\n",
    "plt.show()"
   ]
  },
  {
   "cell_type": "markdown",
   "metadata": {},
   "source": [
    "From yahoo finance on the 3rd of Janunary eas $88.98 which is just above where our test data suggested"
   ]
  },
  {
   "cell_type": "code",
   "execution_count": 27,
   "metadata": {},
   "outputs": [
    {
     "name": "stderr",
     "output_type": "stream",
     "text": [
      "C:\\Users\\andrew\\anaconda3\\lib\\site-packages\\statsmodels\\tsa\\base\\tsa_model.py:473: ValueWarning: A date index has been provided, but it has no associated frequency information and so will be ignored when e.g. forecasting.\n",
      "  self._init_dates(dates, freq)\n",
      "C:\\Users\\andrew\\anaconda3\\lib\\site-packages\\statsmodels\\tsa\\base\\tsa_model.py:473: ValueWarning: A date index has been provided, but it has no associated frequency information and so will be ignored when e.g. forecasting.\n",
      "  self._init_dates(dates, freq)\n",
      "C:\\Users\\andrew\\anaconda3\\lib\\site-packages\\statsmodels\\tsa\\base\\tsa_model.py:473: ValueWarning: A date index has been provided, but it has no associated frequency information and so will be ignored when e.g. forecasting.\n",
      "  self._init_dates(dates, freq)\n"
     ]
    }
   ],
   "source": [
    "model = ARIMA(train_data, order=(2, 1, 2))\n",
    "model_fit = model.fit()"
   ]
  },
  {
   "cell_type": "code",
   "execution_count": 28,
   "metadata": {},
   "outputs": [
    {
     "name": "stdout",
     "output_type": "stream",
     "text": [
      "RMSE:  46.23796983290074\n"
     ]
    },
    {
     "name": "stderr",
     "output_type": "stream",
     "text": [
      "C:\\Users\\andrew\\anaconda3\\lib\\site-packages\\statsmodels\\tsa\\base\\tsa_model.py:836: ValueWarning: No supported index is available. Prediction results will be given with an integer index beginning at `start`.\n",
      "  return get_prediction_index(\n",
      "C:\\Users\\andrew\\anaconda3\\lib\\site-packages\\statsmodels\\tsa\\base\\tsa_model.py:836: FutureWarning: No supported index is available. In the next version, calling this method in a model without a supported index will result in an exception.\n",
      "  return get_prediction_index(\n"
     ]
    }
   ],
   "source": [
    "predictions = model_fit.forecast(steps=len(test_data))\n",
    "rmse = sqrt(mean_squared_error(test_data, predictions))\n",
    "print(\"RMSE: \", rmse)"
   ]
  },
  {
   "cell_type": "markdown",
   "metadata": {},
   "source": [
    "Our RMSE measures the loss in our model. Our models has only captured roughly none of the current stock price. This is probaly due the fact that arima uses auto correlations and moving values to predict future values from historical data. This proves my original  theory that spike in share from the corona virus made id difficult for our model to make acurate predictions. However the reason we carried out ARIMA modelling was to provide a benchmark for our LTSM model."
   ]
  },
  {
   "cell_type": "code",
   "execution_count": 29,
   "metadata": {},
   "outputs": [
    {
     "name": "stdout",
     "output_type": "stream",
     "text": [
      "Mean Squared Error(MSE) of ARIMA Model 2137.949854268239\n",
      "\n",
      "Root Mean Squared Error(RMSE) of ARIMA Model 46.23796983290074\n",
      "\n",
      "Mean Absolute Error(MSE) of ARIMA Model 41.52860474103771\n"
     ]
    }
   ],
   "source": [
    "mse_ARIMA= mean_squared_error(test_data,predictions)\n",
    "rmse_ARIMA=sqrt(mean_squared_error(test_data,predictions))\n",
    "mae_ARIMA=mean_absolute_error(test_data,predictions)\n",
    "\n",
    "print('Mean Squared Error(MSE) of ARIMA Model', mse_ARIMA)\n",
    "print('')\n",
    "print('Root Mean Squared Error(RMSE) of ARIMA Model', rmse_ARIMA)\n",
    "print('')\n",
    "print('Mean Absolute Error(MSE) of ARIMA Model', mae_ARIMA)"
   ]
  },
  {
   "cell_type": "code",
   "execution_count": null,
   "metadata": {},
   "outputs": [],
   "source": []
  },
  {
   "cell_type": "code",
   "execution_count": null,
   "metadata": {},
   "outputs": [],
   "source": [
    "plt.figure(figsize=(12, 6))\n",
    "plt.plot(train_data, label=\"Training data\")\n",
    "plt.plot(test_data, label=\"Actual closing prices\")\n",
    "plt.plot(test_data.index, predictions, label=\"Predicted closing prices\")\n",
    "plt.xlabel(\"Date\")\n",
    "plt.ylabel(\"Closing Price\")\n",
    "plt.title(f\"{symbol} Stock Closing Price Prediction using ARIMA\")\n",
    "plt.legend()\n",
    "plt.show()"
   ]
  },
  {
   "cell_type": "code",
   "execution_count": 30,
   "metadata": {},
   "outputs": [
    {
     "name": "stdout",
     "output_type": "stream",
     "text": [
      "[*********************100%***********************]  1 of 1 completed\n"
     ]
    },
    {
     "data": {
      "text/html": [
       "<div>\n",
       "<style scoped>\n",
       "    .dataframe tbody tr th:only-of-type {\n",
       "        vertical-align: middle;\n",
       "    }\n",
       "\n",
       "    .dataframe tbody tr th {\n",
       "        vertical-align: top;\n",
       "    }\n",
       "\n",
       "    .dataframe thead th {\n",
       "        text-align: right;\n",
       "    }\n",
       "</style>\n",
       "<table border=\"1\" class=\"dataframe\">\n",
       "  <thead>\n",
       "    <tr style=\"text-align: right;\">\n",
       "      <th></th>\n",
       "      <th>Open</th>\n",
       "      <th>High</th>\n",
       "      <th>Low</th>\n",
       "      <th>Close</th>\n",
       "      <th>Adj Close</th>\n",
       "      <th>Volume</th>\n",
       "    </tr>\n",
       "    <tr>\n",
       "      <th>Date</th>\n",
       "      <th></th>\n",
       "      <th></th>\n",
       "      <th></th>\n",
       "      <th></th>\n",
       "      <th></th>\n",
       "      <th></th>\n",
       "    </tr>\n",
       "  </thead>\n",
       "  <tbody>\n",
       "    <tr>\n",
       "      <th>2018-06-26</th>\n",
       "      <td>104.459999</td>\n",
       "      <td>104.709999</td>\n",
       "      <td>103.910004</td>\n",
       "      <td>104.260002</td>\n",
       "      <td>101.393372</td>\n",
       "      <td>6550000</td>\n",
       "    </tr>\n",
       "    <tr>\n",
       "      <th>2018-06-27</th>\n",
       "      <td>104.500000</td>\n",
       "      <td>105.879997</td>\n",
       "      <td>103.480003</td>\n",
       "      <td>103.959999</td>\n",
       "      <td>101.101616</td>\n",
       "      <td>8803300</td>\n",
       "    </tr>\n",
       "    <tr>\n",
       "      <th>2018-06-28</th>\n",
       "      <td>103.910004</td>\n",
       "      <td>105.120003</td>\n",
       "      <td>103.680000</td>\n",
       "      <td>104.769997</td>\n",
       "      <td>101.889343</td>\n",
       "      <td>6303600</td>\n",
       "    </tr>\n",
       "    <tr>\n",
       "      <th>2018-06-29</th>\n",
       "      <td>104.930000</td>\n",
       "      <td>105.680000</td>\n",
       "      <td>104.650002</td>\n",
       "      <td>104.809998</td>\n",
       "      <td>101.928238</td>\n",
       "      <td>6774000</td>\n",
       "    </tr>\n",
       "    <tr>\n",
       "      <th>2018-07-02</th>\n",
       "      <td>104.150002</td>\n",
       "      <td>105.370003</td>\n",
       "      <td>103.900002</td>\n",
       "      <td>105.330002</td>\n",
       "      <td>102.433952</td>\n",
       "      <td>5488900</td>\n",
       "    </tr>\n",
       "    <tr>\n",
       "      <th>...</th>\n",
       "      <td>...</td>\n",
       "      <td>...</td>\n",
       "      <td>...</td>\n",
       "      <td>...</td>\n",
       "      <td>...</td>\n",
       "      <td>...</td>\n",
       "    </tr>\n",
       "    <tr>\n",
       "      <th>2023-06-16</th>\n",
       "      <td>92.879997</td>\n",
       "      <td>92.970001</td>\n",
       "      <td>90.860001</td>\n",
       "      <td>91.320000</td>\n",
       "      <td>91.320000</td>\n",
       "      <td>22665000</td>\n",
       "    </tr>\n",
       "    <tr>\n",
       "      <th>2023-06-20</th>\n",
       "      <td>90.290001</td>\n",
       "      <td>90.779999</td>\n",
       "      <td>89.739998</td>\n",
       "      <td>89.750000</td>\n",
       "      <td>89.750000</td>\n",
       "      <td>14939200</td>\n",
       "    </tr>\n",
       "    <tr>\n",
       "      <th>2023-06-21</th>\n",
       "      <td>89.550003</td>\n",
       "      <td>89.669998</td>\n",
       "      <td>88.110001</td>\n",
       "      <td>88.639999</td>\n",
       "      <td>88.639999</td>\n",
       "      <td>17873000</td>\n",
       "    </tr>\n",
       "    <tr>\n",
       "      <th>2023-06-22</th>\n",
       "      <td>88.440002</td>\n",
       "      <td>89.190002</td>\n",
       "      <td>88.120003</td>\n",
       "      <td>88.489998</td>\n",
       "      <td>88.489998</td>\n",
       "      <td>10915300</td>\n",
       "    </tr>\n",
       "    <tr>\n",
       "      <th>2023-06-23</th>\n",
       "      <td>88.019997</td>\n",
       "      <td>88.400002</td>\n",
       "      <td>87.610001</td>\n",
       "      <td>88.099998</td>\n",
       "      <td>88.099998</td>\n",
       "      <td>13538000</td>\n",
       "    </tr>\n",
       "  </tbody>\n",
       "</table>\n",
       "<p>1257 rows × 6 columns</p>\n",
       "</div>"
      ],
      "text/plain": [
       "                  Open        High         Low       Close   Adj Close  \\\n",
       "Date                                                                     \n",
       "2018-06-26  104.459999  104.709999  103.910004  104.260002  101.393372   \n",
       "2018-06-27  104.500000  105.879997  103.480003  103.959999  101.101616   \n",
       "2018-06-28  103.910004  105.120003  103.680000  104.769997  101.889343   \n",
       "2018-06-29  104.930000  105.680000  104.650002  104.809998  101.928238   \n",
       "2018-07-02  104.150002  105.370003  103.900002  105.330002  102.433952   \n",
       "...                ...         ...         ...         ...         ...   \n",
       "2023-06-16   92.879997   92.970001   90.860001   91.320000   91.320000   \n",
       "2023-06-20   90.290001   90.779999   89.739998   89.750000   89.750000   \n",
       "2023-06-21   89.550003   89.669998   88.110001   88.639999   88.639999   \n",
       "2023-06-22   88.440002   89.190002   88.120003   88.489998   88.489998   \n",
       "2023-06-23   88.019997   88.400002   87.610001   88.099998   88.099998   \n",
       "\n",
       "              Volume  \n",
       "Date                  \n",
       "2018-06-26   6550000  \n",
       "2018-06-27   8803300  \n",
       "2018-06-28   6303600  \n",
       "2018-06-29   6774000  \n",
       "2018-07-02   5488900  \n",
       "...              ...  \n",
       "2023-06-16  22665000  \n",
       "2023-06-20  14939200  \n",
       "2023-06-21  17873000  \n",
       "2023-06-22  10915300  \n",
       "2023-06-23  13538000  \n",
       "\n",
       "[1257 rows x 6 columns]"
      ]
     },
     "execution_count": 30,
     "metadata": {},
     "output_type": "execute_result"
    }
   ],
   "source": [
    "shares_df = yf.download('DIS', start='2018-06-26', end='2023-06-26',interval='1d')\n",
    "# Look at the data read\n",
    "shares_df"
   ]
  },
  {
   "cell_type": "code",
   "execution_count": 31,
   "metadata": {},
   "outputs": [],
   "source": [
    "test_size=12\n",
    "\n",
    "disney_train=shares_df[ :-test_size]\n",
    "disney_test= shares_df[ :test_size]"
   ]
  },
  {
   "cell_type": "code",
   "execution_count": 32,
   "metadata": {},
   "outputs": [],
   "source": [
    "training_data = disney_train.iloc[:, 4].values "
   ]
  },
  {
   "cell_type": "markdown",
   "metadata": {},
   "source": [
    "we return our close colum as a numpy array. This close column can be used for futher numerical analysis or be used to train a machine learning model"
   ]
  },
  {
   "cell_type": "code",
   "execution_count": 33,
   "metadata": {},
   "outputs": [],
   "source": [
    "from sklearn.preprocessing import MinMaxScaler "
   ]
  },
  {
   "cell_type": "code",
   "execution_count": 34,
   "metadata": {},
   "outputs": [],
   "source": [
    "scaler = MinMaxScaler() "
   ]
  },
  {
   "cell_type": "markdown",
   "metadata": {},
   "source": [
    "Scikit-learn is a library for machine learning that is used  commonly. In addition to the MinMaxScaler, it has several other useful scaling options such as Standard Scaler, Robust Scaler & Max abs Scaler among maany others.\n",
    "\n",
    "We have used a MinMaxScaler() to transform our data in to a specific range between 0 & 1 this can benefit by normalising our data which ensures our features have similar ranges of values.It can ensure no one feature has too big effect on our model. It can also help with outliers to ensure they do a have a disproportionate on our algortihms.\n",
    "\n",
    "It should be noted the values are of no use to we are merely seeking to find patterns in the relationships of our variables.\n",
    "The scaler used will be determined by the job at hand and some algorithms such as  tree based modes do not need to be scaled however as our model is a RNN neural network we are required to scale our data."
   ]
  },
  {
   "cell_type": "code",
   "execution_count": 35,
   "metadata": {},
   "outputs": [],
   "source": [
    "training_data = scaler.fit_transform(training_data.reshape(-1, 1))"
   ]
  },
  {
   "cell_type": "code",
   "execution_count": 36,
   "metadata": {},
   "outputs": [],
   "source": [
    "x_training_data = [] \n",
    "y_training_data =[]"
   ]
  },
  {
   "cell_type": "code",
   "execution_count": 37,
   "metadata": {},
   "outputs": [],
   "source": [
    "for i in range(40, len(training_data)): \n",
    " x_training_data.append(training_data[i-40:i, 0]) \n",
    " y_training_data.append(training_data[i, 0]) "
   ]
  },
  {
   "cell_type": "markdown",
   "metadata": {},
   "source": [
    "The code above helps us get ready to train a model by making chains of pairs of inputs and outputs. This lets the model learn from what it has seen in the past and make predictions based on how things have been in the past"
   ]
  },
  {
   "cell_type": "code",
   "execution_count": 38,
   "metadata": {},
   "outputs": [],
   "source": [
    "x_training_data = np.array(x_training_data) \n",
    "y_training_data = np.array(y_training_data) "
   ]
  },
  {
   "cell_type": "code",
   "execution_count": 39,
   "metadata": {},
   "outputs": [
    {
     "name": "stdout",
     "output_type": "stream",
     "text": [
      "(1205, 40)\n",
      "(1205,)\n"
     ]
    }
   ],
   "source": [
    "print(x_training_data.shape) \n",
    "print(y_training_data.shape) "
   ]
  },
  {
   "cell_type": "code",
   "execution_count": 40,
   "metadata": {},
   "outputs": [],
   "source": [
    "x_training_data = np.reshape(x_training_data, (x_training_data.shape[0], \n",
    " x_training_data.shape[1], \n",
    " 1)) \n"
   ]
  },
  {
   "cell_type": "markdown",
   "metadata": {},
   "source": [
    "We have converted the x_training_data and y_training_data lists to NumPy arrays because models like LSTM expect the data to provided as this data type"
   ]
  },
  {
   "cell_type": "code",
   "execution_count": 41,
   "metadata": {},
   "outputs": [
    {
     "name": "stdout",
     "output_type": "stream",
     "text": [
      "(1205, 40, 1)\n"
     ]
    }
   ],
   "source": [
    "print(x_training_data.shape) "
   ]
  },
  {
   "cell_type": "code",
   "execution_count": 42,
   "metadata": {},
   "outputs": [],
   "source": [
    "rnn = Sequential()"
   ]
  },
  {
   "cell_type": "markdown",
   "metadata": {},
   "source": [
    "We used the Sequential class in Keras because it makes making models easier, makes code easier to read, and makes it easier to see how our models work."
   ]
  },
  {
   "cell_type": "code",
   "execution_count": 43,
   "metadata": {},
   "outputs": [],
   "source": [
    "rnn.add(LSTM(units = 45, return_sequences = True, input_shape = \n",
    "(x_training_data.shape[1], 1)))"
   ]
  },
  {
   "cell_type": "code",
   "execution_count": 44,
   "metadata": {},
   "outputs": [],
   "source": [
    "rnn.add(Dropout(0.2))"
   ]
  },
  {
   "cell_type": "markdown",
   "metadata": {},
   "source": [
    "We have added a dropout layer which is a reguralization technique that prevents overfitting"
   ]
  },
  {
   "cell_type": "code",
   "execution_count": 45,
   "metadata": {},
   "outputs": [],
   "source": [
    "for i in [True, True, False]: \n",
    " rnn.add(LSTM(units = 45, return_sequences = i)) \n",
    " rnn.add(Dropout(0.2)) "
   ]
  },
  {
   "cell_type": "code",
   "execution_count": 46,
   "metadata": {},
   "outputs": [],
   "source": [
    "rnn.add(Dense(units = 1))"
   ]
  },
  {
   "cell_type": "markdown",
   "metadata": {},
   "source": [
    "we have added i laver to our LSTM, seen this a regression model adding one layer is agood initial first step. when we move on to tuning we may add on extra layers. "
   ]
  },
  {
   "cell_type": "code",
   "execution_count": 47,
   "metadata": {},
   "outputs": [],
   "source": [
    "rnn.compile(optimizer = 'adam', loss = 'mean_squared_error') \n"
   ]
  },
  {
   "cell_type": "markdown",
   "metadata": {},
   "source": [
    "The choice of optimizer and loss function can have a big effect on how well the model learns, how quickly it converges, and how well it can reduce loss in our mode"
   ]
  },
  {
   "cell_type": "code",
   "execution_count": 48,
   "metadata": {},
   "outputs": [
    {
     "name": "stdout",
     "output_type": "stream",
     "text": [
      "Epoch 1/100\n",
      "30/30 [==============================] - 13s 146ms/step - loss: 0.0335 - val_loss: 0.0044\n",
      "Epoch 2/100\n",
      "30/30 [==============================] - 2s 82ms/step - loss: 0.0100 - val_loss: 0.0056\n",
      "Epoch 3/100\n",
      "30/30 [==============================] - 2s 81ms/step - loss: 0.0090 - val_loss: 0.0034\n",
      "Epoch 4/100\n",
      "30/30 [==============================] - 2s 83ms/step - loss: 0.0072 - val_loss: 0.0036\n",
      "Epoch 5/100\n",
      "30/30 [==============================] - 3s 87ms/step - loss: 0.0068 - val_loss: 0.0038\n",
      "Epoch 6/100\n",
      "30/30 [==============================] - 2s 81ms/step - loss: 0.0082 - val_loss: 0.0029\n",
      "Epoch 7/100\n",
      "30/30 [==============================] - 3s 85ms/step - loss: 0.0077 - val_loss: 0.0023\n",
      "Epoch 8/100\n",
      "30/30 [==============================] - 4s 140ms/step - loss: 0.0061 - val_loss: 0.0032\n",
      "Epoch 9/100\n",
      "30/30 [==============================] - 4s 149ms/step - loss: 0.0055 - val_loss: 0.0029\n",
      "Epoch 10/100\n",
      "30/30 [==============================] - 4s 130ms/step - loss: 0.0054 - val_loss: 0.0028\n",
      "Epoch 11/100\n",
      "30/30 [==============================] - 3s 84ms/step - loss: 0.0051 - val_loss: 0.0036\n",
      "Epoch 12/100\n",
      "30/30 [==============================] - 3s 90ms/step - loss: 0.0052 - val_loss: 0.0023\n",
      "Epoch 13/100\n",
      "30/30 [==============================] - 3s 88ms/step - loss: 0.0049 - val_loss: 0.0035\n",
      "Epoch 14/100\n",
      "30/30 [==============================] - 2s 83ms/step - loss: 0.0053 - val_loss: 0.0033\n",
      "Epoch 15/100\n",
      "30/30 [==============================] - 3s 86ms/step - loss: 0.0047 - val_loss: 0.0023\n",
      "Epoch 16/100\n",
      "30/30 [==============================] - 3s 94ms/step - loss: 0.0042 - val_loss: 0.0024\n",
      "Epoch 17/100\n",
      "30/30 [==============================] - 3s 103ms/step - loss: 0.0042 - val_loss: 0.0025\n",
      "Epoch 18/100\n",
      "30/30 [==============================] - 2s 82ms/step - loss: 0.0044 - val_loss: 0.0021\n",
      "Epoch 19/100\n",
      "30/30 [==============================] - 2s 82ms/step - loss: 0.0042 - val_loss: 0.0033\n",
      "Epoch 20/100\n",
      "30/30 [==============================] - 3s 83ms/step - loss: 0.0050 - val_loss: 0.0020\n",
      "Epoch 21/100\n",
      "30/30 [==============================] - 2s 82ms/step - loss: 0.0041 - val_loss: 0.0018\n",
      "Epoch 22/100\n",
      "30/30 [==============================] - 2s 83ms/step - loss: 0.0037 - val_loss: 0.0014\n",
      "Epoch 23/100\n",
      "30/30 [==============================] - 3s 84ms/step - loss: 0.0039 - val_loss: 0.0020\n",
      "Epoch 24/100\n",
      "30/30 [==============================] - 3s 85ms/step - loss: 0.0037 - val_loss: 0.0016\n",
      "Epoch 25/100\n",
      "30/30 [==============================] - 2s 83ms/step - loss: 0.0038 - val_loss: 0.0016\n",
      "Epoch 26/100\n",
      "30/30 [==============================] - 2s 83ms/step - loss: 0.0035 - val_loss: 0.0021\n",
      "Epoch 27/100\n",
      "30/30 [==============================] - 3s 83ms/step - loss: 0.0033 - val_loss: 0.0019\n",
      "Epoch 28/100\n",
      "30/30 [==============================] - 3s 85ms/step - loss: 0.0036 - val_loss: 0.0015\n",
      "Epoch 29/100\n",
      "30/30 [==============================] - 3s 84ms/step - loss: 0.0037 - val_loss: 0.0022\n",
      "Epoch 30/100\n",
      "30/30 [==============================] - 3s 83ms/step - loss: 0.0033 - val_loss: 0.0012\n",
      "Epoch 31/100\n",
      "30/30 [==============================] - 3s 84ms/step - loss: 0.0034 - val_loss: 0.0012\n",
      "Epoch 32/100\n",
      "30/30 [==============================] - 3s 96ms/step - loss: 0.0033 - val_loss: 0.0011\n",
      "Epoch 33/100\n",
      "30/30 [==============================] - 3s 101ms/step - loss: 0.0033 - val_loss: 0.0023\n",
      "Epoch 34/100\n",
      "30/30 [==============================] - 2s 82ms/step - loss: 0.0034 - val_loss: 9.4318e-04\n",
      "Epoch 35/100\n",
      "30/30 [==============================] - 2s 83ms/step - loss: 0.0031 - val_loss: 0.0013\n",
      "Epoch 36/100\n",
      "30/30 [==============================] - 3s 84ms/step - loss: 0.0029 - val_loss: 0.0012\n",
      "Epoch 37/100\n",
      "30/30 [==============================] - 2s 83ms/step - loss: 0.0028 - val_loss: 0.0014\n",
      "Epoch 38/100\n",
      "30/30 [==============================] - 2s 82ms/step - loss: 0.0033 - val_loss: 9.5704e-04\n",
      "Epoch 39/100\n",
      "30/30 [==============================] - 2s 83ms/step - loss: 0.0030 - val_loss: 0.0020\n",
      "Epoch 40/100\n",
      "30/30 [==============================] - 3s 84ms/step - loss: 0.0027 - val_loss: 8.7180e-04\n",
      "Epoch 41/100\n",
      "30/30 [==============================] - 2s 82ms/step - loss: 0.0027 - val_loss: 0.0016\n",
      "Epoch 42/100\n",
      "30/30 [==============================] - 2s 83ms/step - loss: 0.0029 - val_loss: 0.0010\n",
      "Epoch 43/100\n",
      "30/30 [==============================] - 3s 84ms/step - loss: 0.0028 - val_loss: 0.0017\n",
      "Epoch 44/100\n",
      "30/30 [==============================] - 3s 93ms/step - loss: 0.0028 - val_loss: 9.2605e-04\n",
      "Epoch 45/100\n",
      "30/30 [==============================] - 3s 88ms/step - loss: 0.0026 - val_loss: 0.0011\n",
      "Epoch 46/100\n",
      "30/30 [==============================] - 2s 82ms/step - loss: 0.0026 - val_loss: 0.0011\n",
      "Epoch 47/100\n",
      "30/30 [==============================] - 3s 92ms/step - loss: 0.0027 - val_loss: 0.0015\n",
      "Epoch 48/100\n",
      "30/30 [==============================] - 3s 92ms/step - loss: 0.0027 - val_loss: 0.0013\n",
      "Epoch 49/100\n",
      "30/30 [==============================] - 3s 93ms/step - loss: 0.0024 - val_loss: 8.9338e-04\n",
      "Epoch 50/100\n",
      "30/30 [==============================] - 3s 85ms/step - loss: 0.0025 - val_loss: 0.0012\n",
      "Epoch 51/100\n",
      "30/30 [==============================] - 3s 84ms/step - loss: 0.0024 - val_loss: 0.0011\n",
      "Epoch 52/100\n",
      "30/30 [==============================] - 3s 84ms/step - loss: 0.0025 - val_loss: 8.9384e-04\n",
      "Epoch 53/100\n",
      "30/30 [==============================] - 3s 101ms/step - loss: 0.0024 - val_loss: 0.0016\n",
      "Epoch 54/100\n",
      "30/30 [==============================] - 4s 119ms/step - loss: 0.0026 - val_loss: 9.5563e-04\n",
      "Epoch 55/100\n",
      "30/30 [==============================] - 3s 92ms/step - loss: 0.0027 - val_loss: 8.1119e-04\n",
      "Epoch 56/100\n",
      "30/30 [==============================] - 3s 93ms/step - loss: 0.0025 - val_loss: 8.3503e-04\n",
      "Epoch 57/100\n",
      "30/30 [==============================] - 3s 86ms/step - loss: 0.0023 - val_loss: 0.0012\n",
      "Epoch 58/100\n",
      "30/30 [==============================] - 3s 84ms/step - loss: 0.0022 - val_loss: 0.0011\n",
      "Epoch 59/100\n",
      "30/30 [==============================] - 3s 87ms/step - loss: 0.0022 - val_loss: 8.7616e-04\n",
      "Epoch 60/100\n",
      "30/30 [==============================] - 3s 85ms/step - loss: 0.0022 - val_loss: 0.0011\n",
      "Epoch 61/100\n",
      "30/30 [==============================] - 3s 84ms/step - loss: 0.0025 - val_loss: 9.6510e-04\n",
      "Epoch 62/100\n",
      "30/30 [==============================] - 3s 83ms/step - loss: 0.0023 - val_loss: 7.9923e-04\n",
      "Epoch 63/100\n",
      "30/30 [==============================] - 3s 85ms/step - loss: 0.0022 - val_loss: 0.0017\n",
      "Epoch 64/100\n",
      "30/30 [==============================] - 3s 84ms/step - loss: 0.0020 - val_loss: 8.8944e-04\n",
      "Epoch 65/100\n",
      "30/30 [==============================] - 4s 132ms/step - loss: 0.0020 - val_loss: 0.0010\n",
      "Epoch 66/100\n",
      "30/30 [==============================] - 3s 99ms/step - loss: 0.0021 - val_loss: 0.0010\n",
      "Epoch 67/100\n",
      "30/30 [==============================] - 2s 81ms/step - loss: 0.0021 - val_loss: 7.4520e-04\n",
      "Epoch 68/100\n",
      "30/30 [==============================] - 2s 82ms/step - loss: 0.0021 - val_loss: 0.0013\n",
      "Epoch 69/100\n",
      "30/30 [==============================] - 2s 81ms/step - loss: 0.0019 - val_loss: 7.8964e-04\n",
      "Epoch 70/100\n",
      "30/30 [==============================] - 2s 83ms/step - loss: 0.0021 - val_loss: 9.2777e-04\n",
      "Epoch 71/100\n",
      "30/30 [==============================] - 3s 91ms/step - loss: 0.0020 - val_loss: 0.0013\n",
      "Epoch 72/100\n",
      "30/30 [==============================] - 2s 82ms/step - loss: 0.0018 - val_loss: 7.7217e-04\n",
      "Epoch 73/100\n",
      "30/30 [==============================] - 3s 105ms/step - loss: 0.0019 - val_loss: 7.5256e-04\n",
      "Epoch 74/100\n",
      "30/30 [==============================] - 3s 91ms/step - loss: 0.0019 - val_loss: 7.2494e-04\n",
      "Epoch 75/100\n",
      "30/30 [==============================] - 3s 94ms/step - loss: 0.0020 - val_loss: 0.0014\n",
      "Epoch 76/100\n",
      "30/30 [==============================] - 4s 123ms/step - loss: 0.0019 - val_loss: 7.5058e-04\n",
      "Epoch 77/100\n",
      "30/30 [==============================] - 4s 132ms/step - loss: 0.0019 - val_loss: 8.1198e-04\n",
      "Epoch 78/100\n",
      "30/30 [==============================] - 3s 97ms/step - loss: 0.0018 - val_loss: 8.9350e-04\n",
      "Epoch 79/100\n",
      "30/30 [==============================] - 2s 83ms/step - loss: 0.0018 - val_loss: 9.9560e-04\n",
      "Epoch 80/100\n",
      "30/30 [==============================] - 3s 84ms/step - loss: 0.0018 - val_loss: 9.8178e-04\n",
      "Epoch 81/100\n",
      "30/30 [==============================] - 3s 100ms/step - loss: 0.0018 - val_loss: 7.8800e-04\n",
      "Epoch 82/100\n",
      "30/30 [==============================] - 2s 81ms/step - loss: 0.0019 - val_loss: 9.9440e-04\n",
      "Epoch 83/100\n",
      "30/30 [==============================] - 2s 82ms/step - loss: 0.0018 - val_loss: 9.0475e-04\n",
      "Epoch 84/100\n",
      "30/30 [==============================] - 2s 83ms/step - loss: 0.0016 - val_loss: 7.6865e-04\n",
      "Epoch 85/100\n",
      "30/30 [==============================] - 3s 89ms/step - loss: 0.0018 - val_loss: 0.0011\n",
      "Epoch 86/100\n",
      "30/30 [==============================] - 3s 85ms/step - loss: 0.0019 - val_loss: 9.2940e-04\n",
      "Epoch 87/100\n",
      "30/30 [==============================] - 3s 88ms/step - loss: 0.0017 - val_loss: 9.9658e-04\n",
      "Epoch 88/100\n",
      "30/30 [==============================] - 3s 101ms/step - loss: 0.0017 - val_loss: 7.2582e-04\n",
      "Epoch 89/100\n",
      "30/30 [==============================] - 2s 82ms/step - loss: 0.0016 - val_loss: 0.0011\n",
      "Epoch 90/100\n",
      "30/30 [==============================] - 2s 83ms/step - loss: 0.0016 - val_loss: 0.0013\n",
      "Epoch 91/100\n",
      "30/30 [==============================] - 2s 82ms/step - loss: 0.0018 - val_loss: 0.0015\n",
      "Epoch 92/100\n",
      "30/30 [==============================] - 3s 84ms/step - loss: 0.0015 - val_loss: 8.2305e-04\n",
      "Epoch 93/100\n",
      "30/30 [==============================] - 3s 90ms/step - loss: 0.0016 - val_loss: 8.8217e-04\n",
      "Epoch 94/100\n",
      "30/30 [==============================] - 3s 83ms/step - loss: 0.0016 - val_loss: 8.3936e-04\n",
      "Epoch 95/100\n",
      "30/30 [==============================] - 3s 109ms/step - loss: 0.0015 - val_loss: 0.0011\n",
      "Epoch 96/100\n",
      "30/30 [==============================] - 3s 85ms/step - loss: 0.0017 - val_loss: 0.0011\n",
      "Epoch 97/100\n",
      "30/30 [==============================] - 3s 93ms/step - loss: 0.0016 - val_loss: 8.5621e-04\n",
      "Epoch 98/100\n",
      "30/30 [==============================] - 3s 85ms/step - loss: 0.0015 - val_loss: 8.3341e-04\n",
      "Epoch 99/100\n",
      "30/30 [==============================] - 3s 85ms/step - loss: 0.0016 - val_loss: 7.5774e-04\n",
      "Epoch 100/100\n",
      "30/30 [==============================] - 3s 84ms/step - loss: 0.0015 - val_loss: 7.8218e-04\n"
     ]
    }
   ],
   "source": [
    "history=rnn.fit(x_training_data, y_training_data, epochs = 100, batch_size = 40,validation_split=.02) "
   ]
  },
  {
   "cell_type": "markdown",
   "metadata": {},
   "source": [
    "The codes above is needed in order to train an RNN model. It lets the model learn from the data it is given and the numbers it is supposed to reach, improving its performance over time. we can fine-tune the training process  bu using gridsearch to get the model performance you want by changing the batch size and the number of epochs."
   ]
  },
  {
   "cell_type": "code",
   "execution_count": 64,
   "metadata": {},
   "outputs": [
    {
     "data": {
      "image/png": "[encoded data removed]",
      "text/plain": [
       "<Figure size 432x288 with 1 Axes>"
      ]
     },
     "metadata": {},
     "output_type": "display_data"
    }
   ],
   "source": [
    "plt.plot(history.history['loss'],label='Training Loss');\n",
    "plt.plot(history.history['val_loss'], label= 'Validation Loss');\n",
    "plt.title('Model Loss', loc='left');\n",
    "plt.xlabel('Epoch',loc='left');\n",
    "plt.ylabel('Loss');\n",
    "plt.legend();"
   ]
  },
  {
   "cell_type": "markdown",
   "metadata": {},
   "source": [
    "We can see that our model has trained well meaning it is  finding patterns within data we will need to carry out some hyperameter tuning but it may be off little use."
   ]
  },
  {
   "cell_type": "code",
   "execution_count": 65,
   "metadata": {},
   "outputs": [],
   "source": [
    "test_data = disney_test \n",
    "test_data = disney_test.iloc[:, 3].values "
   ]
  },
  {
   "cell_type": "code",
   "execution_count": 66,
   "metadata": {},
   "outputs": [
    {
     "data": {
      "image/png": "[encoded data removed]",
      "text/plain": [
       "<Figure size 432x288 with 1 Axes>"
      ]
     },
     "metadata": {},
     "output_type": "display_data"
    }
   ],
   "source": [
    "plt.plot(test_data);"
   ]
  },
  {
   "cell_type": "code",
   "execution_count": 67,
   "metadata": {},
   "outputs": [],
   "source": [
    "unscaled_training_data = disney_train\n",
    "unscaled_test_data = disney_test "
   ]
  },
  {
   "cell_type": "code",
   "execution_count": 68,
   "metadata": {},
   "outputs": [],
   "source": [
    "all_data=pd.concat((unscaled_training_data['Close'], \n",
    "unscaled_test_data['Close']), axis = 0) "
   ]
  },
  {
   "cell_type": "markdown",
   "metadata": {},
   "source": [
    "We have added out training_data and test_data together in to a single series this will help us in future data preparation and visualization."
   ]
  },
  {
   "cell_type": "code",
   "execution_count": 69,
   "metadata": {},
   "outputs": [],
   "source": [
    "x_test_data = all_data[len(all_data) - len(test_data) - 40:].values \n",
    "x_test_data = np.reshape(x_test_data, (-1, 1)) "
   ]
  },
  {
   "cell_type": "code",
   "execution_count": 70,
   "metadata": {},
   "outputs": [],
   "source": [
    "x_test_data = scaler.transform(x_test_data) "
   ]
  },
  {
   "cell_type": "code",
   "execution_count": 71,
   "metadata": {},
   "outputs": [],
   "source": [
    "final_x_test_data = [] \n",
    "for i in range(40, len(x_test_data)): \n",
    " final_x_test_data.append(x_test_data[i-40:i, 0]) \n",
    "final_x_test_data = np.array(final_x_test_data) "
   ]
  },
  {
   "cell_type": "code",
   "execution_count": 72,
   "metadata": {},
   "outputs": [],
   "source": [
    "final_x_test_data=np.reshape(final_x_test_data, \n",
    "(final_x_test_data.shape[0], final_x_test_data.shape[1], 1)) "
   ]
  },
  {
   "cell_type": "code",
   "execution_count": 73,
   "metadata": {},
   "outputs": [
    {
     "name": "stdout",
     "output_type": "stream",
     "text": [
      "1/1 [==============================] - 0s 47ms/step\n"
     ]
    }
   ],
   "source": [
    "predictions = rnn.predict(final_x_test_data) \n"
   ]
  },
  {
   "cell_type": "code",
   "execution_count": 74,
   "metadata": {},
   "outputs": [
    {
     "data": {
      "image/png": "[encoded data removed]",
      "text/plain": [
       "<Figure size 432x288 with 1 Axes>"
      ]
     },
     "metadata": {},
     "output_type": "display_data"
    }
   ],
   "source": [
    "#Plotting our predicted values \n",
    "plt.clf() #This clears the old plot from our canvas \n",
    "plt.plot(predictions,label='Scaled Predictions');\n",
    "#Unscaling the predicted values and re-plotting the data \n",
    "unscaled_predictions = scaler.inverse_transform(predictions); \n",
    "plt.plot(unscaled_predictions,label='Unscaled Predictions');\n",
    "plt.title('Disney Stock Scaled/Unscaled',loc='left');"
   ]
  },
  {
   "cell_type": "code",
   "execution_count": 75,
   "metadata": {},
   "outputs": [
    {
     "data": {
      "image/png": "[encoded data removed]",
      "text/plain": [
       "<Figure size 432x288 with 1 Axes>"
      ]
     },
     "metadata": {},
     "output_type": "display_data"
    }
   ],
   "source": [
    "#Plotting the predicted values against Facebook's actual stock price \n",
    "plt.plot(unscaled_predictions, color = 'orange', label = \"Predictions\"); \n",
    "plt.plot(test_data, color = 'blue', label = \"Real Data\"); \n",
    "plt.title('Disney Stock Price Predictions',loc='left') ;\n",
    "plt.legend();"
   ]
  },
  {
   "cell_type": "code",
   "execution_count": 61,
   "metadata": {},
   "outputs": [],
   "source": [
    "from sklearn.metrics import classification_report\n",
    "from sklearn.metrics import mean_squared_error,mean_absolute_error"
   ]
  },
  {
   "cell_type": "code",
   "execution_count": 62,
   "metadata": {},
   "outputs": [
    {
     "name": "stdout",
     "output_type": "stream",
     "text": [
      "Mean Squared Error(MSE) of LSTM Model with Tuning: 17.095132615111652\n",
      "Mean Squared Error(MSE) of ARIMA Model 11089.869000621598\n",
      "\n",
      "Root Mean Squared Error(RMSE) of LSTM Model with Tuning: 4.134626055051611\n",
      "Root Mean Squared Error(RMSE) of ARIMA Model 105.30844695759974\n",
      "\n",
      "Mean Absolute Error(MSE) of LSTM Model with Tuning  2.4788074493408203\n",
      "Mean Absolute Error(MSE) of ARIMA Model 105.29992798094948\n"
     ]
    }
   ],
   "source": [
    "mse_LSTM= mean_squared_error(test_data,unscaled_predictions)\n",
    "rmse_LSTM=mean_squared_error(test_data,unscaled_predictions,squared=False)\n",
    "mae_LSTM=mean_absolute_error(test_data,unscaled_predictions)\n",
    "mse_ARIMA= mean_squared_error(test_data,predictions)\n",
    "rmse_ARIMA=sqrt(mean_squared_error(test_data,predictions))\n",
    "mae_ARIMA=mean_absolute_error(test_data,predictions)\n",
    "print('Mean Squared Error(MSE) of LSTM Model with Tuning:', mse_LSTM)\n",
    "print('Mean Squared Error(MSE) of ARIMA Model', mse_ARIMA)\n",
    "print('')\n",
    "print('Root Mean Squared Error(RMSE) of LSTM Model with Tuning:', rmse_LSTM)\n",
    "print('Root Mean Squared Error(RMSE) of ARIMA Model', rmse_ARIMA)\n",
    "print('')\n",
    "print('Mean Absolute Error(MSE) of LSTM Model with Tuning ', mae_LSTM)\n",
    "print('Mean Absolute Error(MSE) of ARIMA Model', mae_ARIMA)\n",
    "\n"
   ]
  },
  {
   "cell_type": "code",
   "execution_count": 63,
   "metadata": {},
   "outputs": [],
   "source": [
    "#Nickolas Discoll, 2023.  Stock Price Prediction LSTM Hyperparameter Tuning.: https://medium.com/@redeaddiscolll/stock-price-prediction-lstm-hyperparameter-tuning-ad69d409ae29 [Accessed 6 July 2023].\n",
    "#param_grid = {\n",
    "    #'batch_size': [10, 20, 40, 60, 80, 100],\n",
    "    #'epochs': [10, 50, 100],\n",
    "    #'learning_rate': [0.001, 0.01, 0.1]}\n",
    "    #def create_model(learning_rate):\n",
    " # create model\n",
    " #model = Sequential()\n",
    "# model.add(Dense(12, activation='relu',input_shape=(x_training_data.shape[1],)))\n",
    "# model.add(Dense(1, activation='sigmoid'))\n",
    " # Compile model\n",
    "# model.compile(loss='mean_squared_error', optimizer=Adam(learning_rate=learning_rate))\n",
    "# return model\n",
    "#seed = 7\n",
    "#tf.random.set_seed(seed)\n",
    "#regressor=KerasRegressor(build_fn=create_model)\n",
    "#from tensorflow.keras.callbacks import EarlyStopping\n",
    "#grid = GridSearchCV(estimator=regressor, param_grid=param_grid, cv=3)\n",
    "#grid_result = grid.fit(x_training_data, y_training_data,callbacks=[EarlyStopping(patience=50)])\n",
    "\n",
    "#print(\"Best parameters: \", grid_result.best_params_)\n",
    "#print(\"Best score: \", grid_result.best_score_)\n",
    "#print(\"Best: %f using %s\" % (grid_result.best_score_, grid_result.best_params_))\n",
    "#means = grid_result.cv_results_['mean_test_score']\n",
    "#stds = grid_result.cv_results_['std_test_score']\n",
    "#params = grid_result.cv_results_['params']\n",
    "#for mean, stdev, param in zip(means, stds, params):\n",
    "    #print(\"%f (%f) with: %r\" % (mean, stdev, param))\n",
    "    #pip install scikeras"
   ]
  },
  {
   "cell_type": "code",
   "execution_count": null,
   "metadata": {},
   "outputs": [],
   "source": []
  },
  {
   "cell_type": "code",
   "execution_count": null,
   "metadata": {},
   "outputs": [],
   "source": []
  },
  {
   "cell_type": "code",
   "execution_count": null,
   "metadata": {},
   "outputs": [],
   "source": []
  }
 ],
 "metadata": {
  "kernelspec": {
   "display_name": "Python 3",
   "language": "python",
   "name": "python3"
  },
  "language_info": {
   "codemirror_mode": {
    "name": "ipython",
    "version": 3
   },
   "file_extension": ".py",
   "mimetype": "text/x-python",
   "name": "python",
   "nbconvert_exporter": "python",
   "pygments_lexer": "ipython3",
   "version": "3.8.5"
  },
  "toc": {
   "base_numbering": 1,
   "nav_menu": {},
   "number_sections": true,
   "sideBar": true,
   "skip_h1_title": false,
   "title_cell": "Table of Contents",
   "title_sidebar": "Contents",
   "toc_cell": false,
   "toc_position": {},
   "toc_section_display": true,
   "toc_window_display": false
  }
 },
 "nbformat": 4,
 "nbformat_minor": 4
}
