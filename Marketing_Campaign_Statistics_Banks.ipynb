{
 "cells": [
  {
   "cell_type": "markdown",
   "metadata": {},
   "source": [
    "Table of Contents\n",
    "\n",
    "1- About Our Dataset\n",
    "\n",
    "2- Business Problem\n",
    "\n",
    "3- Read In Our Dataset\n",
    "\n",
    "4- First Look At the Data\n",
    "\n",
    "5- Descriptive Stats\n",
    "\n",
    "6- Calculate Probalities\n",
    "\n",
    "7-Binomial Distibution\n",
    "\n",
    "8- Normal Distribution\n",
    "\n",
    "9- Conclusion\n",
    "\n",
    "10- References\n",
    "\n",
    "11- Appendix\n",
    "\n"
   ]
  },
  {
   "cell_type": "code",
   "execution_count": 1,
   "metadata": {},
   "outputs": [
    {
     "name": "stderr",
     "output_type": "stream",
     "text": [
      "C:\\Users\\andrew\\anaconda3\\lib\\site-packages\\pandas\\core\\computation\\expressions.py:20: UserWarning: Pandas requires version '2.7.3' or newer of 'numexpr' (version '2.7.1' currently installed).\n",
      "  from pandas.core.computation.check import NUMEXPR_INSTALLED\n"
     ]
    }
   ],
   "source": [
    "import pandas as pd\n",
    "import numpy as np\n",
    "import matplotlib.pyplot as plt\n",
    "import statistics as st\n",
    "import seaborn as sns\n",
    "from scipy.stats import kurtosis\n",
    "from scipy.stats import iqr\n",
    "import scipy.stats as stats\n",
    "import pylab\n",
    "from scipy.stats import norm\n",
    "from sklearn.neighbors import KernelDensity\n",
    "from scipy.stats import skew\n",
    "from scipy.stats import kurtosis\n",
    "import warnings\n",
    "sns.set_style('whitegrid')\n",
    "warnings.filterwarnings('ignore') # We can suppress the warnings\n",
    "plt.style.use(\"fivethirtyeight\")"
   ]
  },
  {
   "cell_type": "code",
   "execution_count": 2,
   "metadata": {},
   "outputs": [
    {
     "data": {
      "text/html": [
       "<script>\n",
       "\n",
       "code_show=true; \n",
       "\n",
       "function code_toggle() {\n",
       "\n",
       " if (code_show){\n",
       "\n",
       " $('div.input').hide();\n",
       "\n",
       " } else {\n",
       "\n",
       " $('div.input').show();\n",
       "\n",
       " }\n",
       "\n",
       " code_show = !code_show\n",
       "\n",
       "} \n",
       "\n",
       "$( document ).ready(code_toggle);\n",
       "\n",
       "</script>\n",
       "\n",
       "<form action=\"javascript:code_toggle()\"><input type=\"submit\" value=\"Click here to toggle on/off the raw code.\"></form>"
      ],
      "text/plain": [
       "<IPython.core.display.HTML object>"
      ]
     },
     "execution_count": 2,
     "metadata": {},
     "output_type": "execute_result"
    }
   ],
   "source": [
    "from IPython.display import HTML\n",
    "\n",
    "HTML('''<script>\n",
    "\n",
    "code_show=true; \n",
    "\n",
    "function code_toggle() {\n",
    "\n",
    " if (code_show){\n",
    "\n",
    " $('div.input').hide();\n",
    "\n",
    " } else {\n",
    "\n",
    " $('div.input').show();\n",
    "\n",
    " }\n",
    "\n",
    " code_show = !code_show\n",
    "\n",
    "} \n",
    "\n",
    "$( document ).ready(code_toggle);\n",
    "\n",
    "</script>\n",
    "\n",
    "<form action=\"javascript:code_toggle()\"><input type=\"submit\" value=\"Click here to toggle on/off the raw code.\"></form>''')"
   ]
  },
  {
   "cell_type": "code",
   "execution_count": 3,
   "metadata": {},
   "outputs": [],
   "source": [
    "def generate_harvard_citation(author,year,title,url,access_date):\n",
    "    citation= f'{author},{year}.{title}..Available at: {url} [Accesed] {access_date}]'\n",
    "    return citation"
   ]
  },
  {
   "cell_type": "code",
   "execution_count": 4,
   "metadata": {},
   "outputs": [
    {
     "name": "stdout",
     "output_type": "stream",
     "text": [
      "Tony Yiu,2019.Fun with the Binomial Distribution..Available at: https://medium.com/towards-data-science/fun-with-the-binomial-distribution-96a5ecabf65b [Accesed] 7-11-2023]\n"
     ]
    }
   ],
   "source": [
    "# Example usage\n",
    "author = \"Tony Yiu\"\n",
    "year = \"2019\"\n",
    "title ='Fun with the Binomial Distribution'\n",
    "url = \"https://medium.com/towards-data-science/fun-with-the-binomial-distribution-96a5ecabf65b\"\n",
    "access_date = \"7-11-2023\"\n",
    "citation = generate_harvard_citation(author, year, title, url, access_date)\n",
    "print(citation)"
   ]
  },
  {
   "cell_type": "markdown",
   "metadata": {},
   "source": [
    "#  Data Visualisation"
   ]
  },
  {
   "cell_type": "markdown",
   "metadata": {},
   "source": [
    "Data Visualisation Techniques When I was attempting to create the graphs, I made an effort to incorporate some of the Gestalt design concepts, such as the Good Figure, Proximity, Similarity, Continuation, Closure, and Symmetry principles.\n",
    "\n",
    "Additionally, in an effort to focus our audience's attention on the information that was most essential, I made an effort to declutter the graph as much as possible.\n",
    "\n",
    "As humans, we read in a pattern that resembles a z going from left to right. The part of a graph that we see at first in a chart is the top left corner, and we read in a pattern that resembles a z going to the right hand corner. The considerations that went into the design of our graphs are as follows:\n",
    "\n",
    "There were a variety of charts used in our project, but the one that was utilised the most was a bar chart. There were a few explanations for this, including the fact that the nature of the data required the utilisation of these charts. In addition, there are those who believe that bar charts should be avoided because of how common they are; however, I would argue that this is the reason that should be utilised. The simplicity of the chart ensures that our audience will spend less time deciphering it and more time comprehending the data that we would like them to concentrate on.\n",
    "\n",
    "When it comes to directing attention to what we consider to be the most significant parts our data, the most effective weapon at our disposal is colour. The purpose of the project was to make consistent use of colour, and as a result, to make it easier for our audience to interpret the graphs that we created. We have used a variation in colour to call attention to the graphs where we believe it is necessary to call attention to the most significant data points. People who are colour-blind find it most challenging to read in shades of red and green, which accounts for approximately 8% of males and 0.50% of women as a result we have not used shades of red or green."
   ]
  },
  {
   "cell_type": "markdown",
   "metadata": {},
   "source": [
    "# About Our Dataset"
   ]
  },
  {
   "cell_type": "markdown",
   "metadata": {},
   "source": [
    "The data is related with direct marketing campaigns of a Portuguese banking institution.\n",
    "The marketing campaigns were based on phone calls. Often, more than one contact to the same client was required,\n",
    "in order to access if the product (bank term deposit) would be (or not) subscribed.\n",
    "\n",
    "The dataset is make up of 17 features and 4516 attributes.\n",
    "\n",
    "Our  classification goal is to predict if the client will subscribe a term deposit (variable yes).\n",
    "\n",
    "Number of Instances: (4521 for bank.csv)\n",
    "\n",
    "Number of Attributes: 16 + output attribute.\n",
    "\n",
    "Attribute information:\n",
    "\n",
    "For more information, read [Moro et al., 2011].\n",
    "\n",
    "    bank client data:\n",
    "\n",
    "1 - age (numeric)\n",
    "\n",
    "2 - job : type of job (categorical: \"admin.\",\"unknown\",\"unemployed\",\"management\",\"housemaid\",\"entrepreneur\",\"student\",\n",
    "   \"blue-collar\",\"self-employed\",\"retired\",\"technician\",\"services\")\n",
    "   \n",
    "3 - marital : marital status (categorical: \"married\",\"divorced\",\"single\"; note: \"divorced\" means divorced or widowed)\n",
    "\n",
    "4 - education (categorical: \"unknown\",\"secondary\",\"primary\",\"tertiary\")\n",
    "\n",
    "5 - default: has credit in default? (binary: \"yes\",\"no\")\n",
    "6 - balance: average yearly balance, in euros (numeric)\n",
    "\n",
    "7 - housing: has housing loan? (binary: \"yes\",\"no\")\n",
    "\n",
    "8 - loan: has personal loan? (binary: \"yes\",\"no\")\n",
    "\n",
    "9 - contact: contact communication type (categorical: \"unknown\",\"telephone\",\"cellular\")\n",
    "\n",
    "10 - day: last contact day of the month (numeric)\n",
    "\n",
    "11 - month: last contact month of year (categorical: \"jan\", \"feb\", \"mar\", …, \"nov\", \"dec\")\n",
    "\n",
    "12 - duration: last contact duration, in seconds (numeric)\n",
    "\n",
    "\n",
    "13 - campaign: number of contacts performed during this campaign and for this client (numeric, includes last contact)\n",
    "\n",
    "14 - pdays: number of days that passed by after the client was last contacted from a previous campaign (numeric, -1 means\n",
    "     client       was not previously contacted)\n",
    "\n",
    "15 - previous: number of contacts performed before this campaign and for this client (numeric)\n",
    "\n",
    "16 - poutcome: outcome of the previous marketing campaign (categorical: \"unknown\",\"other\",\"failure\",\"success\")\n",
    "\n",
    "\n",
    "17 - y - has the client subscribed a term deposit? (binary: \"yes\",\"no\")\n",
    "\n",
    "[Moro et al., 2011] S. Moro, R. Laureano and P. Cortez. Using Data Mining for Bank Direct Marketing: An Application of the CRISP-DM Methodology."
   ]
  },
  {
   "cell_type": "markdown",
   "metadata": {},
   "source": [
    "# Business Problem"
   ]
  },
  {
   "cell_type": "markdown",
   "metadata": {},
   "source": [
    "A bank is interested in improving its marketing strategies to target potential customers more effectively. \n",
    "They have collected data on previous marketing campaigns, including information about the customers \n",
    "contacted and whether they subscribed to a term deposit or not. The bank aims to gain insights into \n",
    "customer behaviour and the success of their marketing efforts"
   ]
  },
  {
   "cell_type": "markdown",
   "metadata": {},
   "source": [
    "# Read in our Dataset"
   ]
  },
  {
   "cell_type": "code",
   "execution_count": 5,
   "metadata": {},
   "outputs": [],
   "source": [
    "df=pd.read_csv(\"Bank_Mkt_Campaign (1).csv\")"
   ]
  },
  {
   "cell_type": "code",
   "execution_count": 6,
   "metadata": {},
   "outputs": [
    {
     "data": {
      "text/html": [
       "<div>\n",
       "<style scoped>\n",
       "    .dataframe tbody tr th:only-of-type {\n",
       "        vertical-align: middle;\n",
       "    }\n",
       "\n",
       "    .dataframe tbody tr th {\n",
       "        vertical-align: top;\n",
       "    }\n",
       "\n",
       "    .dataframe thead th {\n",
       "        text-align: right;\n",
       "    }\n",
       "</style>\n",
       "<table border=\"1\" class=\"dataframe\">\n",
       "  <thead>\n",
       "    <tr style=\"text-align: right;\">\n",
       "      <th></th>\n",
       "      <th>age</th>\n",
       "      <th>job</th>\n",
       "      <th>marital</th>\n",
       "      <th>education</th>\n",
       "      <th>default</th>\n",
       "      <th>balance</th>\n",
       "      <th>housing</th>\n",
       "      <th>loan</th>\n",
       "      <th>contact</th>\n",
       "      <th>day</th>\n",
       "      <th>month</th>\n",
       "      <th>duration</th>\n",
       "      <th>campaign</th>\n",
       "      <th>pdays</th>\n",
       "      <th>previous</th>\n",
       "      <th>poutcome</th>\n",
       "      <th>y</th>\n",
       "    </tr>\n",
       "  </thead>\n",
       "  <tbody>\n",
       "    <tr>\n",
       "      <th>0</th>\n",
       "      <td>30</td>\n",
       "      <td>unemployed</td>\n",
       "      <td>married</td>\n",
       "      <td>primary</td>\n",
       "      <td>no</td>\n",
       "      <td>1787</td>\n",
       "      <td>no</td>\n",
       "      <td>no</td>\n",
       "      <td>cellular</td>\n",
       "      <td>19</td>\n",
       "      <td>oct</td>\n",
       "      <td>79</td>\n",
       "      <td>1</td>\n",
       "      <td>-1</td>\n",
       "      <td>0</td>\n",
       "      <td>unknown</td>\n",
       "      <td>no</td>\n",
       "    </tr>\n",
       "    <tr>\n",
       "      <th>1</th>\n",
       "      <td>33</td>\n",
       "      <td>services</td>\n",
       "      <td>married</td>\n",
       "      <td>secondary</td>\n",
       "      <td>no</td>\n",
       "      <td>4789</td>\n",
       "      <td>yes</td>\n",
       "      <td>yes</td>\n",
       "      <td>cellular</td>\n",
       "      <td>11</td>\n",
       "      <td>may</td>\n",
       "      <td>220</td>\n",
       "      <td>1</td>\n",
       "      <td>339</td>\n",
       "      <td>4</td>\n",
       "      <td>failure</td>\n",
       "      <td>no</td>\n",
       "    </tr>\n",
       "    <tr>\n",
       "      <th>2</th>\n",
       "      <td>35</td>\n",
       "      <td>management</td>\n",
       "      <td>single</td>\n",
       "      <td>tertiary</td>\n",
       "      <td>no</td>\n",
       "      <td>1350</td>\n",
       "      <td>yes</td>\n",
       "      <td>no</td>\n",
       "      <td>cellular</td>\n",
       "      <td>16</td>\n",
       "      <td>apr</td>\n",
       "      <td>185</td>\n",
       "      <td>1</td>\n",
       "      <td>330</td>\n",
       "      <td>1</td>\n",
       "      <td>failure</td>\n",
       "      <td>no</td>\n",
       "    </tr>\n",
       "    <tr>\n",
       "      <th>3</th>\n",
       "      <td>30</td>\n",
       "      <td>management</td>\n",
       "      <td>married</td>\n",
       "      <td>tertiary</td>\n",
       "      <td>no</td>\n",
       "      <td>1476</td>\n",
       "      <td>yes</td>\n",
       "      <td>yes</td>\n",
       "      <td>unknown</td>\n",
       "      <td>3</td>\n",
       "      <td>jun</td>\n",
       "      <td>199</td>\n",
       "      <td>4</td>\n",
       "      <td>-1</td>\n",
       "      <td>0</td>\n",
       "      <td>unknown</td>\n",
       "      <td>no</td>\n",
       "    </tr>\n",
       "    <tr>\n",
       "      <th>4</th>\n",
       "      <td>59</td>\n",
       "      <td>blue-collar</td>\n",
       "      <td>married</td>\n",
       "      <td>secondary</td>\n",
       "      <td>no</td>\n",
       "      <td>0</td>\n",
       "      <td>yes</td>\n",
       "      <td>no</td>\n",
       "      <td>unknown</td>\n",
       "      <td>5</td>\n",
       "      <td>may</td>\n",
       "      <td>226</td>\n",
       "      <td>1</td>\n",
       "      <td>-1</td>\n",
       "      <td>0</td>\n",
       "      <td>unknown</td>\n",
       "      <td>no</td>\n",
       "    </tr>\n",
       "    <tr>\n",
       "      <th>...</th>\n",
       "      <td>...</td>\n",
       "      <td>...</td>\n",
       "      <td>...</td>\n",
       "      <td>...</td>\n",
       "      <td>...</td>\n",
       "      <td>...</td>\n",
       "      <td>...</td>\n",
       "      <td>...</td>\n",
       "      <td>...</td>\n",
       "      <td>...</td>\n",
       "      <td>...</td>\n",
       "      <td>...</td>\n",
       "      <td>...</td>\n",
       "      <td>...</td>\n",
       "      <td>...</td>\n",
       "      <td>...</td>\n",
       "      <td>...</td>\n",
       "    </tr>\n",
       "    <tr>\n",
       "      <th>4511</th>\n",
       "      <td>46</td>\n",
       "      <td>blue-collar</td>\n",
       "      <td>married</td>\n",
       "      <td>secondary</td>\n",
       "      <td>no</td>\n",
       "      <td>668</td>\n",
       "      <td>yes</td>\n",
       "      <td>no</td>\n",
       "      <td>unknown</td>\n",
       "      <td>15</td>\n",
       "      <td>may</td>\n",
       "      <td>1263</td>\n",
       "      <td>2</td>\n",
       "      <td>-1</td>\n",
       "      <td>0</td>\n",
       "      <td>unknown</td>\n",
       "      <td>yes</td>\n",
       "    </tr>\n",
       "    <tr>\n",
       "      <th>4512</th>\n",
       "      <td>40</td>\n",
       "      <td>blue-collar</td>\n",
       "      <td>married</td>\n",
       "      <td>secondary</td>\n",
       "      <td>no</td>\n",
       "      <td>1100</td>\n",
       "      <td>yes</td>\n",
       "      <td>no</td>\n",
       "      <td>unknown</td>\n",
       "      <td>29</td>\n",
       "      <td>may</td>\n",
       "      <td>660</td>\n",
       "      <td>2</td>\n",
       "      <td>-1</td>\n",
       "      <td>0</td>\n",
       "      <td>unknown</td>\n",
       "      <td>no</td>\n",
       "    </tr>\n",
       "    <tr>\n",
       "      <th>4513</th>\n",
       "      <td>49</td>\n",
       "      <td>blue-collar</td>\n",
       "      <td>married</td>\n",
       "      <td>secondary</td>\n",
       "      <td>no</td>\n",
       "      <td>322</td>\n",
       "      <td>no</td>\n",
       "      <td>no</td>\n",
       "      <td>cellular</td>\n",
       "      <td>14</td>\n",
       "      <td>aug</td>\n",
       "      <td>356</td>\n",
       "      <td>2</td>\n",
       "      <td>-1</td>\n",
       "      <td>0</td>\n",
       "      <td>unknown</td>\n",
       "      <td>no</td>\n",
       "    </tr>\n",
       "    <tr>\n",
       "      <th>4514</th>\n",
       "      <td>38</td>\n",
       "      <td>blue-collar</td>\n",
       "      <td>married</td>\n",
       "      <td>secondary</td>\n",
       "      <td>no</td>\n",
       "      <td>1205</td>\n",
       "      <td>yes</td>\n",
       "      <td>no</td>\n",
       "      <td>cellular</td>\n",
       "      <td>20</td>\n",
       "      <td>apr</td>\n",
       "      <td>45</td>\n",
       "      <td>4</td>\n",
       "      <td>153</td>\n",
       "      <td>1</td>\n",
       "      <td>failure</td>\n",
       "      <td>no</td>\n",
       "    </tr>\n",
       "    <tr>\n",
       "      <th>4515</th>\n",
       "      <td>32</td>\n",
       "      <td>services</td>\n",
       "      <td>single</td>\n",
       "      <td>secondary</td>\n",
       "      <td>no</td>\n",
       "      <td>473</td>\n",
       "      <td>yes</td>\n",
       "      <td>no</td>\n",
       "      <td>cellular</td>\n",
       "      <td>7</td>\n",
       "      <td>jul</td>\n",
       "      <td>624</td>\n",
       "      <td>5</td>\n",
       "      <td>-1</td>\n",
       "      <td>0</td>\n",
       "      <td>unknown</td>\n",
       "      <td>no</td>\n",
       "    </tr>\n",
       "  </tbody>\n",
       "</table>\n",
       "<p>4516 rows × 17 columns</p>\n",
       "</div>"
      ],
      "text/plain": [
       "      age          job  marital  education default  balance housing loan  \\\n",
       "0      30   unemployed  married    primary      no     1787      no   no   \n",
       "1      33     services  married  secondary      no     4789     yes  yes   \n",
       "2      35   management   single   tertiary      no     1350     yes   no   \n",
       "3      30   management  married   tertiary      no     1476     yes  yes   \n",
       "4      59  blue-collar  married  secondary      no        0     yes   no   \n",
       "...   ...          ...      ...        ...     ...      ...     ...  ...   \n",
       "4511   46  blue-collar  married  secondary      no      668     yes   no   \n",
       "4512   40  blue-collar  married  secondary      no     1100     yes   no   \n",
       "4513   49  blue-collar  married  secondary      no      322      no   no   \n",
       "4514   38  blue-collar  married  secondary      no     1205     yes   no   \n",
       "4515   32     services   single  secondary      no      473     yes   no   \n",
       "\n",
       "       contact  day month  duration  campaign  pdays  previous poutcome    y  \n",
       "0     cellular   19   oct        79         1     -1         0  unknown   no  \n",
       "1     cellular   11   may       220         1    339         4  failure   no  \n",
       "2     cellular   16   apr       185         1    330         1  failure   no  \n",
       "3      unknown    3   jun       199         4     -1         0  unknown   no  \n",
       "4      unknown    5   may       226         1     -1         0  unknown   no  \n",
       "...        ...  ...   ...       ...       ...    ...       ...      ...  ...  \n",
       "4511   unknown   15   may      1263         2     -1         0  unknown  yes  \n",
       "4512   unknown   29   may       660         2     -1         0  unknown   no  \n",
       "4513  cellular   14   aug       356         2     -1         0  unknown   no  \n",
       "4514  cellular   20   apr        45         4    153         1  failure   no  \n",
       "4515  cellular    7   jul       624         5     -1         0  unknown   no  \n",
       "\n",
       "[4516 rows x 17 columns]"
      ]
     },
     "execution_count": 6,
     "metadata": {},
     "output_type": "execute_result"
    }
   ],
   "source": [
    "df.head(-5)"
   ]
  },
  {
   "cell_type": "markdown",
   "metadata": {},
   "source": [
    "# First Look at the Data"
   ]
  },
  {
   "cell_type": "code",
   "execution_count": 7,
   "metadata": {},
   "outputs": [
    {
     "data": {
      "text/plain": [
       "<function matplotlib.pyplot.show(close=None, block=None)>"
      ]
     },
     "execution_count": 7,
     "metadata": {},
     "output_type": "execute_result"
    },
    {
     "data": {
      "image/png": "[encoded data removed]",
      "text/plain": [
       "<Figure size 432x288 with 1 Axes>"
      ]
     },
     "metadata": {},
     "output_type": "display_data"
    }
   ],
   "source": [
    "df['y'].value_counts().plot.pie(explode=[0,0.1], autopct = \"%1.1f%%\", shadow = True)\n",
    "\n",
    "plt.title(\"Outcome of the Previous Marketing Campaign\")\n",
    "plt.ylabel(\"\")\n",
    "plt.show"
   ]
  },
  {
   "cell_type": "code",
   "execution_count": 8,
   "metadata": {
    "scrolled": true
   },
   "outputs": [
    {
     "data": {
      "image/png": "[encoded data removed]",
      "text/plain": [
       "<Figure size 432x288 with 1 Axes>"
      ]
     },
     "metadata": {},
     "output_type": "display_data"
    }
   ],
   "source": [
    "sns.countplot(\"y\",data=df)\n",
    "plt.title('Outcome of the Previous Marketing Campaign')\n",
    "\n",
    "plt.show()"
   ]
  },
  {
   "cell_type": "code",
   "execution_count": 9,
   "metadata": {},
   "outputs": [
    {
     "name": "stdout",
     "output_type": "stream",
     "text": [
      "The Conversion Rate from the previous marketing campaign is: 11.52%\n"
     ]
    }
   ],
   "source": [
    "total_signed_up=len(df[df['y']=='yes'])\n",
    "total_contacts=len(df)\n",
    "Conversion_rate=(total_signed_up/total_contacts)*100\n",
    "print(\"The Conversion Rate from the previous marketing campaign is: {:.2f}%\".format(Conversion_rate))"
   ]
  },
  {
   "cell_type": "code",
   "execution_count": 10,
   "metadata": {},
   "outputs": [
    {
     "data": {
      "text/html": [
       "<div>\n",
       "<style scoped>\n",
       "    .dataframe tbody tr th:only-of-type {\n",
       "        vertical-align: middle;\n",
       "    }\n",
       "\n",
       "    .dataframe tbody tr th {\n",
       "        vertical-align: top;\n",
       "    }\n",
       "\n",
       "    .dataframe thead th {\n",
       "        text-align: right;\n",
       "    }\n",
       "</style>\n",
       "<table border=\"1\" class=\"dataframe\">\n",
       "  <thead>\n",
       "    <tr style=\"text-align: right;\">\n",
       "      <th></th>\n",
       "      <th>age</th>\n",
       "      <th>job</th>\n",
       "      <th>marital</th>\n",
       "      <th>education</th>\n",
       "      <th>default</th>\n",
       "      <th>balance</th>\n",
       "      <th>housing</th>\n",
       "      <th>loan</th>\n",
       "      <th>contact</th>\n",
       "      <th>day</th>\n",
       "      <th>month</th>\n",
       "      <th>duration</th>\n",
       "      <th>campaign</th>\n",
       "      <th>pdays</th>\n",
       "      <th>previous</th>\n",
       "      <th>poutcome</th>\n",
       "      <th>y</th>\n",
       "    </tr>\n",
       "  </thead>\n",
       "  <tbody>\n",
       "    <tr>\n",
       "      <th>0</th>\n",
       "      <td>30</td>\n",
       "      <td>unemployed</td>\n",
       "      <td>married</td>\n",
       "      <td>primary</td>\n",
       "      <td>no</td>\n",
       "      <td>1787</td>\n",
       "      <td>no</td>\n",
       "      <td>no</td>\n",
       "      <td>cellular</td>\n",
       "      <td>19</td>\n",
       "      <td>oct</td>\n",
       "      <td>79</td>\n",
       "      <td>1</td>\n",
       "      <td>-1</td>\n",
       "      <td>0</td>\n",
       "      <td>unknown</td>\n",
       "      <td>no</td>\n",
       "    </tr>\n",
       "  </tbody>\n",
       "</table>\n",
       "</div>"
      ],
      "text/plain": [
       "   age         job  marital education default  balance housing loan   contact  \\\n",
       "0   30  unemployed  married   primary      no     1787      no   no  cellular   \n",
       "\n",
       "   day month  duration  campaign  pdays  previous poutcome   y  \n",
       "0   19   oct        79         1     -1         0  unknown  no  "
      ]
     },
     "execution_count": 10,
     "metadata": {},
     "output_type": "execute_result"
    }
   ],
   "source": [
    "df.head(1)"
   ]
  },
  {
   "cell_type": "markdown",
   "metadata": {},
   "source": [
    "Observation - We can see from the previous campaign there was 11.5% success rate. We can consider these percentages as our observed probabilities. We can use these percentages as a benchmark for any new marketing campaign we propose.\n",
    "\n",
    "To test our conclusion we will use hypothesis testing, we can use our observed probabilities as our null hypothesis(H0) and test against an alternative hypothesis(Ha) to determine if there is a significant difference in a new marketing campaign.\n",
    "\n",
    "We can use statistical tests such as chi-squared tests or Z- tests to assess the significance of the differences and draw conclusions about the effectiveness of a new marketing campaign."
   ]
  },
  {
   "cell_type": "markdown",
   "metadata": {},
   "source": [
    "Why use Statistics for our Business Problem Our dataset is a collection of facts. It can be consideres a raw form of knowledge. Within our dataset we have two forms of data qualitative(ordinal & nominal) & quantitative( discrete & categorical) We gain information by analysing & interpreting the data within our data. Data analysis allows us to conduct research and process the results effectively. We also find the pattern and relationships within the data to make correct predictions this allows to apply statistical methods to build machine learning models\n",
    "\n",
    "unknown,unknown.Mathematics - Statistics & Probability mastery for Data Science, Machine Learning..Available at: https://www.udemy.com/course/statistics-probability-for-data-science/learn/lecture/35290462#overview [Accesed] 1-11-2023]"
   ]
  },
  {
   "cell_type": "markdown",
   "metadata": {},
   "source": [
    "# Descriptive Stats"
   ]
  },
  {
   "cell_type": "markdown",
   "metadata": {},
   "source": [
    "In Descriptive stats we identify  Measures of central tendency mean,median & mode. they are important as they give a concise summary of our data in one value, this can help us in data interpreation,comparison,estimation,inference,modeling,decision making,communicaation, & outlier detection.\n",
    "\n",
    "We also use measures of dispersion to calulate the variability of our data, this can help understand how far they are away from the central value.\n",
    "\n",
    "we also use measures od position such as quartiles and percentiles to measure the location od oor data value helping us understand the distributon of the data."
   ]
  },
  {
   "cell_type": "code",
   "execution_count": 11,
   "metadata": {},
   "outputs": [
    {
     "data": {
      "text/plain": [
       "(4521, 17)"
      ]
     },
     "execution_count": 11,
     "metadata": {},
     "output_type": "execute_result"
    }
   ],
   "source": [
    "df.shape"
   ]
  },
  {
   "cell_type": "code",
   "execution_count": 12,
   "metadata": {},
   "outputs": [
    {
     "name": "stdout",
     "output_type": "stream",
     "text": [
      "<class 'pandas.core.frame.DataFrame'>\n",
      "RangeIndex: 4521 entries, 0 to 4520\n",
      "Data columns (total 17 columns):\n",
      " #   Column     Non-Null Count  Dtype \n",
      "---  ------     --------------  ----- \n",
      " 0   age        4521 non-null   int64 \n",
      " 1   job        4521 non-null   object\n",
      " 2   marital    4521 non-null   object\n",
      " 3   education  4521 non-null   object\n",
      " 4   default    4521 non-null   object\n",
      " 5   balance    4521 non-null   int64 \n",
      " 6   housing    4521 non-null   object\n",
      " 7   loan       4521 non-null   object\n",
      " 8   contact    4521 non-null   object\n",
      " 9   day        4521 non-null   int64 \n",
      " 10  month      4521 non-null   object\n",
      " 11  duration   4521 non-null   int64 \n",
      " 12  campaign   4521 non-null   int64 \n",
      " 13  pdays      4521 non-null   int64 \n",
      " 14  previous   4521 non-null   int64 \n",
      " 15  poutcome   4521 non-null   object\n",
      " 16  y          4521 non-null   object\n",
      "dtypes: int64(7), object(10)\n",
      "memory usage: 600.6+ KB\n"
     ]
    }
   ],
   "source": [
    "df.info()"
   ]
  },
  {
   "cell_type": "code",
   "execution_count": 13,
   "metadata": {},
   "outputs": [
    {
     "data": {
      "text/plain": [
       "age          0\n",
       "job          0\n",
       "marital      0\n",
       "education    0\n",
       "default      0\n",
       "balance      0\n",
       "housing      0\n",
       "loan         0\n",
       "contact      0\n",
       "day          0\n",
       "month        0\n",
       "duration     0\n",
       "campaign     0\n",
       "pdays        0\n",
       "previous     0\n",
       "poutcome     0\n",
       "y            0\n",
       "dtype: int64"
      ]
     },
     "execution_count": 13,
     "metadata": {},
     "output_type": "execute_result"
    }
   ],
   "source": [
    "df.isnull().sum()"
   ]
  },
  {
   "cell_type": "code",
   "execution_count": 14,
   "metadata": {},
   "outputs": [
    {
     "data": {
      "text/html": [
       "<div>\n",
       "<style scoped>\n",
       "    .dataframe tbody tr th:only-of-type {\n",
       "        vertical-align: middle;\n",
       "    }\n",
       "\n",
       "    .dataframe tbody tr th {\n",
       "        vertical-align: top;\n",
       "    }\n",
       "\n",
       "    .dataframe thead th {\n",
       "        text-align: right;\n",
       "    }\n",
       "</style>\n",
       "<table border=\"1\" class=\"dataframe\">\n",
       "  <thead>\n",
       "    <tr style=\"text-align: right;\">\n",
       "      <th></th>\n",
       "      <th>age</th>\n",
       "      <th>balance</th>\n",
       "      <th>day</th>\n",
       "      <th>duration</th>\n",
       "      <th>campaign</th>\n",
       "      <th>pdays</th>\n",
       "      <th>previous</th>\n",
       "    </tr>\n",
       "  </thead>\n",
       "  <tbody>\n",
       "    <tr>\n",
       "      <th>count</th>\n",
       "      <td>4521.000000</td>\n",
       "      <td>4521.000000</td>\n",
       "      <td>4521.000000</td>\n",
       "      <td>4521.000000</td>\n",
       "      <td>4521.000000</td>\n",
       "      <td>4521.000000</td>\n",
       "      <td>4521.000000</td>\n",
       "    </tr>\n",
       "    <tr>\n",
       "      <th>mean</th>\n",
       "      <td>41.170095</td>\n",
       "      <td>1422.657819</td>\n",
       "      <td>15.915284</td>\n",
       "      <td>263.961292</td>\n",
       "      <td>2.793630</td>\n",
       "      <td>39.766645</td>\n",
       "      <td>0.542579</td>\n",
       "    </tr>\n",
       "    <tr>\n",
       "      <th>std</th>\n",
       "      <td>10.576211</td>\n",
       "      <td>3009.638142</td>\n",
       "      <td>8.247667</td>\n",
       "      <td>259.856633</td>\n",
       "      <td>3.109807</td>\n",
       "      <td>100.121124</td>\n",
       "      <td>1.693562</td>\n",
       "    </tr>\n",
       "    <tr>\n",
       "      <th>min</th>\n",
       "      <td>19.000000</td>\n",
       "      <td>-3313.000000</td>\n",
       "      <td>1.000000</td>\n",
       "      <td>4.000000</td>\n",
       "      <td>1.000000</td>\n",
       "      <td>-1.000000</td>\n",
       "      <td>0.000000</td>\n",
       "    </tr>\n",
       "    <tr>\n",
       "      <th>25%</th>\n",
       "      <td>33.000000</td>\n",
       "      <td>69.000000</td>\n",
       "      <td>9.000000</td>\n",
       "      <td>104.000000</td>\n",
       "      <td>1.000000</td>\n",
       "      <td>-1.000000</td>\n",
       "      <td>0.000000</td>\n",
       "    </tr>\n",
       "    <tr>\n",
       "      <th>50%</th>\n",
       "      <td>39.000000</td>\n",
       "      <td>444.000000</td>\n",
       "      <td>16.000000</td>\n",
       "      <td>185.000000</td>\n",
       "      <td>2.000000</td>\n",
       "      <td>-1.000000</td>\n",
       "      <td>0.000000</td>\n",
       "    </tr>\n",
       "    <tr>\n",
       "      <th>75%</th>\n",
       "      <td>49.000000</td>\n",
       "      <td>1480.000000</td>\n",
       "      <td>21.000000</td>\n",
       "      <td>329.000000</td>\n",
       "      <td>3.000000</td>\n",
       "      <td>-1.000000</td>\n",
       "      <td>0.000000</td>\n",
       "    </tr>\n",
       "    <tr>\n",
       "      <th>max</th>\n",
       "      <td>87.000000</td>\n",
       "      <td>71188.000000</td>\n",
       "      <td>31.000000</td>\n",
       "      <td>3025.000000</td>\n",
       "      <td>50.000000</td>\n",
       "      <td>871.000000</td>\n",
       "      <td>25.000000</td>\n",
       "    </tr>\n",
       "  </tbody>\n",
       "</table>\n",
       "</div>"
      ],
      "text/plain": [
       "               age       balance          day     duration     campaign  \\\n",
       "count  4521.000000   4521.000000  4521.000000  4521.000000  4521.000000   \n",
       "mean     41.170095   1422.657819    15.915284   263.961292     2.793630   \n",
       "std      10.576211   3009.638142     8.247667   259.856633     3.109807   \n",
       "min      19.000000  -3313.000000     1.000000     4.000000     1.000000   \n",
       "25%      33.000000     69.000000     9.000000   104.000000     1.000000   \n",
       "50%      39.000000    444.000000    16.000000   185.000000     2.000000   \n",
       "75%      49.000000   1480.000000    21.000000   329.000000     3.000000   \n",
       "max      87.000000  71188.000000    31.000000  3025.000000    50.000000   \n",
       "\n",
       "             pdays     previous  \n",
       "count  4521.000000  4521.000000  \n",
       "mean     39.766645     0.542579  \n",
       "std     100.121124     1.693562  \n",
       "min      -1.000000     0.000000  \n",
       "25%      -1.000000     0.000000  \n",
       "50%      -1.000000     0.000000  \n",
       "75%      -1.000000     0.000000  \n",
       "max     871.000000    25.000000  "
      ]
     },
     "execution_count": 14,
     "metadata": {},
     "output_type": "execute_result"
    }
   ],
   "source": [
    "df.describe()"
   ]
  },
  {
   "cell_type": "markdown",
   "metadata": {},
   "source": [
    "Observation- We can get an initial feel for our data. We can that some of our columns may be skewed and have outliers by observing our descriptive stats such as mean median std etc"
   ]
  },
  {
   "cell_type": "code",
   "execution_count": 15,
   "metadata": {},
   "outputs": [
    {
     "data": {
      "text/html": [
       "<div>\n",
       "<style scoped>\n",
       "    .dataframe tbody tr th:only-of-type {\n",
       "        vertical-align: middle;\n",
       "    }\n",
       "\n",
       "    .dataframe tbody tr th {\n",
       "        vertical-align: top;\n",
       "    }\n",
       "\n",
       "    .dataframe thead th {\n",
       "        text-align: right;\n",
       "    }\n",
       "</style>\n",
       "<table border=\"1\" class=\"dataframe\">\n",
       "  <thead>\n",
       "    <tr style=\"text-align: right;\">\n",
       "      <th></th>\n",
       "      <th>job</th>\n",
       "      <th>marital</th>\n",
       "      <th>education</th>\n",
       "      <th>default</th>\n",
       "      <th>housing</th>\n",
       "      <th>loan</th>\n",
       "      <th>contact</th>\n",
       "      <th>month</th>\n",
       "      <th>poutcome</th>\n",
       "      <th>y</th>\n",
       "    </tr>\n",
       "  </thead>\n",
       "  <tbody>\n",
       "    <tr>\n",
       "      <th>count</th>\n",
       "      <td>4521</td>\n",
       "      <td>4521</td>\n",
       "      <td>4521</td>\n",
       "      <td>4521</td>\n",
       "      <td>4521</td>\n",
       "      <td>4521</td>\n",
       "      <td>4521</td>\n",
       "      <td>4521</td>\n",
       "      <td>4521</td>\n",
       "      <td>4521</td>\n",
       "    </tr>\n",
       "    <tr>\n",
       "      <th>unique</th>\n",
       "      <td>12</td>\n",
       "      <td>3</td>\n",
       "      <td>4</td>\n",
       "      <td>2</td>\n",
       "      <td>2</td>\n",
       "      <td>2</td>\n",
       "      <td>3</td>\n",
       "      <td>12</td>\n",
       "      <td>4</td>\n",
       "      <td>2</td>\n",
       "    </tr>\n",
       "    <tr>\n",
       "      <th>top</th>\n",
       "      <td>management</td>\n",
       "      <td>married</td>\n",
       "      <td>secondary</td>\n",
       "      <td>no</td>\n",
       "      <td>yes</td>\n",
       "      <td>no</td>\n",
       "      <td>cellular</td>\n",
       "      <td>may</td>\n",
       "      <td>unknown</td>\n",
       "      <td>no</td>\n",
       "    </tr>\n",
       "    <tr>\n",
       "      <th>freq</th>\n",
       "      <td>969</td>\n",
       "      <td>2797</td>\n",
       "      <td>2306</td>\n",
       "      <td>4445</td>\n",
       "      <td>2559</td>\n",
       "      <td>3830</td>\n",
       "      <td>2896</td>\n",
       "      <td>1398</td>\n",
       "      <td>3705</td>\n",
       "      <td>4000</td>\n",
       "    </tr>\n",
       "  </tbody>\n",
       "</table>\n",
       "</div>"
      ],
      "text/plain": [
       "               job  marital  education default housing  loan   contact month  \\\n",
       "count         4521     4521       4521    4521    4521  4521      4521  4521   \n",
       "unique          12        3          4       2       2     2         3    12   \n",
       "top     management  married  secondary      no     yes    no  cellular   may   \n",
       "freq           969     2797       2306    4445    2559  3830      2896  1398   \n",
       "\n",
       "       poutcome     y  \n",
       "count      4521  4521  \n",
       "unique        4     2  \n",
       "top     unknown    no  \n",
       "freq       3705  4000  "
      ]
     },
     "execution_count": 15,
     "metadata": {},
     "output_type": "execute_result"
    }
   ],
   "source": [
    "df.describe(include='object')"
   ]
  },
  {
   "cell_type": "markdown",
   "metadata": {},
   "source": [
    "Observation - we can observe that we 13 features and 4521 attributes, we have no missing values. we have 8 object columns(strings) & 4 int64 columns(numerical). We can also state we have a sample size of 4521"
   ]
  },
  {
   "cell_type": "code",
   "execution_count": 16,
   "metadata": {},
   "outputs": [],
   "source": [
    "df_num=df.select_dtypes(include=['number'])\n",
    "df_cat=df.select_dtypes(include=['object'])"
   ]
  },
  {
   "cell_type": "code",
   "execution_count": 17,
   "metadata": {},
   "outputs": [
    {
     "data": {
      "text/plain": [
       "age           41.170095\n",
       "balance     1422.657819\n",
       "duration     263.961292\n",
       "campaign       2.793630\n",
       "previous       0.542579\n",
       "dtype: float64"
      ]
     },
     "execution_count": 17,
     "metadata": {},
     "output_type": "execute_result"
    }
   ],
   "source": [
    "df_num[['age', 'balance', 'duration', 'campaign', 'previous']].mean()"
   ]
  },
  {
   "cell_type": "markdown",
   "metadata": {},
   "source": [
    "Observation - The mean is the average of our dataset. however the mean is not robust to outliers as all the values are include in the metric. we can observe this with the balance column where outliers could distort the mean figure."
   ]
  },
  {
   "cell_type": "code",
   "execution_count": 18,
   "metadata": {},
   "outputs": [
    {
     "data": {
      "text/plain": [
       "age          39.0\n",
       "balance     444.0\n",
       "duration    185.0\n",
       "campaign      2.0\n",
       "previous      0.0\n",
       "dtype: float64"
      ]
     },
     "execution_count": 18,
     "metadata": {},
     "output_type": "execute_result"
    }
   ],
   "source": [
    "df_num[['age', 'balance',  'duration', 'campaign', 'previous']].median()"
   ]
  },
  {
   "cell_type": "markdown",
   "metadata": {},
   "source": [
    "Observation - We can observe that there is outliers in our balance & duration columns. On this basis we will us median as it is a more accurate measure of the centre of our data."
   ]
  },
  {
   "cell_type": "code",
   "execution_count": 19,
   "metadata": {},
   "outputs": [
    {
     "data": {
      "text/plain": [
       "Index(['job', 'marital', 'education', 'default', 'housing', 'loan', 'contact',\n",
       "       'month', 'poutcome', 'y'],\n",
       "      dtype='object')"
      ]
     },
     "execution_count": 19,
     "metadata": {},
     "output_type": "execute_result"
    }
   ],
   "source": [
    "df_cat.columns"
   ]
  },
  {
   "cell_type": "code",
   "execution_count": 20,
   "metadata": {},
   "outputs": [
    {
     "data": {
      "text/html": [
       "<div>\n",
       "<style scoped>\n",
       "    .dataframe tbody tr th:only-of-type {\n",
       "        vertical-align: middle;\n",
       "    }\n",
       "\n",
       "    .dataframe tbody tr th {\n",
       "        vertical-align: top;\n",
       "    }\n",
       "\n",
       "    .dataframe thead th {\n",
       "        text-align: right;\n",
       "    }\n",
       "</style>\n",
       "<table border=\"1\" class=\"dataframe\">\n",
       "  <thead>\n",
       "    <tr style=\"text-align: right;\">\n",
       "      <th></th>\n",
       "      <th>job</th>\n",
       "      <th>marital</th>\n",
       "      <th>education</th>\n",
       "      <th>default</th>\n",
       "      <th>housing</th>\n",
       "      <th>loan</th>\n",
       "      <th>month</th>\n",
       "      <th>y</th>\n",
       "    </tr>\n",
       "  </thead>\n",
       "  <tbody>\n",
       "    <tr>\n",
       "      <th>0</th>\n",
       "      <td>management</td>\n",
       "      <td>married</td>\n",
       "      <td>secondary</td>\n",
       "      <td>no</td>\n",
       "      <td>yes</td>\n",
       "      <td>no</td>\n",
       "      <td>may</td>\n",
       "      <td>no</td>\n",
       "    </tr>\n",
       "  </tbody>\n",
       "</table>\n",
       "</div>"
      ],
      "text/plain": [
       "          job  marital  education default housing loan month   y\n",
       "0  management  married  secondary      no     yes   no   may  no"
      ]
     },
     "execution_count": 20,
     "metadata": {},
     "output_type": "execute_result"
    }
   ],
   "source": [
    "df_cat[['job', 'marital',  'education', 'default',  'housing','loan','month','y']].mode()"
   ]
  },
  {
   "cell_type": "markdown",
   "metadata": {},
   "source": [
    "Observation- we use the mode on our categorical data to get the most common categories in our data.What is interesting here is that the most common job is classed as management however the most common of educational attainment is secondary school."
   ]
  },
  {
   "cell_type": "code",
   "execution_count": 21,
   "metadata": {},
   "outputs": [
    {
     "name": "stdout",
     "output_type": "stream",
     "text": [
      "          Min Value is  Max value is  Range value is\n",
      "age                 19            87              68\n",
      "balance          -3313         71188           74501\n",
      "duration             4          3025            3021\n",
      "campaign             1            50              49\n",
      "previous             0            25              25\n"
     ]
    }
   ],
   "source": [
    "selected_cols= ['age', 'balance', 'duration', 'campaign', 'previous']\n",
    "\n",
    "min_values=df[selected_cols].min()# Calculate the minimum & maximum values for our columns\n",
    "max_values=df[selected_cols].max()\n",
    "\n",
    "col_ranges= max_values - min_values # Calculate the range for our selected columns\n",
    "\n",
    "# Create a dataframe to display our results\n",
    "result_df=pd.DataFrame({'Min Value is' : min_values,'Max value is':max_values, 'Range value is': col_ranges})\n",
    "\n",
    "print(result_df)"
   ]
  },
  {
   "cell_type": "code",
   "execution_count": 22,
   "metadata": {},
   "outputs": [
    {
     "data": {
      "text/plain": [
       "age           10.576211\n",
       "balance     3009.638142\n",
       "duration     259.856633\n",
       "campaign       3.109807\n",
       "previous       1.693562\n",
       "dtype: float64"
      ]
     },
     "execution_count": 22,
     "metadata": {},
     "output_type": "execute_result"
    }
   ],
   "source": [
    "df_num[['age', 'balance',  'duration', 'campaign',  'previous']].std()"
   ]
  },
  {
   "cell_type": "code",
   "execution_count": 23,
   "metadata": {},
   "outputs": [
    {
     "data": {
      "text/plain": [
       "age         1.118562e+02\n",
       "balance     9.057922e+06\n",
       "duration    6.752547e+04\n",
       "campaign    9.670897e+00\n",
       "previous    2.868153e+00\n",
       "dtype: float64"
      ]
     },
     "execution_count": 23,
     "metadata": {},
     "output_type": "execute_result"
    }
   ],
   "source": [
    "df_num[['age', 'balance',  'duration', 'campaign', 'previous']].var()"
   ]
  },
  {
   "cell_type": "markdown",
   "metadata": {},
   "source": [
    "The above measurements are fundamental for data profiling, quality assessment and initial data exploration. These measurments help us make decisions about data analysis and visualizations, helpin us derive meaningful insights from our data. We can observe that our balance and duration will need further investigaation as they contain outliers. This will skew our data and not help us to make accurate predictions "
   ]
  },
  {
   "cell_type": "code",
   "execution_count": 24,
   "metadata": {},
   "outputs": [
    {
     "name": "stdout",
     "output_type": "stream",
     "text": [
      "  Column Name  Pearsons Kurtosis\n",
      "0         age           0.347063\n",
      "1     balance          88.291280\n",
      "2    duration          12.514870\n",
      "3    campaign          37.126499\n",
      "4    previous          51.936398\n"
     ]
    }
   ],
   "source": [
    "from scipy.stats import kurtosis\n",
    "selected_cols= ['age', 'balance',  'duration', 'campaign', 'previous']\n",
    "\n",
    "kurtosis_values=kurtosis(df_num[selected_cols],fisher=True)\n",
    "\n",
    "# Create a dataframe to display our results\n",
    "result_df=pd.DataFrame({'Column Name' : selected_cols, 'Pearsons Kurtosis': kurtosis_values})\n",
    "\n",
    "print(result_df)"
   ]
  },
  {
   "cell_type": "code",
   "execution_count": 25,
   "metadata": {},
   "outputs": [
    {
     "name": "stdout",
     "output_type": "stream",
     "text": [
      "  Column Name  Fisher Kurtosis\n",
      "0         age         3.347063\n",
      "1     balance        91.291280\n",
      "2    duration        15.514870\n",
      "3    campaign        40.126499\n",
      "4    previous        54.936398\n"
     ]
    }
   ],
   "source": [
    "\n",
    "selected_cols= ['age', 'balance',  'duration', 'campaign', 'previous']\n",
    "\n",
    "kurtosis_values=kurtosis(df_num[selected_cols],fisher=False)\n",
    "\n",
    "# Create a dataframe to display our results\n",
    "result_df=pd.DataFrame({'Column Name' : selected_cols, 'Fisher Kurtosis': kurtosis_values})\n",
    "\n",
    "print(result_df)"
   ]
  },
  {
   "cell_type": "code",
   "execution_count": 26,
   "metadata": {},
   "outputs": [
    {
     "name": "stdout",
     "output_type": "stream",
     "text": [
      "  Column Name      Skew\n",
      "0         age  0.699269\n",
      "1     balance  6.594242\n",
      "2    duration  2.771500\n",
      "3    campaign  4.742340\n",
      "4    previous  5.873309\n"
     ]
    }
   ],
   "source": [
    "from scipy.stats import skew\n",
    "selected_cols= ['age', 'balance',  'duration', 'campaign', 'previous']\n",
    "\n",
    "skew_values=skew(df_num[selected_cols])\n",
    "\n",
    "# Create a dataframe to display our results\n",
    "result_df=pd.DataFrame({'Column Name' : selected_cols, 'Skew': skew_values})\n",
    "\n",
    "print(result_df)"
   ]
  },
  {
   "cell_type": "code",
   "execution_count": 27,
   "metadata": {},
   "outputs": [
    {
     "data": {
      "text/html": [
       "<div>\n",
       "<style scoped>\n",
       "    .dataframe tbody tr th:only-of-type {\n",
       "        vertical-align: middle;\n",
       "    }\n",
       "\n",
       "    .dataframe tbody tr th {\n",
       "        vertical-align: top;\n",
       "    }\n",
       "\n",
       "    .dataframe thead th {\n",
       "        text-align: right;\n",
       "    }\n",
       "</style>\n",
       "<table border=\"1\" class=\"dataframe\">\n",
       "  <thead>\n",
       "    <tr style=\"text-align: right;\">\n",
       "      <th></th>\n",
       "      <th>job</th>\n",
       "      <th>marital</th>\n",
       "      <th>education</th>\n",
       "      <th>default</th>\n",
       "      <th>housing</th>\n",
       "      <th>loan</th>\n",
       "      <th>month</th>\n",
       "      <th>y</th>\n",
       "    </tr>\n",
       "  </thead>\n",
       "  <tbody>\n",
       "    <tr>\n",
       "      <th>0</th>\n",
       "      <td>management</td>\n",
       "      <td>married</td>\n",
       "      <td>secondary</td>\n",
       "      <td>no</td>\n",
       "      <td>yes</td>\n",
       "      <td>no</td>\n",
       "      <td>may</td>\n",
       "      <td>no</td>\n",
       "    </tr>\n",
       "  </tbody>\n",
       "</table>\n",
       "</div>"
      ],
      "text/plain": [
       "          job  marital  education default housing loan month   y\n",
       "0  management  married  secondary      no     yes   no   may  no"
      ]
     },
     "execution_count": 27,
     "metadata": {},
     "output_type": "execute_result"
    }
   ],
   "source": [
    "df_cat[['job', 'marital',  'education', 'default',  'housing','loan','month','y']].mode()"
   ]
  },
  {
   "cell_type": "code",
   "execution_count": 28,
   "metadata": {},
   "outputs": [],
   "source": [
    "d = {'no': 0, 'yes': 1,}\n",
    "df['y'] = df['y'].map(d)"
   ]
  },
  {
   "cell_type": "code",
   "execution_count": 29,
   "metadata": {},
   "outputs": [],
   "source": [
    "new_cols={\"y\":'Term Deposit'}\n",
    "df=df.rename(columns=new_cols)"
   ]
  },
  {
   "cell_type": "code",
   "execution_count": 30,
   "metadata": {},
   "outputs": [
    {
     "data": {
      "text/plain": [
       "Index(['age', 'job', 'marital', 'education', 'default', 'balance', 'housing',\n",
       "       'loan', 'contact', 'day', 'month', 'duration', 'campaign', 'pdays',\n",
       "       'previous', 'poutcome', 'Term Deposit'],\n",
       "      dtype='object')"
      ]
     },
     "execution_count": 30,
     "metadata": {},
     "output_type": "execute_result"
    }
   ],
   "source": [
    "df.columns"
   ]
  },
  {
   "cell_type": "code",
   "execution_count": 31,
   "metadata": {},
   "outputs": [
    {
     "data": {
      "text/plain": [
       "array(['oct', 'may', 'apr', 'jun', 'feb', 'aug', 'jan', 'jul', 'nov',\n",
       "       'sep', 'mar', 'dec'], dtype=object)"
      ]
     },
     "execution_count": 31,
     "metadata": {},
     "output_type": "execute_result"
    }
   ],
   "source": [
    "df['month'].unique()"
   ]
  },
  {
   "cell_type": "code",
   "execution_count": 32,
   "metadata": {},
   "outputs": [],
   "source": [
    "month_to_num={'jan':1,'feb':2,'mar':3,'apr':4,'may':5,'jun':6,\n",
    "             'jul':7,'aug':8,'sep':9,'oct':10,'nov':11,'dec':12}\n",
    "df['month']=df['month'].map(month_to_num)\n",
    "month_to_qtr = {1:1,2:1,3:1,4:2,5:2,6:2,7:3,8:3,9:3,10:4,11:4,12:4}\n",
    "df['Qtr']=df['month'].map(month_to_qtr)"
   ]
  },
  {
   "cell_type": "code",
   "execution_count": 33,
   "metadata": {},
   "outputs": [
    {
     "data": {
      "text/html": [
       "<div>\n",
       "<style scoped>\n",
       "    .dataframe tbody tr th:only-of-type {\n",
       "        vertical-align: middle;\n",
       "    }\n",
       "\n",
       "    .dataframe tbody tr th {\n",
       "        vertical-align: top;\n",
       "    }\n",
       "\n",
       "    .dataframe thead th {\n",
       "        text-align: right;\n",
       "    }\n",
       "</style>\n",
       "<table border=\"1\" class=\"dataframe\">\n",
       "  <thead>\n",
       "    <tr style=\"text-align: right;\">\n",
       "      <th></th>\n",
       "      <th>age</th>\n",
       "      <th>job</th>\n",
       "      <th>marital</th>\n",
       "      <th>education</th>\n",
       "      <th>default</th>\n",
       "      <th>balance</th>\n",
       "      <th>housing</th>\n",
       "      <th>loan</th>\n",
       "      <th>contact</th>\n",
       "      <th>day</th>\n",
       "      <th>month</th>\n",
       "      <th>duration</th>\n",
       "      <th>campaign</th>\n",
       "      <th>pdays</th>\n",
       "      <th>previous</th>\n",
       "      <th>poutcome</th>\n",
       "      <th>Term Deposit</th>\n",
       "      <th>Qtr</th>\n",
       "    </tr>\n",
       "  </thead>\n",
       "  <tbody>\n",
       "    <tr>\n",
       "      <th>0</th>\n",
       "      <td>30</td>\n",
       "      <td>unemployed</td>\n",
       "      <td>married</td>\n",
       "      <td>primary</td>\n",
       "      <td>no</td>\n",
       "      <td>1787</td>\n",
       "      <td>no</td>\n",
       "      <td>no</td>\n",
       "      <td>cellular</td>\n",
       "      <td>19</td>\n",
       "      <td>10</td>\n",
       "      <td>79</td>\n",
       "      <td>1</td>\n",
       "      <td>-1</td>\n",
       "      <td>0</td>\n",
       "      <td>unknown</td>\n",
       "      <td>0</td>\n",
       "      <td>4</td>\n",
       "    </tr>\n",
       "    <tr>\n",
       "      <th>1</th>\n",
       "      <td>33</td>\n",
       "      <td>services</td>\n",
       "      <td>married</td>\n",
       "      <td>secondary</td>\n",
       "      <td>no</td>\n",
       "      <td>4789</td>\n",
       "      <td>yes</td>\n",
       "      <td>yes</td>\n",
       "      <td>cellular</td>\n",
       "      <td>11</td>\n",
       "      <td>5</td>\n",
       "      <td>220</td>\n",
       "      <td>1</td>\n",
       "      <td>339</td>\n",
       "      <td>4</td>\n",
       "      <td>failure</td>\n",
       "      <td>0</td>\n",
       "      <td>2</td>\n",
       "    </tr>\n",
       "  </tbody>\n",
       "</table>\n",
       "</div>"
      ],
      "text/plain": [
       "   age         job  marital  education default  balance housing loan  \\\n",
       "0   30  unemployed  married    primary      no     1787      no   no   \n",
       "1   33    services  married  secondary      no     4789     yes  yes   \n",
       "\n",
       "    contact  day  month  duration  campaign  pdays  previous poutcome  \\\n",
       "0  cellular   19     10        79         1     -1         0  unknown   \n",
       "1  cellular   11      5       220         1    339         4  failure   \n",
       "\n",
       "   Term Deposit  Qtr  \n",
       "0             0    4  \n",
       "1             0    2  "
      ]
     },
     "execution_count": 33,
     "metadata": {},
     "output_type": "execute_result"
    }
   ],
   "source": [
    "df.head(2)"
   ]
  },
  {
   "cell_type": "code",
   "execution_count": 34,
   "metadata": {},
   "outputs": [
    {
     "data": {
      "text/plain": [
       "Index(['age', 'job', 'marital', 'education', 'default', 'balance', 'housing',\n",
       "       'loan', 'contact', 'day', 'month', 'duration', 'campaign', 'pdays',\n",
       "       'previous', 'poutcome', 'Term Deposit', 'Qtr'],\n",
       "      dtype='object')"
      ]
     },
     "execution_count": 34,
     "metadata": {},
     "output_type": "execute_result"
    }
   ],
   "source": [
    "df.columns"
   ]
  },
  {
   "cell_type": "code",
   "execution_count": 35,
   "metadata": {},
   "outputs": [
    {
     "name": "stdout",
     "output_type": "stream",
     "text": [
      "[ 1  4  2  5  3  6 18 10  9  7 12 14 13 24 11  8 29 32 16 22 15 30 25 21\n",
      " 17 19 23 20 50 28 31 44]\n"
     ]
    }
   ],
   "source": [
    "unique_campaign=df['campaign'].unique()\n",
    "print(unique_campaign)"
   ]
  },
  {
   "cell_type": "code",
   "execution_count": 36,
   "metadata": {},
   "outputs": [
    {
     "name": "stdout",
     "output_type": "stream",
     "text": [
      "There was contact made by the bank to every customer during this campaign\n"
     ]
    }
   ],
   "source": [
    "unique_campaign=df['campaign'].unique()\n",
    "\n",
    "if 0 in unique_campaign:\n",
    "    print('There was no  contact made by the bank to  every customer during this campaign')\n",
    "else:\n",
    "    print('There was contact made by the bank to every customer during this campaign')"
   ]
  },
  {
   "cell_type": "code",
   "execution_count": 37,
   "metadata": {},
   "outputs": [
    {
     "name": "stdout",
     "output_type": "stream",
     "text": [
      "[ 0  4  1  3  2  5 20  7  6 10  9  8 18 19 12 13 11 14 15 24 17 22 23 25]\n"
     ]
    }
   ],
   "source": [
    "unique_previous=df['previous'].unique()\n",
    "print(unique_previous)"
   ]
  },
  {
   "cell_type": "code",
   "execution_count": 38,
   "metadata": {},
   "outputs": [
    {
     "data": {
      "image/png": "[encoded data removed]",
      "text/plain": [
       "<Figure size 432x288 with 1 Axes>"
      ]
     },
     "metadata": {},
     "output_type": "display_data"
    }
   ],
   "source": [
    "sns.set_style('whitegrid')\n",
    "sns.distplot(df['previous'],kde=False,color='darkorange')\n",
    "plt.xticks(fontsize=13)\n",
    "plt.yticks(fontsize=13)\n",
    "plt.xlabel('Previous',fontsize=14,color='grey',loc='left')\n",
    "plt.ylabel('Frequency',fontsize=14,color= 'grey')\n",
    "plt.title('Distribution of Unique Previous Contact',fontsize=14,fontweight='bold',color='darkgrey',loc='left')\n",
    "sns.despine()\n",
    "plt.grid(False)\n",
    "\n",
    "plt.show()"
   ]
  },
  {
   "cell_type": "code",
   "execution_count": 39,
   "metadata": {},
   "outputs": [
    {
     "name": "stdout",
     "output_type": "stream",
     "text": [
      "[0 1]\n"
     ]
    }
   ],
   "source": [
    "unique_term=df['Term Deposit'].unique()\n",
    "print(unique_term)"
   ]
  },
  {
   "cell_type": "code",
   "execution_count": 40,
   "metadata": {},
   "outputs": [
    {
     "data": {
      "text/html": [
       "<div>\n",
       "<style scoped>\n",
       "    .dataframe tbody tr th:only-of-type {\n",
       "        vertical-align: middle;\n",
       "    }\n",
       "\n",
       "    .dataframe tbody tr th {\n",
       "        vertical-align: top;\n",
       "    }\n",
       "\n",
       "    .dataframe thead th {\n",
       "        text-align: right;\n",
       "    }\n",
       "</style>\n",
       "<table border=\"1\" class=\"dataframe\">\n",
       "  <thead>\n",
       "    <tr style=\"text-align: right;\">\n",
       "      <th></th>\n",
       "      <th>age</th>\n",
       "      <th>job</th>\n",
       "      <th>marital</th>\n",
       "      <th>education</th>\n",
       "      <th>default</th>\n",
       "      <th>balance</th>\n",
       "      <th>housing</th>\n",
       "      <th>loan</th>\n",
       "      <th>contact</th>\n",
       "      <th>day</th>\n",
       "      <th>month</th>\n",
       "      <th>duration</th>\n",
       "      <th>campaign</th>\n",
       "      <th>pdays</th>\n",
       "      <th>previous</th>\n",
       "      <th>poutcome</th>\n",
       "      <th>Term Deposit</th>\n",
       "      <th>Qtr</th>\n",
       "    </tr>\n",
       "  </thead>\n",
       "  <tbody>\n",
       "    <tr>\n",
       "      <th>0</th>\n",
       "      <td>30</td>\n",
       "      <td>unemployed</td>\n",
       "      <td>married</td>\n",
       "      <td>primary</td>\n",
       "      <td>no</td>\n",
       "      <td>1787</td>\n",
       "      <td>no</td>\n",
       "      <td>no</td>\n",
       "      <td>cellular</td>\n",
       "      <td>19</td>\n",
       "      <td>10</td>\n",
       "      <td>79</td>\n",
       "      <td>1</td>\n",
       "      <td>-1</td>\n",
       "      <td>0</td>\n",
       "      <td>unknown</td>\n",
       "      <td>0</td>\n",
       "      <td>4</td>\n",
       "    </tr>\n",
       "    <tr>\n",
       "      <th>1</th>\n",
       "      <td>33</td>\n",
       "      <td>services</td>\n",
       "      <td>married</td>\n",
       "      <td>secondary</td>\n",
       "      <td>no</td>\n",
       "      <td>4789</td>\n",
       "      <td>yes</td>\n",
       "      <td>yes</td>\n",
       "      <td>cellular</td>\n",
       "      <td>11</td>\n",
       "      <td>5</td>\n",
       "      <td>220</td>\n",
       "      <td>1</td>\n",
       "      <td>339</td>\n",
       "      <td>4</td>\n",
       "      <td>failure</td>\n",
       "      <td>0</td>\n",
       "      <td>2</td>\n",
       "    </tr>\n",
       "  </tbody>\n",
       "</table>\n",
       "</div>"
      ],
      "text/plain": [
       "   age         job  marital  education default  balance housing loan  \\\n",
       "0   30  unemployed  married    primary      no     1787      no   no   \n",
       "1   33    services  married  secondary      no     4789     yes  yes   \n",
       "\n",
       "    contact  day  month  duration  campaign  pdays  previous poutcome  \\\n",
       "0  cellular   19     10        79         1     -1         0  unknown   \n",
       "1  cellular   11      5       220         1    339         4  failure   \n",
       "\n",
       "   Term Deposit  Qtr  \n",
       "0             0    4  \n",
       "1             0    2  "
      ]
     },
     "execution_count": 40,
     "metadata": {},
     "output_type": "execute_result"
    }
   ],
   "source": [
    "df.head(2)"
   ]
  },
  {
   "cell_type": "code",
   "execution_count": 41,
   "metadata": {},
   "outputs": [],
   "source": [
    "df_num=df.select_dtypes(include=['number'])"
   ]
  },
  {
   "cell_type": "code",
   "execution_count": 42,
   "metadata": {
    "scrolled": true
   },
   "outputs": [
    {
     "data": {
      "text/html": [
       "<div>\n",
       "<style scoped>\n",
       "    .dataframe tbody tr th:only-of-type {\n",
       "        vertical-align: middle;\n",
       "    }\n",
       "\n",
       "    .dataframe tbody tr th {\n",
       "        vertical-align: top;\n",
       "    }\n",
       "\n",
       "    .dataframe thead th {\n",
       "        text-align: right;\n",
       "    }\n",
       "</style>\n",
       "<table border=\"1\" class=\"dataframe\">\n",
       "  <thead>\n",
       "    <tr style=\"text-align: right;\">\n",
       "      <th></th>\n",
       "      <th>age</th>\n",
       "      <th>balance</th>\n",
       "      <th>day</th>\n",
       "      <th>month</th>\n",
       "      <th>duration</th>\n",
       "      <th>campaign</th>\n",
       "      <th>pdays</th>\n",
       "      <th>previous</th>\n",
       "      <th>Term Deposit</th>\n",
       "      <th>Qtr</th>\n",
       "    </tr>\n",
       "  </thead>\n",
       "  <tbody>\n",
       "    <tr>\n",
       "      <th>0</th>\n",
       "      <td>30</td>\n",
       "      <td>1787</td>\n",
       "      <td>19</td>\n",
       "      <td>10</td>\n",
       "      <td>79</td>\n",
       "      <td>1</td>\n",
       "      <td>-1</td>\n",
       "      <td>0</td>\n",
       "      <td>0</td>\n",
       "      <td>4</td>\n",
       "    </tr>\n",
       "    <tr>\n",
       "      <th>1</th>\n",
       "      <td>33</td>\n",
       "      <td>4789</td>\n",
       "      <td>11</td>\n",
       "      <td>5</td>\n",
       "      <td>220</td>\n",
       "      <td>1</td>\n",
       "      <td>339</td>\n",
       "      <td>4</td>\n",
       "      <td>0</td>\n",
       "      <td>2</td>\n",
       "    </tr>\n",
       "  </tbody>\n",
       "</table>\n",
       "</div>"
      ],
      "text/plain": [
       "   age  balance  day  month  duration  campaign  pdays  previous  \\\n",
       "0   30     1787   19     10        79         1     -1         0   \n",
       "1   33     4789   11      5       220         1    339         4   \n",
       "\n",
       "   Term Deposit  Qtr  \n",
       "0             0    4  \n",
       "1             0    2  "
      ]
     },
     "execution_count": 42,
     "metadata": {},
     "output_type": "execute_result"
    }
   ],
   "source": [
    "df_num.head(2)"
   ]
  },
  {
   "cell_type": "code",
   "execution_count": 43,
   "metadata": {
    "scrolled": true
   },
   "outputs": [
    {
     "data": {
      "text/plain": [
       "<AxesSubplot:>"
      ]
     },
     "execution_count": 43,
     "metadata": {},
     "output_type": "execute_result"
    },
    {
     "data": {
      "image/png": "[encoded data removed]",
      "text/plain": [
       "<Figure size 720x720 with 2 Axes>"
      ]
     },
     "metadata": {},
     "output_type": "display_data"
    }
   ],
   "source": [
    "common_figsize=(8,6)\n",
    "plt.figure(figsize=(10,10))\n",
    "sns.heatmap(df_num.corr(),cmap ='coolwarm',annot=True)"
   ]
  },
  {
   "cell_type": "code",
   "execution_count": 44,
   "metadata": {},
   "outputs": [
    {
     "name": "stdout",
     "output_type": "stream",
     "text": [
      "Pearson Correlation Coefficient: 0.4011183032752401\n",
      "There's a positive correlation between high-duration calls and '1' in 'Term Deposit'.\n"
     ]
    }
   ],
   "source": [
    "correlation=df['duration'].corr(df['Term Deposit'].astype(int))\n",
    "print(f'Pearson Correlation Coefficient: {correlation}')\n",
    "\n",
    "if correlation > 0:\n",
    "    print(\"There's a positive correlation between high-duration calls and '1' in 'Term Deposit'.\")\n",
    "elif correlation < 0:\n",
    "    print('There is a negative correlation')\n",
    "else:\n",
    "    print('There is little  or no correlation')\n",
    "    "
   ]
  },
  {
   "cell_type": "code",
   "execution_count": 45,
   "metadata": {},
   "outputs": [
    {
     "data": {
      "text/plain": [
       "263.96129174961294"
      ]
     },
     "execution_count": 45,
     "metadata": {},
     "output_type": "execute_result"
    }
   ],
   "source": [
    "df['duration'].mean()"
   ]
  },
  {
   "cell_type": "code",
   "execution_count": 46,
   "metadata": {},
   "outputs": [
    {
     "data": {
      "text/plain": [
       "185.0"
      ]
     },
     "execution_count": 46,
     "metadata": {},
     "output_type": "execute_result"
    }
   ],
   "source": [
    "df['duration'].median()"
   ]
  },
  {
   "cell_type": "code",
   "execution_count": 47,
   "metadata": {},
   "outputs": [
    {
     "data": {
      "text/plain": [
       "259.85663262468245"
      ]
     },
     "execution_count": 47,
     "metadata": {},
     "output_type": "execute_result"
    }
   ],
   "source": [
    "df['duration'].std()"
   ]
  },
  {
   "cell_type": "code",
   "execution_count": 48,
   "metadata": {},
   "outputs": [
    {
     "data": {
      "text/plain": [
       "2.7724197169136455"
      ]
     },
     "execution_count": 48,
     "metadata": {},
     "output_type": "execute_result"
    }
   ],
   "source": [
    "df['duration'].skew()"
   ]
  },
  {
   "cell_type": "code",
   "execution_count": 49,
   "metadata": {},
   "outputs": [
    {
     "data": {
      "text/plain": [
       "12.530049737749446"
      ]
     },
     "execution_count": 49,
     "metadata": {},
     "output_type": "execute_result"
    }
   ],
   "source": [
    "df['duration'].kurtosis()"
   ]
  },
  {
   "cell_type": "code",
   "execution_count": 50,
   "metadata": {},
   "outputs": [
    {
     "data": {
      "text/plain": [
       "<function matplotlib.pyplot.show(close=None, block=None)>"
      ]
     },
     "execution_count": 50,
     "metadata": {},
     "output_type": "execute_result"
    },
    {
     "data": {
      "image/png": "[encoded data removed]",
      "text/plain": [
       "<Figure size 576x432 with 1 Axes>"
      ]
     },
     "metadata": {},
     "output_type": "display_data"
    }
   ],
   "source": [
    "sns.set_style('whitegrid')\n",
    "duration_data=df['duration']\n",
    "\n",
    "plt.figure(figsize=(8,6))\n",
    "plt.hist(duration_data,bins=50,color='midnightblue')\n",
    "plt.xlabel('Duration',fontsize=14,color='grey',loc='left')\n",
    "plt.ylabel('Count',fontsize=14,color= 'grey')\n",
    "plt.title('Distribution of Call Duration',fontsize=14,fontweight='bold',color='darkgrey',loc='left')\n",
    "sns.despine()\n",
    "plt.grid(False)\n",
    "plt.show"
   ]
  },
  {
   "cell_type": "markdown",
   "metadata": {},
   "source": [
    "Observation -From our correlation plot we could observe that there was a correaltion between call duration and term deposit as can be seen by the graph but if we think about it there should be correlation as a person who reacts in the postive form a bank employee( Would you like to open a Term Deposit is more likely to have a call off long duration. We can use this feature in our analysis as it is biased."
   ]
  },
  {
   "cell_type": "markdown",
   "metadata": {},
   "source": [
    "# Age"
   ]
  },
  {
   "cell_type": "markdown",
   "metadata": {},
   "source": [
    "We will focus on the age column. in the context of our data term deposit is a dependent feature whereas Age is an independent feature.An example of this is no person under 18 who has opened a term deposit which makes sense as the majority of people under 18 would be working and not have the funds to open a term deposit account. It is also useful to look at the age profile to ascertain if there is a normal distribution in our data as will help us understand the potential groups may respond to marketing campaign."
   ]
  },
  {
   "cell_type": "code",
   "execution_count": 51,
   "metadata": {},
   "outputs": [
    {
     "name": "stdout",
     "output_type": "stream",
     "text": [
      "Mean Age is:41.17009511170095\n",
      "Median Age is:39.0\n",
      "Standard Deviation is:10.576210958711275\n",
      "Median Age is:39.0\n",
      "Skew is:0.6995014533559305\n",
      "kurtosis is:0.3487754872611486\n",
      "Age Percentiles\n",
      "[0.25, 0.5, 0.75]th Percentile: 33.0\n",
      "[0.25, 0.5, 0.75]th Percentile: 39.0\n",
      "[0.25, 0.5, 0.75]th Percentile: 49.0\n"
     ]
    }
   ],
   "source": [
    "mean_age=df_num['age'].mean()\n",
    "median_age=df_num['age'].median()\n",
    "std_age=df_num['age'].std()\n",
    "skew_df=df_num['age'].skew()\n",
    "kurtosis_df=df_num['age'].kurtosis()\n",
    "\n",
    "\n",
    "percentiles= [0.25,0.50,0.75]\n",
    "age_percentiles= df_num['age'].quantile(percentiles)\n",
    "\n",
    "print(f\"Mean Age is:{mean_age}\")\n",
    "print(f\"Median Age is:{median_age}\")\n",
    "print(f\"Standard Deviation is:{std_age}\")\n",
    "print(f\"Median Age is:{median_age}\")\n",
    "print(f\"Skew is:{skew_df}\")\n",
    "print(f\"kurtosis is:{kurtosis_df}\")\n",
    "print('Age Percentiles')\n",
    "for percentile, age_value in zip(percentiles,age_percentiles):\n",
    "    print(f\"{percentiles}th Percentile: {age_value}\")"
   ]
  },
  {
   "cell_type": "code",
   "execution_count": 52,
   "metadata": {
    "scrolled": true
   },
   "outputs": [
    {
     "data": {
      "image/png": "[encoded data removed]",
      "text/plain": [
       "<Figure size 864x432 with 1 Axes>"
      ]
     },
     "metadata": {},
     "output_type": "display_data"
    }
   ],
   "source": [
    "colors=['midnightblue','darkorange']\n",
    "sns.set_style('whitegrid')\n",
    "count_data=df.groupby(['age','Term Deposit'])['Term Deposit'].count().unstack()\n",
    "count_data.plot(kind='bar', stacked=True, figsize=(12,6),color=colors)\n",
    "plt.xlabel('Age',fontsize=14,fontweight='bold',color='darkgrey',loc='left')\n",
    "plt.ylabel('Count',fontsize=14,color= 'grey')\n",
    "plt.title('Term Deposit By Age',fontsize=14,fontweight='bold',color='darkgrey',loc='left')\n",
    "plt.xticks(fontsize=13)\n",
    "plt.yticks(fontsize=13)\n",
    "sns.despine()\n",
    "plt.grid(False)\n",
    "plt.show()"
   ]
  },
  {
   "cell_type": "code",
   "execution_count": 53,
   "metadata": {},
   "outputs": [
    {
     "data": {
      "image/png": "[encoded data removed]",
      "text/plain": [
       "<Figure size 576x432 with 1 Axes>"
      ]
     },
     "metadata": {},
     "output_type": "display_data"
    }
   ],
   "source": [
    "age_data=df_num['age']\n",
    "plt.figure(figsize=(8,6))\n",
    "plt.boxplot(age_data, vert=False)\n",
    "plt.xlabel('Age',fontsize=14,fontweight='bold',color='darkgrey',loc='left')\n",
    "plt.title('Box plot of Age',fontsize=14,fontweight='bold',color='darkgrey',loc='left')\n",
    "sns.despine()\n",
    "plt.xticks(fontsize=13)\n",
    "plt.yticks(fontsize=13)\n",
    "plt.grid(False)\n",
    "plt.show()"
   ]
  },
  {
   "cell_type": "code",
   "execution_count": 54,
   "metadata": {},
   "outputs": [
    {
     "data": {
      "image/png": "[encoded data removed]",
      "text/plain": [
       "<Figure size 576x432 with 1 Axes>"
      ]
     },
     "metadata": {},
     "output_type": "display_data"
    }
   ],
   "source": [
    "x=df_num['age']\n",
    "y=df_num['balance']\n",
    "plt.figure(figsize=(8,6))\n",
    "plt.scatter(x,y, alpha=0.5,color='midnightblue')\n",
    "plt.xlabel('Age',fontsize=14,fontweight='bold',color='darkgrey',loc='left')\n",
    "plt.ylabel('Balance',fontsize=14,color= 'grey')\n",
    "plt.title('Scatter Plot of Age v Balance',fontsize=14,fontweight='bold',color='darkgrey',loc='left')\n",
    "plt.xticks(fontsize=13)\n",
    "plt.yticks(fontsize=13)\n",
    "sns.despine()\n",
    "plt.grid(False)\n",
    "plt.show()"
   ]
  },
  {
   "cell_type": "code",
   "execution_count": 55,
   "metadata": {},
   "outputs": [
    {
     "name": "stdout",
     "output_type": "stream",
     "text": [
      "Term Deposit     0    1   All\n",
      "age                          \n",
      "20-29          540   88   628\n",
      "30-39         1622  178  1800\n",
      "40-49         1039  123  1162\n",
      "50-59          718   82   800\n",
      "All           3919  471  4390\n"
     ]
    }
   ],
   "source": [
    "age_bins=[20,30,40,50,60]\n",
    "age_labels=['20-29','30-39','40-49','50-59']\n",
    "\n",
    "df['age']= pd.cut(df['age'], bins=age_bins, labels=age_labels, include_lowest=True)\n",
    "\n",
    "contingency_table= pd.crosstab(df['age'],df['Term Deposit'], margins=True)\n",
    "print(contingency_table)"
   ]
  },
  {
   "cell_type": "code",
   "execution_count": 56,
   "metadata": {
    "scrolled": true
   },
   "outputs": [
    {
     "name": "stdout",
     "output_type": "stream",
     "text": [
      "Term Deposit         0         1       All\n",
      "age                                       \n",
      "20-29         0.137790  0.186837  0.143052\n",
      "30-39         0.413881  0.377919  0.410023\n",
      "40-49         0.265119  0.261146  0.264692\n",
      "50-59         0.183210  0.174098  0.182232\n",
      "All           1.000000  1.000000  1.000000\n"
     ]
    }
   ],
   "source": [
    "probabilities=contingency_table/contingency_table.loc['All']\n",
    "print(probabilities)"
   ]
  },
  {
   "cell_type": "code",
   "execution_count": 57,
   "metadata": {},
   "outputs": [
    {
     "data": {
      "text/plain": [
       "<function matplotlib.pyplot.show(close=None, block=None)>"
      ]
     },
     "execution_count": 57,
     "metadata": {},
     "output_type": "execute_result"
    },
    {
     "data": {
      "image/png": "[encoded data removed]",
      "text/plain": [
       "<Figure size 576x432 with 1 Axes>"
      ]
     },
     "metadata": {},
     "output_type": "display_data"
    }
   ],
   "source": [
    "colors=['midnightblue','darkorange']\n",
    "age_groups=['20-29','30-39','40-49','50-59']\n",
    "term_deposit_0 = [0.137790,0.413881,0.265119,0.183210]\n",
    "term_deposit_1 =[0.186837,0.277919,0.261146,0.174098]\n",
    "width=0.40\n",
    "x= range(len(age_groups))\n",
    "fig,ax = plt.subplots(figsize=(8,6))\n",
    "bar1= ax.bar(x,term_deposit_0,width,label='Term Deposit 0', alpha=0.8)\n",
    "bar2= ax.bar([i + width for i in x],term_deposit_1,width,label='Term Deposit 1', alpha=.8)\n",
    "ax.set_xlabel('Age Groups',fontsize=14,fontweight='bold',color='darkgrey',loc='left')\n",
    "ax.set_ylabel('Percentage',fontsize=14,color= 'grey')\n",
    "ax.set_title('Percentage of Term Deposit by Age Group',fontsize=14,fontweight='bold',color='darkgrey',loc='left')\n",
    "ax.set_xticks([i+ width/2 for i in x])\n",
    "ax.set_xticklabels(age_groups)\n",
    "plt.xticks(fontsize=13)\n",
    "plt.yticks(fontsize=13)\n",
    "ax.legend\n",
    "for i in x:\n",
    "    ax.text(i,term_deposit_0[i] + 0.01/2, f'{term_deposit_0[i]*100:.2f}', ha='center',va='bottom')\n",
    "    ax.text(i + width,term_deposit_1[i] + 0.01/2, f'{term_deposit_1[i]*100:.2f}', ha='center',va='bottom')   \n",
    "sns.despine()\n",
    "plt.grid(False)\n",
    "plt.show"
   ]
  },
  {
   "cell_type": "markdown",
   "metadata": {},
   "source": [
    "Takeaways From Age Feature.\n",
    "\n",
    "1- Mean age of our population is 41.17 years\n",
    "\n",
    "2- Median age of our population is 39.00 years\n",
    "\n",
    "3- Standard deviation is 10.58 years this would suggest that the ages in our population are not tightly clustered around the mean but are are spread out.\n",
    "\n",
    "4- Age percentiles 75% of our population are under the age of 49 years \n",
    "\n",
    "5- Skew .69 suggests that our population is postively skewed meaning we have a long tail to the right, it indicates the majority have ages below the mean of 41,17 years.\n",
    "\n",
    "6- Kurtosis .34 a playkutric distribution with a value less than 3. this would suggest that the majority have an age the is closer to the mean.\n",
    "\n",
    "7- Box plots a measure of the 5 numbers in statistics confirms what our descriptive stats have shown.However it show that we have outliers. In the context of resources available they or may not be important.\n",
    "\n",
    "8- Scatter plot. Confirms that their are outliers in our balance feature, but also confirms that outliers in our age feature do not form a high income group and we will discard  them.\n",
    "\n",
    "9- Contingency table- Probabilities- This will be a important table when we formulate a marketing campaign. we can say that if a person opens a term deposit there is an 82% proability they will be from the 20-49 age cohort. "
   ]
  },
  {
   "cell_type": "markdown",
   "metadata": {},
   "source": [
    "# Balance"
   ]
  },
  {
   "cell_type": "markdown",
   "metadata": {},
   "source": [
    "We wiil have a look at the balance variable. When the bank offers a term deposit to its customers it is hoping that customers will sign up and move their funds from their deposit account to a term deposit. The most important variable is to have the ability to do so."
   ]
  },
  {
   "cell_type": "code",
   "execution_count": 58,
   "metadata": {},
   "outputs": [
    {
     "name": "stdout",
     "output_type": "stream",
     "text": [
      "[ 1787  4789  1350 ...  -333 -3313  1137]\n"
     ]
    }
   ],
   "source": [
    "unique_balance=df['balance'].unique()\n",
    "print(unique_balance)"
   ]
  },
  {
   "cell_type": "code",
   "execution_count": 59,
   "metadata": {},
   "outputs": [
    {
     "name": "stdout",
     "output_type": "stream",
     "text": [
      "Total Balance in all accounts is: 6431836\n"
     ]
    }
   ],
   "source": [
    "total_balance = df['balance'].sum()\n",
    "print(\"Total Balance in all accounts is:\", total_balance)"
   ]
  },
  {
   "cell_type": "code",
   "execution_count": 60,
   "metadata": {},
   "outputs": [
    {
     "name": "stdout",
     "output_type": "stream",
     "text": [
      "Mean Balance is: 1422.6578190665782\n",
      "Median Balance is: 444.0\n",
      "Standard Deviation is: 3009.6381424673496\n",
      "Median Balance is: 444.0\n",
      "Skew is: 6.596430546295735\n",
      "kurtosis is: 88.39033211861796\n",
      "Min Balance is is: -3313\n",
      "Max Balance is: 71188\n",
      "Range is: 74501\n",
      "Balance Percentiles\n",
      "[0.25, 0.5, 0.75]th Percentile: 69.0\n",
      "[0.25, 0.5, 0.75]th Percentile: 444.0\n",
      "[0.25, 0.5, 0.75]th Percentile: 1480.0\n"
     ]
    }
   ],
   "source": [
    "mean_age=df_num['balance'].mean()\n",
    "median_age=df_num['balance'].median()\n",
    "std_age=df_num['balance'].std()\n",
    "skew_df=df_num['balance'].skew()\n",
    "kurtosis_df=df_num['balance'].kurtosis()\n",
    "\n",
    "min_balance=df_num['balance'].min()\n",
    "max_balance=df_num['balance'].max()\n",
    "range_balance= max_balance-min_balance\n",
    "\n",
    "percentiles= [0.25,0.50,0.75]\n",
    "balance_percentiles= df_num['balance'].quantile(percentiles)\n",
    "\n",
    "min_balance=df_num['balance'].min()\n",
    "max_balance=df_num['balance'].max()\n",
    "\n",
    "print(f\"Mean Balance is: {mean_age}\")\n",
    "print(f\"Median Balance is: {median_age}\")\n",
    "print(f\"Standard Deviation is: {std_age}\")\n",
    "print(f\"Median Balance is: {median_age}\")\n",
    "print(f\"Skew is: {skew_df}\")\n",
    "print(f\"kurtosis is: {kurtosis_df}\")\n",
    "print(f\"Min Balance is is: {min_balance}\")\n",
    "print(f\"Max Balance is: {max_balance}\")\n",
    "print(f\"Range is: {range_balance}\")\n",
    "print('Balance Percentiles')\n",
    "for percentile, range_balance in zip(percentiles,balance_percentiles):\n",
    "    print(f\"{percentiles}th Percentile: {range_balance}\")"
   ]
  },
  {
   "cell_type": "code",
   "execution_count": 61,
   "metadata": {},
   "outputs": [
    {
     "name": "stdout",
     "output_type": "stream",
     "text": [
      "Term Deposit     0    1   All\n",
      "balance                      \n",
      "0-500          575   81   656\n",
      "501-1000       514   80   594\n",
      "1001-1500      471  107   578\n",
      "1501-2000      188   29   217\n",
      "2001-2500       68    4    72\n",
      "2501-50000      18    1    19\n",
      "50001-100000     1    0     1\n",
      "All           1835  302  2137\n"
     ]
    }
   ],
   "source": [
    "df['balance'] = pd.to_numeric(df['balance'], errors='coerce')\n",
    "balance_bins=[500,1000,2000,5000,10000,20000,50000,100000]\n",
    "balance_labels=['0-500','501-1000','1001-1500','1501-2000','2001-2500','2501-50000','50001-100000']\n",
    "\n",
    "df['balance']= pd.cut(df['balance'], bins=balance_bins, labels=balance_labels, include_lowest=True)\n",
    "\n",
    "contingency_table= pd.crosstab(df['balance'],df['Term Deposit'], margins=True)\n",
    "print(contingency_table)"
   ]
  },
  {
   "cell_type": "code",
   "execution_count": 62,
   "metadata": {},
   "outputs": [
    {
     "data": {
      "image/png": "[encoded data removed]",
      "text/plain": [
       "<Figure size 864x432 with 1 Axes>"
      ]
     },
     "metadata": {},
     "output_type": "display_data"
    }
   ],
   "source": [
    "colors=['midnightblue','darkorange']\n",
    "sns.set_style('whitegrid')\n",
    "count_data=contingency_table.drop('All',axis=1)\n",
    "count_data.plot(kind='bar', stacked=True, figsize=(12,6),color=colors)\n",
    "plt.xlabel('Balance',fontsize=14,fontweight='bold',color='darkgrey',loc='left')\n",
    "plt.ylabel('Count',fontsize=14,color= 'grey')\n",
    "plt.title('Term Deposit By Balance',fontsize=14,fontweight='bold',color='darkgrey',loc='left')\n",
    "sns.despine()\n",
    "plt.grid(False)\n",
    "plt.xticks(fontsize=13)\n",
    "plt.yticks(fontsize=13)\n",
    "plt.show()"
   ]
  },
  {
   "cell_type": "code",
   "execution_count": 63,
   "metadata": {},
   "outputs": [
    {
     "name": "stdout",
     "output_type": "stream",
     "text": [
      "Term Deposit         0         1       All\n",
      "balance                                   \n",
      "0-500         0.313351  0.268212  0.306972\n",
      "501-1000      0.280109  0.264901  0.277960\n",
      "1001-1500     0.256676  0.354305  0.270473\n",
      "1501-2000     0.102452  0.096026  0.101544\n",
      "2001-2500     0.037057  0.013245  0.033692\n",
      "2501-50000    0.009809  0.003311  0.008891\n",
      "50001-100000  0.000545  0.000000  0.000468\n",
      "All           1.000000  1.000000  1.000000\n"
     ]
    }
   ],
   "source": [
    "probabilities=contingency_table/contingency_table.loc['All']\n",
    "print(probabilities)"
   ]
  },
  {
   "cell_type": "code",
   "execution_count": 64,
   "metadata": {},
   "outputs": [
    {
     "data": {
      "image/png": "[encoded data removed]",
      "text/plain": [
       "<Figure size 576x432 with 1 Axes>"
      ]
     },
     "metadata": {},
     "output_type": "display_data"
    }
   ],
   "source": [
    "df_num['balance'] = pd.to_numeric(df_num['balance'], errors='coerce')\n",
    "plt.figure(figsize=(8, 6))\n",
    "sns.boxplot(data=df_num, x='balance')\n",
    "plt.title('Distribution of Balance',fontsize=14,fontweight='bold',color='darkgrey',loc='left')\n",
    "plt.xlabel('Balance',fontsize=14,fontweight='bold',color='darkgrey',loc='left')\n",
    "sns.despine()\n",
    "plt.grid(False)\n",
    "plt.xticks(fontsize=13)\n",
    "plt.yticks(fontsize=13)\n",
    "plt.show()"
   ]
  },
  {
   "cell_type": "code",
   "execution_count": 65,
   "metadata": {},
   "outputs": [
    {
     "data": {
      "image/png": "[encoded data removed]",
      "text/plain": [
       "<Figure size 432x432 with 1 Axes>"
      ]
     },
     "metadata": {},
     "output_type": "display_data"
    }
   ],
   "source": [
    "x=df_num['balance']\n",
    "y=df_num['campaign']\n",
    "plt.figure(figsize=(6,6))\n",
    "plt.scatter(x,y, alpha=0.5,color='midnightblue')\n",
    "plt.xlabel('Balance',fontsize=14,fontweight='bold',color='darkgrey',loc='left')\n",
    "plt.ylabel('Campaign',fontsize=14,fontweight='bold',color='darkgrey')\n",
    "plt.title('Scatter Plot of Balance v Campaign',fontsize=14,fontweight='bold',color='darkgrey',loc='left')\n",
    "plt.xticks(fontsize=13)\n",
    "plt.yticks(fontsize=13)\n",
    "sns.despine()\n",
    "plt.grid(False)\n",
    "plt.show()"
   ]
  },
  {
   "cell_type": "code",
   "execution_count": 66,
   "metadata": {},
   "outputs": [
    {
     "data": {
      "image/png": "[encoded data removed]",
      "text/plain": [
       "<Figure size 576x432 with 1 Axes>"
      ]
     },
     "metadata": {},
     "output_type": "display_data"
    }
   ],
   "source": [
    "x=df_num['balance']\n",
    "y=df_num['duration']\n",
    "plt.figure(figsize=(8,6))\n",
    "plt.scatter(x,y, alpha=0.5,color='midnightblue')\n",
    "plt.xlabel('balance',fontsize=14,fontweight='bold',color='darkgrey',loc='left')\n",
    "plt.ylabel('duration')\n",
    "plt.title('Scatter Plot of Balance v Duration',fontsize=14,fontweight='bold',color='darkgrey',loc='left')\n",
    "sns.despine()\n",
    "plt.grid(False)\n",
    "plt.xticks(fontsize=13)\n",
    "plt.yticks(fontsize=13)\n",
    "plt.show()"
   ]
  },
  {
   "cell_type": "code",
   "execution_count": 67,
   "metadata": {},
   "outputs": [
    {
     "data": {
      "image/png": "[encoded data removed]",
      "text/plain": [
       "<Figure size 432x432 with 1 Axes>"
      ]
     },
     "metadata": {},
     "output_type": "display_data"
    }
   ],
   "source": [
    "x=df_num['balance']\n",
    "y=df_num['previous']\n",
    "plt.figure(figsize=(6,6))\n",
    "plt.scatter(x,y, alpha=0.5,color='midnightblue')\n",
    "plt.xlabel('balance',fontsize=14,fontweight='bold',color='darkgrey',loc='left')\n",
    "plt.ylabel('Previous',fontsize=14,color= 'grey')\n",
    "plt.title('Scatter Plot of Balance v Previous',fontsize=14,fontweight='bold',color='darkgrey',loc='left')\n",
    "sns.despine()\n",
    "plt.grid(False)\n",
    "plt.xticks(fontsize=13)\n",
    "plt.yticks(fontsize=13)\n",
    "plt.show()"
   ]
  },
  {
   "cell_type": "markdown",
   "metadata": {},
   "source": [
    "Takeaway From  Balance\n",
    "\n",
    "1- Mean Cash Balance of our population is 1422.00 euros\n",
    "\n",
    "2- Median Cash Balance of our population is 444.00 euros\n",
    "\n",
    "3- Standard deviation is 3009.00 euros this would suggest that the cash balances in our population are widely spread out.\n",
    "\n",
    "4- Balance percentiles 75% of our population have a cash balance of 1480.00 euros or under \n",
    "\n",
    "5- Skew 6.59 suggests that our population is highly postively skewed meaning we have a long tail to the right, it indicates the majority of cash balances are below the mean.\n",
    "\n",
    "6- Kurtosis 88.39 a leptokurtic distribution with a value more than 3. this would suggest that thdata is heavily influenced by extreme outliers(big cash balances) it also suggest that most cash balances are clusteres around the mean which creates sharp peaks and thicker tails\n",
    "\n",
    "7- Box plots a measure of the 5 numbers in statistics confirms what our descriptive stats have shown that th data is infuenced by extreme outliers.\n",
    "\n",
    "8- Scatter plot. show no linear correlation between balance and other numerical values.\n",
    "\n",
    "9- Contingency table- Probabilities- We will compare some of the bands\n",
    "\n",
    "0-500 31% probability No Term Deposit/26% probability yes Term Deposit\n",
    "500-1000 28% probability No Term Deposit/26% probability yes Term Deposit\n",
    "1000-1500 25% probability No Term Deposit/34% probability yes Term Deposit\n",
    "1500-2000 10% probability No Term Deposit/9% probability yes Term Deposit\n",
    "2000-2500 37% probability No Term Deposit/13% probability yes Term Deposit\n",
    "\n",
    "\n",
    "One would expect the more disposal income the greather the proability would be that they would have a term deposit, however we seem to be observing the opposite. It could suggest that the previous campaign was haphazard and failed to prioritize higher income groups.\n"
   ]
  },
  {
   "cell_type": "markdown",
   "metadata": {},
   "source": [
    "# Probalities"
   ]
  },
  {
   "cell_type": "code",
   "execution_count": 68,
   "metadata": {},
   "outputs": [],
   "source": [
    "new_cols={\"y\":'Term Deposit'}\n",
    "df_cat=df_cat.rename(columns=new_cols)"
   ]
  },
  {
   "cell_type": "code",
   "execution_count": 69,
   "metadata": {},
   "outputs": [
    {
     "data": {
      "text/html": [
       "<div>\n",
       "<style scoped>\n",
       "    .dataframe tbody tr th:only-of-type {\n",
       "        vertical-align: middle;\n",
       "    }\n",
       "\n",
       "    .dataframe tbody tr th {\n",
       "        vertical-align: top;\n",
       "    }\n",
       "\n",
       "    .dataframe thead th {\n",
       "        text-align: right;\n",
       "    }\n",
       "</style>\n",
       "<table border=\"1\" class=\"dataframe\">\n",
       "  <thead>\n",
       "    <tr style=\"text-align: right;\">\n",
       "      <th></th>\n",
       "      <th>job</th>\n",
       "      <th>marital</th>\n",
       "      <th>education</th>\n",
       "      <th>default</th>\n",
       "      <th>housing</th>\n",
       "      <th>loan</th>\n",
       "      <th>contact</th>\n",
       "      <th>month</th>\n",
       "      <th>poutcome</th>\n",
       "      <th>Term Deposit</th>\n",
       "    </tr>\n",
       "  </thead>\n",
       "  <tbody>\n",
       "    <tr>\n",
       "      <th>0</th>\n",
       "      <td>unemployed</td>\n",
       "      <td>married</td>\n",
       "      <td>primary</td>\n",
       "      <td>no</td>\n",
       "      <td>no</td>\n",
       "      <td>no</td>\n",
       "      <td>cellular</td>\n",
       "      <td>oct</td>\n",
       "      <td>unknown</td>\n",
       "      <td>no</td>\n",
       "    </tr>\n",
       "    <tr>\n",
       "      <th>1</th>\n",
       "      <td>services</td>\n",
       "      <td>married</td>\n",
       "      <td>secondary</td>\n",
       "      <td>no</td>\n",
       "      <td>yes</td>\n",
       "      <td>yes</td>\n",
       "      <td>cellular</td>\n",
       "      <td>may</td>\n",
       "      <td>failure</td>\n",
       "      <td>no</td>\n",
       "    </tr>\n",
       "    <tr>\n",
       "      <th>2</th>\n",
       "      <td>management</td>\n",
       "      <td>single</td>\n",
       "      <td>tertiary</td>\n",
       "      <td>no</td>\n",
       "      <td>yes</td>\n",
       "      <td>no</td>\n",
       "      <td>cellular</td>\n",
       "      <td>apr</td>\n",
       "      <td>failure</td>\n",
       "      <td>no</td>\n",
       "    </tr>\n",
       "    <tr>\n",
       "      <th>3</th>\n",
       "      <td>management</td>\n",
       "      <td>married</td>\n",
       "      <td>tertiary</td>\n",
       "      <td>no</td>\n",
       "      <td>yes</td>\n",
       "      <td>yes</td>\n",
       "      <td>unknown</td>\n",
       "      <td>jun</td>\n",
       "      <td>unknown</td>\n",
       "      <td>no</td>\n",
       "    </tr>\n",
       "    <tr>\n",
       "      <th>4</th>\n",
       "      <td>blue-collar</td>\n",
       "      <td>married</td>\n",
       "      <td>secondary</td>\n",
       "      <td>no</td>\n",
       "      <td>yes</td>\n",
       "      <td>no</td>\n",
       "      <td>unknown</td>\n",
       "      <td>may</td>\n",
       "      <td>unknown</td>\n",
       "      <td>no</td>\n",
       "    </tr>\n",
       "  </tbody>\n",
       "</table>\n",
       "</div>"
      ],
      "text/plain": [
       "           job  marital  education default housing loan   contact month  \\\n",
       "0   unemployed  married    primary      no      no   no  cellular   oct   \n",
       "1     services  married  secondary      no     yes  yes  cellular   may   \n",
       "2   management   single   tertiary      no     yes   no  cellular   apr   \n",
       "3   management  married   tertiary      no     yes  yes   unknown   jun   \n",
       "4  blue-collar  married  secondary      no     yes   no   unknown   may   \n",
       "\n",
       "  poutcome Term Deposit  \n",
       "0  unknown           no  \n",
       "1  failure           no  \n",
       "2  failure           no  \n",
       "3  unknown           no  \n",
       "4  unknown           no  "
      ]
     },
     "execution_count": 69,
     "metadata": {},
     "output_type": "execute_result"
    }
   ],
   "source": [
    "df_cat.head()"
   ]
  },
  {
   "cell_type": "code",
   "execution_count": 70,
   "metadata": {},
   "outputs": [
    {
     "data": {
      "image/png": "[encoded data removed]",
      "text/plain": [
       "<Figure size 576x432 with 1 Axes>"
      ]
     },
     "metadata": {},
     "output_type": "display_data"
    },
    {
     "name": "stdout",
     "output_type": "stream",
     "text": [
      "Term Deposit      0    1   All\n",
      "job                           \n",
      "admin.          420   58   478\n",
      "blue-collar     877   69   946\n",
      "entrepreneur    153   15   168\n",
      "housemaid        98   14   112\n",
      "management      838  131   969\n",
      "retired         176   54   230\n",
      "self-employed   163   20   183\n",
      "services        379   38   417\n",
      "student          65   19    84\n",
      "technician      685   83   768\n",
      "unemployed      115   13   128\n",
      "unknown          31    7    38\n",
      "All            4000  521  4521\n"
     ]
    }
   ],
   "source": [
    "colors=['midnightblue','darkorange']\n",
    "count_data=df.groupby(['job','Term Deposit'])['Term Deposit'].count().unstack()\n",
    "count_data.plot(kind='barh', stacked=True, figsize=(8,6),color=colors)\n",
    "plt.xlabel('Job Type',fontsize=14,fontweight='bold',color='darkgrey',loc='left')\n",
    "plt.ylabel('Count',fontsize=14,color= 'grey')\n",
    "plt.title('Term Deposit By Job',fontsize=14,fontweight='bold',color='darkgrey',loc='left')\n",
    "plt.xticks(fontsize=13)\n",
    "plt.yticks(fontsize=13)\n",
    "sns.despine()\n",
    "plt.grid(False)\n",
    "plt.show()\n",
    "pd.crosstab(df['job'],df['Term Deposit'], margins=True)\n",
    "contingency_table= pd.crosstab(df['job'],df['Term Deposit'], margins=True)\n",
    "print(contingency_table)"
   ]
  },
  {
   "cell_type": "code",
   "execution_count": 71,
   "metadata": {},
   "outputs": [
    {
     "name": "stdout",
     "output_type": "stream",
     "text": [
      "Term Deposit          0         1  All\n",
      "job                                   \n",
      "admin.         0.878661  0.121339  1.0\n",
      "blue-collar    0.927061  0.072939  1.0\n",
      "entrepreneur   0.910714  0.089286  1.0\n",
      "housemaid      0.875000  0.125000  1.0\n",
      "management     0.864809  0.135191  1.0\n",
      "retired        0.765217  0.234783  1.0\n",
      "self-employed  0.890710  0.109290  1.0\n",
      "services       0.908873  0.091127  1.0\n",
      "student        0.773810  0.226190  1.0\n",
      "technician     0.891927  0.108073  1.0\n",
      "unemployed     0.898438  0.101562  1.0\n",
      "unknown        0.815789  0.184211  1.0\n",
      "All            0.884760  0.115240  1.0\n"
     ]
    }
   ],
   "source": [
    "probabilities=contingency_table.div(contingency_table['All'],axis=0)\n",
    "print(probabilities)"
   ]
  },
  {
   "cell_type": "markdown",
   "metadata": {},
   "source": [
    "Observation Some strange probalities here. We can see the population of jobs we can see that there is a 23% that person will be retired followed by a 22% probability they will be a student, with a blue collar only having a 7% probability. What we can the occupations with the highest proabilties tend to be at home for most of the day. The bank is using the phone to contact people so we have to assume that is dataset  and the calls are made from 9 in the morning to 5 in the evening and to a home address\n",
    "\n",
    "This is really important as we have observed through our analyis that there is sampling bias in our dataset as most of the potential targret market have not had the opportunity to get a term deposit account as they had not being contacted."
   ]
  },
  {
   "cell_type": "code",
   "execution_count": 72,
   "metadata": {},
   "outputs": [
    {
     "data": {
      "image/png": "[encoded data removed]",
      "text/plain": [
       "<Figure size 576x432 with 1 Axes>"
      ]
     },
     "metadata": {},
     "output_type": "display_data"
    },
    {
     "name": "stdout",
     "output_type": "stream",
     "text": [
      "Term Deposit     0    1   All\n",
      "marital                      \n",
      "divorced       451   77   528\n",
      "married       2520  277  2797\n",
      "single        1029  167  1196\n",
      "All           4000  521  4521\n"
     ]
    }
   ],
   "source": [
    "colors=['midnightblue','darkorange']\n",
    "count_data=df.groupby(['marital','Term Deposit'])['Term Deposit'].count().unstack()\n",
    "count_data.plot(kind='barh', stacked=True, figsize=(8,6),color=colors)\n",
    "plt.xlabel('Married',fontsize=14,fontweight='bold',color='darkgrey',loc='left')\n",
    "plt.ylabel('Count',fontsize=14,color= 'grey')\n",
    "plt.title('Term Deposit By Family Status',fontsize=14,fontweight='bold',color='darkgrey',loc='left')\n",
    "sns.despine()\n",
    "plt.grid(False)\n",
    "plt.xticks(fontsize=13)\n",
    "plt.yticks(fontsize=13)\n",
    "plt.show()\n",
    "pd.crosstab(df['marital'],df['Term Deposit'], margins=True)\n",
    "contingency_table= pd.crosstab(df['marital'],df['Term Deposit'], margins=True)\n",
    "print(contingency_table)"
   ]
  },
  {
   "cell_type": "code",
   "execution_count": 73,
   "metadata": {},
   "outputs": [
    {
     "name": "stdout",
     "output_type": "stream",
     "text": [
      "Term Deposit         0         1  All\n",
      "marital                              \n",
      "divorced      0.854167  0.145833  1.0\n",
      "married       0.900965  0.099035  1.0\n",
      "single        0.860368  0.139632  1.0\n",
      "All           0.884760  0.115240  1.0\n"
     ]
    }
   ],
   "source": [
    "probabilities=contingency_table.div(contingency_table['All'],axis=0)\n",
    "print(probabilities)"
   ]
  },
  {
   "cell_type": "code",
   "execution_count": null,
   "metadata": {},
   "outputs": [],
   "source": []
  },
  {
   "cell_type": "code",
   "execution_count": 74,
   "metadata": {
    "scrolled": true
   },
   "outputs": [
    {
     "data": {
      "image/png": "[encoded data removed]",
      "text/plain": [
       "<Figure size 288x288 with 1 Axes>"
      ]
     },
     "metadata": {},
     "output_type": "display_data"
    },
    {
     "name": "stdout",
     "output_type": "stream",
     "text": [
      "Term Deposit     0    1   All\n",
      "education                    \n",
      "primary        614   64   678\n",
      "secondary     2061  245  2306\n",
      "tertiary      1157  193  1350\n",
      "unknown        168   19   187\n",
      "All           4000  521  4521\n"
     ]
    },
    {
     "data": {
      "image/png": "[encoded data removed]",
      "text/plain": [
       "<Figure size 432x288 with 1 Axes>"
      ]
     },
     "metadata": {},
     "output_type": "display_data"
    }
   ],
   "source": [
    "colors=['midnightblue','darkorange']\n",
    "count_data=df.groupby(['education','Term Deposit'])['Term Deposit'].count().unstack()\n",
    "count_data.plot(kind='barh', stacked=True, figsize=(4,4),color=colors)\n",
    "plt.xticks(fontsize=13)\n",
    "plt.yticks(fontsize=13)\n",
    "plt.xlabel('education',fontsize=14,fontweight='bold',color='darkgrey',loc='left')\n",
    "plt.ylabel('Count',fontsize=14,color= 'grey')\n",
    "plt.title('Term Deposit Education',fontsize=14,fontweight='bold',color='darkgrey',loc='left')\n",
    "sns.despine()\n",
    "plt.grid(False)\n",
    "plt.show()\n",
    "plt.xticks(fontsize=13)\n",
    "plt.yticks(fontsize=13)\n",
    "pd.crosstab(df['education'],df['Term Deposit'], margins=True)\n",
    "contingency_table= pd.crosstab(df['education'],df['Term Deposit'], margins=True)\n",
    "print(contingency_table)"
   ]
  },
  {
   "cell_type": "code",
   "execution_count": 75,
   "metadata": {},
   "outputs": [
    {
     "name": "stdout",
     "output_type": "stream",
     "text": [
      "Term Deposit         0         1  All\n",
      "education                            \n",
      "primary       0.905605  0.094395  1.0\n",
      "secondary     0.893755  0.106245  1.0\n",
      "tertiary      0.857037  0.142963  1.0\n",
      "unknown       0.898396  0.101604  1.0\n",
      "All           0.884760  0.115240  1.0\n"
     ]
    }
   ],
   "source": [
    "probabilities=contingency_table.div(contingency_table['All'],axis=0)\n",
    "print(probabilities)"
   ]
  },
  {
   "cell_type": "markdown",
   "metadata": {},
   "source": [
    "Observation- We observe that cutomers with an education beyond secondary have a 14% proability of having a term deposit"
   ]
  },
  {
   "cell_type": "code",
   "execution_count": 76,
   "metadata": {},
   "outputs": [
    {
     "data": {
      "image/png": "[encoded data removed]",
      "text/plain": [
       "<Figure size 576x432 with 1 Axes>"
      ]
     },
     "metadata": {},
     "output_type": "display_data"
    }
   ],
   "source": [
    "colors=['midnightblue','darkorange']\n",
    "count_data=df.groupby(['default','Term Deposit'])['Term Deposit'].count().unstack()\n",
    "count_data.plot(kind='barh', stacked=True, figsize=(8,6),color=colors)\n",
    "plt.xlabel('default',fontsize=14,fontweight='bold',color='darkgrey',loc='left')\n",
    "plt.ylabel('Count',fontsize=14,color= 'grey')\n",
    "plt.title('Term Deposit By Default',fontsize=14,fontweight='bold',color='darkgrey',loc='left')\n",
    "plt.xticks(fontsize=13)\n",
    "plt.yticks(fontsize=13)\n",
    "sns.despine()\n",
    "plt.grid(False)\n",
    "plt.show()"
   ]
  },
  {
   "cell_type": "markdown",
   "metadata": {},
   "source": [
    "Observation- This is interesting the hypotheis would that anybody opening a Term Deposit has excess cash. A person who rents is nearly twice as likely to have term deposit than a person who owns a house. This would suggest that the social housing policy priortises the rental market over the house owning market."
   ]
  },
  {
   "cell_type": "markdown",
   "metadata": {},
   "source": [
    "# Binomial Distribution"
   ]
  },
  {
   "cell_type": "code",
   "execution_count": 77,
   "metadata": {},
   "outputs": [
    {
     "data": {
      "text/html": [
       "<div>\n",
       "<style scoped>\n",
       "    .dataframe tbody tr th:only-of-type {\n",
       "        vertical-align: middle;\n",
       "    }\n",
       "\n",
       "    .dataframe tbody tr th {\n",
       "        vertical-align: top;\n",
       "    }\n",
       "\n",
       "    .dataframe thead th {\n",
       "        text-align: right;\n",
       "    }\n",
       "</style>\n",
       "<table border=\"1\" class=\"dataframe\">\n",
       "  <thead>\n",
       "    <tr style=\"text-align: right;\">\n",
       "      <th></th>\n",
       "      <th>age</th>\n",
       "      <th>job</th>\n",
       "      <th>marital</th>\n",
       "      <th>education</th>\n",
       "      <th>default</th>\n",
       "      <th>balance</th>\n",
       "      <th>housing</th>\n",
       "      <th>loan</th>\n",
       "      <th>contact</th>\n",
       "      <th>day</th>\n",
       "      <th>month</th>\n",
       "      <th>duration</th>\n",
       "      <th>campaign</th>\n",
       "      <th>pdays</th>\n",
       "      <th>previous</th>\n",
       "      <th>poutcome</th>\n",
       "      <th>Term Deposit</th>\n",
       "      <th>Qtr</th>\n",
       "    </tr>\n",
       "  </thead>\n",
       "  <tbody>\n",
       "    <tr>\n",
       "      <th>0</th>\n",
       "      <td>20-29</td>\n",
       "      <td>unemployed</td>\n",
       "      <td>married</td>\n",
       "      <td>primary</td>\n",
       "      <td>no</td>\n",
       "      <td>501-1000</td>\n",
       "      <td>no</td>\n",
       "      <td>no</td>\n",
       "      <td>cellular</td>\n",
       "      <td>19</td>\n",
       "      <td>10</td>\n",
       "      <td>79</td>\n",
       "      <td>1</td>\n",
       "      <td>-1</td>\n",
       "      <td>0</td>\n",
       "      <td>unknown</td>\n",
       "      <td>0</td>\n",
       "      <td>4</td>\n",
       "    </tr>\n",
       "  </tbody>\n",
       "</table>\n",
       "</div>"
      ],
      "text/plain": [
       "     age         job  marital education default   balance housing loan  \\\n",
       "0  20-29  unemployed  married   primary      no  501-1000      no   no   \n",
       "\n",
       "    contact  day  month  duration  campaign  pdays  previous poutcome  \\\n",
       "0  cellular   19     10        79         1     -1         0  unknown   \n",
       "\n",
       "   Term Deposit  Qtr  \n",
       "0             0    4  "
      ]
     },
     "execution_count": 77,
     "metadata": {},
     "output_type": "execute_result"
    }
   ],
   "source": [
    "df.head(1)"
   ]
  },
  {
   "cell_type": "code",
   "execution_count": 78,
   "metadata": {},
   "outputs": [
    {
     "name": "stdout",
     "output_type": "stream",
     "text": [
      "The Conversion Rate from the previous marketing campaign is: 11.52%\n"
     ]
    }
   ],
   "source": [
    "total_signed_up=len(df[df['Term Deposit']==1])\n",
    "total_contacts=len(df)\n",
    "Conversion_rate=(total_signed_up/total_contacts)*100\n",
    "print(\"The Conversion Rate from the previous marketing campaign is: {:.2f}%\".format(Conversion_rate))"
   ]
  },
  {
   "cell_type": "markdown",
   "metadata": {},
   "source": [
    "Assume that we as data scientists entrusted with enhancing the banks ROI (Return on Investment), where staff members try to convince potential clients to buy our product such as Term Deposits over the phone.\n",
    "\n",
    "We can consider the employees who made the calls to the banks customers as  a subset of out data as their role is crucial when ascertaing the return on investment We can consider every employee to be a randomly distributed binomially with certain parameters. Each employee performance in our situation can be represented as a binomial distribution with the following parameters:\n",
    "\n",
    "Number of Trials (n): This can inform how many attempts or assignments each worker completes. Within the context of our bank this could refer to the quantity of calls that each staff made throughout the day.\n",
    "\n",
    "Probability Of Sucess(p).: This is the likelihood that any given endeavour or task will be completed successfully. Within the bank setting, this would refer to the likeihood that a call make by an employee results in a customer opening a term deposit account.\n",
    "\n",
    "For instance we can model each employees daily performance as a binomial distribution with parameters (n=50, p=0.11) if we have 100 employees each one makes 50 calls a day with a 11% success rate (conversion rate from a previous marketing campaign).\n",
    "\n",
    "By taking into consideration the total performance of all employees over a number of days we can use this modelling to analyse and simulate the banks  overall performance. According to these binomial distributions the combined performance of all employees is represented by the histogram with the profits in the code.\n",
    "\n",
    "This methods aids in our compresenion of the distributionn and variaability of results depending on the performance of each individual employee as a binomial random variable."
   ]
  },
  {
   "cell_type": "code",
   "execution_count": 79,
   "metadata": {},
   "outputs": [
    {
     "data": {
      "text/html": [
       "<div>\n",
       "<style scoped>\n",
       "    .dataframe tbody tr th:only-of-type {\n",
       "        vertical-align: middle;\n",
       "    }\n",
       "\n",
       "    .dataframe tbody tr th {\n",
       "        vertical-align: top;\n",
       "    }\n",
       "\n",
       "    .dataframe thead th {\n",
       "        text-align: right;\n",
       "    }\n",
       "</style>\n",
       "<table border=\"1\" class=\"dataframe\">\n",
       "  <thead>\n",
       "    <tr style=\"text-align: right;\">\n",
       "      <th></th>\n",
       "      <th>age</th>\n",
       "      <th>job</th>\n",
       "      <th>marital</th>\n",
       "      <th>education</th>\n",
       "      <th>default</th>\n",
       "      <th>balance</th>\n",
       "      <th>housing</th>\n",
       "      <th>loan</th>\n",
       "      <th>contact</th>\n",
       "      <th>day</th>\n",
       "      <th>month</th>\n",
       "      <th>duration</th>\n",
       "      <th>campaign</th>\n",
       "      <th>pdays</th>\n",
       "      <th>previous</th>\n",
       "      <th>poutcome</th>\n",
       "      <th>Term Deposit</th>\n",
       "      <th>Qtr</th>\n",
       "    </tr>\n",
       "  </thead>\n",
       "  <tbody>\n",
       "    <tr>\n",
       "      <th>0</th>\n",
       "      <td>20-29</td>\n",
       "      <td>unemployed</td>\n",
       "      <td>married</td>\n",
       "      <td>primary</td>\n",
       "      <td>no</td>\n",
       "      <td>501-1000</td>\n",
       "      <td>no</td>\n",
       "      <td>no</td>\n",
       "      <td>cellular</td>\n",
       "      <td>19</td>\n",
       "      <td>10</td>\n",
       "      <td>79</td>\n",
       "      <td>1</td>\n",
       "      <td>-1</td>\n",
       "      <td>0</td>\n",
       "      <td>unknown</td>\n",
       "      <td>0</td>\n",
       "      <td>4</td>\n",
       "    </tr>\n",
       "  </tbody>\n",
       "</table>\n",
       "</div>"
      ],
      "text/plain": [
       "     age         job  marital education default   balance housing loan  \\\n",
       "0  20-29  unemployed  married   primary      no  501-1000      no   no   \n",
       "\n",
       "    contact  day  month  duration  campaign  pdays  previous poutcome  \\\n",
       "0  cellular   19     10        79         1     -1         0  unknown   \n",
       "\n",
       "   Term Deposit  Qtr  \n",
       "0             0    4  "
      ]
     },
     "execution_count": 79,
     "metadata": {},
     "output_type": "execute_result"
    }
   ],
   "source": [
    "df.head(1)"
   ]
  },
  {
   "cell_type": "code",
   "execution_count": 80,
   "metadata": {},
   "outputs": [
    {
     "data": {
      "text/plain": [
       "(4521, 18)"
      ]
     },
     "execution_count": 80,
     "metadata": {},
     "output_type": "execute_result"
    }
   ],
   "source": [
    "df.shape"
   ]
  },
  {
   "cell_type": "markdown",
   "metadata": {},
   "source": [
    "We will make some assumptions for modeling purposes such as number of employees & wage costs. However we do know the previous campaign resulted in a 11% conversion rate. We also know from previous caluclations that the total on normal deposits in the bank is in the region of 6.4 million euros. We also know that portuguese banks have a historical net interest margin of 2.7%.When a customer opens a 5 term account the bank can lend this money out to other customers and earn revenue and ultimately profit. The profit is the net interest margin. At 2.7% we can deduce that if the bank were to get every customer to open a term deposit the profit would in the region of 180k euros. At a conversion rate of 11% the bank have only got 20k of the 180k open to them. On a 5 year term that would equate to 30k per year with over 4521 acounts we could say that the every conversion would generte 7 euros per customer per year over a 5 year time horison\n",
    "\n",
    "We will make these assumptions as our benchmark"
   ]
  },
  {
   "cell_type": "code",
   "execution_count": 81,
   "metadata": {},
   "outputs": [
    {
     "name": "stdout",
     "output_type": "stream",
     "text": [
      "Average Conversions per Employee: 5.3\n",
      "Standard Deviation of Conversions per Employee: 1.95\n",
      "Total Conversions: 106\n",
      "Total Revenues: 742\n",
      "Total Expense: 1000\n",
      "Total Profits: -258\n"
     ]
    }
   ],
   "source": [
    "employees = 20 # 20 employees workin in marketing\n",
    "\n",
    "# Cost per employee 50 euros per day\n",
    "wage = 50\n",
    "\n",
    "# Number of independent calls per employee\n",
    "n = 50\n",
    "\n",
    "# Probability of success for each call\n",
    "p = 0.11\n",
    "\n",
    "# Revenue per call\n",
    "revenue = 7\n",
    "\n",
    "# Binomial random variables of call center employees\n",
    "conversions = np.random.binomial(n, p, size=employees)\n",
    "\n",
    "# Print some key metrics of our call center\n",
    "print('Average Conversions per Employee: ' + str(round(np.mean(conversions), 2)))\n",
    "print('Standard Deviation of Conversions per Employee: ' + str(round(np.std(conversions), 2)))\n",
    "print('Total Conversions: ' + str(np.sum(conversions)))\n",
    "print('Total Revenues: ' + str(np.sum(conversions)*revenue))\n",
    "print('Total Expense: ' + str(employees*wage))\n",
    "print('Total Profits: ' + str(np.sum(conversions)*revenue - employees*wage))"
   ]
  },
  {
   "cell_type": "markdown",
   "metadata": {},
   "source": [
    "The above code simulates using binomial distribution of a marketing campaign with 20 employees.This can help us understand and give us insights into the performance of out marketing campaign. We can observe the average conversions per employee and the overall financial profits. We can see that the current marketing campaign is running at a loss working on the basis these calls were made on one day."
   ]
  },
  {
   "cell_type": "code",
   "execution_count": 82,
   "metadata": {},
   "outputs": [
    {
     "data": {
      "image/png": "[encoded data removed]",
      "text/plain": [
       "<Figure size 432x288 with 1 Axes>"
      ]
     },
     "metadata": {},
     "output_type": "display_data"
    }
   ],
   "source": [
    "employees=20\n",
    "wage=50\n",
    "n=50\n",
    "p=.11\n",
    "revune = 7\n",
    "conversions=np.random.binomial(n,p, size= employees)\n",
    "profits=np.sum(conversions) * revenue - employees * wage\n",
    "plt.hist(profits, bins=20, color='darkorange', alpha=0.70)\n",
    "plt.xlabel(' Profits',fontsize=14,fontweight='bold',color='darkgrey',loc='left')\n",
    "plt.ylabel('Frequency',fontsize=14,color= 'grey')\n",
    "plt.title(' Profit Distribution For One Day',fontsize=14,fontweight='bold',color='darkgrey',loc='left')\n",
    "plt.xticks(fontsize=13)\n",
    "plt.yticks(fontsize=13)\n",
    "sns.despine()\n",
    "plt.grid(False)\n",
    "plt.show()\n",
    "\n",
    "# Tony Yiu,2019.Fun with the Binomial Distribution..Available at: https://medium.com/towards-data-science/fun-with-the-"
   ]
  },
  {
   "cell_type": "markdown",
   "metadata": {},
   "source": [
    "Our decision-making, resource allocation and performance review can all be influenced by our observed  metrics. The banks objective is to boost profits, in this instance we may think about methods to raise overall revenue or conversion, cut costs or do  both at the same time. Monitoring these indicators over time can also assist us in spotting trends and make data driven decisions to improve the banks performance."
   ]
  },
  {
   "cell_type": "markdown",
   "metadata": {},
   "source": [
    "we will run our binomial distribution over a year"
   ]
  },
  {
   "cell_type": "code",
   "execution_count": 83,
   "metadata": {},
   "outputs": [
    {
     "data": {
      "image/png": "[encoded data removed]",
      "text/plain": [
       "<Figure size 432x288 with 1 Axes>"
      ]
     },
     "metadata": {},
     "output_type": "display_data"
    },
    {
     "name": "stdout",
     "output_type": "stream",
     "text": [
      "Average Yearly Conversions per employee: 5.49\n",
      " Total Yearly Profits: -84573\n"
     ]
    }
   ],
   "source": [
    "days_in_year=365\n",
    "employees = 20\n",
    "wage = 50\n",
    "n = 50\n",
    "p = 0.11\n",
    "revenue = 7\n",
    "average_conversions_per_employee=[]\n",
    "total_profits=[]\n",
    "for day in range(days_in_year):\n",
    "    conversions=np.random.binomial(n,p, size=employees)\n",
    "    \n",
    "    avg_conversions=np.mean(conversions)\n",
    "    total_profit=np.sum(conversions) * revenue - employees * wage\n",
    "    \n",
    "    average_conversions_per_employee.append(avg_conversions)\n",
    "    total_profits.append(total_profit)    \n",
    "plt.hist(total_profits, bins=20, color='midnightblue', alpha=0.70)\n",
    "plt.xlabel('Yearly Profits',fontsize=14,fontweight='bold',color='darkgrey',loc='left')\n",
    "plt.ylabel('Frequency',fontsize=14,color= 'grey')\n",
    "plt.title('Yearly Profit Distribution',fontsize=14,fontweight='bold',color='darkgrey',loc='left')\n",
    "sns.despine()\n",
    "plt.xticks(fontsize=13)\n",
    "plt.yticks(fontsize=13)\n",
    "plt.grid(False)\n",
    "plt.show()\n",
    "average_yearly_conversions=np.mean(average_conversions_per_employee)\n",
    "total_yearly_profits= sum(total_profits)\n",
    "print('Average Yearly Conversions per employee: {:.2f}'.format(average_yearly_conversions))\n",
    "print(' Total Yearly Profits: {}'.format(total_yearly_profits))\n",
    "\n",
    "# Tony Yiu,2019.Fun with the Binomial Distribution..Available at: https://medium.com/towards-data-science/fun-with-the-"
   ]
  },
  {
   "cell_type": "markdown",
   "metadata": {},
   "source": [
    "We can observe that if run this campaign using existing parameters the bank will lose 84k"
   ]
  },
  {
   "cell_type": "markdown",
   "metadata": {},
   "source": [
    "In this situation there are only two variables the bank can control the wages it pays its staff or by increasing the effectinvess of its marketing. If we estimate that we can increase the probability of success lets run  the  binomial distribution again."
   ]
  },
  {
   "cell_type": "code",
   "execution_count": 84,
   "metadata": {},
   "outputs": [
    {
     "data": {
      "image/png": "[encoded data removed]",
      "text/plain": [
       "<Figure size 432x288 with 1 Axes>"
      ]
     },
     "metadata": {},
     "output_type": "display_data"
    },
    {
     "name": "stdout",
     "output_type": "stream",
     "text": [
      "Average Yearly Conversions per employee: 10.99\n",
      " Total  Profits for Marketing Campaign: 161384\n"
     ]
    }
   ],
   "source": [
    "days_in_year=300\n",
    "employees = 20\n",
    "wage = 50\n",
    "n = 50\n",
    "p = 0.22\n",
    "revenue = 7\n",
    "average_conversions_per_employee=[]\n",
    "total_profits=[]\n",
    "for day in range(days_in_year):\n",
    "    conversions=np.random.binomial(n,p, size=employees)\n",
    "    \n",
    "    avg_conversions=np.mean(conversions)\n",
    "    total_profit=np.sum(conversions) * revenue - employees * wage\n",
    "    \n",
    "    average_conversions_per_employee.append(avg_conversions)\n",
    "    total_profits.append(total_profit)\n",
    "common_figsize=(8,6)    \n",
    "plt.hist(total_profits, bins=20, color='midnightblue', alpha=0.70)\n",
    "plt.xlabel('Yearly Profits',fontsize=14,fontweight='bold',color='darkgrey',loc='left')\n",
    "plt.ylabel('Frequency',fontsize=14,fontweight='bold',color='darkgrey')\n",
    "plt.title('Yearly Profit Distribution',fontsize=14,fontweight='bold',color='darkgrey',loc='left')\n",
    "sns.despine()\n",
    "plt.grid(False)\n",
    "plt.xticks(fontsize=13)\n",
    "plt.yticks(fontsize=13)\n",
    "plt.show()\n",
    "\n",
    "average_yearly_conversions=np.mean(average_conversions_per_employee)\n",
    "total_yearly_profits= sum(total_profits)\n",
    "print('Average Yearly Conversions per employee: {:.2f}'.format(average_yearly_conversions))\n",
    "print(' Total  Profits for Marketing Campaign: {}'.format(total_yearly_profits))\n",
    "\n",
    "# Tony Yiu,2019.Fun with the Binomial Distribution..Available at: https://medium.com/towards-data-science/fun-with-the-binomial-distribution-96a5ecabf65b [Accesed] 7-11-2023]"
   ]
  },
  {
   "cell_type": "markdown",
   "metadata": {},
   "source": [
    "We estimated earlier that if the bank could get every customer to sign up for a term deposit there was a potential profit of 162k. By using binomial distribution we can this is possibe to achieve in 300 days if we increase our conversion rate from 11% to 22% "
   ]
  },
  {
   "cell_type": "markdown",
   "metadata": {},
   "source": [
    "# Normal Distribution"
   ]
  },
  {
   "cell_type": "code",
   "execution_count": 85,
   "metadata": {},
   "outputs": [
    {
     "name": "stdout",
     "output_type": "stream",
     "text": [
      "Mean Age is:41.17009511170095\n",
      "Median Age is:39.0\n",
      "Standard Deviation is:10.576210958711275\n",
      "Median Age is:39.0\n",
      "Skew is:0.6995014533559305\n",
      "kurtosis is:0.3487754872611486\n",
      "Age Percentiles\n",
      "[0.25, 0.5, 0.75]th Percentile: 33.0\n",
      "[0.25, 0.5, 0.75]th Percentile: 39.0\n",
      "[0.25, 0.5, 0.75]th Percentile: 49.0\n"
     ]
    }
   ],
   "source": [
    "mean_age=df_num['age'].mean()\n",
    "median_age=df_num['age'].median()\n",
    "std_age=df_num['age'].std()\n",
    "skew_df=df_num['age'].skew()\n",
    "kurtosis_df=df_num['age'].kurtosis()\n",
    "percentiles= [0.25,0.50,0.75]\n",
    "age_percentiles= df_num['age'].quantile(percentiles)\n",
    "\n",
    "print(f\"Mean Age is:{mean_age}\")\n",
    "print(f\"Median Age is:{median_age}\")\n",
    "print(f\"Standard Deviation is:{std_age}\")\n",
    "print(f\"Median Age is:{median_age}\")\n",
    "print(f\"Skew is:{skew_df}\")\n",
    "print(f\"kurtosis is:{kurtosis_df}\")\n",
    "print('Age Percentiles')\n",
    "for percentile, age_value in zip(percentiles,age_percentiles):\n",
    "    print(f\"{percentiles}th Percentile: {age_value}\")"
   ]
  },
  {
   "cell_type": "code",
   "execution_count": 86,
   "metadata": {},
   "outputs": [],
   "source": [
    "df1=pd.read_csv(\"Bank_Mkt_Campaign (1).csv\")"
   ]
  },
  {
   "cell_type": "code",
   "execution_count": 87,
   "metadata": {},
   "outputs": [
    {
     "data": {
      "text/html": [
       "<div>\n",
       "<style scoped>\n",
       "    .dataframe tbody tr th:only-of-type {\n",
       "        vertical-align: middle;\n",
       "    }\n",
       "\n",
       "    .dataframe tbody tr th {\n",
       "        vertical-align: top;\n",
       "    }\n",
       "\n",
       "    .dataframe thead th {\n",
       "        text-align: right;\n",
       "    }\n",
       "</style>\n",
       "<table border=\"1\" class=\"dataframe\">\n",
       "  <thead>\n",
       "    <tr style=\"text-align: right;\">\n",
       "      <th></th>\n",
       "      <th>age</th>\n",
       "      <th>job</th>\n",
       "      <th>marital</th>\n",
       "      <th>education</th>\n",
       "      <th>default</th>\n",
       "      <th>balance</th>\n",
       "      <th>housing</th>\n",
       "      <th>loan</th>\n",
       "      <th>contact</th>\n",
       "      <th>day</th>\n",
       "      <th>month</th>\n",
       "      <th>duration</th>\n",
       "      <th>campaign</th>\n",
       "      <th>pdays</th>\n",
       "      <th>previous</th>\n",
       "      <th>poutcome</th>\n",
       "      <th>y</th>\n",
       "    </tr>\n",
       "  </thead>\n",
       "  <tbody>\n",
       "    <tr>\n",
       "      <th>0</th>\n",
       "      <td>30</td>\n",
       "      <td>unemployed</td>\n",
       "      <td>married</td>\n",
       "      <td>primary</td>\n",
       "      <td>no</td>\n",
       "      <td>1787</td>\n",
       "      <td>no</td>\n",
       "      <td>no</td>\n",
       "      <td>cellular</td>\n",
       "      <td>19</td>\n",
       "      <td>oct</td>\n",
       "      <td>79</td>\n",
       "      <td>1</td>\n",
       "      <td>-1</td>\n",
       "      <td>0</td>\n",
       "      <td>unknown</td>\n",
       "      <td>no</td>\n",
       "    </tr>\n",
       "  </tbody>\n",
       "</table>\n",
       "</div>"
      ],
      "text/plain": [
       "   age         job  marital education default  balance housing loan   contact  \\\n",
       "0   30  unemployed  married   primary      no     1787      no   no  cellular   \n",
       "\n",
       "   day month  duration  campaign  pdays  previous poutcome   y  \n",
       "0   19   oct        79         1     -1         0  unknown  no  "
      ]
     },
     "execution_count": 87,
     "metadata": {},
     "output_type": "execute_result"
    }
   ],
   "source": [
    "df1.head(1)"
   ]
  },
  {
   "cell_type": "code",
   "execution_count": 88,
   "metadata": {},
   "outputs": [
    {
     "data": {
      "image/png": "[encoded data removed]",
      "text/plain": [
       "<Figure size 432x288 with 1 Axes>"
      ]
     },
     "metadata": {},
     "output_type": "display_data"
    }
   ],
   "source": [
    "common_figsize=(8,6)\n",
    "df1['age'].hist(color='midnightblue')\n",
    "plt.xlabel('Age',fontsize=14,fontweight='bold',color='darkgrey',loc='left')\n",
    "plt.ylabel('Density',fontsize=14,fontweight='bold',color='darkgrey')\n",
    "plt.title('Age Distribution with Histogram',fontsize=14,fontweight='bold',color='darkgrey',loc='left')\n",
    "sns.despine()\n",
    "plt.xticks(fontsize=13)\n",
    "plt.yticks(fontsize=13)\n",
    "plt.grid(False)"
   ]
  },
  {
   "cell_type": "code",
   "execution_count": 89,
   "metadata": {},
   "outputs": [
    {
     "data": {
      "image/png": "[encoded data removed]",
      "text/plain": [
       "<Figure size 432x288 with 1 Axes>"
      ]
     },
     "metadata": {},
     "output_type": "display_data"
    }
   ],
   "source": [
    "common_figsize=(8,6)\n",
    "age=df1['age'].values\n",
    "kde=KernelDensity(bandwidth=2.0,kernel='gaussian')\n",
    "kde.fit(age[:, np.newaxis])\n",
    "x=np.linspace(age.min() -5,age.max() +5,1000)\n",
    "log_dens=kde.score_samples(x[:,np.newaxis])\n",
    "plt.plot(x,np.exp(log_dens),color='midnightblue')\n",
    "plt.xlabel('Age',fontsize=14,fontweight='bold',color='darkgrey',loc='left')\n",
    "plt.ylabel('Density',fontsize=14,fontweight='bold',color='darkgrey')\n",
    "plt.title('Age Distribution with Kernel Density Estimation',fontsize=14,fontweight='bold',color='darkgrey',loc='left')\n",
    "plt.xticks(fontsize=13)\n",
    "plt.yticks(fontsize=13)\n",
    "sns.despine()\n",
    "plt.grid(False)\n",
    "\n",
    "#unknown,unknown.Simple 1D Kernel Density Estimation..Available at: https://scikit-learn.org/stable/auto_examples/neighbors/plot_kde_1d.html [Accesed] 7-11-2023]"
   ]
  },
  {
   "cell_type": "code",
   "execution_count": 90,
   "metadata": {},
   "outputs": [
    {
     "data": {
      "image/png": "[encoded data removed]",
      "text/plain": [
       "<Figure size 432x288 with 1 Axes>"
      ]
     },
     "metadata": {},
     "output_type": "display_data"
    }
   ],
   "source": [
    "common_figsize=(8,6)\n",
    "age=df1['age'].values\n",
    "kde=KernelDensity(bandwidth=2.0,kernel='epanechnikov')\n",
    "kde.fit(age[:, np.newaxis])\n",
    "x=np.linspace(age.min() -5,age.max() +5,1000)\n",
    "log_dens=kde.score_samples(x[:,np.newaxis])\n",
    "plt.plot(x,np.exp(log_dens),color='midnightblue')\n",
    "plt.xlabel('Age',fontsize=14,fontweight='bold',color='darkgrey',loc='left')\n",
    "plt.ylabel('Density',fontsize=14,fontweight='bold',color='darkgrey')\n",
    "plt.xticks(fontsize=13)\n",
    "plt.yticks(fontsize=13)\n",
    "plt.title('Age Distribution with Kernel Density Estimation',fontsize=14,fontweight='bold',color='darkgrey',loc='left')\n",
    "sns.despine()\n",
    "plt.grid(False)\n",
    "\n",
    "#unknown,unknown.Simple 1D Kernel Density Estimation..Available at: https://scikit-learn.org/stable/auto_examples/neighbors/plot_kde_1d.html [Accesed] 7-11-2023]"
   ]
  },
  {
   "cell_type": "code",
   "execution_count": 91,
   "metadata": {},
   "outputs": [
    {
     "data": {
      "image/png": "[encoded data removed]",
      "text/plain": [
       "<Figure size 432x288 with 1 Axes>"
      ]
     },
     "metadata": {},
     "output_type": "display_data"
    }
   ],
   "source": [
    "import scipy.stats as stats\n",
    "import pylab\n",
    "common_figsize=(8,6)\n",
    "stats.probplot(df1['age'], plot=pylab);\n",
    "sns.despine()\n",
    "plt.grid(False)\n",
    "\n",
    "\n",
    "#unknown,unknown.Mathematics - Statistics & Probability mastery for Data Science, Machine Learning..Available at: https://www.udemy.com/course/statistics-probability-for-data-science/learn/lecture/35290462#overview [Accesed] 1-11-2023]\n"
   ]
  },
  {
   "cell_type": "markdown",
   "metadata": {},
   "source": [
    "We can observe from our various graphs that our Age variable is highly skewed to the right. \n",
    "\n",
    "1- Mean age of our population is 41.17 years\n",
    "\n",
    "2- Median age of our population is 39.00 years\n",
    "\n",
    "3- Standard deviation is 10.58 years this would suggest that the ages in our population are not tightly clustered around the mean but are are spread out.\n",
    "\n",
    "4- Age percentiles 75% of our population are under the age of 49 years\n",
    "\n",
    "5- Skew .69 suggests that our population is postively skewed meaning we have a long tail to the right, it indicates the majority have ages below the mean of 41,17 years.\n",
    "\n",
    "6- We can observe from our visualiations that the data is skewed, We have also completedt a QQ plot. we would expect in a normal distribution that all the data points would fall on the red line.\n",
    "\n",
    "Any models that we may use would assume that they are working with a normally distributed dataset and if we wanted to use these modes we could use a log transformation to normalize our data."
   ]
  },
  {
   "cell_type": "markdown",
   "metadata": {},
   "source": [
    "# Conclusion"
   ]
  },
  {
   "cell_type": "markdown",
   "metadata": {},
   "source": [
    "We have been tasked with developing a mareting campaing for a bank. We have been given date that relates to a marketing campaign that was previously undertaken.\n",
    "\n",
    "We have carried out data analytics on the data and by using statistics and proabilties that can be used to develop a marketing campaign which is more effective and a result increase profits within the bank.\n",
    "\n",
    "we will detail our main takeaways from our analysis.\n",
    "\n",
    "1-The conversion rate on the orignal marketing was 11%\n",
    "\n",
    "2-Age percentiles 75% of our population are under the age of 49 years\n",
    "\n",
    "3-we can say that if a person opens a term deposit there is an 82% proability they will be from the 20-49 age cohort.\n",
    "\n",
    "4- The previous campaign was ineffective in communicating prioritize higher income groups.\n",
    "\n",
    "5- A person who does not own is nearly twice as likely to open a term deposit as compared to a person who owns a home\n",
    "\n",
    "6- There is only a 7% proability of a blue collar worker opening a Term Deposit\n",
    "\n",
    "7 - 75% of our the banks customers have a cash balance of 1480.00 euros or under \n",
    "\n",
    "8- Our estimate that the bank is losing 84k per year as the costs associated with opening a term deposit outweigh the revenue made.\n",
    "\n",
    "Recommendations.\n",
    "\n",
    "1- Target customers who fall between the age of 25-49\n",
    "\n",
    "2- Target customers who have a balance of more than 1480.00 this can be done by accepting that all customerss can be contacted during office hours. By changing the way the bank communciates  with its customers and the the time of day and hours it will convert higher income customers to Ter Deposits.\n",
    "\n",
    "3-Target customers who do not own their own home.\n",
    "\n",
    "4- The bank is losing money under the current scheme, this can not continue, to money will have undertaake a cost benefit on the current scheme. Our analysis shows that it is possible to make money but only if changes are made to the current scheme. A more targeted comprenhsive marketing campaign will increase the conversion rate, by increasing the conversion rate to 22% it is possible for this marketing to make money for the bank. \n"
   ]
  },
  {
   "cell_type": "markdown",
   "metadata": {},
   "source": [
    "#  Bibliography"
   ]
  },
  {
   "cell_type": "markdown",
   "metadata": {},
   "source": [
    "Refereces\n",
    "\n",
    "[Moro et al., 2011] S. Moro, R. Laureano and P. Cortez. Using Data Mining for Bank Direct Marketing: An Application of the CRISP-DM Methodology.\n",
    "\n",
    "unknown,unknown.Mathematics - Statistics & Probability mastery for Data Science, Machine Learning..Available at: https://www.udemy.com/course/statistics-probability-for-data-science/learn/lecture/35290462#overview [Accesed] 1-11-2023]\n",
    "\n",
    "#Tony Yiu,2019.Fun with the Binomial Distribution..Available at: https://medium.com/towards-data-science/fun-with-the-\n",
    "\n",
    "#unknown,unknown.Simple 1D Kernel Density Estimation..Available at: https://scikit-learn.org/stable/auto_examples/neighbors/plot_kde_1d.html [Accesed] 7-11-2023]\n",
    "\n",
    "Nussbaumer Knaflic, C. (2015). Storytelling with data (C. N. Knaflic, Ed.). John Wiley & Sons"
   ]
  }
 ],
 "metadata": {
  "kernelspec": {
   "display_name": "Python 3",
   "language": "python",
   "name": "python3"
  },
  "language_info": {
   "codemirror_mode": {
    "name": "ipython",
    "version": 3
   },
   "file_extension": ".py",
   "mimetype": "text/x-python",
   "name": "python",
   "nbconvert_exporter": "python",
   "pygments_lexer": "ipython3",
   "version": "3.8.5"
  },
  "toc": {
   "base_numbering": 1,
   "nav_menu": {},
   "number_sections": true,
   "sideBar": true,
   "skip_h1_title": false,
   "title_cell": "Table of Contents",
   "title_sidebar": "Contents",
   "toc_cell": false,
   "toc_position": {},
   "toc_section_display": true,
   "toc_window_display": false
  }
 },
 "nbformat": 4,
 "nbformat_minor": 4
}
