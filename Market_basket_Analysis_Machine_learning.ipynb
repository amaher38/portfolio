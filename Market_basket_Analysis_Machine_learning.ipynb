{
 "cells": [
  {
   "cell_type": "markdown",
   "metadata": {
    "id": "GWv4J4PTaI4W"
   },
   "source": [
    "# Introduction"
   ]
  },
  {
   "cell_type": "markdown",
   "metadata": {
    "id": "Q3eLHBheaI4Y"
   },
   "source": [
    "For the purpose of this project Iam going to frame it as follows, a business owner came to me and asked me as a data analyst to use my skills to create efficiencies within the business and increase profitability. This can be achieved by identifying patterns within the data, allowing the business owner to follow a strategy of cross selling or up selling products which are likely to be bought in conjunction with one another.\n",
    "The business owner may also wish to know what time of the year will there be peak demand, can I use the data to predict customer churn, can I use the membership numbers to carry out customer segmentation analysis or carry out price optimization analysis to maximise profitability or deliver other business objectives.\n",
    "As a data analyst I must consider what is deliverable for the stakeholders versus their expectations. I need to balance these expectations given the data I have been provided with. I may need to ask questions of our stakeholders before I can consider  when the project is completed. I would also need to consider a time frame to complete the project to prevent me going down rabbit holes.\n",
    "I will work on the basis that any model I may run will be only as good as the data I give it. The majority of my time will be spent on data cleaning and preparation.\n",
    "I will then consider how I can explore the data to find the truth that lies within it. I may need to use feature engineering or reduce the dimensionality of the data which will allow our models to work better. I may need to create new columns which will allow me extract valuable insights from the data, however I need to be mindful that my actions do not increase noise in the data ultimately our aim as a data analyst is to get to ground truth of the data whatever that may be.\n",
    "\n"
   ]
  },
  {
   "cell_type": "code",
   "execution_count": 1,
   "metadata": {
    "id": "okS60drFaI4a"
   },
   "outputs": [],
   "source": [
    "import pandas as pd\n",
    "import numpy as np\n",
    "import seaborn as sns\n",
    "import matplotlib.pyplot as plt\n",
    "from mlxtend.frequent_patterns import apriori\n",
    "from mlxtend.frequent_patterns import association_rules\n",
    "import warnings\n",
    "warnings.filterwarnings('ignore')\n",
    "from mlxtend.preprocessing import TransactionEncoder\n",
    "%matplotlib inline\n",
    "import datetime\n",
    "from datetime import datetime, date, time, timedelta, timezone\n",
    "from sklearn.model_selection import train_test_split\n",
    "from sklearn.tree import DecisionTreeClassifier\n",
    "from sklearn.metrics import accuracy_score, classification_report, confusion_matrix\n",
    "from sklearn import preprocessing\n",
    "from sklearn import tree \n",
    "from sklearn.metrics import confusion_matrix \n",
    "from sklearn.neighbors import KNeighborsClassifier \n",
    "from sklearn.model_selection import train_test_split  \n",
    "sns.set()\n",
    "\n",
    "\n",
    "\n",
    "\n"
   ]
  },
  {
   "cell_type": "code",
   "execution_count": 2,
   "metadata": {},
   "outputs": [
    {
     "data": {
      "text/html": [
       "<script>\n",
       "\n",
       "code_show=true; \n",
       "\n",
       "function code_toggle() {\n",
       "\n",
       " if (code_show){\n",
       "\n",
       " $('div.input').hide();\n",
       "\n",
       " } else {\n",
       "\n",
       " $('div.input').show();\n",
       "\n",
       " }\n",
       "\n",
       " code_show = !code_show\n",
       "\n",
       "} \n",
       "\n",
       "$( document ).ready(code_toggle);\n",
       "\n",
       "</script>\n",
       "\n",
       "<form action=\"javascript:code_toggle()\"><input type=\"submit\" value=\"Click here to toggle on/off the raw code.\"></form>"
      ],
      "text/plain": [
       "<IPython.core.display.HTML object>"
      ]
     },
     "execution_count": 2,
     "metadata": {},
     "output_type": "execute_result"
    }
   ],
   "source": [
    "from IPython.display import HTML # Code taken from class notes David McQuaid December 2022\n",
    "\n",
    "HTML('''<script>\n",
    "\n",
    "code_show=true; \n",
    "\n",
    "function code_toggle() {\n",
    "\n",
    " if (code_show){\n",
    "\n",
    " $('div.input').hide();\n",
    "\n",
    " } else {\n",
    "\n",
    " $('div.input').show();\n",
    "\n",
    " }\n",
    "\n",
    " code_show = !code_show\n",
    "\n",
    "} \n",
    "\n",
    "$( document ).ready(code_toggle);\n",
    "\n",
    "</script>\n",
    "\n",
    "<form action=\"javascript:code_toggle()\"><input type=\"submit\" value=\"Click here to toggle on/off the raw code.\"></form>''')"
   ]
  },
  {
   "cell_type": "code",
   "execution_count": 3,
   "metadata": {},
   "outputs": [],
   "source": [
    "def generate_harvard_citation(author,year,title,url,access_date):\n",
    "    citation= f'{author},{year}.{title}.[Online Course] Udemy.Available at: {url} [Accesed] {access_date}]'\n",
    "    return citation"
   ]
  },
  {
   "cell_type": "code",
   "execution_count": 4,
   "metadata": {},
   "outputs": [
    {
     "name": "stdout",
     "output_type": "stream",
     "text": [
      "Viskaha 18,2020. Market basket analysis.[Online Course] Udemy.Available at: https://github.com/vishakha-b18/Market-Basket-Analysis [Accesed] 11-6-2023]\n"
     ]
    }
   ],
   "source": [
    "\n",
    "# Example usage\n",
    "author = \"Viskaha 18\"\n",
    "year = \"2020\"\n",
    "title =' Market basket analysis'\n",
    "url = \"https://github.com/vishakha-b18/Market-Basket-Analysis\"\n",
    "access_date = \"11-6-2023\"\n",
    "citation = generate_harvard_citation(author, year, title, url, access_date)\n",
    "print(citation)"
   ]
  },
  {
   "cell_type": "code",
   "execution_count": 5,
   "metadata": {
    "colab": {
     "base_uri": "https://localhost:8080/"
    },
    "id": "JSrJhbdg4dih",
    "outputId": "1d0fb739-c554-4a17-cb10-6882a8c9f668"
   },
   "outputs": [
    {
     "name": "stdout",
     "output_type": "stream",
     "text": [
      "Requirement already satisfied: graphviz in c:\\users\\andrew\\anaconda3\\lib\\site-packages (0.20.1)\n",
      "Note: you may need to restart the kernel to use updated packages.\n"
     ]
    }
   ],
   "source": [
    "pip install graphviz"
   ]
  },
  {
   "cell_type": "code",
   "execution_count": 6,
   "metadata": {
    "colab": {
     "base_uri": "https://localhost:8080/"
    },
    "id": "OhNcD9mV4dij",
    "outputId": "110cca66-0d35-43dc-e94a-49a2c112738b"
   },
   "outputs": [
    {
     "name": "stdout",
     "output_type": "stream",
     "text": [
      "Requirement already satisfied: xgboost in c:\\users\\andrew\\anaconda3\\lib\\site-packages (1.7.5)\n",
      "Requirement already satisfied: scipy in c:\\users\\andrew\\anaconda3\\lib\\site-packages (from xgboost) (1.10.1)\n",
      "Requirement already satisfied: numpy in c:\\users\\andrew\\anaconda3\\lib\\site-packages (from xgboost) (1.23.5)\n",
      "Note: you may need to restart the kernel to use updated packages.\n"
     ]
    }
   ],
   "source": [
    "pip install xgboost"
   ]
  },
  {
   "cell_type": "markdown",
   "metadata": {
    "id": "2vAMOoJDaI4d"
   },
   "source": [
    "# First look at Data"
   ]
  },
  {
   "cell_type": "code",
   "execution_count": 7,
   "metadata": {
    "colab": {
     "base_uri": "https://localhost:8080/",
     "height": 224
    },
    "id": "inwttHKvaI4d",
    "outputId": "b516239b-c443-4ef9-8c19-492ed4206c3f"
   },
   "outputs": [
    {
     "name": "stdout",
     "output_type": "stream",
     "text": [
      "(38765, 3)\n"
     ]
    },
    {
     "data": {
      "text/html": [
       "<div>\n",
       "<style scoped>\n",
       "    .dataframe tbody tr th:only-of-type {\n",
       "        vertical-align: middle;\n",
       "    }\n",
       "\n",
       "    .dataframe tbody tr th {\n",
       "        vertical-align: top;\n",
       "    }\n",
       "\n",
       "    .dataframe thead th {\n",
       "        text-align: right;\n",
       "    }\n",
       "</style>\n",
       "<table border=\"1\" class=\"dataframe\">\n",
       "  <thead>\n",
       "    <tr style=\"text-align: right;\">\n",
       "      <th></th>\n",
       "      <th>Member_number</th>\n",
       "      <th>Date</th>\n",
       "      <th>itemDescription</th>\n",
       "    </tr>\n",
       "  </thead>\n",
       "  <tbody>\n",
       "    <tr>\n",
       "      <th>0</th>\n",
       "      <td>1808</td>\n",
       "      <td>21-07-2015</td>\n",
       "      <td>tropical fruit</td>\n",
       "    </tr>\n",
       "    <tr>\n",
       "      <th>1</th>\n",
       "      <td>2552</td>\n",
       "      <td>05-01-2015</td>\n",
       "      <td>whole milk</td>\n",
       "    </tr>\n",
       "    <tr>\n",
       "      <th>2</th>\n",
       "      <td>2300</td>\n",
       "      <td>19-09-2015</td>\n",
       "      <td>pip fruit</td>\n",
       "    </tr>\n",
       "    <tr>\n",
       "      <th>3</th>\n",
       "      <td>1187</td>\n",
       "      <td>12-12-2015</td>\n",
       "      <td>other vegetables</td>\n",
       "    </tr>\n",
       "    <tr>\n",
       "      <th>4</th>\n",
       "      <td>3037</td>\n",
       "      <td>01-02-2015</td>\n",
       "      <td>whole milk</td>\n",
       "    </tr>\n",
       "  </tbody>\n",
       "</table>\n",
       "</div>"
      ],
      "text/plain": [
       "   Member_number        Date   itemDescription\n",
       "0           1808  21-07-2015    tropical fruit\n",
       "1           2552  05-01-2015        whole milk\n",
       "2           2300  19-09-2015         pip fruit\n",
       "3           1187  12-12-2015  other vegetables\n",
       "4           3037  01-02-2015        whole milk"
      ]
     },
     "execution_count": 7,
     "metadata": {},
     "output_type": "execute_result"
    }
   ],
   "source": [
    "data=pd.read_csv('Groceries_dataset.csv')\n",
    "print (data.shape)\n",
    "data.head(5)"
   ]
  },
  {
   "cell_type": "markdown",
   "metadata": {
    "id": "-wDf1hqXaI4e"
   },
   "source": [
    "We use the data.head & data.shape function to evaluate our data in general and by column. This allows to develop a initial\n",
    "feel for our data. \n",
    "\n",
    "We can see from our data that we have 38,765 rows and 3 columns se we can rule out straight away any issuses with dimensionality\n",
    "If their were instance 38,765 columns and 3 rows in this instance we would have known as the curse of dimensionality\n",
    "and would need to consider Principal discriminant analysis for  to reduce the dimensionality of our data set or Linear \n",
    "Discriminamnt analysis a  to do likewise.\n",
    "\n",
    "We can see we have membership numbers and a date which may help us achieve the business goals of our project. We can also see we have item description which will allow us complete a market basket analysis.However there are number of issuses with our data itemDescription is in the form of categorical data and will be encoded using a suitable techinque as some machine learning models cannot handle text.\n",
    "\n",
    "We also need to understand that in the current narrow format we will need to transform our data in to a wide format before we carry out market basket analysis.\n",
    "\n",
    "We will also need to consider how later on we can carry out feature engineering to gain further insights into our data. we may need to consider adding an addional columns such as a month column which will may help us look at the seasonal nature of the business. Since we have a date we will be also be able to out time series analysis on our data. "
   ]
  },
  {
   "cell_type": "markdown",
   "metadata": {
    "id": "puL6OMT7aI4f"
   },
   "source": [
    "# Data Cleaning"
   ]
  },
  {
   "cell_type": "markdown",
   "metadata": {},
   "source": [
    "Data cleaning is an essential part of any machine learning project. Algorithms such as Decision trees can deal with missing data,malformed data & duplicated values however an algorithm such as linear regression cannot deal with missing values as they rely on a relationship between the different data points."
   ]
  },
  {
   "cell_type": "markdown",
   "metadata": {
    "id": "dWbQSv6laI4f"
   },
   "source": [
    "Irrelvant Data- We need to remove as much irrelvant data as we can from our database in an effort to reduce noise\n",
    "however we need to be careful that we do not remove features which will facilate us in resolving the business problem\n",
    "we have been presented with. The benefit in carrying out this task succesfully will lead to better conclusions or predictions when we run our machine learning models."
   ]
  },
  {
   "cell_type": "code",
   "execution_count": 8,
   "metadata": {
    "colab": {
     "base_uri": "https://localhost:8080/"
    },
    "id": "mU0XLB7naI4f",
    "outputId": "ad5a51bd-d3cf-4f16-d92f-50013ae5a80d"
   },
   "outputs": [
    {
     "data": {
      "text/plain": [
       "Index(['Member_number', 'Date', 'itemDescription'], dtype='object')"
      ]
     },
     "execution_count": 8,
     "metadata": {},
     "output_type": "execute_result"
    }
   ],
   "source": [
    "data.columns"
   ]
  },
  {
   "cell_type": "code",
   "execution_count": 9,
   "metadata": {
    "colab": {
     "base_uri": "https://localhost:8080/",
     "height": 394
    },
    "id": "JntWDTRxaI4f",
    "outputId": "de8c2e35-c718-4207-aa70-f937eb3867c0",
    "scrolled": true
   },
   "outputs": [
    {
     "data": {
      "text/html": [
       "<div>\n",
       "<style scoped>\n",
       "    .dataframe tbody tr th:only-of-type {\n",
       "        vertical-align: middle;\n",
       "    }\n",
       "\n",
       "    .dataframe tbody tr th {\n",
       "        vertical-align: top;\n",
       "    }\n",
       "\n",
       "    .dataframe thead th {\n",
       "        text-align: right;\n",
       "    }\n",
       "</style>\n",
       "<table border=\"1\" class=\"dataframe\">\n",
       "  <thead>\n",
       "    <tr style=\"text-align: right;\">\n",
       "      <th></th>\n",
       "      <th>Member_number</th>\n",
       "      <th>Date</th>\n",
       "      <th>itemDescription</th>\n",
       "    </tr>\n",
       "  </thead>\n",
       "  <tbody>\n",
       "    <tr>\n",
       "      <th>count</th>\n",
       "      <td>38765.000000</td>\n",
       "      <td>38765</td>\n",
       "      <td>38765</td>\n",
       "    </tr>\n",
       "    <tr>\n",
       "      <th>unique</th>\n",
       "      <td>NaN</td>\n",
       "      <td>728</td>\n",
       "      <td>167</td>\n",
       "    </tr>\n",
       "    <tr>\n",
       "      <th>top</th>\n",
       "      <td>NaN</td>\n",
       "      <td>21-01-2015</td>\n",
       "      <td>whole milk</td>\n",
       "    </tr>\n",
       "    <tr>\n",
       "      <th>freq</th>\n",
       "      <td>NaN</td>\n",
       "      <td>96</td>\n",
       "      <td>2502</td>\n",
       "    </tr>\n",
       "    <tr>\n",
       "      <th>mean</th>\n",
       "      <td>3003.641868</td>\n",
       "      <td>NaN</td>\n",
       "      <td>NaN</td>\n",
       "    </tr>\n",
       "    <tr>\n",
       "      <th>std</th>\n",
       "      <td>1153.611031</td>\n",
       "      <td>NaN</td>\n",
       "      <td>NaN</td>\n",
       "    </tr>\n",
       "    <tr>\n",
       "      <th>min</th>\n",
       "      <td>1000.000000</td>\n",
       "      <td>NaN</td>\n",
       "      <td>NaN</td>\n",
       "    </tr>\n",
       "    <tr>\n",
       "      <th>25%</th>\n",
       "      <td>2002.000000</td>\n",
       "      <td>NaN</td>\n",
       "      <td>NaN</td>\n",
       "    </tr>\n",
       "    <tr>\n",
       "      <th>50%</th>\n",
       "      <td>3005.000000</td>\n",
       "      <td>NaN</td>\n",
       "      <td>NaN</td>\n",
       "    </tr>\n",
       "    <tr>\n",
       "      <th>75%</th>\n",
       "      <td>4007.000000</td>\n",
       "      <td>NaN</td>\n",
       "      <td>NaN</td>\n",
       "    </tr>\n",
       "    <tr>\n",
       "      <th>max</th>\n",
       "      <td>5000.000000</td>\n",
       "      <td>NaN</td>\n",
       "      <td>NaN</td>\n",
       "    </tr>\n",
       "  </tbody>\n",
       "</table>\n",
       "</div>"
      ],
      "text/plain": [
       "        Member_number        Date itemDescription\n",
       "count    38765.000000       38765           38765\n",
       "unique            NaN         728             167\n",
       "top               NaN  21-01-2015      whole milk\n",
       "freq              NaN          96            2502\n",
       "mean      3003.641868         NaN             NaN\n",
       "std       1153.611031         NaN             NaN\n",
       "min       1000.000000         NaN             NaN\n",
       "25%       2002.000000         NaN             NaN\n",
       "50%       3005.000000         NaN             NaN\n",
       "75%       4007.000000         NaN             NaN\n",
       "max       5000.000000         NaN             NaN"
      ]
     },
     "execution_count": 9,
     "metadata": {},
     "output_type": "execute_result"
    }
   ],
   "source": [
    "data.describe(include='all')"
   ]
  },
  {
   "cell_type": "markdown",
   "metadata": {
    "id": "jyZ7apt7aI4g"
   },
   "source": [
    "We can see from the above code we not seem to have any missing values, this is important as missing values will play havoc with any machine learning models we try to run. "
   ]
  },
  {
   "cell_type": "code",
   "execution_count": 10,
   "metadata": {
    "colab": {
     "base_uri": "https://localhost:8080/"
    },
    "id": "sz7W02lVaI4g",
    "outputId": "4dbf167d-6f9a-4211-befa-c381a1e3ba63"
   },
   "outputs": [
    {
     "data": {
      "text/plain": [
       "{int64: ['Member_number'], object: ['Date', 'itemDescription']}"
      ]
     },
     "execution_count": 10,
     "metadata": {},
     "output_type": "execute_result"
    }
   ],
   "source": [
    "data.columns.to_series().groupby(data.dtypes).groups"
   ]
  },
  {
   "cell_type": "markdown",
   "metadata": {
    "id": "1_S0zn5SaI4g"
   },
   "source": [
    "We can see from our code tht the data column is an object we will need to change it to a datetime to allow for data specific operations, facilate time based analysis and also support data based filtering and sorting."
   ]
  },
  {
   "cell_type": "code",
   "execution_count": 11,
   "metadata": {
    "id": "vqWkz0iOaI4h"
   },
   "outputs": [],
   "source": [
    "data['Date']=pd.to_datetime(data['Date'])"
   ]
  },
  {
   "cell_type": "code",
   "execution_count": 12,
   "metadata": {
    "colab": {
     "base_uri": "https://localhost:8080/"
    },
    "id": "64HASYNsaI4h",
    "outputId": "8b4ed5a2-d950-480c-f1f8-7a63c2e938b2",
    "scrolled": true
   },
   "outputs": [
    {
     "data": {
      "text/plain": [
       "Member_number               int64\n",
       "Date               datetime64[ns]\n",
       "itemDescription            object\n",
       "dtype: object"
      ]
     },
     "execution_count": 12,
     "metadata": {},
     "output_type": "execute_result"
    }
   ],
   "source": [
    "data.dtypes"
   ]
  },
  {
   "cell_type": "code",
   "execution_count": 13,
   "metadata": {
    "colab": {
     "base_uri": "https://localhost:8080/"
    },
    "id": "Gp6RttK7aI4h",
    "outputId": "eab9ec08-02cf-4296-9eb2-2f7e63dfa531"
   },
   "outputs": [
    {
     "name": "stdout",
     "output_type": "stream",
     "text": [
      "<class 'pandas.core.frame.DataFrame'>\n",
      "RangeIndex: 38765 entries, 0 to 38764\n",
      "Data columns (total 3 columns):\n",
      " #   Column           Non-Null Count  Dtype         \n",
      "---  ------           --------------  -----         \n",
      " 0   Member_number    38765 non-null  int64         \n",
      " 1   Date             38765 non-null  datetime64[ns]\n",
      " 2   itemDescription  38765 non-null  object        \n",
      "dtypes: datetime64[ns](1), int64(1), object(1)\n",
      "memory usage: 908.7+ KB\n"
     ]
    }
   ],
   "source": [
    "data.info()"
   ]
  },
  {
   "cell_type": "markdown",
   "metadata": {
    "id": "_JIoGx9oaI4h"
   },
   "source": [
    "We can see from our info function that we have no miising values and our data is off the correct type to allow for further maniuplation "
   ]
  },
  {
   "cell_type": "code",
   "execution_count": 14,
   "metadata": {
    "colab": {
     "base_uri": "https://localhost:8080/"
    },
    "id": "XcyKZLY8aI4i",
    "outputId": "4f215e8e-8363-426a-a970-54e331bfd1b2"
   },
   "outputs": [
    {
     "data": {
      "text/plain": [
       "Member_number      False\n",
       "Date               False\n",
       "itemDescription    False\n",
       "dtype: bool"
      ]
     },
     "execution_count": 14,
     "metadata": {},
     "output_type": "execute_result"
    }
   ],
   "source": [
    "data.isna().any()"
   ]
  },
  {
   "cell_type": "code",
   "execution_count": 15,
   "metadata": {
    "colab": {
     "base_uri": "https://localhost:8080/"
    },
    "id": "ng-xr6AOaI4i",
    "outputId": "160e54e7-6d39-4a15-eba4-628e1d14daa5"
   },
   "outputs": [
    {
     "data": {
      "text/plain": [
       "167"
      ]
     },
     "execution_count": 15,
     "metadata": {},
     "output_type": "execute_result"
    }
   ],
   "source": [
    "data['itemDescription'].unique().size"
   ]
  },
  {
   "cell_type": "markdown",
   "metadata": {},
   "source": [
    "We have 167 unique produducts in our dataset. Given that in a recent UKGrocer reports that Tesco have a product line of 1811 & Asda 3847. These may not be unique products but it could suggest that the product lines in our dataset have been grouped togrther. It may suggest that the grocery dataset may have been taken from a convenicence store. It could also suggest our dataset is complete or the data was not collected correctly. This may lead to week patterns of association being made when it come to our market basket analysis this is something we need to be aware as data analysts the limitations of our data."
   ]
  },
  {
   "cell_type": "code",
   "execution_count": 16,
   "metadata": {
    "colab": {
     "base_uri": "https://localhost:8080/",
     "height": 451
    },
    "id": "UF__MvrSaI4k",
    "outputId": "7f781de6-5a2f-47f5-8815-38530ce0d206"
   },
   "outputs": [
    {
     "data": {
      "image/png": "[encoded data removed]",
      "text/plain": [
       "<Figure size 720x432 with 1 Axes>"
      ]
     },
     "metadata": {},
     "output_type": "display_data"
    }
   ],
   "source": [
    "plt.figure(figsize=(10,6))\n",
    "top10=data['itemDescription'].value_counts().head(20)\n",
    "top10.plot.barh(color='b',alpha=.7)\n",
    "# Customize chart\n",
    "plt.xticks(rotation=90,fontsize=12)\n",
    "plt.yticks(fontsize=13)\n",
    "plt.title('Top 20 Items Sold',fontsize=20,fontweight='bold')\n",
    "plt.xlabel('Items Description',fontsize=16,fontweight='bold')\n",
    "plt.ylabel('Items by  Count',fontsize=16)\n",
    "plt.show()\n"
   ]
  },
  {
   "cell_type": "code",
   "execution_count": 17,
   "metadata": {},
   "outputs": [
    {
     "data": {
      "image/png": "[encoded data removed]",
      "text/plain": [
       "<Figure size 720x432 with 1 Axes>"
      ]
     },
     "metadata": {},
     "output_type": "display_data"
    }
   ],
   "source": [
    "plt.figure(figsize=(10,6))\n",
    "top10=data['itemDescription'].value_counts().head(5)\n",
    "top10.plot.bar(color='b',alpha=.7)\n",
    "# Customize chart\n",
    "plt.xticks(rotation=45,fontsize=12)\n",
    "plt.yticks(fontsize=13)\n",
    "plt.title('Top 5 Items Sold',fontsize=20,fontweight='bold')\n",
    "plt.xlabel('Items Description',fontsize=16,fontweight='bold')\n",
    "plt.ylabel('Items by  Count',fontsize=16)\n",
    "plt.show()"
   ]
  },
  {
   "cell_type": "code",
   "execution_count": 18,
   "metadata": {
    "colab": {
     "base_uri": "https://localhost:8080/",
     "height": 451
    },
    "id": "9VmEQX5iaI4l",
    "outputId": "ebab6df7-c126-43a4-9aea-5c4a1ad09396"
   },
   "outputs": [
    {
     "data": {
      "image/png": "[encoded data removed]",
      "text/plain": [
       "<Figure size 720x432 with 1 Axes>"
      ]
     },
     "metadata": {},
     "output_type": "display_data"
    }
   ],
   "source": [
    "plt.figure(figsize=(10,6))\n",
    "top10=data['itemDescription'].value_counts().tail(20)\n",
    "top10.plot.barh(color='b',alpha=.7)\n",
    "# Customize chart\n",
    "plt.xticks(rotation=90,fontsize=12)\n",
    "plt.yticks(fontsize=13)\n",
    "plt.title('Bottom 20 Items Sold',fontsize=20,fontweight='bold')\n",
    "plt.xlabel('Items Description',fontsize=16,fontweight='bold')\n",
    "plt.ylabel('Items by  Count',fontsize=16)\n",
    "plt.show()"
   ]
  },
  {
   "cell_type": "code",
   "execution_count": 19,
   "metadata": {
    "colab": {
     "base_uri": "https://localhost:8080/",
     "height": 424
    },
    "id": "QSFwHUHaaI4l",
    "outputId": "9ae5b0db-49ad-4fd2-a144-471e71280746"
   },
   "outputs": [
    {
     "data": {
      "text/html": [
       "<div>\n",
       "<style scoped>\n",
       "    .dataframe tbody tr th:only-of-type {\n",
       "        vertical-align: middle;\n",
       "    }\n",
       "\n",
       "    .dataframe tbody tr th {\n",
       "        vertical-align: top;\n",
       "    }\n",
       "\n",
       "    .dataframe thead th {\n",
       "        text-align: right;\n",
       "    }\n",
       "</style>\n",
       "<table border=\"1\" class=\"dataframe\">\n",
       "  <thead>\n",
       "    <tr style=\"text-align: right;\">\n",
       "      <th></th>\n",
       "      <th>Member_number</th>\n",
       "      <th>Date</th>\n",
       "      <th>itemDescription</th>\n",
       "    </tr>\n",
       "  </thead>\n",
       "  <tbody>\n",
       "    <tr>\n",
       "      <th>63</th>\n",
       "      <td>1663</td>\n",
       "      <td>2015-02-07</td>\n",
       "      <td>rolls/buns</td>\n",
       "    </tr>\n",
       "    <tr>\n",
       "      <th>98</th>\n",
       "      <td>3645</td>\n",
       "      <td>2015-12-12</td>\n",
       "      <td>citrus fruit</td>\n",
       "    </tr>\n",
       "    <tr>\n",
       "      <th>129</th>\n",
       "      <td>3779</td>\n",
       "      <td>2015-09-15</td>\n",
       "      <td>frankfurter</td>\n",
       "    </tr>\n",
       "    <tr>\n",
       "      <th>213</th>\n",
       "      <td>3812</td>\n",
       "      <td>2015-07-21</td>\n",
       "      <td>sausage</td>\n",
       "    </tr>\n",
       "    <tr>\n",
       "      <th>216</th>\n",
       "      <td>1344</td>\n",
       "      <td>2015-09-04</td>\n",
       "      <td>bottled water</td>\n",
       "    </tr>\n",
       "    <tr>\n",
       "      <th>...</th>\n",
       "      <td>...</td>\n",
       "      <td>...</td>\n",
       "      <td>...</td>\n",
       "    </tr>\n",
       "    <tr>\n",
       "      <th>38614</th>\n",
       "      <td>2027</td>\n",
       "      <td>2014-02-26</td>\n",
       "      <td>domestic eggs</td>\n",
       "    </tr>\n",
       "    <tr>\n",
       "      <th>38684</th>\n",
       "      <td>2936</td>\n",
       "      <td>2014-03-07</td>\n",
       "      <td>newspapers</td>\n",
       "    </tr>\n",
       "    <tr>\n",
       "      <th>38685</th>\n",
       "      <td>2311</td>\n",
       "      <td>2014-03-13</td>\n",
       "      <td>pot plants</td>\n",
       "    </tr>\n",
       "    <tr>\n",
       "      <th>38722</th>\n",
       "      <td>3834</td>\n",
       "      <td>2014-05-18</td>\n",
       "      <td>salty snack</td>\n",
       "    </tr>\n",
       "    <tr>\n",
       "      <th>38723</th>\n",
       "      <td>1146</td>\n",
       "      <td>2014-05-23</td>\n",
       "      <td>yogurt</td>\n",
       "    </tr>\n",
       "  </tbody>\n",
       "</table>\n",
       "<p>1491 rows × 3 columns</p>\n",
       "</div>"
      ],
      "text/plain": [
       "       Member_number       Date itemDescription\n",
       "63              1663 2015-02-07      rolls/buns\n",
       "98              3645 2015-12-12    citrus fruit\n",
       "129             3779 2015-09-15     frankfurter\n",
       "213             3812 2015-07-21         sausage\n",
       "216             1344 2015-09-04   bottled water\n",
       "...              ...        ...             ...\n",
       "38614           2027 2014-02-26   domestic eggs\n",
       "38684           2936 2014-03-07      newspapers\n",
       "38685           2311 2014-03-13      pot plants\n",
       "38722           3834 2014-05-18     salty snack\n",
       "38723           1146 2014-05-23          yogurt\n",
       "\n",
       "[1491 rows x 3 columns]"
      ]
     },
     "execution_count": 19,
     "metadata": {},
     "output_type": "execute_result"
    }
   ],
   "source": [
    "duplicate_Data = data[data.duplicated(subset=data.columns,keep=False)]\n",
    "duplicate_Data"
   ]
  },
  {
   "cell_type": "code",
   "execution_count": 20,
   "metadata": {
    "colab": {
     "base_uri": "https://localhost:8080/"
    },
    "id": "2AIsIclxaI4m",
    "outputId": "7bd9fa41-7e06-4715-a4cc-94c24d5e973e",
    "scrolled": true
   },
   "outputs": [
    {
     "name": "stdout",
     "output_type": "stream",
     "text": [
      "Date\n",
      "2014-01-01    48\n",
      "2014-01-02    55\n",
      "2014-01-03    46\n",
      "2014-01-04    39\n",
      "2014-01-05    59\n",
      "              ..\n",
      "2015-12-26    37\n",
      "2015-12-27    74\n",
      "2015-12-28    58\n",
      "2015-12-29    57\n",
      "2015-12-30    53\n",
      "Name: itemDescription, Length: 728, dtype: int64\n"
     ]
    }
   ],
   "source": [
    "items_sold_per_date = data.groupby('Date')['itemDescription'].count()\n",
    "print(items_sold_per_date)"
   ]
  },
  {
   "cell_type": "markdown",
   "metadata": {
    "id": "G3J0-_ThaI4n"
   },
   "source": [
    "We have used the duplicated function to search for duplicates in our dataframe .we have 728 duplicate values and we could possibly remove them, however if we remove them we are introducing personal bias in our model this is because we would be assuming that the member did not make a repeat visit to the store. There may be a issue with the collection of the data. In this instance we may need to investigate further however for the purpose of this we will leave the duplicated values in our dataset.\n",
    "Standardize data - Some Machine learning models assume that the data presented will have a value of between 0 and 1 if we present data that is not standardized the model may perform badly. While scaling reduces the value of the features we apply the same technique to all the characteristics this results in the association between the variables being maintained. Data analysts only care about the relationship and distance between variables not their values We can use standard-scaler to standardize the data.\n",
    "Scaling transformation – we can also scaling our data this function offers the same result as standardize data however if we use min-max scale we preserve the distribution of our data and guarantees the values fall within a specific range.\n",
    "It is important to understand that we use the right scaling technique based on the right characteristic of our data and the needs of the algorithm we will use\n",
    "Outliers. As we have no numeric data we can not check for outliers. Outliers can mess up any analysis as they skew the distribution of our data. an example would were we have a very wealthy person in a salary dataset this will in the mean being skewed to the right however in this instance it would be correct to remove the data point. however in other circumstances outliers to predict outcomes. As they may suggest a changing of a trend. we can visualise outliers through the use of box plots.\n",
    "  "
   ]
  },
  {
   "cell_type": "markdown",
   "metadata": {
    "id": "tw9QvXwvaI4n"
   },
   "source": [
    "# Univarate data analysis"
   ]
  },
  {
   "cell_type": "markdown",
   "metadata": {
    "id": "o9o18UzAaI4o"
   },
   "source": [
    "Univariate data analysis refers to the analysis of a single variable or feature in a dataset. It focuses on understanding the distribution, central tendency, variability, and other characteristics of that specific variable. Univariate analysis provides valuable insights into the individual variable's behaviour and helps in identifying patterns or trends."
   ]
  },
  {
   "cell_type": "markdown",
   "metadata": {
    "id": "Q-aHKxJqaI4o"
   },
   "source": [
    "In univarate analysis we could use techniques such as descripitve statistics. We would look at the mean, median,mode and range of our data. we would also look at the distribution of our data does it form bell curve, is it multimodial,is it skewed to the right or left this  analysis is crucial to understand the data as this will determine the models we will use for our predictive analysis as our algorithms can perform differently  depending on the nature of the data it is presented with. "
   ]
  },
  {
   "cell_type": "code",
   "execution_count": 21,
   "metadata": {
    "id": "7fTnF0Q_aI4o"
   },
   "outputs": [],
   "source": [
    "data['Month']= data['Date'].dt.month"
   ]
  },
  {
   "cell_type": "code",
   "execution_count": 22,
   "metadata": {
    "colab": {
     "base_uri": "https://localhost:8080/",
     "height": 112
    },
    "id": "VJZVp_4aaI4o",
    "outputId": "eda5a7b4-14cc-4213-cba1-8301626e14ea",
    "scrolled": false
   },
   "outputs": [
    {
     "data": {
      "text/html": [
       "<div>\n",
       "<style scoped>\n",
       "    .dataframe tbody tr th:only-of-type {\n",
       "        vertical-align: middle;\n",
       "    }\n",
       "\n",
       "    .dataframe tbody tr th {\n",
       "        vertical-align: top;\n",
       "    }\n",
       "\n",
       "    .dataframe thead th {\n",
       "        text-align: right;\n",
       "    }\n",
       "</style>\n",
       "<table border=\"1\" class=\"dataframe\">\n",
       "  <thead>\n",
       "    <tr style=\"text-align: right;\">\n",
       "      <th></th>\n",
       "      <th>Member_number</th>\n",
       "      <th>Date</th>\n",
       "      <th>itemDescription</th>\n",
       "      <th>Month</th>\n",
       "    </tr>\n",
       "  </thead>\n",
       "  <tbody>\n",
       "    <tr>\n",
       "      <th>0</th>\n",
       "      <td>1808</td>\n",
       "      <td>2015-07-21</td>\n",
       "      <td>tropical fruit</td>\n",
       "      <td>7</td>\n",
       "    </tr>\n",
       "    <tr>\n",
       "      <th>1</th>\n",
       "      <td>2552</td>\n",
       "      <td>2015-01-05</td>\n",
       "      <td>whole milk</td>\n",
       "      <td>1</td>\n",
       "    </tr>\n",
       "  </tbody>\n",
       "</table>\n",
       "</div>"
      ],
      "text/plain": [
       "   Member_number       Date itemDescription  Month\n",
       "0           1808 2015-07-21  tropical fruit      7\n",
       "1           2552 2015-01-05      whole milk      1"
      ]
     },
     "execution_count": 22,
     "metadata": {},
     "output_type": "execute_result"
    }
   ],
   "source": [
    "data.head(2)"
   ]
  },
  {
   "cell_type": "markdown",
   "metadata": {
    "id": "qaeBvIgDaI4o"
   },
   "source": [
    "We are going to carry out some feature engineering to help our models to minimize loss when predicting outcomes.\n",
    "we have a date column so we can add extra features. We add extra features to try and improve the predictive power of our models. We also aim to use existisng data to that may capture underlying relationships within our data.\n"
   ]
  },
  {
   "cell_type": "code",
   "execution_count": 23,
   "metadata": {
    "id": "xGIlet-5aI4z"
   },
   "outputs": [],
   "source": [
    "df_new=data.copy()"
   ]
  },
  {
   "cell_type": "code",
   "execution_count": 24,
   "metadata": {
    "id": "5SL4Mf-jaI4z"
   },
   "outputs": [],
   "source": [
    "df_new['Quantity'] =1\n",
    "df_new['Date'] = pd.to_datetime(data['Date'])\n",
    "df_new['Month']=data['Date'].apply(lambda x: x.month)\n",
    "df_new['Day of The Week']=data['Date'].apply(lambda time: time.dayofweek)\n",
    "df_new['Year']=data['Date'].apply(lambda t: t.year)\n",
    "df_new['Day']=data['Date'].apply(lambda t: t.day)\n"
   ]
  },
  {
   "cell_type": "code",
   "execution_count": 25,
   "metadata": {
    "colab": {
     "base_uri": "https://localhost:8080/",
     "height": 206
    },
    "id": "LTKxW0GKaI41",
    "outputId": "1d9d6138-0673-486c-e15d-84451fc145c4"
   },
   "outputs": [
    {
     "data": {
      "text/html": [
       "<div>\n",
       "<style scoped>\n",
       "    .dataframe tbody tr th:only-of-type {\n",
       "        vertical-align: middle;\n",
       "    }\n",
       "\n",
       "    .dataframe tbody tr th {\n",
       "        vertical-align: top;\n",
       "    }\n",
       "\n",
       "    .dataframe thead th {\n",
       "        text-align: right;\n",
       "    }\n",
       "</style>\n",
       "<table border=\"1\" class=\"dataframe\">\n",
       "  <thead>\n",
       "    <tr style=\"text-align: right;\">\n",
       "      <th></th>\n",
       "      <th>Member_number</th>\n",
       "      <th>Date</th>\n",
       "      <th>itemDescription</th>\n",
       "      <th>Month</th>\n",
       "      <th>Quantity</th>\n",
       "      <th>Day of The Week</th>\n",
       "      <th>Year</th>\n",
       "      <th>Day</th>\n",
       "    </tr>\n",
       "  </thead>\n",
       "  <tbody>\n",
       "    <tr>\n",
       "      <th>0</th>\n",
       "      <td>1808</td>\n",
       "      <td>2015-07-21</td>\n",
       "      <td>tropical fruit</td>\n",
       "      <td>7</td>\n",
       "      <td>1</td>\n",
       "      <td>1</td>\n",
       "      <td>2015</td>\n",
       "      <td>21</td>\n",
       "    </tr>\n",
       "    <tr>\n",
       "      <th>1</th>\n",
       "      <td>2552</td>\n",
       "      <td>2015-01-05</td>\n",
       "      <td>whole milk</td>\n",
       "      <td>1</td>\n",
       "      <td>1</td>\n",
       "      <td>0</td>\n",
       "      <td>2015</td>\n",
       "      <td>5</td>\n",
       "    </tr>\n",
       "    <tr>\n",
       "      <th>2</th>\n",
       "      <td>2300</td>\n",
       "      <td>2015-09-19</td>\n",
       "      <td>pip fruit</td>\n",
       "      <td>9</td>\n",
       "      <td>1</td>\n",
       "      <td>5</td>\n",
       "      <td>2015</td>\n",
       "      <td>19</td>\n",
       "    </tr>\n",
       "    <tr>\n",
       "      <th>3</th>\n",
       "      <td>1187</td>\n",
       "      <td>2015-12-12</td>\n",
       "      <td>other vegetables</td>\n",
       "      <td>12</td>\n",
       "      <td>1</td>\n",
       "      <td>5</td>\n",
       "      <td>2015</td>\n",
       "      <td>12</td>\n",
       "    </tr>\n",
       "    <tr>\n",
       "      <th>4</th>\n",
       "      <td>3037</td>\n",
       "      <td>2015-02-01</td>\n",
       "      <td>whole milk</td>\n",
       "      <td>2</td>\n",
       "      <td>1</td>\n",
       "      <td>6</td>\n",
       "      <td>2015</td>\n",
       "      <td>1</td>\n",
       "    </tr>\n",
       "  </tbody>\n",
       "</table>\n",
       "</div>"
      ],
      "text/plain": [
       "   Member_number       Date   itemDescription  Month  Quantity  \\\n",
       "0           1808 2015-07-21    tropical fruit      7         1   \n",
       "1           2552 2015-01-05        whole milk      1         1   \n",
       "2           2300 2015-09-19         pip fruit      9         1   \n",
       "3           1187 2015-12-12  other vegetables     12         1   \n",
       "4           3037 2015-02-01        whole milk      2         1   \n",
       "\n",
       "   Day of The Week  Year  Day  \n",
       "0                1  2015   21  \n",
       "1                0  2015    5  \n",
       "2                5  2015   19  \n",
       "3                5  2015   12  \n",
       "4                6  2015    1  "
      ]
     },
     "execution_count": 25,
     "metadata": {},
     "output_type": "execute_result"
    }
   ],
   "source": [
    "df_new.head()"
   ]
  },
  {
   "cell_type": "code",
   "execution_count": 26,
   "metadata": {
    "id": "4cCdYR6waI42"
   },
   "outputs": [],
   "source": [
    "month_to_qtr = {1:1,2:1,3:1,4:2,5:2,6:2,7:3,8:3,9:3,10:4,11:4,12:4}\n",
    "df_new['Qtr']=df_new['Month'].map(month_to_qtr)"
   ]
  },
  {
   "cell_type": "code",
   "execution_count": 27,
   "metadata": {
    "colab": {
     "base_uri": "https://localhost:8080/",
     "height": 206
    },
    "id": "MgairFlWaI42",
    "outputId": "9a1dfa72-884c-485d-f5e0-df48ceae46f8"
   },
   "outputs": [
    {
     "data": {
      "text/html": [
       "<div>\n",
       "<style scoped>\n",
       "    .dataframe tbody tr th:only-of-type {\n",
       "        vertical-align: middle;\n",
       "    }\n",
       "\n",
       "    .dataframe tbody tr th {\n",
       "        vertical-align: top;\n",
       "    }\n",
       "\n",
       "    .dataframe thead th {\n",
       "        text-align: right;\n",
       "    }\n",
       "</style>\n",
       "<table border=\"1\" class=\"dataframe\">\n",
       "  <thead>\n",
       "    <tr style=\"text-align: right;\">\n",
       "      <th></th>\n",
       "      <th>Member_number</th>\n",
       "      <th>Date</th>\n",
       "      <th>itemDescription</th>\n",
       "      <th>Month</th>\n",
       "      <th>Quantity</th>\n",
       "      <th>Day of The Week</th>\n",
       "      <th>Year</th>\n",
       "      <th>Day</th>\n",
       "      <th>Qtr</th>\n",
       "    </tr>\n",
       "  </thead>\n",
       "  <tbody>\n",
       "    <tr>\n",
       "      <th>0</th>\n",
       "      <td>1808</td>\n",
       "      <td>2015-07-21</td>\n",
       "      <td>tropical fruit</td>\n",
       "      <td>7</td>\n",
       "      <td>1</td>\n",
       "      <td>1</td>\n",
       "      <td>2015</td>\n",
       "      <td>21</td>\n",
       "      <td>3</td>\n",
       "    </tr>\n",
       "    <tr>\n",
       "      <th>1</th>\n",
       "      <td>2552</td>\n",
       "      <td>2015-01-05</td>\n",
       "      <td>whole milk</td>\n",
       "      <td>1</td>\n",
       "      <td>1</td>\n",
       "      <td>0</td>\n",
       "      <td>2015</td>\n",
       "      <td>5</td>\n",
       "      <td>1</td>\n",
       "    </tr>\n",
       "    <tr>\n",
       "      <th>2</th>\n",
       "      <td>2300</td>\n",
       "      <td>2015-09-19</td>\n",
       "      <td>pip fruit</td>\n",
       "      <td>9</td>\n",
       "      <td>1</td>\n",
       "      <td>5</td>\n",
       "      <td>2015</td>\n",
       "      <td>19</td>\n",
       "      <td>3</td>\n",
       "    </tr>\n",
       "    <tr>\n",
       "      <th>3</th>\n",
       "      <td>1187</td>\n",
       "      <td>2015-12-12</td>\n",
       "      <td>other vegetables</td>\n",
       "      <td>12</td>\n",
       "      <td>1</td>\n",
       "      <td>5</td>\n",
       "      <td>2015</td>\n",
       "      <td>12</td>\n",
       "      <td>4</td>\n",
       "    </tr>\n",
       "    <tr>\n",
       "      <th>4</th>\n",
       "      <td>3037</td>\n",
       "      <td>2015-02-01</td>\n",
       "      <td>whole milk</td>\n",
       "      <td>2</td>\n",
       "      <td>1</td>\n",
       "      <td>6</td>\n",
       "      <td>2015</td>\n",
       "      <td>1</td>\n",
       "      <td>1</td>\n",
       "    </tr>\n",
       "  </tbody>\n",
       "</table>\n",
       "</div>"
      ],
      "text/plain": [
       "   Member_number       Date   itemDescription  Month  Quantity  \\\n",
       "0           1808 2015-07-21    tropical fruit      7         1   \n",
       "1           2552 2015-01-05        whole milk      1         1   \n",
       "2           2300 2015-09-19         pip fruit      9         1   \n",
       "3           1187 2015-12-12  other vegetables     12         1   \n",
       "4           3037 2015-02-01        whole milk      2         1   \n",
       "\n",
       "   Day of The Week  Year  Day  Qtr  \n",
       "0                1  2015   21    3  \n",
       "1                0  2015    5    1  \n",
       "2                5  2015   19    3  \n",
       "3                5  2015   12    4  \n",
       "4                6  2015    1    1  "
      ]
     },
     "execution_count": 27,
     "metadata": {},
     "output_type": "execute_result"
    }
   ],
   "source": [
    "df_new.head()"
   ]
  },
  {
   "cell_type": "code",
   "execution_count": 28,
   "metadata": {
    "colab": {
     "base_uri": "https://localhost:8080/"
    },
    "id": "eqU__959aI43",
    "outputId": "22ddc987-5095-47cf-a89a-81a6f6dd314e"
   },
   "outputs": [
    {
     "data": {
      "text/plain": [
       "Member_number               int64\n",
       "Date               datetime64[ns]\n",
       "itemDescription            object\n",
       "Month                       int64\n",
       "Quantity                    int64\n",
       "Day of The Week             int64\n",
       "Year                        int64\n",
       "Day                         int64\n",
       "Qtr                         int64\n",
       "dtype: object"
      ]
     },
     "execution_count": 28,
     "metadata": {},
     "output_type": "execute_result"
    }
   ],
   "source": [
    "df_new.dtypes"
   ]
  },
  {
   "cell_type": "markdown",
   "metadata": {},
   "source": [
    "# The Business Problem"
   ]
  },
  {
   "cell_type": "markdown",
   "metadata": {},
   "source": [
    "The business owner would like to drive volume and profitability through the business by increasing the amount spent by each customer who visits the store. He wants to formulate a marketing strategy that identifies customer who currently underspend in the store however he also wants to target higher spend customers with a marketing campaign to encourage them to buy higher value products.\n",
    "\n",
    "We advise the business owner we can use the date we have to segement his customers in to low, medium, and high spend and use a machine learing model to predict what segement future customers would fall in to. We advise could help the business owner this would allow him to devise a highly cost effective marketing strategy.\n"
   ]
  },
  {
   "cell_type": "code",
   "execution_count": 29,
   "metadata": {
    "colab": {
     "base_uri": "https://localhost:8080/"
    },
    "id": "R6hqUThRaI43",
    "outputId": "7c413236-4199-4af0-c936-4139a5912091"
   },
   "outputs": [
    {
     "data": {
      "text/plain": [
       "Date\n",
       "2014-01-01    48\n",
       "2014-01-02    55\n",
       "2014-01-03    46\n",
       "2014-01-04    39\n",
       "2014-01-05    59\n",
       "Name: itemDescription, dtype: int64"
      ]
     },
     "execution_count": 29,
     "metadata": {},
     "output_type": "execute_result"
    }
   ],
   "source": [
    "items_sold_by_date= df_new.groupby('Date')['itemDescription'].count()\n",
    "items_sold_by_date.head()\n"
   ]
  },
  {
   "cell_type": "code",
   "execution_count": 30,
   "metadata": {
    "colab": {
     "base_uri": "https://localhost:8080/",
     "height": 206
    },
    "id": "svixvnKlaI44",
    "outputId": "0e141392-72b0-4464-c251-7e2ceb2bd966"
   },
   "outputs": [
    {
     "data": {
      "text/html": [
       "<div>\n",
       "<style scoped>\n",
       "    .dataframe tbody tr th:only-of-type {\n",
       "        vertical-align: middle;\n",
       "    }\n",
       "\n",
       "    .dataframe tbody tr th {\n",
       "        vertical-align: top;\n",
       "    }\n",
       "\n",
       "    .dataframe thead th {\n",
       "        text-align: right;\n",
       "    }\n",
       "</style>\n",
       "<table border=\"1\" class=\"dataframe\">\n",
       "  <thead>\n",
       "    <tr style=\"text-align: right;\">\n",
       "      <th></th>\n",
       "      <th>Member_number</th>\n",
       "      <th>Date</th>\n",
       "      <th>itemDescription_x</th>\n",
       "      <th>Month</th>\n",
       "      <th>Quantity</th>\n",
       "      <th>Day of The Week</th>\n",
       "      <th>Year</th>\n",
       "      <th>Day</th>\n",
       "      <th>Qtr</th>\n",
       "      <th>itemDescription_y</th>\n",
       "    </tr>\n",
       "  </thead>\n",
       "  <tbody>\n",
       "    <tr>\n",
       "      <th>0</th>\n",
       "      <td>1808</td>\n",
       "      <td>2015-07-21</td>\n",
       "      <td>tropical fruit</td>\n",
       "      <td>7</td>\n",
       "      <td>1</td>\n",
       "      <td>1</td>\n",
       "      <td>2015</td>\n",
       "      <td>21</td>\n",
       "      <td>3</td>\n",
       "      <td>93</td>\n",
       "    </tr>\n",
       "    <tr>\n",
       "      <th>1</th>\n",
       "      <td>2552</td>\n",
       "      <td>2015-01-05</td>\n",
       "      <td>whole milk</td>\n",
       "      <td>1</td>\n",
       "      <td>1</td>\n",
       "      <td>0</td>\n",
       "      <td>2015</td>\n",
       "      <td>5</td>\n",
       "      <td>1</td>\n",
       "      <td>68</td>\n",
       "    </tr>\n",
       "    <tr>\n",
       "      <th>2</th>\n",
       "      <td>2300</td>\n",
       "      <td>2015-09-19</td>\n",
       "      <td>pip fruit</td>\n",
       "      <td>9</td>\n",
       "      <td>1</td>\n",
       "      <td>5</td>\n",
       "      <td>2015</td>\n",
       "      <td>19</td>\n",
       "      <td>3</td>\n",
       "      <td>57</td>\n",
       "    </tr>\n",
       "    <tr>\n",
       "      <th>3</th>\n",
       "      <td>1187</td>\n",
       "      <td>2015-12-12</td>\n",
       "      <td>other vegetables</td>\n",
       "      <td>12</td>\n",
       "      <td>1</td>\n",
       "      <td>5</td>\n",
       "      <td>2015</td>\n",
       "      <td>12</td>\n",
       "      <td>4</td>\n",
       "      <td>43</td>\n",
       "    </tr>\n",
       "    <tr>\n",
       "      <th>4</th>\n",
       "      <td>3037</td>\n",
       "      <td>2015-02-01</td>\n",
       "      <td>whole milk</td>\n",
       "      <td>2</td>\n",
       "      <td>1</td>\n",
       "      <td>6</td>\n",
       "      <td>2015</td>\n",
       "      <td>1</td>\n",
       "      <td>1</td>\n",
       "      <td>61</td>\n",
       "    </tr>\n",
       "  </tbody>\n",
       "</table>\n",
       "</div>"
      ],
      "text/plain": [
       "   Member_number       Date itemDescription_x  Month  Quantity  \\\n",
       "0           1808 2015-07-21    tropical fruit      7         1   \n",
       "1           2552 2015-01-05        whole milk      1         1   \n",
       "2           2300 2015-09-19         pip fruit      9         1   \n",
       "3           1187 2015-12-12  other vegetables     12         1   \n",
       "4           3037 2015-02-01        whole milk      2         1   \n",
       "\n",
       "   Day of The Week  Year  Day  Qtr  itemDescription_y  \n",
       "0                1  2015   21    3                 93  \n",
       "1                0  2015    5    1                 68  \n",
       "2                5  2015   19    3                 57  \n",
       "3                5  2015   12    4                 43  \n",
       "4                6  2015    1    1                 61  "
      ]
     },
     "execution_count": 30,
     "metadata": {},
     "output_type": "execute_result"
    }
   ],
   "source": [
    "items_sold_by_date_df=pd.DataFrame(items_sold_by_date).reset_index()\n",
    "df_new=df_new.merge(items_sold_by_date_df, how = 'left', on=\"Date\")\n",
    "df_new.head()\n"
   ]
  },
  {
   "cell_type": "code",
   "execution_count": 31,
   "metadata": {
    "colab": {
     "base_uri": "https://localhost:8080/",
     "height": 206
    },
    "id": "O2Igvt_aaI44",
    "outputId": "787afbcc-593c-4bfb-cdf3-bba6d32dc90d"
   },
   "outputs": [
    {
     "data": {
      "text/html": [
       "<div>\n",
       "<style scoped>\n",
       "    .dataframe tbody tr th:only-of-type {\n",
       "        vertical-align: middle;\n",
       "    }\n",
       "\n",
       "    .dataframe tbody tr th {\n",
       "        vertical-align: top;\n",
       "    }\n",
       "\n",
       "    .dataframe thead th {\n",
       "        text-align: right;\n",
       "    }\n",
       "</style>\n",
       "<table border=\"1\" class=\"dataframe\">\n",
       "  <thead>\n",
       "    <tr style=\"text-align: right;\">\n",
       "      <th></th>\n",
       "      <th>Member_number</th>\n",
       "      <th>Date</th>\n",
       "      <th>item Description</th>\n",
       "      <th>Month</th>\n",
       "      <th>Quantity</th>\n",
       "      <th>Day of The Week</th>\n",
       "      <th>Year</th>\n",
       "      <th>Day</th>\n",
       "      <th>Qtr</th>\n",
       "      <th>Qty Sold</th>\n",
       "    </tr>\n",
       "  </thead>\n",
       "  <tbody>\n",
       "    <tr>\n",
       "      <th>0</th>\n",
       "      <td>1808</td>\n",
       "      <td>2015-07-21</td>\n",
       "      <td>tropical fruit</td>\n",
       "      <td>7</td>\n",
       "      <td>1</td>\n",
       "      <td>1</td>\n",
       "      <td>2015</td>\n",
       "      <td>21</td>\n",
       "      <td>3</td>\n",
       "      <td>93</td>\n",
       "    </tr>\n",
       "    <tr>\n",
       "      <th>1</th>\n",
       "      <td>2552</td>\n",
       "      <td>2015-01-05</td>\n",
       "      <td>whole milk</td>\n",
       "      <td>1</td>\n",
       "      <td>1</td>\n",
       "      <td>0</td>\n",
       "      <td>2015</td>\n",
       "      <td>5</td>\n",
       "      <td>1</td>\n",
       "      <td>68</td>\n",
       "    </tr>\n",
       "    <tr>\n",
       "      <th>2</th>\n",
       "      <td>2300</td>\n",
       "      <td>2015-09-19</td>\n",
       "      <td>pip fruit</td>\n",
       "      <td>9</td>\n",
       "      <td>1</td>\n",
       "      <td>5</td>\n",
       "      <td>2015</td>\n",
       "      <td>19</td>\n",
       "      <td>3</td>\n",
       "      <td>57</td>\n",
       "    </tr>\n",
       "    <tr>\n",
       "      <th>3</th>\n",
       "      <td>1187</td>\n",
       "      <td>2015-12-12</td>\n",
       "      <td>other vegetables</td>\n",
       "      <td>12</td>\n",
       "      <td>1</td>\n",
       "      <td>5</td>\n",
       "      <td>2015</td>\n",
       "      <td>12</td>\n",
       "      <td>4</td>\n",
       "      <td>43</td>\n",
       "    </tr>\n",
       "    <tr>\n",
       "      <th>4</th>\n",
       "      <td>3037</td>\n",
       "      <td>2015-02-01</td>\n",
       "      <td>whole milk</td>\n",
       "      <td>2</td>\n",
       "      <td>1</td>\n",
       "      <td>6</td>\n",
       "      <td>2015</td>\n",
       "      <td>1</td>\n",
       "      <td>1</td>\n",
       "      <td>61</td>\n",
       "    </tr>\n",
       "  </tbody>\n",
       "</table>\n",
       "</div>"
      ],
      "text/plain": [
       "   Member_number       Date  item Description  Month  Quantity  \\\n",
       "0           1808 2015-07-21    tropical fruit      7         1   \n",
       "1           2552 2015-01-05        whole milk      1         1   \n",
       "2           2300 2015-09-19         pip fruit      9         1   \n",
       "3           1187 2015-12-12  other vegetables     12         1   \n",
       "4           3037 2015-02-01        whole milk      2         1   \n",
       "\n",
       "   Day of The Week  Year  Day  Qtr  Qty Sold  \n",
       "0                1  2015   21    3        93  \n",
       "1                0  2015    5    1        68  \n",
       "2                5  2015   19    3        57  \n",
       "3                5  2015   12    4        43  \n",
       "4                6  2015    1    1        61  "
      ]
     },
     "execution_count": 31,
     "metadata": {},
     "output_type": "execute_result"
    }
   ],
   "source": [
    "df_new=df_new.rename(columns={'itemDescription_x':'item Description', 'itemDescription_y': 'Qty Sold'})\n",
    "df_new.head()"
   ]
  },
  {
   "cell_type": "code",
   "execution_count": 32,
   "metadata": {
    "colab": {
     "base_uri": "https://localhost:8080/",
     "height": 300
    },
    "id": "mKexsYNBaI45",
    "outputId": "1a339a95-8a23-433d-c27e-abe3c2ff8ec5"
   },
   "outputs": [
    {
     "data": {
      "text/html": [
       "<div>\n",
       "<style scoped>\n",
       "    .dataframe tbody tr th:only-of-type {\n",
       "        vertical-align: middle;\n",
       "    }\n",
       "\n",
       "    .dataframe tbody tr th {\n",
       "        vertical-align: top;\n",
       "    }\n",
       "\n",
       "    .dataframe thead th {\n",
       "        text-align: right;\n",
       "    }\n",
       "</style>\n",
       "<table border=\"1\" class=\"dataframe\">\n",
       "  <thead>\n",
       "    <tr style=\"text-align: right;\">\n",
       "      <th></th>\n",
       "      <th>Member_number</th>\n",
       "      <th>Date</th>\n",
       "      <th>Month</th>\n",
       "      <th>Quantity</th>\n",
       "      <th>Day of The Week</th>\n",
       "      <th>Year</th>\n",
       "      <th>Day</th>\n",
       "      <th>Qtr</th>\n",
       "      <th>Qty Sold</th>\n",
       "    </tr>\n",
       "  </thead>\n",
       "  <tbody>\n",
       "    <tr>\n",
       "      <th>count</th>\n",
       "      <td>38765.000000</td>\n",
       "      <td>38765</td>\n",
       "      <td>38765.000000</td>\n",
       "      <td>38765.0</td>\n",
       "      <td>38765.000000</td>\n",
       "      <td>38765.000000</td>\n",
       "      <td>38765.000000</td>\n",
       "      <td>38765.000000</td>\n",
       "      <td>38765.000000</td>\n",
       "    </tr>\n",
       "    <tr>\n",
       "      <th>mean</th>\n",
       "      <td>3003.641868</td>\n",
       "      <td>2015-01-09 18:17:12.498387712</td>\n",
       "      <td>6.487605</td>\n",
       "      <td>1.0</td>\n",
       "      <td>3.011092</td>\n",
       "      <td>2014.528518</td>\n",
       "      <td>15.743196</td>\n",
       "      <td>2.501715</td>\n",
       "      <td>56.374900</td>\n",
       "    </tr>\n",
       "    <tr>\n",
       "      <th>min</th>\n",
       "      <td>1000.000000</td>\n",
       "      <td>2014-01-01 00:00:00</td>\n",
       "      <td>1.000000</td>\n",
       "      <td>1.0</td>\n",
       "      <td>0.000000</td>\n",
       "      <td>2014.000000</td>\n",
       "      <td>1.000000</td>\n",
       "      <td>1.000000</td>\n",
       "      <td>22.000000</td>\n",
       "    </tr>\n",
       "    <tr>\n",
       "      <th>25%</th>\n",
       "      <td>2002.000000</td>\n",
       "      <td>2014-07-12 00:00:00</td>\n",
       "      <td>4.000000</td>\n",
       "      <td>1.0</td>\n",
       "      <td>1.000000</td>\n",
       "      <td>2014.000000</td>\n",
       "      <td>8.000000</td>\n",
       "      <td>2.000000</td>\n",
       "      <td>47.000000</td>\n",
       "    </tr>\n",
       "    <tr>\n",
       "      <th>50%</th>\n",
       "      <td>3005.000000</td>\n",
       "      <td>2015-01-21 00:00:00</td>\n",
       "      <td>6.000000</td>\n",
       "      <td>1.0</td>\n",
       "      <td>3.000000</td>\n",
       "      <td>2015.000000</td>\n",
       "      <td>16.000000</td>\n",
       "      <td>2.000000</td>\n",
       "      <td>56.000000</td>\n",
       "    </tr>\n",
       "    <tr>\n",
       "      <th>75%</th>\n",
       "      <td>4007.000000</td>\n",
       "      <td>2015-07-10 00:00:00</td>\n",
       "      <td>9.000000</td>\n",
       "      <td>1.0</td>\n",
       "      <td>5.000000</td>\n",
       "      <td>2015.000000</td>\n",
       "      <td>23.000000</td>\n",
       "      <td>3.000000</td>\n",
       "      <td>64.000000</td>\n",
       "    </tr>\n",
       "    <tr>\n",
       "      <th>max</th>\n",
       "      <td>5000.000000</td>\n",
       "      <td>2015-12-30 00:00:00</td>\n",
       "      <td>12.000000</td>\n",
       "      <td>1.0</td>\n",
       "      <td>6.000000</td>\n",
       "      <td>2015.000000</td>\n",
       "      <td>31.000000</td>\n",
       "      <td>4.000000</td>\n",
       "      <td>96.000000</td>\n",
       "    </tr>\n",
       "    <tr>\n",
       "      <th>std</th>\n",
       "      <td>1153.611031</td>\n",
       "      <td>NaN</td>\n",
       "      <td>3.419042</td>\n",
       "      <td>0.0</td>\n",
       "      <td>1.991645</td>\n",
       "      <td>0.499193</td>\n",
       "      <td>8.816814</td>\n",
       "      <td>1.108675</td>\n",
       "      <td>13.072641</td>\n",
       "    </tr>\n",
       "  </tbody>\n",
       "</table>\n",
       "</div>"
      ],
      "text/plain": [
       "       Member_number                           Date         Month  Quantity  \\\n",
       "count   38765.000000                          38765  38765.000000   38765.0   \n",
       "mean     3003.641868  2015-01-09 18:17:12.498387712      6.487605       1.0   \n",
       "min      1000.000000            2014-01-01 00:00:00      1.000000       1.0   \n",
       "25%      2002.000000            2014-07-12 00:00:00      4.000000       1.0   \n",
       "50%      3005.000000            2015-01-21 00:00:00      6.000000       1.0   \n",
       "75%      4007.000000            2015-07-10 00:00:00      9.000000       1.0   \n",
       "max      5000.000000            2015-12-30 00:00:00     12.000000       1.0   \n",
       "std      1153.611031                            NaN      3.419042       0.0   \n",
       "\n",
       "       Day of The Week          Year           Day           Qtr      Qty Sold  \n",
       "count     38765.000000  38765.000000  38765.000000  38765.000000  38765.000000  \n",
       "mean          3.011092   2014.528518     15.743196      2.501715     56.374900  \n",
       "min           0.000000   2014.000000      1.000000      1.000000     22.000000  \n",
       "25%           1.000000   2014.000000      8.000000      2.000000     47.000000  \n",
       "50%           3.000000   2015.000000     16.000000      2.000000     56.000000  \n",
       "75%           5.000000   2015.000000     23.000000      3.000000     64.000000  \n",
       "max           6.000000   2015.000000     31.000000      4.000000     96.000000  \n",
       "std           1.991645      0.499193      8.816814      1.108675     13.072641  "
      ]
     },
     "execution_count": 32,
     "metadata": {},
     "output_type": "execute_result"
    }
   ],
   "source": [
    "df_new.describe()"
   ]
  },
  {
   "cell_type": "markdown",
   "metadata": {},
   "source": [
    "In devising our solution we use the quantity sold column to segement our customers in to 3 categories. However when we look at the quantity sold column the mean does nor look correct. The min items sold is 22 the mean is 56.37 and we have a std of 13.07 this could lead to an unbalanced classes we need to address this  further."
   ]
  },
  {
   "cell_type": "code",
   "execution_count": 33,
   "metadata": {
    "colab": {
     "base_uri": "https://localhost:8080/",
     "height": 475
    },
    "id": "kKdqIQo3eTC4",
    "outputId": "d5be5f19-f75f-4550-fac1-69c60b51946a"
   },
   "outputs": [
    {
     "data": {
      "image/png": "[encoded data removed]",
      "text/plain": [
       "<Figure size 720x432 with 1 Axes>"
      ]
     },
     "metadata": {},
     "output_type": "display_data"
    }
   ],
   "source": [
    "plt.figure(figsize=(10,6))\n",
    "sns.histplot(data=df_new, x='Qty Sold',color=\"b\")\n",
    "plt.xticks(rotation=90,fontsize=12)\n",
    "plt.yticks(fontsize=13)\n",
    "plt.title('Qty Sold',fontsize=20,fontweight='bold')\n",
    "plt.xlabel('Qty Sold',fontsize=16,fontweight='bold')\n",
    "plt.ylabel('  Count',fontsize=16)\n",
    "plt.show()"
   ]
  },
  {
   "cell_type": "markdown",
   "metadata": {},
   "source": [
    "We can see that the histogtam of our quantity sold column is slightly is skewed to the right which suggests that we do not have an even distribution in our data."
   ]
  },
  {
   "cell_type": "code",
   "execution_count": 34,
   "metadata": {},
   "outputs": [
    {
     "data": {
      "image/png": "[encoded data removed]",
      "text/plain": [
       "<Figure size 720x432 with 1 Axes>"
      ]
     },
     "metadata": {},
     "output_type": "display_data"
    }
   ],
   "source": [
    "plt.figure(figsize=(10,6))\n",
    "sns.set(style='darkgrid')\n",
    "sns.boxplot(x=df_new['Qty Sold'],palette=\"Blues\")\n",
    "plt.xlabel('Qty Sold',fontsize=16,fontweight='bold')\n",
    "plt.title('Qty Sold',fontsize=20,fontweight='bold')\n",
    "plt.show()\n"
   ]
  },
  {
   "cell_type": "markdown",
   "metadata": {},
   "source": [
    "We can see that we have outliers in our data, they may be no outliers as we can see from the box plot the count starts at 20 and not at 0 which has skewed our data. We could  just remove them however my aim is to make my data more symmetric. So we will filter out anything beyond two standard deviations from the mean."
   ]
  },
  {
   "cell_type": "code",
   "execution_count": 35,
   "metadata": {},
   "outputs": [
    {
     "data": {
      "image/png": "[encoded data removed]",
      "text/plain": [
       "<Figure size 720x432 with 1 Axes>"
      ]
     },
     "metadata": {},
     "output_type": "display_data"
    }
   ],
   "source": [
    "def reject_outliers(data):\n",
    "    u= np.median(data)\n",
    "    s= np.std(data)\n",
    "    filtered= [e for e in data if (u - 2 * s < e < u + 2 * s)]\n",
    "    return filtered\n",
    "Qty_Sold= df_new['Qty Sold'].tolist()\n",
    "\n",
    "filtered_qty= [Qty_Sold]\n",
    "\n",
    "filtered_qty = reject_outliers(Qty_Sold)\n",
    "\n",
    "plt.figure(figsize=(10,6))\n",
    "plt.hist(filtered_qty)\n",
    "plt.xticks(rotation=90,fontsize=12)\n",
    "plt.yticks(fontsize=13)\n",
    "plt.title('Qty Sold',fontsize=20,fontweight='bold')\n",
    "plt.xlabel('Qty Sold',fontsize=16,fontweight='bold')\n",
    "plt.ylabel('  Count',fontsize=16)\n",
    "plt.show()\n",
    "\n",
    "\n"
   ]
  },
  {
   "cell_type": "markdown",
   "metadata": {},
   "source": [
    "Frank Kane,2022. Machine Learning, Data Science and Deep Learning with Python.[Online Course] Udemy.Available at: https://www.udemy.com/course/data-science-and-machine-learning-with-python-hands-on/learn/lecture/4020572?sta [Accesed] 11-6-2023]"
   ]
  },
  {
   "cell_type": "code",
   "execution_count": 36,
   "metadata": {},
   "outputs": [
    {
     "data": {
      "text/plain": [
       "55.64620190106901"
      ]
     },
     "execution_count": 36,
     "metadata": {},
     "output_type": "execute_result"
    }
   ],
   "source": [
    "mean_qty=np.mean(filtered_qty)\n",
    "mean_qty"
   ]
  },
  {
   "cell_type": "code",
   "execution_count": 37,
   "metadata": {},
   "outputs": [
    {
     "data": {
      "text/plain": [
       "55.64620190106901"
      ]
     },
     "execution_count": 37,
     "metadata": {},
     "output_type": "execute_result"
    }
   ],
   "source": [
    "std_qty=np.mean(filtered_qty)\n",
    "std_qty"
   ]
  },
  {
   "cell_type": "markdown",
   "metadata": {},
   "source": [
    "As we can see we have made our distribution normal we will now move on to segement our customer_levels into low,medium and high\n",
    "using our mean_qty filter."
   ]
  },
  {
   "cell_type": "code",
   "execution_count": 38,
   "metadata": {
    "id": "7sc8ZMIWaI45"
   },
   "outputs": [],
   "source": [
    "def customer_levels(Qty):\n",
    "    mean_level=df_new['Qty Sold'].mean()\n",
    "\n",
    "    if (Qty) < mean_qty * .75:\n",
    "        return 'low'\n",
    "    elif Qty < mean_qty *1.5:\n",
    "        return 'medium'\n",
    "    else:\n",
    "        return 'high'"
   ]
  },
  {
   "cell_type": "code",
   "execution_count": 39,
   "metadata": {
    "id": "qBTaVf_EaI46"
   },
   "outputs": [],
   "source": [
    "df_new['customer_levels']=df_new['Qty Sold'].apply(customer_levels)\n"
   ]
  },
  {
   "cell_type": "code",
   "execution_count": 40,
   "metadata": {
    "colab": {
     "base_uri": "https://localhost:8080/",
     "height": 206
    },
    "id": "ivyHW_tyaI46",
    "outputId": "f4f8b27f-ba5b-4fa5-f6cd-7fb10d0d7e5b",
    "scrolled": true
   },
   "outputs": [
    {
     "data": {
      "text/html": [
       "<div>\n",
       "<style scoped>\n",
       "    .dataframe tbody tr th:only-of-type {\n",
       "        vertical-align: middle;\n",
       "    }\n",
       "\n",
       "    .dataframe tbody tr th {\n",
       "        vertical-align: top;\n",
       "    }\n",
       "\n",
       "    .dataframe thead th {\n",
       "        text-align: right;\n",
       "    }\n",
       "</style>\n",
       "<table border=\"1\" class=\"dataframe\">\n",
       "  <thead>\n",
       "    <tr style=\"text-align: right;\">\n",
       "      <th></th>\n",
       "      <th>Member_number</th>\n",
       "      <th>Date</th>\n",
       "      <th>item Description</th>\n",
       "      <th>Month</th>\n",
       "      <th>Quantity</th>\n",
       "      <th>Day of The Week</th>\n",
       "      <th>Year</th>\n",
       "      <th>Day</th>\n",
       "      <th>Qtr</th>\n",
       "      <th>Qty Sold</th>\n",
       "      <th>customer_levels</th>\n",
       "    </tr>\n",
       "  </thead>\n",
       "  <tbody>\n",
       "    <tr>\n",
       "      <th>0</th>\n",
       "      <td>1808</td>\n",
       "      <td>2015-07-21</td>\n",
       "      <td>tropical fruit</td>\n",
       "      <td>7</td>\n",
       "      <td>1</td>\n",
       "      <td>1</td>\n",
       "      <td>2015</td>\n",
       "      <td>21</td>\n",
       "      <td>3</td>\n",
       "      <td>93</td>\n",
       "      <td>high</td>\n",
       "    </tr>\n",
       "    <tr>\n",
       "      <th>1</th>\n",
       "      <td>2552</td>\n",
       "      <td>2015-01-05</td>\n",
       "      <td>whole milk</td>\n",
       "      <td>1</td>\n",
       "      <td>1</td>\n",
       "      <td>0</td>\n",
       "      <td>2015</td>\n",
       "      <td>5</td>\n",
       "      <td>1</td>\n",
       "      <td>68</td>\n",
       "      <td>medium</td>\n",
       "    </tr>\n",
       "    <tr>\n",
       "      <th>2</th>\n",
       "      <td>2300</td>\n",
       "      <td>2015-09-19</td>\n",
       "      <td>pip fruit</td>\n",
       "      <td>9</td>\n",
       "      <td>1</td>\n",
       "      <td>5</td>\n",
       "      <td>2015</td>\n",
       "      <td>19</td>\n",
       "      <td>3</td>\n",
       "      <td>57</td>\n",
       "      <td>medium</td>\n",
       "    </tr>\n",
       "    <tr>\n",
       "      <th>3</th>\n",
       "      <td>1187</td>\n",
       "      <td>2015-12-12</td>\n",
       "      <td>other vegetables</td>\n",
       "      <td>12</td>\n",
       "      <td>1</td>\n",
       "      <td>5</td>\n",
       "      <td>2015</td>\n",
       "      <td>12</td>\n",
       "      <td>4</td>\n",
       "      <td>43</td>\n",
       "      <td>medium</td>\n",
       "    </tr>\n",
       "    <tr>\n",
       "      <th>4</th>\n",
       "      <td>3037</td>\n",
       "      <td>2015-02-01</td>\n",
       "      <td>whole milk</td>\n",
       "      <td>2</td>\n",
       "      <td>1</td>\n",
       "      <td>6</td>\n",
       "      <td>2015</td>\n",
       "      <td>1</td>\n",
       "      <td>1</td>\n",
       "      <td>61</td>\n",
       "      <td>medium</td>\n",
       "    </tr>\n",
       "  </tbody>\n",
       "</table>\n",
       "</div>"
      ],
      "text/plain": [
       "   Member_number       Date  item Description  Month  Quantity  \\\n",
       "0           1808 2015-07-21    tropical fruit      7         1   \n",
       "1           2552 2015-01-05        whole milk      1         1   \n",
       "2           2300 2015-09-19         pip fruit      9         1   \n",
       "3           1187 2015-12-12  other vegetables     12         1   \n",
       "4           3037 2015-02-01        whole milk      2         1   \n",
       "\n",
       "   Day of The Week  Year  Day  Qtr  Qty Sold customer_levels  \n",
       "0                1  2015   21    3        93            high  \n",
       "1                0  2015    5    1        68          medium  \n",
       "2                5  2015   19    3        57          medium  \n",
       "3                5  2015   12    4        43          medium  \n",
       "4                6  2015    1    1        61          medium  "
      ]
     },
     "execution_count": 40,
     "metadata": {},
     "output_type": "execute_result"
    }
   ],
   "source": [
    "df_new.head()"
   ]
  },
  {
   "cell_type": "code",
   "execution_count": 41,
   "metadata": {
    "colab": {
     "base_uri": "https://localhost:8080/"
    },
    "id": "atRIemoZfkb-",
    "outputId": "bda7e71d-385b-45b6-bb9e-88a471ee8837"
   },
   "outputs": [
    {
     "data": {
      "text/plain": [
       "customer_levels\n",
       "medium    33251\n",
       "low        4617\n",
       "high        897\n",
       "Name: count, dtype: int64"
      ]
     },
     "execution_count": 41,
     "metadata": {},
     "output_type": "execute_result"
    }
   ],
   "source": [
    "df_new['customer_levels'].value_counts()\n"
   ]
  },
  {
   "cell_type": "markdown",
   "metadata": {},
   "source": [
    "We have created a feature called customer_levels. If the supermarket were to launch a marketing campaign they wish to know if we could segement their customers into groups by items purchased.So we have been able to identify from our feture engineering what customers to target to move customers from low spend to mid spend and mid spend to high spend. This approach woud be more targeted than a traditional blanket marketing campaign.\n",
    "\n",
    "However when can observe that our data is still unbalanced and this may create a situation where we oversample our data. which may lead to our model not performing well on new unseen data."
   ]
  },
  {
   "cell_type": "code",
   "execution_count": 42,
   "metadata": {
    "colab": {
     "base_uri": "https://localhost:8080/",
     "height": 206
    },
    "id": "C-M8FjOVaI49",
    "outputId": "8125c172-d9a4-46c5-b73c-44997680f579"
   },
   "outputs": [
    {
     "data": {
      "text/html": [
       "<div>\n",
       "<style scoped>\n",
       "    .dataframe tbody tr th:only-of-type {\n",
       "        vertical-align: middle;\n",
       "    }\n",
       "\n",
       "    .dataframe tbody tr th {\n",
       "        vertical-align: top;\n",
       "    }\n",
       "\n",
       "    .dataframe thead th {\n",
       "        text-align: right;\n",
       "    }\n",
       "</style>\n",
       "<table border=\"1\" class=\"dataframe\">\n",
       "  <thead>\n",
       "    <tr style=\"text-align: right;\">\n",
       "      <th></th>\n",
       "      <th>Member_number</th>\n",
       "      <th>Date</th>\n",
       "      <th>item Description</th>\n",
       "      <th>Month</th>\n",
       "      <th>Quantity</th>\n",
       "      <th>Day of The Week</th>\n",
       "      <th>Year</th>\n",
       "      <th>Day</th>\n",
       "      <th>Qtr</th>\n",
       "      <th>Qty Sold</th>\n",
       "      <th>customer_levels</th>\n",
       "    </tr>\n",
       "  </thead>\n",
       "  <tbody>\n",
       "    <tr>\n",
       "      <th>0</th>\n",
       "      <td>1808</td>\n",
       "      <td>2015-07-21</td>\n",
       "      <td>tropical fruit</td>\n",
       "      <td>7</td>\n",
       "      <td>1</td>\n",
       "      <td>1</td>\n",
       "      <td>2015</td>\n",
       "      <td>21</td>\n",
       "      <td>3</td>\n",
       "      <td>93</td>\n",
       "      <td>high</td>\n",
       "    </tr>\n",
       "    <tr>\n",
       "      <th>1</th>\n",
       "      <td>2552</td>\n",
       "      <td>2015-01-05</td>\n",
       "      <td>whole milk</td>\n",
       "      <td>1</td>\n",
       "      <td>1</td>\n",
       "      <td>0</td>\n",
       "      <td>2015</td>\n",
       "      <td>5</td>\n",
       "      <td>1</td>\n",
       "      <td>68</td>\n",
       "      <td>medium</td>\n",
       "    </tr>\n",
       "    <tr>\n",
       "      <th>2</th>\n",
       "      <td>2300</td>\n",
       "      <td>2015-09-19</td>\n",
       "      <td>pip fruit</td>\n",
       "      <td>9</td>\n",
       "      <td>1</td>\n",
       "      <td>5</td>\n",
       "      <td>2015</td>\n",
       "      <td>19</td>\n",
       "      <td>3</td>\n",
       "      <td>57</td>\n",
       "      <td>medium</td>\n",
       "    </tr>\n",
       "    <tr>\n",
       "      <th>3</th>\n",
       "      <td>1187</td>\n",
       "      <td>2015-12-12</td>\n",
       "      <td>other vegetables</td>\n",
       "      <td>12</td>\n",
       "      <td>1</td>\n",
       "      <td>5</td>\n",
       "      <td>2015</td>\n",
       "      <td>12</td>\n",
       "      <td>4</td>\n",
       "      <td>43</td>\n",
       "      <td>medium</td>\n",
       "    </tr>\n",
       "    <tr>\n",
       "      <th>4</th>\n",
       "      <td>3037</td>\n",
       "      <td>2015-02-01</td>\n",
       "      <td>whole milk</td>\n",
       "      <td>2</td>\n",
       "      <td>1</td>\n",
       "      <td>6</td>\n",
       "      <td>2015</td>\n",
       "      <td>1</td>\n",
       "      <td>1</td>\n",
       "      <td>61</td>\n",
       "      <td>medium</td>\n",
       "    </tr>\n",
       "  </tbody>\n",
       "</table>\n",
       "</div>"
      ],
      "text/plain": [
       "   Member_number       Date  item Description  Month  Quantity  \\\n",
       "0           1808 2015-07-21    tropical fruit      7         1   \n",
       "1           2552 2015-01-05        whole milk      1         1   \n",
       "2           2300 2015-09-19         pip fruit      9         1   \n",
       "3           1187 2015-12-12  other vegetables     12         1   \n",
       "4           3037 2015-02-01        whole milk      2         1   \n",
       "\n",
       "   Day of The Week  Year  Day  Qtr  Qty Sold customer_levels  \n",
       "0                1  2015   21    3        93            high  \n",
       "1                0  2015    5    1        68          medium  \n",
       "2                5  2015   19    3        57          medium  \n",
       "3                5  2015   12    4        43          medium  \n",
       "4                6  2015    1    1        61          medium  "
      ]
     },
     "execution_count": 42,
     "metadata": {},
     "output_type": "execute_result"
    }
   ],
   "source": [
    "df_new.head()"
   ]
  },
  {
   "cell_type": "code",
   "execution_count": 43,
   "metadata": {
    "id": "QsupoH5kaI49"
   },
   "outputs": [],
   "source": [
    "d = {'high': 0, 'medium': 1, 'low': 2}\n",
    "df_new['customer_levels'] = df_new['customer_levels'].map(d)"
   ]
  },
  {
   "cell_type": "markdown",
   "metadata": {},
   "source": [
    "We have encoded our customer_levels using the map function as some algorithms can only deal with numbers."
   ]
  },
  {
   "cell_type": "code",
   "execution_count": 44,
   "metadata": {
    "colab": {
     "base_uri": "https://localhost:8080/",
     "height": 206
    },
    "id": "RWuWmxCsaI4-",
    "outputId": "45eb9c65-3105-46b9-f694-12bff9f4898a"
   },
   "outputs": [
    {
     "data": {
      "text/html": [
       "<div>\n",
       "<style scoped>\n",
       "    .dataframe tbody tr th:only-of-type {\n",
       "        vertical-align: middle;\n",
       "    }\n",
       "\n",
       "    .dataframe tbody tr th {\n",
       "        vertical-align: top;\n",
       "    }\n",
       "\n",
       "    .dataframe thead th {\n",
       "        text-align: right;\n",
       "    }\n",
       "</style>\n",
       "<table border=\"1\" class=\"dataframe\">\n",
       "  <thead>\n",
       "    <tr style=\"text-align: right;\">\n",
       "      <th></th>\n",
       "      <th>Member_number</th>\n",
       "      <th>Date</th>\n",
       "      <th>item Description</th>\n",
       "      <th>Month</th>\n",
       "      <th>Quantity</th>\n",
       "      <th>Day of The Week</th>\n",
       "      <th>Year</th>\n",
       "      <th>Day</th>\n",
       "      <th>Qtr</th>\n",
       "      <th>Qty Sold</th>\n",
       "      <th>customer_levels</th>\n",
       "    </tr>\n",
       "  </thead>\n",
       "  <tbody>\n",
       "    <tr>\n",
       "      <th>0</th>\n",
       "      <td>1808</td>\n",
       "      <td>2015-07-21</td>\n",
       "      <td>tropical fruit</td>\n",
       "      <td>7</td>\n",
       "      <td>1</td>\n",
       "      <td>1</td>\n",
       "      <td>2015</td>\n",
       "      <td>21</td>\n",
       "      <td>3</td>\n",
       "      <td>93</td>\n",
       "      <td>0</td>\n",
       "    </tr>\n",
       "    <tr>\n",
       "      <th>1</th>\n",
       "      <td>2552</td>\n",
       "      <td>2015-01-05</td>\n",
       "      <td>whole milk</td>\n",
       "      <td>1</td>\n",
       "      <td>1</td>\n",
       "      <td>0</td>\n",
       "      <td>2015</td>\n",
       "      <td>5</td>\n",
       "      <td>1</td>\n",
       "      <td>68</td>\n",
       "      <td>1</td>\n",
       "    </tr>\n",
       "    <tr>\n",
       "      <th>2</th>\n",
       "      <td>2300</td>\n",
       "      <td>2015-09-19</td>\n",
       "      <td>pip fruit</td>\n",
       "      <td>9</td>\n",
       "      <td>1</td>\n",
       "      <td>5</td>\n",
       "      <td>2015</td>\n",
       "      <td>19</td>\n",
       "      <td>3</td>\n",
       "      <td>57</td>\n",
       "      <td>1</td>\n",
       "    </tr>\n",
       "    <tr>\n",
       "      <th>3</th>\n",
       "      <td>1187</td>\n",
       "      <td>2015-12-12</td>\n",
       "      <td>other vegetables</td>\n",
       "      <td>12</td>\n",
       "      <td>1</td>\n",
       "      <td>5</td>\n",
       "      <td>2015</td>\n",
       "      <td>12</td>\n",
       "      <td>4</td>\n",
       "      <td>43</td>\n",
       "      <td>1</td>\n",
       "    </tr>\n",
       "    <tr>\n",
       "      <th>4</th>\n",
       "      <td>3037</td>\n",
       "      <td>2015-02-01</td>\n",
       "      <td>whole milk</td>\n",
       "      <td>2</td>\n",
       "      <td>1</td>\n",
       "      <td>6</td>\n",
       "      <td>2015</td>\n",
       "      <td>1</td>\n",
       "      <td>1</td>\n",
       "      <td>61</td>\n",
       "      <td>1</td>\n",
       "    </tr>\n",
       "  </tbody>\n",
       "</table>\n",
       "</div>"
      ],
      "text/plain": [
       "   Member_number       Date  item Description  Month  Quantity  \\\n",
       "0           1808 2015-07-21    tropical fruit      7         1   \n",
       "1           2552 2015-01-05        whole milk      1         1   \n",
       "2           2300 2015-09-19         pip fruit      9         1   \n",
       "3           1187 2015-12-12  other vegetables     12         1   \n",
       "4           3037 2015-02-01        whole milk      2         1   \n",
       "\n",
       "   Day of The Week  Year  Day  Qtr  Qty Sold  customer_levels  \n",
       "0                1  2015   21    3        93                0  \n",
       "1                0  2015    5    1        68                1  \n",
       "2                5  2015   19    3        57                1  \n",
       "3                5  2015   12    4        43                1  \n",
       "4                6  2015    1    1        61                1  "
      ]
     },
     "execution_count": 44,
     "metadata": {},
     "output_type": "execute_result"
    }
   ],
   "source": [
    "df_new.head()"
   ]
  },
  {
   "cell_type": "markdown",
   "metadata": {
    "id": "NoVMP9mM4djj"
   },
   "source": [
    "# Decision Trees"
   ]
  },
  {
   "cell_type": "markdown",
   "metadata": {},
   "source": [
    "We are now going to use a decision tree for our prediction moodel. This will be a regression model as our label is a number\n",
    "ie 0,1,2. If we were returing a true or false for instance this would be a classification model. we will have our features(X) our independent variables and customer_ labels(y) will be our dependent label. As we will predicting on a label y this is classed as a supervised model."
   ]
  },
  {
   "cell_type": "code",
   "execution_count": 45,
   "metadata": {
    "colab": {
     "base_uri": "https://localhost:8080/",
     "height": 376
    },
    "id": "kSyObEKUaI4-",
    "outputId": "b65d2283-452d-47fd-ec45-e73e8df47d00"
   },
   "outputs": [
    {
     "data": {
      "image/png": "[encoded data removed]",
      "text/plain": [
       "<IPython.core.display.Image object>"
      ]
     },
     "execution_count": 45,
     "metadata": {},
     "output_type": "execute_result"
    }
   ],
   "source": [
    "features = ['Month', 'Day of The Week', 'Day', 'Qty Sold','Member_number','Year','Qtr']\n",
    "X = df_new[features]\n",
    "y = df_new['customer_levels']\n",
    "X_train, X_test, y_train, y_test = train_test_split(X,y, test_size=0.2, random_state=0)\n",
    "y = df_new[\"customer_levels\"]\n",
    "X = df_new[features]\n",
    "clf = tree.DecisionTreeClassifier()\n",
    "clf = clf.fit(X,y)\n",
    "from IPython.display import Image  \n",
    "from six import StringIO  \n",
    "import pydotplus\n",
    "\n",
    "dot_data = StringIO()  \n",
    "tree.export_graphviz(clf, out_file=dot_data,  \n",
    "                         feature_names=features)  \n",
    "graph = pydotplus.graph_from_dot_data(dot_data.getvalue())  \n",
    "Image(graph.create_png())\n"
   ]
  },
  {
   "cell_type": "markdown",
   "metadata": {},
   "source": [
    "We have used a decision as it is a powerful but simple algorithm and it is an ideal algorithm to use in the first instance. It is a greedy algorithm and it it is prone to overfitting as its main aim is always to reach a conclusion. We can see that our model is simple  has few branches and nodes and one would expect given its simplicity to be an accurrate model. we can see our model by asking simple questions such as true and false have segemented our customer into three different categories. It is on this model that we would input data to ascertain their spending level and create a appropiate marketing spend."
   ]
  },
  {
   "cell_type": "code",
   "execution_count": 46,
   "metadata": {
    "colab": {
     "base_uri": "https://localhost:8080/"
    },
    "id": "F3X5GfHN4djk",
    "outputId": "032d515a-5544-41b3-853c-049fab3b2b4d"
   },
   "outputs": [
    {
     "name": "stdout",
     "output_type": "stream",
     "text": [
      "              precision    recall  f1-score   support\n",
      "\n",
      "           0       1.00      1.00      1.00       183\n",
      "           1       1.00      1.00      1.00      6624\n",
      "           2       1.00      1.00      1.00       946\n",
      "\n",
      "    accuracy                           1.00      7753\n",
      "   macro avg       1.00      1.00      1.00      7753\n",
      "weighted avg       1.00      1.00      1.00      7753\n",
      "\n",
      "[[ 183    0    0]\n",
      " [   0 6624    0]\n",
      " [   0    0  946]]\n"
     ]
    }
   ],
   "source": [
    "y_pred=clf.predict(X_test)\n",
    "print(classification_report(y_test,y_pred))\n",
    "cm=confusion_matrix(y_test,y_pred)\n",
    "print(cm)"
   ]
  },
  {
   "cell_type": "markdown",
   "metadata": {},
   "source": [
    "The model has accurately predicted all our classifications. We have returned a perfect precision, recall f1 scores. This is not ideal and is probaly due to the  fact that the patterns within our dataset were easily discovered by our algorithm. The fact that our classes were imbalanced probably lead to our model overfitting the data also given the  our dataset is a grocery one we could use  this model to predict as the costs with misclassifying some customers would be ok. However if we say were trying to predict fraudalent activitives we could not use this model as we would be saying there were no fraudelent activies detected. In this instance we would need to revisit our data and introduce new feaures to our datset or use a function similar to SMOTE to synthetically balance our classes. "
   ]
  },
  {
   "cell_type": "markdown",
   "metadata": {},
   "source": [
    "# Ensemble learning using a Random Forest"
   ]
  },
  {
   "cell_type": "markdown",
   "metadata": {},
   "source": [
    "As we said decision trees are prone to overfitting we can use an ensemble method, bu using a random forest we use multiple trees & samples and let the algorithm decide which is best."
   ]
  },
  {
   "cell_type": "markdown",
   "metadata": {},
   "source": [
    "We'll use a random forest of 10 decision trees to predict employment of specific candidate profiles:"
   ]
  },
  {
   "cell_type": "code",
   "execution_count": 47,
   "metadata": {
    "scrolled": true
   },
   "outputs": [
    {
     "name": "stdout",
     "output_type": "stream",
     "text": [
      "              precision    recall  f1-score   support\n",
      "\n",
      "           0       1.00      1.00      1.00       183\n",
      "           1       1.00      1.00      1.00      6624\n",
      "           2       1.00      1.00      1.00       946\n",
      "\n",
      "    accuracy                           1.00      7753\n",
      "   macro avg       1.00      1.00      1.00      7753\n",
      "weighted avg       1.00      1.00      1.00      7753\n",
      "\n",
      "[[ 183    0    0]\n",
      " [   0 6624    0]\n",
      " [   0    0  946]]\n"
     ]
    }
   ],
   "source": [
    "\n",
    "from sklearn.ensemble import RandomForestClassifier\n",
    "\n",
    "clf= RandomForestClassifier(n_estimators=10)\n",
    "clf=clf.fit(X,y)\n",
    "\n",
    "y_pred=clf.predict(X_test)\n",
    "print(classification_report(y_test,y_pred))\n",
    "cm=confusion_matrix(y_test,y_pred)\n",
    "print(cm)"
   ]
  },
  {
   "cell_type": "markdown",
   "metadata": {
    "id": "HntMclTI4djl"
   },
   "source": [
    "# XG Boost"
   ]
  },
  {
   "cell_type": "code",
   "execution_count": 48,
   "metadata": {
    "colab": {
     "base_uri": "https://localhost:8080/"
    },
    "id": "A957R-Qf4djl",
    "outputId": "e17b9dc0-6511-4f19-bf92-c2b77cbe7e95"
   },
   "outputs": [
    {
     "name": "stdout",
     "output_type": "stream",
     "text": [
      "Requirement already satisfied: xgboost in c:\\users\\andrew\\anaconda3\\lib\\site-packages (1.7.5)\n",
      "Requirement already satisfied: numpy in c:\\users\\andrew\\anaconda3\\lib\\site-packages (from xgboost) (1.23.5)\n",
      "Requirement already satisfied: scipy in c:\\users\\andrew\\anaconda3\\lib\\site-packages (from xgboost) (1.10.1)\n",
      "Note: you may need to restart the kernel to use updated packages.\n"
     ]
    }
   ],
   "source": [
    "pip install xgboost"
   ]
  },
  {
   "cell_type": "code",
   "execution_count": 49,
   "metadata": {
    "id": "lxxT7smw4djm"
   },
   "outputs": [],
   "source": [
    "import xgboost as xgb"
   ]
  },
  {
   "cell_type": "code",
   "execution_count": 50,
   "metadata": {
    "colab": {
     "base_uri": "https://localhost:8080/"
    },
    "id": "GOg8HpFWaI4_",
    "outputId": "2ebad046-c8f2-4d51-dca7-b1ab8490f2d3"
   },
   "outputs": [
    {
     "name": "stdout",
     "output_type": "stream",
     "text": [
      "[1. 1. 2. ... 1. 1. 1.]\n",
      "              precision    recall  f1-score   support\n",
      "\n",
      "           0       1.00      1.00      1.00       183\n",
      "           1       1.00      1.00      1.00      6624\n",
      "           2       1.00      1.00      1.00       946\n",
      "\n",
      "    accuracy                           1.00      7753\n",
      "   macro avg       1.00      1.00      1.00      7753\n",
      "weighted avg       1.00      1.00      1.00      7753\n",
      "\n",
      "[[ 183    0    0]\n",
      " [   0 6624    0]\n",
      " [   0    0  946]]\n"
     ]
    }
   ],
   "source": [
    "X_train, X_test, y_train, y_test = train_test_split(X,y, test_size=0.2, random_state=0)\n",
    "train= xgb.DMatrix(X_train, label= y_train)\n",
    "test=  xgb.DMatrix(X_test, label= y_test)\n",
    "param={\n",
    "    'max_depth':4,\n",
    "    'eta': 0.3,\n",
    "    'objective': 'multi:softmax',\n",
    "    'num_class': 3}\n",
    "epochs = 10\n",
    "model=xgb.train(param,train,epochs)\n",
    "predictions = model.predict(test)\n",
    "print(predictions)\n",
    "accuracy_score(y_test, predictions)\n",
    "print(classification_report(y_test,y_pred))\n",
    "cm=confusion_matrix(y_test,y_pred)\n",
    "print(cm)"
   ]
  },
  {
   "cell_type": "markdown",
   "metadata": {},
   "source": [
    "Frank Kane,2022. Machine Learning, Data Science and Deep Learning with Python.[Online Course] Udemy.Available at: https://www.udemy.com/course/data-science-and-machine-learning-with-python-hands-on/learn/lecture/4020572?sta [Accesed] 11-6-2023]"
   ]
  },
  {
   "cell_type": "markdown",
   "metadata": {
    "id": "U2JAtRXm4djo"
   },
   "source": [
    "XGBoost (Extreme Gradient Boosting) is an optimised implementation of the gradient boosting algorithm, which is a machine technique used for both classification and regression tasks. XGBoost is renowned for its rapidity, scalability and efficicency. The reason for using it is that in recent kaggle competions XGBoost s being used in winning entries."
   ]
  },
  {
   "cell_type": "markdown",
   "metadata": {},
   "source": [
    "We have ended up with the same results as our descision trees with both our models performing perfectly."
   ]
  },
  {
   "cell_type": "markdown",
   "metadata": {
    "id": "qalXUqxxtvBi"
   },
   "source": [
    "# Market basket analysis"
   ]
  },
  {
   "cell_type": "markdown",
   "metadata": {
    "id": "LYLFV4XX4djp"
   },
   "source": [
    "Have you ever walked in to a supermarket and thought to yourself why is the bread counter at one end of the store and\n",
    "milk counter at the other end. This is a ploy by the supermarket to get the consumer to walk past as many other products as possible. This allows the supermarket to potentially to increase its profitability by selling more of its products.Intuitively we know that people who buy bread will oftern buy butter & milk as well. But how about crosses that are not as defined this is where market basket analysis comes in it allows supermarkets to identify consumer paterns which may be somewhat obscure and built marketing campaigns around them."
   ]
  },
  {
   "cell_type": "code",
   "execution_count": 51,
   "metadata": {
    "colab": {
     "base_uri": "https://localhost:8080/",
     "height": 206
    },
    "id": "ypTlgl9U4djr",
    "outputId": "80551fd4-1fdc-4288-b6f7-f62b69eefa13"
   },
   "outputs": [
    {
     "data": {
      "text/html": [
       "<div>\n",
       "<style scoped>\n",
       "    .dataframe tbody tr th:only-of-type {\n",
       "        vertical-align: middle;\n",
       "    }\n",
       "\n",
       "    .dataframe tbody tr th {\n",
       "        vertical-align: top;\n",
       "    }\n",
       "\n",
       "    .dataframe thead th {\n",
       "        text-align: right;\n",
       "    }\n",
       "</style>\n",
       "<table border=\"1\" class=\"dataframe\">\n",
       "  <thead>\n",
       "    <tr style=\"text-align: right;\">\n",
       "      <th></th>\n",
       "      <th>Member_number</th>\n",
       "      <th>Date</th>\n",
       "      <th>item Description</th>\n",
       "      <th>Month</th>\n",
       "      <th>Quantity</th>\n",
       "      <th>Day of The Week</th>\n",
       "      <th>Year</th>\n",
       "      <th>Day</th>\n",
       "      <th>Qtr</th>\n",
       "      <th>Qty Sold</th>\n",
       "      <th>customer_levels</th>\n",
       "    </tr>\n",
       "  </thead>\n",
       "  <tbody>\n",
       "    <tr>\n",
       "      <th>0</th>\n",
       "      <td>1808</td>\n",
       "      <td>2015-07-21</td>\n",
       "      <td>tropical fruit</td>\n",
       "      <td>7</td>\n",
       "      <td>1</td>\n",
       "      <td>1</td>\n",
       "      <td>2015</td>\n",
       "      <td>21</td>\n",
       "      <td>3</td>\n",
       "      <td>93</td>\n",
       "      <td>0</td>\n",
       "    </tr>\n",
       "    <tr>\n",
       "      <th>1</th>\n",
       "      <td>2552</td>\n",
       "      <td>2015-01-05</td>\n",
       "      <td>whole milk</td>\n",
       "      <td>1</td>\n",
       "      <td>1</td>\n",
       "      <td>0</td>\n",
       "      <td>2015</td>\n",
       "      <td>5</td>\n",
       "      <td>1</td>\n",
       "      <td>68</td>\n",
       "      <td>1</td>\n",
       "    </tr>\n",
       "    <tr>\n",
       "      <th>2</th>\n",
       "      <td>2300</td>\n",
       "      <td>2015-09-19</td>\n",
       "      <td>pip fruit</td>\n",
       "      <td>9</td>\n",
       "      <td>1</td>\n",
       "      <td>5</td>\n",
       "      <td>2015</td>\n",
       "      <td>19</td>\n",
       "      <td>3</td>\n",
       "      <td>57</td>\n",
       "      <td>1</td>\n",
       "    </tr>\n",
       "    <tr>\n",
       "      <th>3</th>\n",
       "      <td>1187</td>\n",
       "      <td>2015-12-12</td>\n",
       "      <td>other vegetables</td>\n",
       "      <td>12</td>\n",
       "      <td>1</td>\n",
       "      <td>5</td>\n",
       "      <td>2015</td>\n",
       "      <td>12</td>\n",
       "      <td>4</td>\n",
       "      <td>43</td>\n",
       "      <td>1</td>\n",
       "    </tr>\n",
       "    <tr>\n",
       "      <th>4</th>\n",
       "      <td>3037</td>\n",
       "      <td>2015-02-01</td>\n",
       "      <td>whole milk</td>\n",
       "      <td>2</td>\n",
       "      <td>1</td>\n",
       "      <td>6</td>\n",
       "      <td>2015</td>\n",
       "      <td>1</td>\n",
       "      <td>1</td>\n",
       "      <td>61</td>\n",
       "      <td>1</td>\n",
       "    </tr>\n",
       "  </tbody>\n",
       "</table>\n",
       "</div>"
      ],
      "text/plain": [
       "   Member_number       Date  item Description  Month  Quantity  \\\n",
       "0           1808 2015-07-21    tropical fruit      7         1   \n",
       "1           2552 2015-01-05        whole milk      1         1   \n",
       "2           2300 2015-09-19         pip fruit      9         1   \n",
       "3           1187 2015-12-12  other vegetables     12         1   \n",
       "4           3037 2015-02-01        whole milk      2         1   \n",
       "\n",
       "   Day of The Week  Year  Day  Qtr  Qty Sold  customer_levels  \n",
       "0                1  2015   21    3        93                0  \n",
       "1                0  2015    5    1        68                1  \n",
       "2                5  2015   19    3        57                1  \n",
       "3                5  2015   12    4        43                1  \n",
       "4                6  2015    1    1        61                1  "
      ]
     },
     "execution_count": 51,
     "metadata": {},
     "output_type": "execute_result"
    }
   ],
   "source": [
    "df_new.head()"
   ]
  },
  {
   "cell_type": "code",
   "execution_count": 52,
   "metadata": {},
   "outputs": [
    {
     "data": {
      "text/plain": [
       "array(['tropical fruit', 'whole milk', 'pip fruit', 'other vegetables',\n",
       "       'rolls/buns', 'pot plants', 'citrus fruit', 'beef', 'frankfurter',\n",
       "       'chicken', 'butter', 'fruit/vegetable juice',\n",
       "       'packaged fruit/vegetables', 'chocolate', 'specialty bar',\n",
       "       'butter milk', 'bottled water', 'yogurt', 'sausage', 'brown bread',\n",
       "       'hamburger meat', 'root vegetables', 'pork', 'pastry',\n",
       "       'canned beer', 'berries', 'coffee', 'misc. beverages', 'ham',\n",
       "       'turkey', 'curd cheese', 'red/blush wine',\n",
       "       'frozen potato products', 'flour', 'sugar', 'frozen meals',\n",
       "       'herbs', 'soda', 'detergent', 'grapes', 'processed cheese', 'fish',\n",
       "       'sparkling wine', 'newspapers', 'curd', 'pasta', 'popcorn',\n",
       "       'finished products', 'beverages', 'bottled beer', 'dessert',\n",
       "       'dog food', 'specialty chocolate', 'condensed milk', 'cleaner',\n",
       "       'white wine', 'meat', 'ice cream', 'hard cheese', 'cream cheese ',\n",
       "       'liquor', 'pickled vegetables', 'liquor (appetizer)', 'UHT-milk',\n",
       "       'candy', 'onions', 'hair spray', 'photo/film', 'domestic eggs',\n",
       "       'margarine', 'shopping bags', 'salt', 'oil', 'whipped/sour cream',\n",
       "       'frozen vegetables', 'sliced cheese', 'dish cleaner',\n",
       "       'baking powder', 'specialty cheese', 'salty snack',\n",
       "       'Instant food products', 'pet care', 'white bread',\n",
       "       'female sanitary products', 'cling film/bags', 'soap',\n",
       "       'frozen chicken', 'house keeping products', 'spread cheese',\n",
       "       'decalcifier', 'frozen dessert', 'vinegar', 'nuts/prunes',\n",
       "       'potato products', 'frozen fish', 'hygiene articles',\n",
       "       'artif. sweetener', 'light bulbs', 'canned vegetables',\n",
       "       'chewing gum', 'canned fish', 'cookware', 'semi-finished bread',\n",
       "       'cat food', 'bathroom cleaner', 'prosecco', 'liver loaf',\n",
       "       'zwieback', 'canned fruit', 'frozen fruits', 'brandy',\n",
       "       'baby cosmetics', 'spices', 'napkins', 'waffles', 'sauces', 'rum',\n",
       "       'chocolate marshmallow', 'long life bakery product', 'bags',\n",
       "       'sweet spreads', 'soups', 'mustard', 'specialty fat',\n",
       "       'instant coffee', 'snack products', 'organic sausage',\n",
       "       'soft cheese', 'mayonnaise', 'dental care', 'roll products ',\n",
       "       'kitchen towels', 'flower soil/fertilizer', 'cereals',\n",
       "       'meat spreads', 'dishes', 'male cosmetics', 'candles', 'whisky',\n",
       "       'tidbits', 'cooking chocolate', 'seasonal products', 'liqueur',\n",
       "       'abrasive cleaner', 'syrup', 'ketchup', 'cream', 'skin care',\n",
       "       'rubbing alcohol', 'nut snack', 'cocoa drinks', 'softener',\n",
       "       'organic products', 'cake bar', 'honey', 'jam', 'kitchen utensil',\n",
       "       'flower (seeds)', 'rice', 'tea', 'salad dressing',\n",
       "       'specialty vegetables', 'pudding powder', 'ready soups',\n",
       "       'make up remover', 'toilet cleaner', 'preservation products'],\n",
       "      dtype=object)"
      ]
     },
     "execution_count": 52,
     "metadata": {},
     "output_type": "execute_result"
    }
   ],
   "source": [
    "df_new['item Description'].unique()"
   ]
  },
  {
   "cell_type": "code",
   "execution_count": 53,
   "metadata": {
    "id": "WOUFWO1Wu635"
   },
   "outputs": [],
   "source": [
    "data['Date']=pd.to_datetime(data['Date']) "
   ]
  },
  {
   "cell_type": "code",
   "execution_count": 54,
   "metadata": {
    "id": "6zy3oVdYqF2V"
   },
   "outputs": [
    {
     "data": {
      "text/html": [
       "<div>\n",
       "<style scoped>\n",
       "    .dataframe tbody tr th:only-of-type {\n",
       "        vertical-align: middle;\n",
       "    }\n",
       "\n",
       "    .dataframe tbody tr th {\n",
       "        vertical-align: top;\n",
       "    }\n",
       "\n",
       "    .dataframe thead th {\n",
       "        text-align: right;\n",
       "    }\n",
       "</style>\n",
       "<table border=\"1\" class=\"dataframe\">\n",
       "  <thead>\n",
       "    <tr style=\"text-align: right;\">\n",
       "      <th>item Description</th>\n",
       "      <th>Instant food products</th>\n",
       "      <th>UHT-milk</th>\n",
       "      <th>abrasive cleaner</th>\n",
       "      <th>artif. sweetener</th>\n",
       "      <th>baby cosmetics</th>\n",
       "      <th>bags</th>\n",
       "      <th>baking powder</th>\n",
       "      <th>bathroom cleaner</th>\n",
       "      <th>beef</th>\n",
       "      <th>berries</th>\n",
       "      <th>...</th>\n",
       "      <th>turkey</th>\n",
       "      <th>vinegar</th>\n",
       "      <th>waffles</th>\n",
       "      <th>whipped/sour cream</th>\n",
       "      <th>whisky</th>\n",
       "      <th>white bread</th>\n",
       "      <th>white wine</th>\n",
       "      <th>whole milk</th>\n",
       "      <th>yogurt</th>\n",
       "      <th>zwieback</th>\n",
       "    </tr>\n",
       "    <tr>\n",
       "      <th>Member_number</th>\n",
       "      <th></th>\n",
       "      <th></th>\n",
       "      <th></th>\n",
       "      <th></th>\n",
       "      <th></th>\n",
       "      <th></th>\n",
       "      <th></th>\n",
       "      <th></th>\n",
       "      <th></th>\n",
       "      <th></th>\n",
       "      <th></th>\n",
       "      <th></th>\n",
       "      <th></th>\n",
       "      <th></th>\n",
       "      <th></th>\n",
       "      <th></th>\n",
       "      <th></th>\n",
       "      <th></th>\n",
       "      <th></th>\n",
       "      <th></th>\n",
       "      <th></th>\n",
       "    </tr>\n",
       "  </thead>\n",
       "  <tbody>\n",
       "    <tr>\n",
       "      <th>1000</th>\n",
       "      <td>0.0</td>\n",
       "      <td>0.0</td>\n",
       "      <td>0.0</td>\n",
       "      <td>0.0</td>\n",
       "      <td>0.0</td>\n",
       "      <td>0.0</td>\n",
       "      <td>0.0</td>\n",
       "      <td>0.0</td>\n",
       "      <td>0.0</td>\n",
       "      <td>0.0</td>\n",
       "      <td>...</td>\n",
       "      <td>0.0</td>\n",
       "      <td>0.0</td>\n",
       "      <td>0.0</td>\n",
       "      <td>0.0</td>\n",
       "      <td>0.0</td>\n",
       "      <td>0.0</td>\n",
       "      <td>0.0</td>\n",
       "      <td>2.0</td>\n",
       "      <td>1.0</td>\n",
       "      <td>0.0</td>\n",
       "    </tr>\n",
       "    <tr>\n",
       "      <th>1001</th>\n",
       "      <td>0.0</td>\n",
       "      <td>0.0</td>\n",
       "      <td>0.0</td>\n",
       "      <td>0.0</td>\n",
       "      <td>0.0</td>\n",
       "      <td>0.0</td>\n",
       "      <td>0.0</td>\n",
       "      <td>0.0</td>\n",
       "      <td>1.0</td>\n",
       "      <td>0.0</td>\n",
       "      <td>...</td>\n",
       "      <td>0.0</td>\n",
       "      <td>0.0</td>\n",
       "      <td>0.0</td>\n",
       "      <td>1.0</td>\n",
       "      <td>0.0</td>\n",
       "      <td>1.0</td>\n",
       "      <td>0.0</td>\n",
       "      <td>2.0</td>\n",
       "      <td>0.0</td>\n",
       "      <td>0.0</td>\n",
       "    </tr>\n",
       "    <tr>\n",
       "      <th>1002</th>\n",
       "      <td>0.0</td>\n",
       "      <td>0.0</td>\n",
       "      <td>0.0</td>\n",
       "      <td>0.0</td>\n",
       "      <td>0.0</td>\n",
       "      <td>0.0</td>\n",
       "      <td>0.0</td>\n",
       "      <td>0.0</td>\n",
       "      <td>0.0</td>\n",
       "      <td>0.0</td>\n",
       "      <td>...</td>\n",
       "      <td>0.0</td>\n",
       "      <td>0.0</td>\n",
       "      <td>0.0</td>\n",
       "      <td>0.0</td>\n",
       "      <td>0.0</td>\n",
       "      <td>0.0</td>\n",
       "      <td>0.0</td>\n",
       "      <td>1.0</td>\n",
       "      <td>0.0</td>\n",
       "      <td>0.0</td>\n",
       "    </tr>\n",
       "    <tr>\n",
       "      <th>1003</th>\n",
       "      <td>0.0</td>\n",
       "      <td>0.0</td>\n",
       "      <td>0.0</td>\n",
       "      <td>0.0</td>\n",
       "      <td>0.0</td>\n",
       "      <td>0.0</td>\n",
       "      <td>0.0</td>\n",
       "      <td>0.0</td>\n",
       "      <td>0.0</td>\n",
       "      <td>0.0</td>\n",
       "      <td>...</td>\n",
       "      <td>0.0</td>\n",
       "      <td>0.0</td>\n",
       "      <td>0.0</td>\n",
       "      <td>0.0</td>\n",
       "      <td>0.0</td>\n",
       "      <td>0.0</td>\n",
       "      <td>0.0</td>\n",
       "      <td>0.0</td>\n",
       "      <td>0.0</td>\n",
       "      <td>0.0</td>\n",
       "    </tr>\n",
       "    <tr>\n",
       "      <th>1004</th>\n",
       "      <td>0.0</td>\n",
       "      <td>0.0</td>\n",
       "      <td>0.0</td>\n",
       "      <td>0.0</td>\n",
       "      <td>0.0</td>\n",
       "      <td>0.0</td>\n",
       "      <td>0.0</td>\n",
       "      <td>0.0</td>\n",
       "      <td>0.0</td>\n",
       "      <td>0.0</td>\n",
       "      <td>...</td>\n",
       "      <td>0.0</td>\n",
       "      <td>0.0</td>\n",
       "      <td>0.0</td>\n",
       "      <td>0.0</td>\n",
       "      <td>0.0</td>\n",
       "      <td>0.0</td>\n",
       "      <td>0.0</td>\n",
       "      <td>3.0</td>\n",
       "      <td>0.0</td>\n",
       "      <td>0.0</td>\n",
       "    </tr>\n",
       "  </tbody>\n",
       "</table>\n",
       "<p>5 rows × 167 columns</p>\n",
       "</div>"
      ],
      "text/plain": [
       "item Description  Instant food products  UHT-milk  abrasive cleaner  \\\n",
       "Member_number                                                         \n",
       "1000                                0.0       0.0               0.0   \n",
       "1001                                0.0       0.0               0.0   \n",
       "1002                                0.0       0.0               0.0   \n",
       "1003                                0.0       0.0               0.0   \n",
       "1004                                0.0       0.0               0.0   \n",
       "\n",
       "item Description  artif. sweetener  baby cosmetics  bags  baking powder  \\\n",
       "Member_number                                                             \n",
       "1000                           0.0             0.0   0.0            0.0   \n",
       "1001                           0.0             0.0   0.0            0.0   \n",
       "1002                           0.0             0.0   0.0            0.0   \n",
       "1003                           0.0             0.0   0.0            0.0   \n",
       "1004                           0.0             0.0   0.0            0.0   \n",
       "\n",
       "item Description  bathroom cleaner  beef  berries  ...  turkey  vinegar  \\\n",
       "Member_number                                      ...                    \n",
       "1000                           0.0   0.0      0.0  ...     0.0      0.0   \n",
       "1001                           0.0   1.0      0.0  ...     0.0      0.0   \n",
       "1002                           0.0   0.0      0.0  ...     0.0      0.0   \n",
       "1003                           0.0   0.0      0.0  ...     0.0      0.0   \n",
       "1004                           0.0   0.0      0.0  ...     0.0      0.0   \n",
       "\n",
       "item Description  waffles  whipped/sour cream  whisky  white bread  \\\n",
       "Member_number                                                        \n",
       "1000                  0.0                 0.0     0.0          0.0   \n",
       "1001                  0.0                 1.0     0.0          1.0   \n",
       "1002                  0.0                 0.0     0.0          0.0   \n",
       "1003                  0.0                 0.0     0.0          0.0   \n",
       "1004                  0.0                 0.0     0.0          0.0   \n",
       "\n",
       "item Description  white wine  whole milk  yogurt  zwieback  \n",
       "Member_number                                               \n",
       "1000                     0.0         2.0     1.0       0.0  \n",
       "1001                     0.0         2.0     0.0       0.0  \n",
       "1002                     0.0         1.0     0.0       0.0  \n",
       "1003                     0.0         0.0     0.0       0.0  \n",
       "1004                     0.0         3.0     0.0       0.0  \n",
       "\n",
       "[5 rows x 167 columns]"
      ]
     },
     "execution_count": 54,
     "metadata": {},
     "output_type": "execute_result"
    }
   ],
   "source": [
    "basket_plus = df_new.groupby(['Member_number','item Description']).size().unstack().fillna(0)\n",
    "basket_plus.head()"
   ]
  },
  {
   "cell_type": "markdown",
   "metadata": {
    "id": "_jmNBeuK4djz"
   },
   "source": [
    "We have reshaped the data where the member number has become a row & the item description has become a column. This allows us to analyse customer purchasing behaviour. We can then idenify which were purchased together and in what quantities. This would a businsess such as a supermarket to to personalize a marketing campaign or develop cross selling opportunities from the patterns within the new matrix."
   ]
  },
  {
   "cell_type": "code",
   "execution_count": 55,
   "metadata": {
    "id": "iSOgz0kbaI5O"
   },
   "outputs": [
    {
     "data": {
      "text/html": [
       "<div>\n",
       "<style scoped>\n",
       "    .dataframe tbody tr th:only-of-type {\n",
       "        vertical-align: middle;\n",
       "    }\n",
       "\n",
       "    .dataframe tbody tr th {\n",
       "        vertical-align: top;\n",
       "    }\n",
       "\n",
       "    .dataframe thead th {\n",
       "        text-align: right;\n",
       "    }\n",
       "</style>\n",
       "<table border=\"1\" class=\"dataframe\">\n",
       "  <thead>\n",
       "    <tr style=\"text-align: right;\">\n",
       "      <th>item Description</th>\n",
       "      <th>Instant food products</th>\n",
       "      <th>UHT-milk</th>\n",
       "      <th>abrasive cleaner</th>\n",
       "      <th>artif. sweetener</th>\n",
       "      <th>baby cosmetics</th>\n",
       "      <th>bags</th>\n",
       "      <th>baking powder</th>\n",
       "      <th>bathroom cleaner</th>\n",
       "      <th>beef</th>\n",
       "      <th>berries</th>\n",
       "      <th>...</th>\n",
       "      <th>turkey</th>\n",
       "      <th>vinegar</th>\n",
       "      <th>waffles</th>\n",
       "      <th>whipped/sour cream</th>\n",
       "      <th>whisky</th>\n",
       "      <th>white bread</th>\n",
       "      <th>white wine</th>\n",
       "      <th>whole milk</th>\n",
       "      <th>yogurt</th>\n",
       "      <th>zwieback</th>\n",
       "    </tr>\n",
       "    <tr>\n",
       "      <th>Member_number</th>\n",
       "      <th></th>\n",
       "      <th></th>\n",
       "      <th></th>\n",
       "      <th></th>\n",
       "      <th></th>\n",
       "      <th></th>\n",
       "      <th></th>\n",
       "      <th></th>\n",
       "      <th></th>\n",
       "      <th></th>\n",
       "      <th></th>\n",
       "      <th></th>\n",
       "      <th></th>\n",
       "      <th></th>\n",
       "      <th></th>\n",
       "      <th></th>\n",
       "      <th></th>\n",
       "      <th></th>\n",
       "      <th></th>\n",
       "      <th></th>\n",
       "      <th></th>\n",
       "    </tr>\n",
       "  </thead>\n",
       "  <tbody>\n",
       "    <tr>\n",
       "      <th>1000</th>\n",
       "      <td>0</td>\n",
       "      <td>0</td>\n",
       "      <td>0</td>\n",
       "      <td>0</td>\n",
       "      <td>0</td>\n",
       "      <td>0</td>\n",
       "      <td>0</td>\n",
       "      <td>0</td>\n",
       "      <td>0</td>\n",
       "      <td>0</td>\n",
       "      <td>...</td>\n",
       "      <td>0</td>\n",
       "      <td>0</td>\n",
       "      <td>0</td>\n",
       "      <td>0</td>\n",
       "      <td>0</td>\n",
       "      <td>0</td>\n",
       "      <td>0</td>\n",
       "      <td>1</td>\n",
       "      <td>1</td>\n",
       "      <td>0</td>\n",
       "    </tr>\n",
       "    <tr>\n",
       "      <th>1001</th>\n",
       "      <td>0</td>\n",
       "      <td>0</td>\n",
       "      <td>0</td>\n",
       "      <td>0</td>\n",
       "      <td>0</td>\n",
       "      <td>0</td>\n",
       "      <td>0</td>\n",
       "      <td>0</td>\n",
       "      <td>1</td>\n",
       "      <td>0</td>\n",
       "      <td>...</td>\n",
       "      <td>0</td>\n",
       "      <td>0</td>\n",
       "      <td>0</td>\n",
       "      <td>1</td>\n",
       "      <td>0</td>\n",
       "      <td>1</td>\n",
       "      <td>0</td>\n",
       "      <td>1</td>\n",
       "      <td>0</td>\n",
       "      <td>0</td>\n",
       "    </tr>\n",
       "    <tr>\n",
       "      <th>1002</th>\n",
       "      <td>0</td>\n",
       "      <td>0</td>\n",
       "      <td>0</td>\n",
       "      <td>0</td>\n",
       "      <td>0</td>\n",
       "      <td>0</td>\n",
       "      <td>0</td>\n",
       "      <td>0</td>\n",
       "      <td>0</td>\n",
       "      <td>0</td>\n",
       "      <td>...</td>\n",
       "      <td>0</td>\n",
       "      <td>0</td>\n",
       "      <td>0</td>\n",
       "      <td>0</td>\n",
       "      <td>0</td>\n",
       "      <td>0</td>\n",
       "      <td>0</td>\n",
       "      <td>1</td>\n",
       "      <td>0</td>\n",
       "      <td>0</td>\n",
       "    </tr>\n",
       "    <tr>\n",
       "      <th>1003</th>\n",
       "      <td>0</td>\n",
       "      <td>0</td>\n",
       "      <td>0</td>\n",
       "      <td>0</td>\n",
       "      <td>0</td>\n",
       "      <td>0</td>\n",
       "      <td>0</td>\n",
       "      <td>0</td>\n",
       "      <td>0</td>\n",
       "      <td>0</td>\n",
       "      <td>...</td>\n",
       "      <td>0</td>\n",
       "      <td>0</td>\n",
       "      <td>0</td>\n",
       "      <td>0</td>\n",
       "      <td>0</td>\n",
       "      <td>0</td>\n",
       "      <td>0</td>\n",
       "      <td>0</td>\n",
       "      <td>0</td>\n",
       "      <td>0</td>\n",
       "    </tr>\n",
       "    <tr>\n",
       "      <th>1004</th>\n",
       "      <td>0</td>\n",
       "      <td>0</td>\n",
       "      <td>0</td>\n",
       "      <td>0</td>\n",
       "      <td>0</td>\n",
       "      <td>0</td>\n",
       "      <td>0</td>\n",
       "      <td>0</td>\n",
       "      <td>0</td>\n",
       "      <td>0</td>\n",
       "      <td>...</td>\n",
       "      <td>0</td>\n",
       "      <td>0</td>\n",
       "      <td>0</td>\n",
       "      <td>0</td>\n",
       "      <td>0</td>\n",
       "      <td>0</td>\n",
       "      <td>0</td>\n",
       "      <td>1</td>\n",
       "      <td>0</td>\n",
       "      <td>0</td>\n",
       "    </tr>\n",
       "    <tr>\n",
       "      <th>...</th>\n",
       "      <td>...</td>\n",
       "      <td>...</td>\n",
       "      <td>...</td>\n",
       "      <td>...</td>\n",
       "      <td>...</td>\n",
       "      <td>...</td>\n",
       "      <td>...</td>\n",
       "      <td>...</td>\n",
       "      <td>...</td>\n",
       "      <td>...</td>\n",
       "      <td>...</td>\n",
       "      <td>...</td>\n",
       "      <td>...</td>\n",
       "      <td>...</td>\n",
       "      <td>...</td>\n",
       "      <td>...</td>\n",
       "      <td>...</td>\n",
       "      <td>...</td>\n",
       "      <td>...</td>\n",
       "      <td>...</td>\n",
       "      <td>...</td>\n",
       "    </tr>\n",
       "    <tr>\n",
       "      <th>4996</th>\n",
       "      <td>0</td>\n",
       "      <td>0</td>\n",
       "      <td>0</td>\n",
       "      <td>0</td>\n",
       "      <td>0</td>\n",
       "      <td>0</td>\n",
       "      <td>0</td>\n",
       "      <td>0</td>\n",
       "      <td>0</td>\n",
       "      <td>0</td>\n",
       "      <td>...</td>\n",
       "      <td>0</td>\n",
       "      <td>0</td>\n",
       "      <td>0</td>\n",
       "      <td>0</td>\n",
       "      <td>0</td>\n",
       "      <td>0</td>\n",
       "      <td>0</td>\n",
       "      <td>0</td>\n",
       "      <td>0</td>\n",
       "      <td>0</td>\n",
       "    </tr>\n",
       "    <tr>\n",
       "      <th>4997</th>\n",
       "      <td>0</td>\n",
       "      <td>0</td>\n",
       "      <td>0</td>\n",
       "      <td>0</td>\n",
       "      <td>0</td>\n",
       "      <td>0</td>\n",
       "      <td>0</td>\n",
       "      <td>0</td>\n",
       "      <td>0</td>\n",
       "      <td>0</td>\n",
       "      <td>...</td>\n",
       "      <td>0</td>\n",
       "      <td>0</td>\n",
       "      <td>0</td>\n",
       "      <td>0</td>\n",
       "      <td>0</td>\n",
       "      <td>0</td>\n",
       "      <td>1</td>\n",
       "      <td>1</td>\n",
       "      <td>0</td>\n",
       "      <td>0</td>\n",
       "    </tr>\n",
       "    <tr>\n",
       "      <th>4998</th>\n",
       "      <td>0</td>\n",
       "      <td>0</td>\n",
       "      <td>0</td>\n",
       "      <td>0</td>\n",
       "      <td>0</td>\n",
       "      <td>0</td>\n",
       "      <td>0</td>\n",
       "      <td>0</td>\n",
       "      <td>0</td>\n",
       "      <td>0</td>\n",
       "      <td>...</td>\n",
       "      <td>0</td>\n",
       "      <td>0</td>\n",
       "      <td>0</td>\n",
       "      <td>0</td>\n",
       "      <td>0</td>\n",
       "      <td>0</td>\n",
       "      <td>0</td>\n",
       "      <td>0</td>\n",
       "      <td>0</td>\n",
       "      <td>0</td>\n",
       "    </tr>\n",
       "    <tr>\n",
       "      <th>4999</th>\n",
       "      <td>0</td>\n",
       "      <td>0</td>\n",
       "      <td>0</td>\n",
       "      <td>0</td>\n",
       "      <td>0</td>\n",
       "      <td>0</td>\n",
       "      <td>0</td>\n",
       "      <td>0</td>\n",
       "      <td>0</td>\n",
       "      <td>1</td>\n",
       "      <td>...</td>\n",
       "      <td>0</td>\n",
       "      <td>0</td>\n",
       "      <td>0</td>\n",
       "      <td>1</td>\n",
       "      <td>0</td>\n",
       "      <td>0</td>\n",
       "      <td>0</td>\n",
       "      <td>0</td>\n",
       "      <td>1</td>\n",
       "      <td>0</td>\n",
       "    </tr>\n",
       "    <tr>\n",
       "      <th>5000</th>\n",
       "      <td>0</td>\n",
       "      <td>0</td>\n",
       "      <td>0</td>\n",
       "      <td>0</td>\n",
       "      <td>0</td>\n",
       "      <td>0</td>\n",
       "      <td>0</td>\n",
       "      <td>0</td>\n",
       "      <td>0</td>\n",
       "      <td>0</td>\n",
       "      <td>...</td>\n",
       "      <td>0</td>\n",
       "      <td>0</td>\n",
       "      <td>0</td>\n",
       "      <td>0</td>\n",
       "      <td>0</td>\n",
       "      <td>0</td>\n",
       "      <td>0</td>\n",
       "      <td>0</td>\n",
       "      <td>0</td>\n",
       "      <td>0</td>\n",
       "    </tr>\n",
       "  </tbody>\n",
       "</table>\n",
       "<p>3892 rows × 167 columns</p>\n",
       "</div>"
      ],
      "text/plain": [
       "item Description  Instant food products  UHT-milk  abrasive cleaner  \\\n",
       "Member_number                                                         \n",
       "1000                                  0         0                 0   \n",
       "1001                                  0         0                 0   \n",
       "1002                                  0         0                 0   \n",
       "1003                                  0         0                 0   \n",
       "1004                                  0         0                 0   \n",
       "...                                 ...       ...               ...   \n",
       "4996                                  0         0                 0   \n",
       "4997                                  0         0                 0   \n",
       "4998                                  0         0                 0   \n",
       "4999                                  0         0                 0   \n",
       "5000                                  0         0                 0   \n",
       "\n",
       "item Description  artif. sweetener  baby cosmetics  bags  baking powder  \\\n",
       "Member_number                                                             \n",
       "1000                             0               0     0              0   \n",
       "1001                             0               0     0              0   \n",
       "1002                             0               0     0              0   \n",
       "1003                             0               0     0              0   \n",
       "1004                             0               0     0              0   \n",
       "...                            ...             ...   ...            ...   \n",
       "4996                             0               0     0              0   \n",
       "4997                             0               0     0              0   \n",
       "4998                             0               0     0              0   \n",
       "4999                             0               0     0              0   \n",
       "5000                             0               0     0              0   \n",
       "\n",
       "item Description  bathroom cleaner  beef  berries  ...  turkey  vinegar  \\\n",
       "Member_number                                      ...                    \n",
       "1000                             0     0        0  ...       0        0   \n",
       "1001                             0     1        0  ...       0        0   \n",
       "1002                             0     0        0  ...       0        0   \n",
       "1003                             0     0        0  ...       0        0   \n",
       "1004                             0     0        0  ...       0        0   \n",
       "...                            ...   ...      ...  ...     ...      ...   \n",
       "4996                             0     0        0  ...       0        0   \n",
       "4997                             0     0        0  ...       0        0   \n",
       "4998                             0     0        0  ...       0        0   \n",
       "4999                             0     0        1  ...       0        0   \n",
       "5000                             0     0        0  ...       0        0   \n",
       "\n",
       "item Description  waffles  whipped/sour cream  whisky  white bread  \\\n",
       "Member_number                                                        \n",
       "1000                    0                   0       0            0   \n",
       "1001                    0                   1       0            1   \n",
       "1002                    0                   0       0            0   \n",
       "1003                    0                   0       0            0   \n",
       "1004                    0                   0       0            0   \n",
       "...                   ...                 ...     ...          ...   \n",
       "4996                    0                   0       0            0   \n",
       "4997                    0                   0       0            0   \n",
       "4998                    0                   0       0            0   \n",
       "4999                    0                   1       0            0   \n",
       "5000                    0                   0       0            0   \n",
       "\n",
       "item Description  white wine  whole milk  yogurt  zwieback  \n",
       "Member_number                                               \n",
       "1000                       0           1       1         0  \n",
       "1001                       0           1       0         0  \n",
       "1002                       0           1       0         0  \n",
       "1003                       0           0       0         0  \n",
       "1004                       0           1       0         0  \n",
       "...                      ...         ...     ...       ...  \n",
       "4996                       0           0       0         0  \n",
       "4997                       1           1       0         0  \n",
       "4998                       0           0       0         0  \n",
       "4999                       0           0       1         0  \n",
       "5000                       0           0       0         0  \n",
       "\n",
       "[3892 rows x 167 columns]"
      ]
     },
     "execution_count": 55,
     "metadata": {},
     "output_type": "execute_result"
    }
   ],
   "source": [
    "def encode_units(x):\n",
    "    if x <= 0:\n",
    "        return 0\n",
    "    if x >= 1:\n",
    "        return 1\n",
    "\n",
    "basket_encode_plus = basket_plus.applymap(encode_units)\n",
    "basket_filter_plus = basket_encode_plus[(basket_encode_plus > 0).sum(axis=1) >=\n",
    "2]\n",
    "basket_filter_plus"
   ]
  },
  {
   "cell_type": "markdown",
   "metadata": {
    "id": "LYAuSuSK4djz"
   },
   "source": [
    "We use the def function to encode when an item was bought 1 for yes & 0 for no in this way we can combine the 1 together which relates to an item bought and group these patterns together to form a basket of goods which were bought together."
   ]
  },
  {
   "cell_type": "markdown",
   "metadata": {
    "id": "mpiJ-LAS4dj0"
   },
   "source": [
    "We need to filter the customers who have only bought one item as we can only carry out an analysis on customers who have bought more than one item."
   ]
  },
  {
   "cell_type": "code",
   "execution_count": 56,
   "metadata": {
    "colab": {
     "base_uri": "https://localhost:8080/"
    },
    "id": "Ae6fGJnIaI5O",
    "outputId": "969c74c0-9519-479d-b402-8a51f929643d",
    "scrolled": true
   },
   "outputs": [
    {
     "name": "stdout",
     "output_type": "stream",
     "text": [
      "Requirement already satisfied: mlxtend in c:\\users\\andrew\\anaconda3\\lib\\site-packages (0.22.0)\n",
      "Requirement already satisfied: numpy>=1.16.2 in c:\\users\\andrew\\anaconda3\\lib\\site-packages (from mlxtend) (1.23.5)\n",
      "Requirement already satisfied: scipy>=1.2.1 in c:\\users\\andrew\\anaconda3\\lib\\site-packages (from mlxtend) (1.10.1)\n",
      "Requirement already satisfied: scikit-learn>=1.0.2 in c:\\users\\andrew\\anaconda3\\lib\\site-packages (from mlxtend) (1.3.2)\n",
      "Requirement already satisfied: pandas>=0.24.2 in c:\\users\\andrew\\anaconda3\\lib\\site-packages (from mlxtend) (2.0.3)\n",
      "Requirement already satisfied: matplotlib>=3.0.0 in c:\\users\\andrew\\anaconda3\\lib\\site-packages (from mlxtend) (3.7.4)\n",
      "Requirement already satisfied: joblib>=0.13.2 in c:\\users\\andrew\\anaconda3\\lib\\site-packages (from mlxtend) (1.3.1)\n",
      "Note: you may need to restart the kernel to use updated packages.\n",
      "Requirement already satisfied: setuptools in c:\\users\\andrew\\anaconda3\\lib\\site-packages (from mlxtend) (50.3.1.post20201107)\n",
      "Requirement already satisfied: threadpoolctl>=2.0.0 in c:\\users\\andrew\\anaconda3\\lib\\site-packages (from scikit-learn>=1.0.2->mlxtend) (3.2.0)\n",
      "Requirement already satisfied: python-dateutil>=2.8.2 in c:\\users\\andrew\\anaconda3\\lib\\site-packages (from pandas>=0.24.2->mlxtend) (2.8.2)\n",
      "Requirement already satisfied: tzdata>=2022.1 in c:\\users\\andrew\\anaconda3\\lib\\site-packages (from pandas>=0.24.2->mlxtend) (2023.3)\n",
      "Requirement already satisfied: pytz>=2020.1 in c:\\users\\andrew\\anaconda3\\lib\\site-packages (from pandas>=0.24.2->mlxtend) (2023.3)\n",
      "Requirement already satisfied: packaging>=20.0 in c:\\users\\andrew\\anaconda3\\lib\\site-packages (from matplotlib>=3.0.0->mlxtend) (23.1)\n",
      "Requirement already satisfied: kiwisolver>=1.0.1 in c:\\users\\andrew\\anaconda3\\lib\\site-packages (from matplotlib>=3.0.0->mlxtend) (1.3.0)\n",
      "Requirement already satisfied: importlib-resources>=3.2.0; python_version < \"3.10\" in c:\\users\\andrew\\anaconda3\\lib\\site-packages (from matplotlib>=3.0.0->mlxtend) (6.1.1)\n",
      "Requirement already satisfied: contourpy>=1.0.1 in c:\\users\\andrew\\anaconda3\\lib\\site-packages (from matplotlib>=3.0.0->mlxtend) (1.1.1)\n",
      "Requirement already satisfied: pyparsing>=2.3.1 in c:\\users\\andrew\\anaconda3\\lib\\site-packages (from matplotlib>=3.0.0->mlxtend) (2.4.7)\n",
      "Requirement already satisfied: pillow>=6.2.0 in c:\\users\\andrew\\anaconda3\\lib\\site-packages (from matplotlib>=3.0.0->mlxtend) (8.0.1)\n",
      "Requirement already satisfied: fonttools>=4.22.0 in c:\\users\\andrew\\anaconda3\\lib\\site-packages (from matplotlib>=3.0.0->mlxtend) (4.46.0)\n",
      "Requirement already satisfied: cycler>=0.10 in c:\\users\\andrew\\anaconda3\\lib\\site-packages (from matplotlib>=3.0.0->mlxtend) (0.10.0)\n",
      "Requirement already satisfied: six>=1.5 in c:\\users\\andrew\\anaconda3\\lib\\site-packages (from python-dateutil>=2.8.2->pandas>=0.24.2->mlxtend) (1.15.0)\n",
      "Requirement already satisfied: zipp>=3.1.0; python_version < \"3.10\" in c:\\users\\andrew\\anaconda3\\lib\\site-packages (from importlib-resources>=3.2.0; python_version < \"3.10\"->matplotlib>=3.0.0->mlxtend) (3.4.0)\n"
     ]
    }
   ],
   "source": [
    "pip install mlxtend"
   ]
  },
  {
   "cell_type": "code",
   "execution_count": 57,
   "metadata": {
    "colab": {
     "base_uri": "https://localhost:8080/"
    },
    "id": "SvKFIkhzaI5R",
    "outputId": "dc70ac85-ab4b-407b-fe2b-3b8a918c55ce"
   },
   "outputs": [
    {
     "name": "stdout",
     "output_type": "stream",
     "text": [
      "                 antecedents              consequents  antecedent support  \\\n",
      "238                (sausage)     (whole milk, yogurt)            0.060349   \n",
      "235     (whole milk, yogurt)                (sausage)            0.011161   \n",
      "234    (whole milk, sausage)                 (yogurt)            0.008955   \n",
      "239                 (yogurt)    (whole milk, sausage)            0.085879   \n",
      "87            (citrus fruit)    (specialty chocolate)            0.053131   \n",
      "..                       ...                      ...                 ...   \n",
      "144                 (grapes)                   (soda)            0.014436   \n",
      "5                     (beef)           (citrus fruit)            0.033950   \n",
      "4             (citrus fruit)                   (beef)            0.053131   \n",
      "138             (rolls/buns)  (fruit/vegetable juice)            0.110005   \n",
      "139  (fruit/vegetable juice)             (rolls/buns)            0.034017   \n",
      "\n",
      "     consequent support   support  confidence      lift      leverage  \\\n",
      "238            0.011161  0.001470    0.024363  2.182917  7.967480e-04   \n",
      "235            0.060349  0.001470    0.131737  2.182917  7.967480e-04   \n",
      "234            0.085879  0.001470    0.164179  1.911760  7.012151e-04   \n",
      "239            0.008955  0.001470    0.017121  1.911760  7.012151e-04   \n",
      "87             0.015973  0.001403    0.026415  1.653762  5.548137e-04   \n",
      "..                  ...       ...         ...       ...           ...   \n",
      "144            0.097106  0.001403    0.097222  1.001195  1.674919e-06   \n",
      "5              0.053131  0.001804    0.053150  1.000349  6.297697e-07   \n",
      "4              0.033950  0.001804    0.033962  1.000349  6.297697e-07   \n",
      "138            0.034017  0.003743    0.034022  1.000136  5.091755e-07   \n",
      "139            0.110005  0.003743    0.110020  1.000136  5.091755e-07   \n",
      "\n",
      "     conviction  zhangs_metric  \n",
      "238    1.013532       0.576701  \n",
      "235    1.082219       0.548014  \n",
      "234    1.093681       0.481231  \n",
      "239    1.008307       0.521727  \n",
      "87     1.010726       0.417500  \n",
      "..          ...            ...  \n",
      "144    1.000129       0.001211  \n",
      "5      1.000020       0.000361  \n",
      "4      1.000012       0.000369  \n",
      "138    1.000005       0.000153  \n",
      "139    1.000017       0.000141  \n",
      "\n",
      "[240 rows x 10 columns]\n"
     ]
    }
   ],
   "source": [
    "\n",
    "# Group the items by transaction and create a list of items for each transaction\n",
    "transactions = df_new.groupby(['Member_number', 'Date'])['item Description'].apply(list).values.tolist()\n",
    "\n",
    "# Perform one-hot encoding on the transactions\n",
    "te = TransactionEncoder()\n",
    "one_hot_encoded = te.fit_transform(transactions)\n",
    "data_encoded = pd.DataFrame(one_hot_encoded, columns=te.columns_)\n",
    "\n",
    "# Perform market basket analysis using Apriori\n",
    "frequent_itemsets = apriori(data_encoded, min_support=0.001, use_colnames=True)\n",
    "rules = association_rules(frequent_itemsets, metric='lift', min_threshold=1)\n",
    "\n",
    "# Sort and display the rules based on a specific metric\n",
    "sorted_rules = rules.sort_values(by='lift', ascending=False)\n",
    "print(sorted_rules)\n",
    "\n"
   ]
  },
  {
   "cell_type": "markdown",
   "metadata": {
    "id": "KEDoq2YR4dj3"
   },
   "source": [
    "We group all the items tht were bought by every member and create a list to store this information. Every tranasaction by every member is formed into a list, so in effect we have a list of lists.These list of lists represent the items bought as a single entity. we can use the TranasctionEncoder to create a binary matrix ie 1 or 0. THE binary matrix identifies frequent itemsets which then allows us to generate association rules.\n",
    "\n",
    "We have created a list of items that have been bought(antecedents) and items which were likely to be bought(consequents) as a \n",
    "results of the antecedents being bought."
   ]
  },
  {
   "cell_type": "code",
   "execution_count": 58,
   "metadata": {
    "id": "WJXA9OAiaI5R"
   },
   "outputs": [],
   "source": [
    "from mlxtend.frequent_patterns import apriori"
   ]
  },
  {
   "cell_type": "code",
   "execution_count": 59,
   "metadata": {
    "colab": {
     "base_uri": "https://localhost:8080/",
     "height": 424
    },
    "id": "mBKtbLCEaI5S",
    "outputId": "b5d22c5f-bfa5-4b06-9481-7062ffc1e9b9"
   },
   "outputs": [
    {
     "data": {
      "text/html": [
       "<div>\n",
       "<style scoped>\n",
       "    .dataframe tbody tr th:only-of-type {\n",
       "        vertical-align: middle;\n",
       "    }\n",
       "\n",
       "    .dataframe tbody tr th {\n",
       "        vertical-align: top;\n",
       "    }\n",
       "\n",
       "    .dataframe thead th {\n",
       "        text-align: right;\n",
       "    }\n",
       "</style>\n",
       "<table border=\"1\" class=\"dataframe\">\n",
       "  <thead>\n",
       "    <tr style=\"text-align: right;\">\n",
       "      <th></th>\n",
       "      <th>support</th>\n",
       "      <th>itemsets</th>\n",
       "      <th>length</th>\n",
       "    </tr>\n",
       "  </thead>\n",
       "  <tbody>\n",
       "    <tr>\n",
       "      <th>0</th>\n",
       "      <td>0.458633</td>\n",
       "      <td>(whole milk)</td>\n",
       "      <td>1</td>\n",
       "    </tr>\n",
       "    <tr>\n",
       "      <th>1</th>\n",
       "      <td>0.376670</td>\n",
       "      <td>(other vegetables)</td>\n",
       "      <td>1</td>\n",
       "    </tr>\n",
       "    <tr>\n",
       "      <th>2</th>\n",
       "      <td>0.350206</td>\n",
       "      <td>(rolls/buns)</td>\n",
       "      <td>1</td>\n",
       "    </tr>\n",
       "    <tr>\n",
       "      <th>3</th>\n",
       "      <td>0.313720</td>\n",
       "      <td>(soda)</td>\n",
       "      <td>1</td>\n",
       "    </tr>\n",
       "    <tr>\n",
       "      <th>4</th>\n",
       "      <td>0.283402</td>\n",
       "      <td>(yogurt)</td>\n",
       "      <td>1</td>\n",
       "    </tr>\n",
       "    <tr>\n",
       "      <th>...</th>\n",
       "      <td>...</td>\n",
       "      <td>...</td>\n",
       "      <td>...</td>\n",
       "    </tr>\n",
       "    <tr>\n",
       "      <th>3011</th>\n",
       "      <td>0.010021</td>\n",
       "      <td>(ice cream, whole milk, sausage)</td>\n",
       "      <td>3</td>\n",
       "    </tr>\n",
       "    <tr>\n",
       "      <th>3012</th>\n",
       "      <td>0.010021</td>\n",
       "      <td>(ice cream, other vegetables, rolls/buns)</td>\n",
       "      <td>3</td>\n",
       "    </tr>\n",
       "    <tr>\n",
       "      <th>3013</th>\n",
       "      <td>0.010021</td>\n",
       "      <td>(other vegetables, whole milk, herbs)</td>\n",
       "      <td>3</td>\n",
       "    </tr>\n",
       "    <tr>\n",
       "      <th>3014</th>\n",
       "      <td>0.010021</td>\n",
       "      <td>(pork, misc. beverages)</td>\n",
       "      <td>2</td>\n",
       "    </tr>\n",
       "    <tr>\n",
       "      <th>3015</th>\n",
       "      <td>0.010021</td>\n",
       "      <td>(margarine, tropical fruit, rolls/buns)</td>\n",
       "      <td>3</td>\n",
       "    </tr>\n",
       "  </tbody>\n",
       "</table>\n",
       "<p>3016 rows × 3 columns</p>\n",
       "</div>"
      ],
      "text/plain": [
       "       support                                   itemsets  length\n",
       "0     0.458633                               (whole milk)       1\n",
       "1     0.376670                         (other vegetables)       1\n",
       "2     0.350206                               (rolls/buns)       1\n",
       "3     0.313720                                     (soda)       1\n",
       "4     0.283402                                   (yogurt)       1\n",
       "...        ...                                        ...     ...\n",
       "3011  0.010021           (ice cream, whole milk, sausage)       3\n",
       "3012  0.010021  (ice cream, other vegetables, rolls/buns)       3\n",
       "3013  0.010021      (other vegetables, whole milk, herbs)       3\n",
       "3014  0.010021                    (pork, misc. beverages)       2\n",
       "3015  0.010021    (margarine, tropical fruit, rolls/buns)       3\n",
       "\n",
       "[3016 rows x 3 columns]"
      ]
     },
     "execution_count": 59,
     "metadata": {},
     "output_type": "execute_result"
    }
   ],
   "source": [
    "frequent_itemsets_plus = apriori(basket_filter_plus, min_support=0.01, \n",
    "                                 use_colnames=True).sort_values('support', ascending=False).reset_index(drop=True)\n",
    "\n",
    "frequent_itemsets_plus['length'] = frequent_itemsets_plus['itemsets'].apply(lambda x: len(x))\n",
    "\n",
    "frequent_itemsets_plus"
   ]
  },
  {
   "cell_type": "markdown",
   "metadata": {
    "id": "6jYmXYSD4dj5"
   },
   "source": [
    "The objective of the code above is to provide information about the most frequently purchased items. Sorting the item sets by support enables us to identify the items that occur most frequently. The addition of the length column clarifies the extent or complexity of each item set. These insights will allow for further analysis and decision making such as identifiying itemsets"
   ]
  },
  {
   "cell_type": "code",
   "execution_count": 60,
   "metadata": {
    "colab": {
     "base_uri": "https://localhost:8080/",
     "height": 424
    },
    "id": "bIe4SoVtaI5S",
    "outputId": "0bc36dae-acaa-4be1-e312-e5fdf2068d10"
   },
   "outputs": [
    {
     "data": {
      "text/html": [
       "<div>\n",
       "<style scoped>\n",
       "    .dataframe tbody tr th:only-of-type {\n",
       "        vertical-align: middle;\n",
       "    }\n",
       "\n",
       "    .dataframe tbody tr th {\n",
       "        vertical-align: top;\n",
       "    }\n",
       "\n",
       "    .dataframe thead th {\n",
       "        text-align: right;\n",
       "    }\n",
       "</style>\n",
       "<table border=\"1\" class=\"dataframe\">\n",
       "  <thead>\n",
       "    <tr style=\"text-align: right;\">\n",
       "      <th></th>\n",
       "      <th>support</th>\n",
       "      <th>itemsets</th>\n",
       "      <th>length</th>\n",
       "    </tr>\n",
       "  </thead>\n",
       "  <tbody>\n",
       "    <tr>\n",
       "      <th>9</th>\n",
       "      <td>0.191675</td>\n",
       "      <td>(other vegetables, whole milk)</td>\n",
       "      <td>2</td>\n",
       "    </tr>\n",
       "    <tr>\n",
       "      <th>11</th>\n",
       "      <td>0.178828</td>\n",
       "      <td>(whole milk, rolls/buns)</td>\n",
       "      <td>2</td>\n",
       "    </tr>\n",
       "    <tr>\n",
       "      <th>18</th>\n",
       "      <td>0.151336</td>\n",
       "      <td>(soda, whole milk)</td>\n",
       "      <td>2</td>\n",
       "    </tr>\n",
       "    <tr>\n",
       "      <th>19</th>\n",
       "      <td>0.150822</td>\n",
       "      <td>(whole milk, yogurt)</td>\n",
       "      <td>2</td>\n",
       "    </tr>\n",
       "    <tr>\n",
       "      <th>20</th>\n",
       "      <td>0.146968</td>\n",
       "      <td>(other vegetables, rolls/buns)</td>\n",
       "      <td>2</td>\n",
       "    </tr>\n",
       "    <tr>\n",
       "      <th>...</th>\n",
       "      <td>...</td>\n",
       "      <td>...</td>\n",
       "      <td>...</td>\n",
       "    </tr>\n",
       "    <tr>\n",
       "      <th>409</th>\n",
       "      <td>0.030062</td>\n",
       "      <td>(canned beer, brown bread)</td>\n",
       "      <td>2</td>\n",
       "    </tr>\n",
       "    <tr>\n",
       "      <th>410</th>\n",
       "      <td>0.030062</td>\n",
       "      <td>(shopping bags, newspapers)</td>\n",
       "      <td>2</td>\n",
       "    </tr>\n",
       "    <tr>\n",
       "      <th>411</th>\n",
       "      <td>0.030062</td>\n",
       "      <td>(frankfurter, pastry)</td>\n",
       "      <td>2</td>\n",
       "    </tr>\n",
       "    <tr>\n",
       "      <th>413</th>\n",
       "      <td>0.030062</td>\n",
       "      <td>(soda, cream cheese )</td>\n",
       "      <td>2</td>\n",
       "    </tr>\n",
       "    <tr>\n",
       "      <th>414</th>\n",
       "      <td>0.030062</td>\n",
       "      <td>(root vegetables, curd)</td>\n",
       "      <td>2</td>\n",
       "    </tr>\n",
       "  </tbody>\n",
       "</table>\n",
       "<p>256 rows × 3 columns</p>\n",
       "</div>"
      ],
      "text/plain": [
       "      support                        itemsets  length\n",
       "9    0.191675  (other vegetables, whole milk)       2\n",
       "11   0.178828        (whole milk, rolls/buns)       2\n",
       "18   0.151336              (soda, whole milk)       2\n",
       "19   0.150822            (whole milk, yogurt)       2\n",
       "20   0.146968  (other vegetables, rolls/buns)       2\n",
       "..        ...                             ...     ...\n",
       "409  0.030062      (canned beer, brown bread)       2\n",
       "410  0.030062     (shopping bags, newspapers)       2\n",
       "411  0.030062           (frankfurter, pastry)       2\n",
       "413  0.030062           (soda, cream cheese )       2\n",
       "414  0.030062         (root vegetables, curd)       2\n",
       "\n",
       "[256 rows x 3 columns]"
      ]
     },
     "execution_count": 60,
     "metadata": {},
     "output_type": "execute_result"
    }
   ],
   "source": [
    "frequent_itemsets_plus[ (frequent_itemsets_plus['length']  == 2) &\n",
    "                        (frequent_itemsets_plus['support'] >= 0.03) ]"
   ]
  },
  {
   "cell_type": "markdown",
   "metadata": {
    "id": "omDnZNbf4dj6"
   },
   "source": [
    "We use this code to only include the itemsets were 2 or more have been bought and also a support level .03. the support level being how popular the items were."
   ]
  },
  {
   "cell_type": "code",
   "execution_count": 61,
   "metadata": {
    "id": "NYI4DqilaI5S"
   },
   "outputs": [],
   "source": [
    "from mlxtend.frequent_patterns import association_rules"
   ]
  },
  {
   "cell_type": "code",
   "execution_count": 62,
   "metadata": {
    "colab": {
     "base_uri": "https://localhost:8080/",
     "height": 206
    },
    "id": "_86oEae1aI5S",
    "outputId": "e3c5c233-0bb9-4007-d119-67b31817289f",
    "scrolled": true
   },
   "outputs": [
    {
     "data": {
      "text/html": [
       "<div>\n",
       "<style scoped>\n",
       "    .dataframe tbody tr th:only-of-type {\n",
       "        vertical-align: middle;\n",
       "    }\n",
       "\n",
       "    .dataframe tbody tr th {\n",
       "        vertical-align: top;\n",
       "    }\n",
       "\n",
       "    .dataframe thead th {\n",
       "        text-align: right;\n",
       "    }\n",
       "</style>\n",
       "<table border=\"1\" class=\"dataframe\">\n",
       "  <thead>\n",
       "    <tr style=\"text-align: right;\">\n",
       "      <th></th>\n",
       "      <th>antecedents</th>\n",
       "      <th>consequents</th>\n",
       "      <th>antecedent support</th>\n",
       "      <th>consequent support</th>\n",
       "      <th>support</th>\n",
       "      <th>confidence</th>\n",
       "      <th>lift</th>\n",
       "      <th>leverage</th>\n",
       "      <th>conviction</th>\n",
       "      <th>zhangs_metric</th>\n",
       "    </tr>\n",
       "  </thead>\n",
       "  <tbody>\n",
       "    <tr>\n",
       "      <th>0</th>\n",
       "      <td>(yogurt, rolls/buns)</td>\n",
       "      <td>(whole milk, sausage, other vegetables)</td>\n",
       "      <td>0.111511</td>\n",
       "      <td>0.050360</td>\n",
       "      <td>0.013618</td>\n",
       "      <td>0.122120</td>\n",
       "      <td>2.424951</td>\n",
       "      <td>0.008002</td>\n",
       "      <td>1.081742</td>\n",
       "      <td>0.661370</td>\n",
       "    </tr>\n",
       "    <tr>\n",
       "      <th>1</th>\n",
       "      <td>(whole milk, sausage, other vegetables)</td>\n",
       "      <td>(yogurt, rolls/buns)</td>\n",
       "      <td>0.050360</td>\n",
       "      <td>0.111511</td>\n",
       "      <td>0.013618</td>\n",
       "      <td>0.270408</td>\n",
       "      <td>2.424951</td>\n",
       "      <td>0.008002</td>\n",
       "      <td>1.217789</td>\n",
       "      <td>0.618782</td>\n",
       "    </tr>\n",
       "    <tr>\n",
       "      <th>2</th>\n",
       "      <td>(whole milk, sausage)</td>\n",
       "      <td>(other vegetables, yogurt, rolls/buns)</td>\n",
       "      <td>0.107143</td>\n",
       "      <td>0.052415</td>\n",
       "      <td>0.013618</td>\n",
       "      <td>0.127098</td>\n",
       "      <td>2.424837</td>\n",
       "      <td>0.008002</td>\n",
       "      <td>1.085557</td>\n",
       "      <td>0.658113</td>\n",
       "    </tr>\n",
       "    <tr>\n",
       "      <th>3</th>\n",
       "      <td>(other vegetables, yogurt, rolls/buns)</td>\n",
       "      <td>(whole milk, sausage)</td>\n",
       "      <td>0.052415</td>\n",
       "      <td>0.107143</td>\n",
       "      <td>0.013618</td>\n",
       "      <td>0.259804</td>\n",
       "      <td>2.424837</td>\n",
       "      <td>0.008002</td>\n",
       "      <td>1.206244</td>\n",
       "      <td>0.620104</td>\n",
       "    </tr>\n",
       "    <tr>\n",
       "      <th>4</th>\n",
       "      <td>(yogurt, curd)</td>\n",
       "      <td>(whole milk, sausage)</td>\n",
       "      <td>0.040339</td>\n",
       "      <td>0.107143</td>\n",
       "      <td>0.010021</td>\n",
       "      <td>0.248408</td>\n",
       "      <td>2.318471</td>\n",
       "      <td>0.005699</td>\n",
       "      <td>1.187954</td>\n",
       "      <td>0.592586</td>\n",
       "    </tr>\n",
       "  </tbody>\n",
       "</table>\n",
       "</div>"
      ],
      "text/plain": [
       "                               antecedents  \\\n",
       "0                     (yogurt, rolls/buns)   \n",
       "1  (whole milk, sausage, other vegetables)   \n",
       "2                    (whole milk, sausage)   \n",
       "3   (other vegetables, yogurt, rolls/buns)   \n",
       "4                           (yogurt, curd)   \n",
       "\n",
       "                               consequents  antecedent support  \\\n",
       "0  (whole milk, sausage, other vegetables)            0.111511   \n",
       "1                     (yogurt, rolls/buns)            0.050360   \n",
       "2   (other vegetables, yogurt, rolls/buns)            0.107143   \n",
       "3                    (whole milk, sausage)            0.052415   \n",
       "4                    (whole milk, sausage)            0.040339   \n",
       "\n",
       "   consequent support   support  confidence      lift  leverage  conviction  \\\n",
       "0            0.050360  0.013618    0.122120  2.424951  0.008002    1.081742   \n",
       "1            0.111511  0.013618    0.270408  2.424951  0.008002    1.217789   \n",
       "2            0.052415  0.013618    0.127098  2.424837  0.008002    1.085557   \n",
       "3            0.107143  0.013618    0.259804  2.424837  0.008002    1.206244   \n",
       "4            0.107143  0.010021    0.248408  2.318471  0.005699    1.187954   \n",
       "\n",
       "   zhangs_metric  \n",
       "0       0.661370  \n",
       "1       0.618782  \n",
       "2       0.658113  \n",
       "3       0.620104  \n",
       "4       0.592586  "
      ]
     },
     "execution_count": 62,
     "metadata": {},
     "output_type": "execute_result"
    }
   ],
   "source": [
    "association_rules(frequent_itemsets_plus, metric='lift', \n",
    "                  min_threshold=1).sort_values('lift', ascending=False).reset_index(drop=True).head(5)"
   ]
  },
  {
   "cell_type": "code",
   "execution_count": 63,
   "metadata": {},
   "outputs": [
    {
     "data": {
      "image/png": "[encoded data removed]",
      "text/plain": [
       "<Figure size 720x432 with 1 Axes>"
      ]
     },
     "metadata": {},
     "output_type": "display_data"
    }
   ],
   "source": [
    "plt.figure(figsize=(10,6))\n",
    "top10=data['itemDescription'].value_counts().head(5)\n",
    "top10.plot.bar(color='b',alpha=.7)\n",
    "# Customize chart\n",
    "plt.xticks(rotation=45,fontsize=12)\n",
    "plt.yticks(fontsize=13)\n",
    "plt.title('Top 5 Items Sold',fontsize=20,fontweight='bold')\n",
    "plt.xlabel('Items Description',fontsize=16,fontweight='bold')\n",
    "plt.ylabel('Items by  Count',fontsize=16)\n",
    "plt.show()"
   ]
  },
  {
   "cell_type": "markdown",
   "metadata": {
    "id": "-mi-XQvr4dj9"
   },
   "source": [
    "The table you see contains association rules based on an analysis of frequent items sets. Each row on the table represents a rule indicating a relatonship between antecedents(items bought) and consequents(items likely to be bought). It proves there is a \n",
    "\n",
    "When we observe the first row we can seen when a customer buys whole milk and other vegetables they are also likely to buy yogurt rolls & buns according ot our association rules. We can apply support,confidence & lift numeric values to quantify our association rules. \n",
    "\n",
    "So for example if we take our first row for example support is the percentage of tranactions thst include both antecedents and consequents. in this instance 1.26% of the the transactions include(bread,rolls & yogurt) and (whole milk,sausage, other vegetables\n",
    "\n",
    "Confidence is the probability of locating the consequences in a tranaction where the anrecedents are present. In our example the confidence level is 12% which indicated the when( rolls/buns, yogurts are present there is a 12% possibility that (whole milk,sausage and other vegetables) will also be present in the same tranasction.\n",
    "\n",
    "A lift in excess of 1 indicates a potive correlation, in this instance the lift is 2.609 which indicates a strong positive correlation between (bread,rolls & yogurt) and (whole milk,sausage, other vegetables)."
   ]
  },
  {
   "cell_type": "code",
   "execution_count": 64,
   "metadata": {},
   "outputs": [
    {
     "data": {
      "text/plain": [
       "<Figure size 720x432 with 0 Axes>"
      ]
     },
     "metadata": {},
     "output_type": "display_data"
    },
    {
     "data": {
      "image/png": "[encoded data removed]",
      "text/plain": [
       "<Figure size 432x288 with 1 Axes>"
      ]
     },
     "metadata": {},
     "output_type": "display_data"
    }
   ],
   "source": [
    "\n",
    "plt.figure(figsize=(10,6))\n",
    "rules.plot.scatter('support','confidence', alpha=0.5,marker='*')\n",
    "plt.title('Association Rules',fontsize=20,fontweight='bold')\n",
    "plt.xlabel('Support',fontsize=16,fontweight='bold')\n",
    "plt.ylabel('Confidence',fontsize=16)\n",
    "plt.show()"
   ]
  },
  {
   "cell_type": "markdown",
   "metadata": {},
   "source": [
    "We can see from our scatterplot there is not any item that carrys high support and confidence. "
   ]
  },
  {
   "cell_type": "markdown",
   "metadata": {},
   "source": [
    "Viskaha 18,2020. Market basket analysis.[Online Course] Udemy.Available at: https://github.com/vishakha-b18/Market-Basket-Analysis [Accesed] 11-6-2023]"
   ]
  },
  {
   "cell_type": "markdown",
   "metadata": {},
   "source": [
    "Lets see if we amend the min support"
   ]
  },
  {
   "cell_type": "code",
   "execution_count": 65,
   "metadata": {},
   "outputs": [
    {
     "data": {
      "text/html": [
       "<div>\n",
       "<style scoped>\n",
       "    .dataframe tbody tr th:only-of-type {\n",
       "        vertical-align: middle;\n",
       "    }\n",
       "\n",
       "    .dataframe tbody tr th {\n",
       "        vertical-align: top;\n",
       "    }\n",
       "\n",
       "    .dataframe thead th {\n",
       "        text-align: right;\n",
       "    }\n",
       "</style>\n",
       "<table border=\"1\" class=\"dataframe\">\n",
       "  <thead>\n",
       "    <tr style=\"text-align: right;\">\n",
       "      <th></th>\n",
       "      <th>support</th>\n",
       "      <th>itemsets</th>\n",
       "      <th>length</th>\n",
       "    </tr>\n",
       "  </thead>\n",
       "  <tbody>\n",
       "    <tr>\n",
       "      <th>0</th>\n",
       "      <td>0.458633</td>\n",
       "      <td>(whole milk)</td>\n",
       "      <td>1</td>\n",
       "    </tr>\n",
       "    <tr>\n",
       "      <th>1</th>\n",
       "      <td>0.376670</td>\n",
       "      <td>(other vegetables)</td>\n",
       "      <td>1</td>\n",
       "    </tr>\n",
       "    <tr>\n",
       "      <th>2</th>\n",
       "      <td>0.350206</td>\n",
       "      <td>(rolls/buns)</td>\n",
       "      <td>1</td>\n",
       "    </tr>\n",
       "    <tr>\n",
       "      <th>3</th>\n",
       "      <td>0.313720</td>\n",
       "      <td>(soda)</td>\n",
       "      <td>1</td>\n",
       "    </tr>\n",
       "    <tr>\n",
       "      <th>4</th>\n",
       "      <td>0.283402</td>\n",
       "      <td>(yogurt)</td>\n",
       "      <td>1</td>\n",
       "    </tr>\n",
       "    <tr>\n",
       "      <th>...</th>\n",
       "      <td>...</td>\n",
       "      <td>...</td>\n",
       "      <td>...</td>\n",
       "    </tr>\n",
       "    <tr>\n",
       "      <th>410</th>\n",
       "      <td>0.030062</td>\n",
       "      <td>(canned beer, brown bread)</td>\n",
       "      <td>2</td>\n",
       "    </tr>\n",
       "    <tr>\n",
       "      <th>411</th>\n",
       "      <td>0.030062</td>\n",
       "      <td>(pork, other vegetables, whole milk)</td>\n",
       "      <td>3</td>\n",
       "    </tr>\n",
       "    <tr>\n",
       "      <th>412</th>\n",
       "      <td>0.030062</td>\n",
       "      <td>(frankfurter, pastry)</td>\n",
       "      <td>2</td>\n",
       "    </tr>\n",
       "    <tr>\n",
       "      <th>413</th>\n",
       "      <td>0.030062</td>\n",
       "      <td>(shopping bags, newspapers)</td>\n",
       "      <td>2</td>\n",
       "    </tr>\n",
       "    <tr>\n",
       "      <th>414</th>\n",
       "      <td>0.030062</td>\n",
       "      <td>(soda, cream cheese )</td>\n",
       "      <td>2</td>\n",
       "    </tr>\n",
       "  </tbody>\n",
       "</table>\n",
       "<p>415 rows × 3 columns</p>\n",
       "</div>"
      ],
      "text/plain": [
       "      support                              itemsets  length\n",
       "0    0.458633                          (whole milk)       1\n",
       "1    0.376670                    (other vegetables)       1\n",
       "2    0.350206                          (rolls/buns)       1\n",
       "3    0.313720                                (soda)       1\n",
       "4    0.283402                              (yogurt)       1\n",
       "..        ...                                   ...     ...\n",
       "410  0.030062            (canned beer, brown bread)       2\n",
       "411  0.030062  (pork, other vegetables, whole milk)       3\n",
       "412  0.030062                 (frankfurter, pastry)       2\n",
       "413  0.030062           (shopping bags, newspapers)       2\n",
       "414  0.030062                 (soda, cream cheese )       2\n",
       "\n",
       "[415 rows x 3 columns]"
      ]
     },
     "execution_count": 65,
     "metadata": {},
     "output_type": "execute_result"
    }
   ],
   "source": [
    "frequent_itemsets_plus = apriori(basket_filter_plus, min_support=0.03, \n",
    "                                 use_colnames=True).sort_values('support', ascending=False).reset_index(drop=True)\n",
    "\n",
    "frequent_itemsets_plus['length'] = frequent_itemsets_plus['itemsets'].apply(lambda x: len(x))\n",
    "\n",
    "frequent_itemsets_plus"
   ]
  },
  {
   "cell_type": "code",
   "execution_count": 66,
   "metadata": {
    "scrolled": true
   },
   "outputs": [
    {
     "data": {
      "text/html": [
       "<div>\n",
       "<style scoped>\n",
       "    .dataframe tbody tr th:only-of-type {\n",
       "        vertical-align: middle;\n",
       "    }\n",
       "\n",
       "    .dataframe tbody tr th {\n",
       "        vertical-align: top;\n",
       "    }\n",
       "\n",
       "    .dataframe thead th {\n",
       "        text-align: right;\n",
       "    }\n",
       "</style>\n",
       "<table border=\"1\" class=\"dataframe\">\n",
       "  <thead>\n",
       "    <tr style=\"text-align: right;\">\n",
       "      <th></th>\n",
       "      <th>support</th>\n",
       "      <th>itemsets</th>\n",
       "      <th>length</th>\n",
       "    </tr>\n",
       "  </thead>\n",
       "  <tbody>\n",
       "    <tr>\n",
       "      <th>0</th>\n",
       "      <td>0.458633</td>\n",
       "      <td>(whole milk)</td>\n",
       "      <td>1</td>\n",
       "    </tr>\n",
       "    <tr>\n",
       "      <th>1</th>\n",
       "      <td>0.376670</td>\n",
       "      <td>(other vegetables)</td>\n",
       "      <td>1</td>\n",
       "    </tr>\n",
       "    <tr>\n",
       "      <th>2</th>\n",
       "      <td>0.350206</td>\n",
       "      <td>(rolls/buns)</td>\n",
       "      <td>1</td>\n",
       "    </tr>\n",
       "    <tr>\n",
       "      <th>3</th>\n",
       "      <td>0.313720</td>\n",
       "      <td>(soda)</td>\n",
       "      <td>1</td>\n",
       "    </tr>\n",
       "    <tr>\n",
       "      <th>4</th>\n",
       "      <td>0.283402</td>\n",
       "      <td>(yogurt)</td>\n",
       "      <td>1</td>\n",
       "    </tr>\n",
       "    <tr>\n",
       "      <th>...</th>\n",
       "      <td>...</td>\n",
       "      <td>...</td>\n",
       "      <td>...</td>\n",
       "    </tr>\n",
       "    <tr>\n",
       "      <th>160</th>\n",
       "      <td>0.050617</td>\n",
       "      <td>(tropical fruit, whole milk, other vegetables)</td>\n",
       "      <td>3</td>\n",
       "    </tr>\n",
       "    <tr>\n",
       "      <th>161</th>\n",
       "      <td>0.050360</td>\n",
       "      <td>(whole milk, sausage, other vegetables)</td>\n",
       "      <td>3</td>\n",
       "    </tr>\n",
       "    <tr>\n",
       "      <th>162</th>\n",
       "      <td>0.050103</td>\n",
       "      <td>(margarine, other vegetables)</td>\n",
       "      <td>2</td>\n",
       "    </tr>\n",
       "    <tr>\n",
       "      <th>163</th>\n",
       "      <td>0.050103</td>\n",
       "      <td>(curd, rolls/buns)</td>\n",
       "      <td>2</td>\n",
       "    </tr>\n",
       "    <tr>\n",
       "      <th>164</th>\n",
       "      <td>0.050103</td>\n",
       "      <td>(chicken, whole milk)</td>\n",
       "      <td>2</td>\n",
       "    </tr>\n",
       "  </tbody>\n",
       "</table>\n",
       "<p>165 rows × 3 columns</p>\n",
       "</div>"
      ],
      "text/plain": [
       "      support                                        itemsets  length\n",
       "0    0.458633                                    (whole milk)       1\n",
       "1    0.376670                              (other vegetables)       1\n",
       "2    0.350206                                    (rolls/buns)       1\n",
       "3    0.313720                                          (soda)       1\n",
       "4    0.283402                                        (yogurt)       1\n",
       "..        ...                                             ...     ...\n",
       "160  0.050617  (tropical fruit, whole milk, other vegetables)       3\n",
       "161  0.050360         (whole milk, sausage, other vegetables)       3\n",
       "162  0.050103                   (margarine, other vegetables)       2\n",
       "163  0.050103                              (curd, rolls/buns)       2\n",
       "164  0.050103                           (chicken, whole milk)       2\n",
       "\n",
       "[165 rows x 3 columns]"
      ]
     },
     "execution_count": 66,
     "metadata": {},
     "output_type": "execute_result"
    }
   ],
   "source": [
    "frequent_itemsets_plus = apriori(basket_filter_plus, min_support=0.05, \n",
    "                                 use_colnames=True).sort_values('support', ascending=False).reset_index(drop=True)\n",
    "\n",
    "frequent_itemsets_plus['length'] = frequent_itemsets_plus['itemsets'].apply(lambda x: len(x))\n",
    "\n",
    "frequent_itemsets_plus"
   ]
  },
  {
   "cell_type": "markdown",
   "metadata": {},
   "source": [
    "We can conclude that the market basket analysis was poor in extracting patterns within in the dataset that would be useful. The model has merely replacted what we already knew from the top 5 items sold. This may be as already stated that due to the product range being low there was absence of data fo form meaaingful patterns. Market basket is primarily designed to extract patterns that we currently do no know and this respect we would need to analysis or introduce new features to extract insights which could be actioned and prove profitable for any business owner. However from our analysis we now understand why the milk and bun?bread aisles are so far apart when we enter our local supermarket."
   ]
  },
  {
   "cell_type": "code",
   "execution_count": 1,
   "metadata": {},
   "outputs": [
    {
     "ename": "NameError",
     "evalue": "name 'df_new' is not defined",
     "output_type": "error",
     "traceback": [
      "\u001b[1;31m---------------------------------------------------------------------------\u001b[0m",
      "\u001b[1;31mNameError\u001b[0m                                 Traceback (most recent call last)",
      "\u001b[1;32m<ipython-input-1-cc5dddeab091>\u001b[0m in \u001b[0;36m<module>\u001b[1;34m\u001b[0m\n\u001b[1;32m----> 1\u001b[1;33m \u001b[0mbasket_plus\u001b[0m \u001b[1;33m=\u001b[0m \u001b[0mdf_new\u001b[0m\u001b[1;33m.\u001b[0m\u001b[0mgroupby\u001b[0m\u001b[1;33m(\u001b[0m\u001b[1;33m[\u001b[0m\u001b[1;34m'Day'\u001b[0m\u001b[1;33m,\u001b[0m\u001b[1;34m'item Description'\u001b[0m\u001b[1;33m]\u001b[0m\u001b[1;33m)\u001b[0m\u001b[1;33m.\u001b[0m\u001b[0msize\u001b[0m\u001b[1;33m(\u001b[0m\u001b[1;33m)\u001b[0m\u001b[1;33m.\u001b[0m\u001b[0munstack\u001b[0m\u001b[1;33m(\u001b[0m\u001b[1;33m)\u001b[0m\u001b[1;33m.\u001b[0m\u001b[0mfillna\u001b[0m\u001b[1;33m(\u001b[0m\u001b[1;36m0\u001b[0m\u001b[1;33m)\u001b[0m\u001b[1;33m\u001b[0m\u001b[1;33m\u001b[0m\u001b[0m\n\u001b[0m\u001b[0;32m      2\u001b[0m \u001b[0mbasket_plus\u001b[0m\u001b[1;33m.\u001b[0m\u001b[0mhead\u001b[0m\u001b[1;33m(\u001b[0m\u001b[1;33m)\u001b[0m\u001b[1;33m\u001b[0m\u001b[1;33m\u001b[0m\u001b[0m\n",
      "\u001b[1;31mNameError\u001b[0m: name 'df_new' is not defined"
     ]
    }
   ],
   "source": [
    "basket_plus = df_new.groupby(['Day','item Description']).size().unstack().fillna(0)\n",
    "basket_plus.head()"
   ]
  },
  {
   "cell_type": "markdown",
   "metadata": {},
   "source": [
    "def encode_units(x):\n",
    "    if x <= 0:\n",
    "        return 0\n",
    "    if x >= 1:\n",
    "        return 1\n",
    "\n",
    "basket_encode_plus = basket_plus.applymap(encode_units)\n",
    "basket_filter_plus = basket_encode_plus[(basket_encode_plus > 0).sum(axis=1) >=\n",
    "2]\n",
    "basket_filter_plus"
   ]
  },
  {
   "cell_type": "markdown",
   "metadata": {},
   "source": [
    "# Group the items by transaction and create a list of items for each transaction\n",
    "transactions = df_new.groupby(['Day'])['item Description'].apply(list).values.tolist()\n",
    "\n",
    "# Perform one-hot encoding on the transactions\n",
    "te = TransactionEncoder()\n",
    "one_hot_encoded = te.fit_transform(transactions)\n",
    "data_encoded = pd.DataFrame(one_hot_encoded, columns=te.columns_)\n",
    "\n",
    "# Perform market basket analysis using Apriori\n",
    "frequent_itemsets = apriori(data_encoded, min_support=0.001, use_colnames=True)\n",
    "rules = association_rules(frequent_itemsets, metric='lift', min_threshold=1)\n",
    "\n",
    "# Sort and display the rules based on a specific metric\n",
    "sorted_rules = rules.sort_values(by='lift', ascending=False)\n",
    "print(sorted_rules)"
   ]
  },
  {
   "cell_type": "markdown",
   "metadata": {},
   "source": [
    "I have tried to do further research on basket analysis using the day of the week rather than the member number. my intention was to see if I could create an association for items bought on different days of the week however anytime I tried to run the code my jupyter notebook stopped working."
   ]
  },
  {
   "cell_type": "markdown",
   "metadata": {},
   "source": [
    "14 Conclusion"
   ]
  },
  {
   "cell_type": "markdown",
   "metadata": {},
   "source": [
    "In conclusion we would recommend to stake holders that they can with confidence build a marketing strategy around our model that segemented the customers in low,medium & high. However with the market basket analysis we could not recommend building a marketing campaign as we have week support confidence & lift values."
   ]
  },
  {
   "cell_type": "markdown",
   "metadata": {},
   "source": [
    "15 Bibliography"
   ]
  },
  {
   "cell_type": "markdown",
   "metadata": {},
   "source": [
    "DecisionTree - Jupyter Notebook (no date). Available at: http://localhost:8888/notebooks/DecisionTree.ipynb#Ensemble-learning:-using-a-random-forest (Accessed: 9 June 2023).\n",
    "\n",
    "Sifat, S.H. (2023) Customer Segmentation Using Cluster Modeling for Churn Analysis: A Step-by-Step Tutorial, Medium. Available at: https://sajidhasan054.medium.com/cluster-modeling-for-churn-analysis-a-step-by-step-tutorial-d398f016cc1d (Accessed: 8 June 2023).\n",
    "\n",
    "Healy, Y.H. and C. (no date) From data to Viz | Find the graphic you need. Available at: https://www.data-to-viz.com/data-to-\n",
    "viz.com (Accessed: 9 June 2023).\n",
    "\n",
    "July 2020, H.H. (no date) Delistings: have supermarket product ranges shrunk for good?, The Grocer. Available at: https://www.thegrocer.co.uk/ranging-and-merchandising/delistings-have-supermarket-product-ranges-shrunk-for-good/646058.article (Accessed: 10 June 2023).\n",
    "\n",
    "GitHub - vishakha-b18/Market-Basket-Analysis: Market Basket Analysis for an organization to identify the most frequently selling products in order to devise cross-selling marketing strategies using Apriori algorithm. (no date) GitHub. Available at: https://github.com/vishakha-b18/Market-Basket-Analysis (Accessed: 11 June 2023).\n",
    "\n",
    "Beginners Guide to Machine Learning - Python, Keras, SKLearn (no date) Udemy. Available at: https://www.udemy.com/course/beginners-guide-to-machine-learning/ (Accessed: 11 June 2023).\n",
    "\n",
    "Code to toggle data on/off from IPython.display import HTML # Code taken from class notes David McQuaid December 2022\n",
    "\n"
   ]
  }
 ],
 "metadata": {
  "accelerator": "TPU",
  "colab": {
   "provenance": []
  },
  "kernelspec": {
   "display_name": "Python 3",
   "language": "python",
   "name": "python3"
  },
  "language_info": {
   "codemirror_mode": {
    "name": "ipython",
    "version": 3
   },
   "file_extension": ".py",
   "mimetype": "text/x-python",
   "name": "python",
   "nbconvert_exporter": "python",
   "pygments_lexer": "ipython3",
   "version": "3.8.5"
  },
  "toc": {
   "base_numbering": 1,
   "nav_menu": {},
   "number_sections": true,
   "sideBar": true,
   "skip_h1_title": false,
   "title_cell": "Table of Contents",
   "title_sidebar": "Contents",
   "toc_cell": false,
   "toc_position": {},
   "toc_section_display": true,
   "toc_window_display": false
  }
 },
 "nbformat": 4,
 "nbformat_minor": 1
}
